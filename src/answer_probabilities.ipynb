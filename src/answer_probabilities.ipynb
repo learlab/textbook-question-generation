{
 "cells": [
  {
   "cell_type": "code",
   "execution_count": null,
   "id": "089ed2ca-d9a1-4826-92fd-56d198cfd36e",
   "metadata": {},
   "outputs": [
    {
     "data": {
      "application/vnd.jupyter.widget-view+json": {
       "model_id": "6427489fb7634bdf8ba365ad9b1d001f",
       "version_major": 2,
       "version_minor": 0
      },
      "text/plain": [
       "tokenizer_config.json:   0%|          | 0.00/50.0 [00:00<?, ?B/s]"
      ]
     },
     "metadata": {},
     "output_type": "display_data"
    },
    {
     "data": {
      "application/vnd.jupyter.widget-view+json": {
       "model_id": "d1e15bdd8e424ef590fbaa7132d69872",
       "version_major": 2,
       "version_minor": 0
      },
      "text/plain": [
       "config.json:   0%|          | 0.00/968 [00:00<?, ?B/s]"
      ]
     },
     "metadata": {},
     "output_type": "display_data"
    },
    {
     "data": {
      "application/vnd.jupyter.widget-view+json": {
       "model_id": "1a8de9174ebc496dadda837b1754af21",
       "version_major": 2,
       "version_minor": 0
      },
      "text/plain": [
       "vocab.json:   0%|          | 0.00/899k [00:00<?, ?B/s]"
      ]
     },
     "metadata": {},
     "output_type": "display_data"
    },
    {
     "data": {
      "application/vnd.jupyter.widget-view+json": {
       "model_id": "10c82bf8e98a42abbc63f006955e8c5e",
       "version_major": 2,
       "version_minor": 0
      },
      "text/plain": [
       "merges.txt:   0%|          | 0.00/456k [00:00<?, ?B/s]"
      ]
     },
     "metadata": {},
     "output_type": "display_data"
    },
    {
     "data": {
      "application/vnd.jupyter.widget-view+json": {
       "model_id": "77a973de037c4ec6b4808a31b87afa69",
       "version_major": 2,
       "version_minor": 0
      },
      "text/plain": [
       "special_tokens_map.json:   0%|          | 0.00/772 [00:00<?, ?B/s]"
      ]
     },
     "metadata": {},
     "output_type": "display_data"
    },
    {
     "data": {
      "application/vnd.jupyter.widget-view+json": {
       "model_id": "ca31e8c4991047d28ff2c70e53d523d6",
       "version_major": 2,
       "version_minor": 0
      },
      "text/plain": [
       "pytorch_model.bin:   0%|          | 0.00/1.63G [00:00<?, ?B/s]"
      ]
     },
     "metadata": {},
     "output_type": "display_data"
    }
   ],
   "source": [
    "from transformers import AutoTokenizer, AutoModelForQuestionAnswering\n",
    "\n",
    "tokenizer = AutoTokenizer.from_pretrained(\"Primer/bart-squad2\")\n",
    "model = AutoModelForQuestionAnswering.from_pretrained(\"Primer/bart-squad2\")\n",
    "model.to('cuda'); model.eval()\n",
    "\n",
    "def answer(question, text):\n",
    "    seq = '<s>' +  question + ' </s> </s> ' + text + ' </s>'\n",
    "    tokens = tokenizer.encode_plus(seq, return_tensors='pt', padding='max_length', max_length=1024)\n",
    "    input_ids = tokens['input_ids'].to('cuda')\n",
    "    attention_mask = tokens['attention_mask'].to('cuda')\n",
    "    start, end, _ = model(input_ids, attention_mask=attention_mask)\n",
    "    start_idx = int(start.argmax().int())\n",
    "    end_idx =  int(end.argmax().int())\n",
    "    print(tokenizer.decode(input_ids[0, start_idx:end_idx]).strip())\n",
    "    # ^^ it will be an empty string if the model decided \"unanswerable\"\n",
    "\n",
    "question = \"Where does Tom live?\"\n",
    "context = \"Tom is an engineer in San Francisco.\"\n",
    "answer(question, context)"
   ]
  },
  {
   "cell_type": "code",
   "execution_count": null,
   "id": "ca2c23f9-19ff-4c91-bcfa-30ef88ad12f8",
   "metadata": {},
   "outputs": [],
   "source": []
  }
 ],
 "metadata": {
  "kernelspec": {
   "display_name": "Python [conda env:wes-env]",
   "language": "python",
   "name": "conda-env-wes-env-py"
  },
  "language_info": {
   "codemirror_mode": {
    "name": "ipython",
    "version": 3
   },
   "file_extension": ".py",
   "mimetype": "text/x-python",
   "name": "python",
   "nbconvert_exporter": "python",
   "pygments_lexer": "ipython3",
   "version": "3.12.3"
  }
 },
 "nbformat": 4,
 "nbformat_minor": 5
}
