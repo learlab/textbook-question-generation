{
 "cells": [
  {
   "cell_type": "code",
   "execution_count": 7,
   "id": "90b578f1-26ab-4a0b-90f9-b26a3c00a6e3",
   "metadata": {},
   "outputs": [],
   "source": [
    "import pandas as pd\n",
    "from sklearn.metrics import cohen_kappa_score"
   ]
  },
  {
   "cell_type": "code",
   "execution_count": 8,
   "id": "bb5f4616-d8f1-4458-8741-188753b6497f",
   "metadata": {},
   "outputs": [],
   "source": [
    "df = pd.read_csv('../data/AQAG_correct_incorrect_testing-combined.csv')[['id','question_score_gpt_vaibhav', 'question_score_gpt_yahan',\n",
    "                                                                         'question_score_gpt_wes', 'correct_answer_gpt_score_vaibhav', \n",
    "                                                                         'correct_answer_score_gpt_yahan', 'correct_answer_score_gpt_wes',\n",
    "                                                                         'correct_answer_score_vicuna_vaibhav', 'correct_answer_score_vicuna_yahan',\n",
    "                                                                         'correct_answer_score_vicuna_wes', 'incorrect_answer_score_gpt_vaibhav',\n",
    "                                                                         'incorrect_answer_score_gpt_yahan', 'incorrect_answer_score_gpt_wes']]\n",
    "for column in df.columns[1:]:\n",
    "    df[column] = df[column].astype(str)\n",
    "\n",
    "df = df[df['correct_answer_gpt_score_vaibhav'].str.isnumeric()]\n",
    "\n",
    "for column in df.columns[1:]:\n",
    "    df[column] = df[column].astype(float)"
   ]
  },
  {
   "cell_type": "code",
   "execution_count": 9,
   "id": "6a3a5d0b-6d9d-4731-bae3-538b484c167d",
   "metadata": {},
   "outputs": [
    {
     "name": "stdout",
     "output_type": "stream",
     "text": [
      "0.6460176991150443\n",
      "nan\n",
      "0.6477987421383649\n",
      "0.6585365853658536\n"
     ]
    },
    {
     "name": "stderr",
     "output_type": "stream",
     "text": [
      "/home/jovyan/conda_envs/WesleyEnv/lib/python3.10/site-packages/sklearn/metrics/_classification.py:673: RuntimeWarning: invalid value encountered in scalar divide\n",
      "  k = np.sum(w_mat * confusion) / np.sum(w_mat * expected)\n"
     ]
    }
   ],
   "source": [
    "print(cohen_kappa_score(df['question_score_gpt_vaibhav'].astype(int), df['question_score_gpt_wes']))\n",
    "print(cohen_kappa_score(df['correct_answer_gpt_score_vaibhav'].astype(int), df['correct_answer_score_gpt_wes']))\n",
    "print(cohen_kappa_score(df['correct_answer_score_vicuna_vaibhav'].astype(int), df['correct_answer_score_vicuna_wes']))\n",
    "print(cohen_kappa_score(df['incorrect_answer_score_gpt_vaibhav'].astype(int), df['incorrect_answer_score_gpt_wes']))"
   ]
  },
  {
   "cell_type": "code",
   "execution_count": 10,
   "id": "1f9059aa-d037-4bae-bbfc-20b66cb86557",
   "metadata": {},
   "outputs": [
    {
     "name": "stderr",
     "output_type": "stream",
     "text": [
      "/home/jovyan/conda_envs/WesleyEnv/lib/python3.10/site-packages/sklearn/metrics/_classification.py:673: RuntimeWarning: invalid value encountered in scalar divide\n",
      "  k = np.sum(w_mat * confusion) / np.sum(w_mat * expected)\n"
     ]
    },
    {
     "data": {
      "text/plain": [
       "nan"
      ]
     },
     "execution_count": 10,
     "metadata": {},
     "output_type": "execute_result"
    }
   ],
   "source": [
    "cohen_kappa_score(df['correct_answer_gpt_score_vaibhav'].astype(int), df['correct_answer_score_gpt_wes'])"
   ]
  },
  {
   "cell_type": "code",
   "execution_count": 11,
   "id": "8db2e711-e272-413b-bd4d-25b60b57b3c6",
   "metadata": {},
   "outputs": [
    {
     "data": {
      "text/plain": [
       "0.6477987421383649"
      ]
     },
     "execution_count": 11,
     "metadata": {},
     "output_type": "execute_result"
    }
   ],
   "source": [
    "cohen_kappa_score(df['correct_answer_score_vicuna_vaibhav'].astype(int), df['correct_answer_score_vicuna_wes'])"
   ]
  },
  {
   "cell_type": "code",
   "execution_count": 12,
   "id": "98c61f90-a33f-41ad-9b6b-183411a2114f",
   "metadata": {},
   "outputs": [
    {
     "name": "stdout",
     "output_type": "stream",
     "text": [
      "118-summarization\n",
      "1.0 2.0 2.0\n",
      "165-inference\n",
      "1.0 2.0 1.0\n",
      "192-inference\n",
      "1.0 2.0 1.0\n",
      "208-summarization\n",
      "1.0 2.0 2.0\n",
      "209-recall\n",
      "1.0 2.0 2.0\n",
      "256-inference\n",
      "2.0 1.0 1.0\n",
      "284-summarization\n",
      "1.0 2.0 2.0\n",
      "433-summarization\n",
      "1.0 2.0 2.0\n",
      "499-inference\n",
      "1.0 2.0 2.0\n",
      "90-summarization\n",
      "1.0 2.0 2.0\n",
      "159-recall\n",
      "0.0 1.0 1.0\n",
      "453-recall\n",
      "1.0 0.0 1.0\n",
      "159-recall\n",
      "0.0 1.0 1.0\n"
     ]
    }
   ],
   "source": [
    "from statistics import mode\n",
    "\n",
    "def getFinalScore(row, col1, col2, col3):\n",
    "    if row[col1] == row[col2]:\n",
    "        return row[col1]\n",
    "    \n",
    "    # elif row[col1] == row[col3]:\n",
    "    #     return row[col3]\n",
    "    # elif row[col2] == row[col3]:\n",
    "    #     return row[col3]\n",
    "    else:\n",
    "        print(row['id'])\n",
    "        print(row[col1], row[col2], row[col3])\n",
    "        return mode([row[col1], row[col2], row[col3]])\n",
    "        #return (int(row[col1]) + int(row[col2]))/2\n",
    "\n",
    "df['question_score_final'] = df.apply(lambda row: getFinalScore(row, 'question_score_gpt_wes', 'question_score_gpt_vaibhav', 'question_score_gpt_yahan'), axis=1)\n",
    "df['correct_answer_score_gpt_final'] = df.apply(lambda row: getFinalScore(row, 'correct_answer_score_gpt_wes','correct_answer_gpt_score_vaibhav', 'correct_answer_score_gpt_yahan'), axis=1)\n",
    "df['correct_answer_score_vicuna_final'] = df.apply(lambda row: getFinalScore(row, 'correct_answer_score_vicuna_wes', 'correct_answer_score_vicuna_vaibhav', 'correct_answer_score_vicuna_yahan'), axis = 1)\n",
    "df['incorrect_answers_score_gpt_final'] = df.apply(lambda row: getFinalScore(row, 'incorrect_answer_score_gpt_wes','incorrect_answer_score_gpt_vaibhav', 'incorrect_answer_score_gpt_yahan'), axis=1)"
   ]
  },
  {
   "cell_type": "code",
   "execution_count": 13,
   "id": "451b3f4e-891b-4f6d-8774-aff04420e085",
   "metadata": {},
   "outputs": [
    {
     "data": {
      "text/html": [
       "<div>\n",
       "<style scoped>\n",
       "    .dataframe tbody tr th:only-of-type {\n",
       "        vertical-align: middle;\n",
       "    }\n",
       "\n",
       "    .dataframe tbody tr th {\n",
       "        vertical-align: top;\n",
       "    }\n",
       "\n",
       "    .dataframe thead th {\n",
       "        text-align: right;\n",
       "    }\n",
       "</style>\n",
       "<table border=\"1\" class=\"dataframe\">\n",
       "  <thead>\n",
       "    <tr style=\"text-align: right;\">\n",
       "      <th></th>\n",
       "      <th>id</th>\n",
       "      <th>question_score_gpt_vaibhav</th>\n",
       "      <th>question_score_gpt_yahan</th>\n",
       "      <th>question_score_gpt_wes</th>\n",
       "      <th>correct_answer_gpt_score_vaibhav</th>\n",
       "      <th>correct_answer_score_gpt_yahan</th>\n",
       "      <th>correct_answer_score_gpt_wes</th>\n",
       "      <th>correct_answer_score_vicuna_vaibhav</th>\n",
       "      <th>correct_answer_score_vicuna_yahan</th>\n",
       "      <th>correct_answer_score_vicuna_wes</th>\n",
       "      <th>incorrect_answer_score_gpt_vaibhav</th>\n",
       "      <th>incorrect_answer_score_gpt_yahan</th>\n",
       "      <th>incorrect_answer_score_gpt_wes</th>\n",
       "      <th>question_score_final</th>\n",
       "      <th>correct_answer_score_gpt_final</th>\n",
       "      <th>correct_answer_score_vicuna_final</th>\n",
       "      <th>incorrect_answers_score_gpt_final</th>\n",
       "    </tr>\n",
       "  </thead>\n",
       "  <tbody>\n",
       "    <tr>\n",
       "      <th>49</th>\n",
       "      <td>436-recall</td>\n",
       "      <td>2.0</td>\n",
       "      <td>2.0</td>\n",
       "      <td>2.0</td>\n",
       "      <td>1.0</td>\n",
       "      <td>1.0</td>\n",
       "      <td>1.0</td>\n",
       "      <td>1.0</td>\n",
       "      <td>1.0</td>\n",
       "      <td>1.0</td>\n",
       "      <td>0.0</td>\n",
       "      <td>0.0</td>\n",
       "      <td>0.0</td>\n",
       "      <td>2.0</td>\n",
       "      <td>1.0</td>\n",
       "      <td>1.0</td>\n",
       "      <td>0.0</td>\n",
       "    </tr>\n",
       "  </tbody>\n",
       "</table>\n",
       "</div>"
      ],
      "text/plain": [
       "            id  question_score_gpt_vaibhav  question_score_gpt_yahan  \\\n",
       "49  436-recall                         2.0                       2.0   \n",
       "\n",
       "    question_score_gpt_wes  correct_answer_gpt_score_vaibhav  \\\n",
       "49                     2.0                               1.0   \n",
       "\n",
       "    correct_answer_score_gpt_yahan  correct_answer_score_gpt_wes  \\\n",
       "49                             1.0                           1.0   \n",
       "\n",
       "    correct_answer_score_vicuna_vaibhav  correct_answer_score_vicuna_yahan  \\\n",
       "49                                  1.0                                1.0   \n",
       "\n",
       "    correct_answer_score_vicuna_wes  incorrect_answer_score_gpt_vaibhav  \\\n",
       "49                              1.0                                 0.0   \n",
       "\n",
       "    incorrect_answer_score_gpt_yahan  incorrect_answer_score_gpt_wes  \\\n",
       "49                               0.0                             0.0   \n",
       "\n",
       "    question_score_final  correct_answer_score_gpt_final  \\\n",
       "49                   2.0                             1.0   \n",
       "\n",
       "    correct_answer_score_vicuna_final  incorrect_answers_score_gpt_final  \n",
       "49                                1.0                                0.0  "
      ]
     },
     "execution_count": 13,
     "metadata": {},
     "output_type": "execute_result"
    }
   ],
   "source": [
    "df[df['id']=='436-recall']"
   ]
  },
  {
   "cell_type": "code",
   "execution_count": 16,
   "id": "79d6b79e-59df-48e6-bd17-7aa248063a70",
   "metadata": {},
   "outputs": [
    {
     "data": {
      "text/plain": [
       "<matplotlib.legend.Legend at 0x7f79bdc29690>"
      ]
     },
     "execution_count": 16,
     "metadata": {},
     "output_type": "execute_result"
    },
    {
     "data": {
      "image/png": "[encoded data removed]",
      "text/plain": [
       "<Figure size 640x480 with 1 Axes>"
      ]
     },
     "metadata": {},
     "output_type": "display_data"
    }
   ],
   "source": [
    "import seaborn as sns\n",
    "import matplotlib.pyplot as plt\n",
    "sns.set_style(\"whitegrid\")\n",
    "\n",
    "\n",
    "viz_df = df[['id', 'question_score_final', 'correct_answer_score_gpt_final', \n",
    "             'correct_answer_score_vicuna_final', 'incorrect_answers_score_gpt_final']]\n",
    "viz_df.columns = ['id', 'question (gpt)', 'correct answer (gpt)', \n",
    "              'correct answer (vicuna)', 'incorrect answer (gpt)']\n",
    "\n",
    "viz_df = pd.melt(viz_df,\n",
    "                 id_vars='id',\n",
    "                 value_vars=['question (gpt)', 'correct answer (gpt)','correct answer (vicuna)', 'incorrect answer (gpt)'],\n",
    "                 var_name='result', value_name='quality', col_level=None, ignore_index=True)\n",
    "\n",
    "viz_df['quality'] = viz_df['quality'].astype(float)\n",
    "\n",
    "df_plot = viz_df.groupby(['quality', 'result']).size().reset_index().pivot(columns='quality', index='result', values=0)\n",
    "df_plot.plot(kind='barh', stacked=True)\n",
    "plt.xlabel('count')\n",
    "plt.ylabel('type of response generated')\n",
    "plt.title('Quality of Automatic Question and Answer Generation from Generative Models')\n",
    "plt.legend(['wrong label','correct label','correct label and type'])"
   ]
  },
  {
   "cell_type": "code",
   "execution_count": null,
   "id": "5893f0e3-6080-4321-8bd8-7477536737ae",
   "metadata": {},
   "outputs": [],
   "source": []
  }
 ],
 "metadata": {
  "kernelspec": {
   "display_name": "Python [conda env:WesleyEnv]",
   "language": "python",
   "name": "conda-env-WesleyEnv-py"
  },
  "language_info": {
   "codemirror_mode": {
    "name": "ipython",
    "version": 3
   },
   "file_extension": ".py",
   "mimetype": "text/x-python",
   "name": "python",
   "nbconvert_exporter": "python",
   "pygments_lexer": "ipython3",
   "version": "3.10.9"
  }
 },
 "nbformat": 4,
 "nbformat_minor": 5
}
