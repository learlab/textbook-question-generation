{
 "cells": [
  {
   "cell_type": "code",
   "execution_count": 91,
   "id": "1df6e10d-c651-4396-81d2-82494cd1c668",
   "metadata": {},
   "outputs": [],
   "source": [
    "import pandas as pd\n",
    "import numpy as np\n",
    "import datasets\n",
    "from sklearn.model_selection import GroupShuffleSplit"
   ]
  },
  {
   "cell_type": "markdown",
   "id": "0bc18825-5bae-4aa0-80e0-198e78e9374c",
   "metadata": {},
   "source": [
    "## Load fresh MultiRC Dataset\n",
    "\n",
    "I want to train with the passage string and question string, which is not contained in the old multirc dataset at `../../bin/multirc_dataset.hf`\n",
    "\n",
    "I can't find any records of how the old multirc was constructed, and I can't reproduce the splits. It seems that candidate answers may have been generated with an LLM? Most of the reference answers overlap with those found in the MultiRC dataset, but some questions have the same correct answer, so this approach is not reliable.\n",
    "\n",
    "So I need to create a fresh version of the dataset. This dataset will not be suitable for testing previous models, as I cannot ensure that the test set has no overlap with the training data."
   ]
  },
  {
   "cell_type": "code",
   "execution_count": 78,
   "id": "9e1f069b-7d2e-43c3-9c23-c73514eaca2c",
   "metadata": {},
   "outputs": [],
   "source": [
    "multirc_dd = datasets.load_dataset(\"super_glue\", \"multirc\", trust_remote_code=True)"
   ]
  },
  {
   "cell_type": "code",
   "execution_count": 87,
   "id": "ace2461e-5186-4ac7-a628-de0229bfee81",
   "metadata": {},
   "outputs": [],
   "source": [
    "# The test set has no labels, so ignore it.\n",
    "multirc = pd.concat(\n",
    "    [ds.to_pandas() for ds in multirc_dd.values()][:2]\n",
    ")\n",
    "\n",
    "# Expand the `idx` column\n",
    "multirc[[\"paragraph_id\", \"question_id\", \"answer_id\"]] = multirc[\"idx\"].apply(pd.Series)\n",
    "multirc = multirc.drop([\"idx\"], axis=1)"
   ]
  },
  {
   "cell_type": "code",
   "execution_count": 88,
   "id": "cc609c37-050e-4320-90f5-fba533828b0f",
   "metadata": {},
   "outputs": [
    {
     "data": {
      "text/plain": [
       "answer\n",
       "Yes    303\n",
       "No     276\n",
       "3       58\n",
       "2       50\n",
       "4       43\n",
       "dtype: int64"
      ]
     },
     "execution_count": 88,
     "metadata": {},
     "output_type": "execute_result"
    }
   ],
   "source": [
    "# Some reference answers appear across multiple questions\n",
    "multirc.groupby(\"answer\").size().sort_values(ascending=False).head()"
   ]
  },
  {
   "cell_type": "code",
   "execution_count": 89,
   "id": "10426f78-f7d0-4e70-9b59-10ef8a6720f0",
   "metadata": {},
   "outputs": [
    {
     "data": {
      "text/html": [
       "<div>\n",
       "<style scoped>\n",
       "    .dataframe tbody tr th:only-of-type {\n",
       "        vertical-align: middle;\n",
       "    }\n",
       "\n",
       "    .dataframe tbody tr th {\n",
       "        vertical-align: top;\n",
       "    }\n",
       "\n",
       "    .dataframe thead th {\n",
       "        text-align: right;\n",
       "    }\n",
       "</style>\n",
       "<table border=\"1\" class=\"dataframe\">\n",
       "  <thead>\n",
       "    <tr style=\"text-align: right;\">\n",
       "      <th></th>\n",
       "      <th>paragraph</th>\n",
       "      <th>question</th>\n",
       "      <th>answer</th>\n",
       "      <th>label</th>\n",
       "      <th>paragraph_id</th>\n",
       "      <th>question_id</th>\n",
       "      <th>answer_id</th>\n",
       "    </tr>\n",
       "  </thead>\n",
       "  <tbody>\n",
       "    <tr>\n",
       "      <th>6854</th>\n",
       "      <td>Dubai's Crown Prince Sheikh Mohamed Bin Rashid...</td>\n",
       "      <td>Which two other things does Dubai already stan...</td>\n",
       "      <td>Being a new trading center</td>\n",
       "      <td>0</td>\n",
       "      <td>112</td>\n",
       "      <td>1326</td>\n",
       "      <td>6854</td>\n",
       "    </tr>\n",
       "  </tbody>\n",
       "</table>\n",
       "</div>"
      ],
      "text/plain": [
       "                                              paragraph  \\\n",
       "6854  Dubai's Crown Prince Sheikh Mohamed Bin Rashid...   \n",
       "\n",
       "                                               question  \\\n",
       "6854  Which two other things does Dubai already stan...   \n",
       "\n",
       "                          answer  label  paragraph_id  question_id  answer_id  \n",
       "6854  Being a new trading center      0           112         1326       6854  "
      ]
     },
     "execution_count": 89,
     "metadata": {},
     "output_type": "execute_result"
    }
   ],
   "source": [
    "multirc.sample(1)"
   ]
  },
  {
   "cell_type": "markdown",
   "id": "4e958abe-5e9f-4156-88a4-e487a0608e07",
   "metadata": {},
   "source": [
    "## Sample"
   ]
  },
  {
   "cell_type": "code",
   "execution_count": 93,
   "id": "b57555a7-bce5-41d0-8a77-ff636b783b2f",
   "metadata": {},
   "outputs": [
    {
     "data": {
      "text/plain": [
       "DatasetDict({\n",
       "    train: Dataset({\n",
       "        features: ['paragraph', 'question', 'answer', 'label', 'paragraph_id', 'question_id', 'answer_id'],\n",
       "        num_rows: 21785\n",
       "    })\n",
       "    dev: Dataset({\n",
       "        features: ['paragraph', 'question', 'answer', 'label', 'paragraph_id', 'question_id', 'answer_id'],\n",
       "        num_rows: 4770\n",
       "    })\n",
       "    test: Dataset({\n",
       "        features: ['paragraph', 'question', 'answer', 'label', 'paragraph_id', 'question_id', 'answer_id'],\n",
       "        num_rows: 5536\n",
       "    })\n",
       "})"
      ]
     },
     "execution_count": 93,
     "metadata": {},
     "output_type": "execute_result"
    }
   ],
   "source": [
    "def partition_by_paragraph(df, train_size=0.7, dev_size=0.15, test_size=0.15, random_state=42):\n",
    "    \"\"\"\n",
    "    Split a DataFrame into train, dev, and test sets while ensuring that all rows\n",
    "    with the same paragraph_id stay in the same partition.\n",
    "    \"\"\"\n",
    "    # Get unique paragraph IDs\n",
    "    unique_paragraph_ids = df['paragraph_id'].unique()\n",
    "    \n",
    "    # Create a temporary DataFrame with just the unique paragraph IDs\n",
    "    paragraph_df = pd.DataFrame({'paragraph_id': unique_paragraph_ids})\n",
    "    \n",
    "    # First split: train vs (dev+test)\n",
    "    splitter_train = GroupShuffleSplit(n_splits=1, train_size=train_size, random_state=random_state)\n",
    "    train_idx, temp_idx = next(splitter_train.split(paragraph_df, groups=paragraph_df['paragraph_id']))\n",
    "    \n",
    "    train_paragraph_ids = paragraph_df.iloc[train_idx]['paragraph_id'].values\n",
    "    temp_paragraph_ids = paragraph_df.iloc[temp_idx]['paragraph_id'].values\n",
    "    \n",
    "    # Second split: dev vs test (from the temp set)\n",
    "    temp_paragraph_df = pd.DataFrame({'paragraph_id': temp_paragraph_ids})\n",
    "    \n",
    "    # Adjust sizes for the second split\n",
    "    dev_ratio = dev_size / (dev_size + test_size)\n",
    "    \n",
    "    splitter_dev = GroupShuffleSplit(n_splits=1, train_size=dev_ratio, random_state=random_state)\n",
    "    dev_idx, test_idx = next(splitter_dev.split(temp_paragraph_df, groups=temp_paragraph_df['paragraph_id']))\n",
    "    \n",
    "    dev_paragraph_ids = temp_paragraph_df.iloc[dev_idx]['paragraph_id'].values\n",
    "    test_paragraph_ids = temp_paragraph_df.iloc[test_idx]['paragraph_id'].values\n",
    "\n",
    "    dd = datasets.DatasetDict({\n",
    "        \"train\": datasets.Dataset.from_pandas(\n",
    "            df[df['paragraph_id'].isin(train_paragraph_ids)], preserve_index=False\n",
    "        ),\n",
    "        \"dev\": datasets.Dataset.from_pandas(\n",
    "            df[df['paragraph_id'].isin(dev_paragraph_ids)], preserve_index=False\n",
    "        ),\n",
    "        \"test\": datasets.Dataset.from_pandas(\n",
    "            df[df['paragraph_id'].isin(test_paragraph_ids)], preserve_index=False\n",
    "        ),\n",
    "    })\n",
    "\n",
    "    return dd\n",
    "\n",
    "dd = partition_by_paragraph(multirc)\n",
    "dd"
   ]
  },
  {
   "cell_type": "code",
   "execution_count": 56,
   "id": "2bf63da8-248f-49c2-bbc7-c8f84d98819e",
   "metadata": {},
   "outputs": [],
   "source": [
    "archive_path = Path(\"../../data/RACE.tar.gz\")\n",
    "\n",
    "items = []\n",
    "    \n",
    "with tarfile.open(archive_path, \"r:gz\") as tar:\n",
    "    for member in tar.getmembers():\n",
    "        if not member.isfile() or not member.name.endswith('.txt'):\n",
    "            continue\n",
    "\n",
    "        item_dict = {}\n",
    "        _, split, lvl, fn = member.name.split(\"/\")\n",
    "        item_dict[\"split\"] = split\n",
    "        item_dict[\"level\"] = lvl\n",
    "\n",
    "        f = tar.extractfile(member)\n",
    "        if f is not None:\n",
    "            item_dict.update(json.load(f))\n",
    "            items.append(item_dict)\n",
    "\n",
    "df = pd.DataFrame(items)\n",
    "\n",
    "df[\"passage_id\"] = df[\"id\"].str.extract(\"(\\d+)\")\n",
    "\n",
    "# Two rows/passages have no questions or options\n",
    "empty_options = df[\"options\"].map(len) == 0\n",
    "df = df[~empty_options]"
   ]
  },
  {
   "cell_type": "code",
   "execution_count": 58,
   "id": "82d4b01d-e9ae-40c8-80f6-b447aebbdabb",
   "metadata": {},
   "outputs": [],
   "source": [
    "# Explode questions into individual rows\n",
    "\n",
    "df = df.explode([\"answers\", \"options\", \"questions\"]).reset_index(drop=True)\n",
    "df = df.rename(columns={\n",
    "    \"id\": \"filename\",\n",
    "    \"answers\": \"answer\",\n",
    "    \"questions\": \"question\",\n",
    "})\n",
    "df.index.name = \"idx\"\n",
    "df.to_parquet(\"../../data/RACE.parquet\")"
   ]
  },
  {
   "cell_type": "code",
   "execution_count": 59,
   "id": "5329c7f3-ecfa-4e67-8ca7-22346df0db13",
   "metadata": {},
   "outputs": [
    {
     "data": {
      "text/plain": [
       "options\n",
       "4    97687\n",
       "Name: count, dtype: int64"
      ]
     },
     "execution_count": 59,
     "metadata": {},
     "output_type": "execute_result"
    }
   ],
   "source": [
    "# All items have four options\n",
    "df[\"options\"].map(len).value_counts()"
   ]
  },
  {
   "cell_type": "code",
   "execution_count": 61,
   "id": "b1def9d3-db22-49a5-b2fc-1240d6cddcdb",
   "metadata": {},
   "outputs": [
    {
     "data": {
      "text/html": [
       "<div>\n",
       "<style scoped>\n",
       "    .dataframe tbody tr th:only-of-type {\n",
       "        vertical-align: middle;\n",
       "    }\n",
       "\n",
       "    .dataframe tbody tr th {\n",
       "        vertical-align: top;\n",
       "    }\n",
       "\n",
       "    .dataframe thead th {\n",
       "        text-align: right;\n",
       "    }\n",
       "</style>\n",
       "<table border=\"1\" class=\"dataframe\">\n",
       "  <thead>\n",
       "    <tr style=\"text-align: right;\">\n",
       "      <th></th>\n",
       "      <th>split</th>\n",
       "      <th>level</th>\n",
       "      <th>answer</th>\n",
       "      <th>options</th>\n",
       "      <th>question</th>\n",
       "      <th>article</th>\n",
       "      <th>filename</th>\n",
       "      <th>passage_id</th>\n",
       "    </tr>\n",
       "    <tr>\n",
       "      <th>idx</th>\n",
       "      <th></th>\n",
       "      <th></th>\n",
       "      <th></th>\n",
       "      <th></th>\n",
       "      <th></th>\n",
       "      <th></th>\n",
       "      <th></th>\n",
       "      <th></th>\n",
       "    </tr>\n",
       "  </thead>\n",
       "  <tbody>\n",
       "    <tr>\n",
       "      <th>75449</th>\n",
       "      <td>train</td>\n",
       "      <td>middle</td>\n",
       "      <td>B</td>\n",
       "      <td>[happy, angry, sad, sorry]</td>\n",
       "      <td>The teacher was very  _   when he saw Li Lei's...</td>\n",
       "      <td>One day the students were having painting less...</td>\n",
       "      <td>middle5610.txt</td>\n",
       "      <td>5610</td>\n",
       "    </tr>\n",
       "  </tbody>\n",
       "</table>\n",
       "</div>"
      ],
      "text/plain": [
       "       split   level answer                     options  \\\n",
       "idx                                                       \n",
       "75449  train  middle      B  [happy, angry, sad, sorry]   \n",
       "\n",
       "                                                question  \\\n",
       "idx                                                        \n",
       "75449  The teacher was very  _   when he saw Li Lei's...   \n",
       "\n",
       "                                                 article        filename  \\\n",
       "idx                                                                        \n",
       "75449  One day the students were having painting less...  middle5610.txt   \n",
       "\n",
       "      passage_id  \n",
       "idx               \n",
       "75449       5610  "
      ]
     },
     "execution_count": 61,
     "metadata": {},
     "output_type": "execute_result"
    }
   ],
   "source": [
    "df.sample(1)"
   ]
  },
  {
   "cell_type": "code",
   "execution_count": 94,
   "id": "b22a2dcd-0e83-4f9c-b578-a05f862cd3f0",
   "metadata": {},
   "outputs": [
    {
     "data": {
      "application/vnd.jupyter.widget-view+json": {
       "model_id": "ee1dfd14e8364d5f8670e3eed7c4233d",
       "version_major": 2,
       "version_minor": 0
      },
      "text/plain": [
       "Saving the dataset (0/1 shards):   0%|          | 0/21785 [00:00<?, ? examples/s]"
      ]
     },
     "metadata": {},
     "output_type": "display_data"
    },
    {
     "data": {
      "application/vnd.jupyter.widget-view+json": {
       "model_id": "0ca188e4952944b7b7b03f29d219923e",
       "version_major": 2,
       "version_minor": 0
      },
      "text/plain": [
       "Saving the dataset (0/1 shards):   0%|          | 0/4770 [00:00<?, ? examples/s]"
      ]
     },
     "metadata": {},
     "output_type": "display_data"
    },
    {
     "data": {
      "application/vnd.jupyter.widget-view+json": {
       "model_id": "0d733fb3e7494328b11920156e4f640a",
       "version_major": 2,
       "version_minor": 0
      },
      "text/plain": [
       "Saving the dataset (0/1 shards):   0%|          | 0/5536 [00:00<?, ? examples/s]"
      ]
     },
     "metadata": {},
     "output_type": "display_data"
    }
   ],
   "source": [
    "dd.save_to_disk(\"../../data/multirc_contrastive_pairs.hf\")"
   ]
  }
 ],
 "metadata": {
  "kernelspec": {
   "display_name": "Python [conda env:hf]",
   "language": "python",
   "name": "conda-env-hf-py"
  },
  "language_info": {
   "codemirror_mode": {
    "name": "ipython",
    "version": 3
   },
   "file_extension": ".py",
   "mimetype": "text/x-python",
   "name": "python",
   "nbconvert_exporter": "python",
   "pygments_lexer": "ipython3",
   "version": "3.11.6"
  }
 },
 "nbformat": 4,
 "nbformat_minor": 5
}
