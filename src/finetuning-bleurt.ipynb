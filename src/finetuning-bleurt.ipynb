{
 "cells": [
  {
   "cell_type": "code",
   "execution_count": 1,
   "id": "aad44041-627b-4b09-8de6-1c6b42b83a14",
   "metadata": {},
   "outputs": [],
   "source": [
    "import json\n",
    "import pandas as pd\n",
    "from sklearn.model_selection import train_test_split"
   ]
  },
  {
   "cell_type": "code",
   "execution_count": 2,
   "id": "0c048a68-01f5-420b-9dcf-41387c415e5e",
   "metadata": {},
   "outputs": [
    {
     "data": {
      "text/html": [
       "<div>\n",
       "<style scoped>\n",
       "    .dataframe tbody tr th:only-of-type {\n",
       "        vertical-align: middle;\n",
       "    }\n",
       "\n",
       "    .dataframe tbody tr th {\n",
       "        vertical-align: top;\n",
       "    }\n",
       "\n",
       "    .dataframe thead th {\n",
       "        text-align: right;\n",
       "    }\n",
       "</style>\n",
       "<table border=\"1\" class=\"dataframe\">\n",
       "  <thead>\n",
       "    <tr style=\"text-align: right;\">\n",
       "      <th></th>\n",
       "      <th>type</th>\n",
       "      <th>question</th>\n",
       "      <th>gold_answer</th>\n",
       "      <th>correct_answer</th>\n",
       "      <th>incorrect_answer</th>\n",
       "    </tr>\n",
       "  </thead>\n",
       "  <tbody>\n",
       "    <tr>\n",
       "      <th>0</th>\n",
       "      <td>recall</td>\n",
       "      <td>How can social media alter how we make decisions?</td>\n",
       "      <td>Social media outlets like Facebook and Twitter...</td>\n",
       "      <td>Social media can alter how we make decisions b...</td>\n",
       "      <td>Social media outlets like Facebook and Twitter...</td>\n",
       "    </tr>\n",
       "    <tr>\n",
       "      <th>1</th>\n",
       "      <td>recall</td>\n",
       "      <td>What is economics?</td>\n",
       "      <td>Economics is both a subject area and a way of ...</td>\n",
       "      <td>Economics is a subject area that studies how p...</td>\n",
       "      <td>Economics is primarily about money or finance.</td>\n",
       "    </tr>\n",
       "    <tr>\n",
       "      <th>2</th>\n",
       "      <td>recall</td>\n",
       "      <td>What is scarcity?</td>\n",
       "      <td>Scarcity is a fact of life in which human want...</td>\n",
       "      <td>Scarcity refers to the limited availability of...</td>\n",
       "      <td>Scarcity is when resources are infinite and hu...</td>\n",
       "    </tr>\n",
       "    <tr>\n",
       "      <th>3</th>\n",
       "      <td>recall</td>\n",
       "      <td>What is the name of the database where most of...</td>\n",
       "      <td>The St. Louis Federal Reserve Bank's FRED data...</td>\n",
       "      <td>The data used for this course is obtained from...</td>\n",
       "      <td>The US Census Bureau database.</td>\n",
       "    </tr>\n",
       "    <tr>\n",
       "      <th>4</th>\n",
       "      <td>recall</td>\n",
       "      <td>What economic principle does Adam Smith first ...</td>\n",
       "      <td>Division and specialization of labor.</td>\n",
       "      <td>Adam Smith first put forth the division and sp...</td>\n",
       "      <td>Scarcity.</td>\n",
       "    </tr>\n",
       "  </tbody>\n",
       "</table>\n",
       "</div>"
      ],
      "text/plain": [
       "     type                                           question  \\\n",
       "0  recall  How can social media alter how we make decisions?   \n",
       "1  recall                                 What is economics?   \n",
       "2  recall                                  What is scarcity?   \n",
       "3  recall  What is the name of the database where most of...   \n",
       "4  recall  What economic principle does Adam Smith first ...   \n",
       "\n",
       "                                         gold_answer  \\\n",
       "0  Social media outlets like Facebook and Twitter...   \n",
       "1  Economics is both a subject area and a way of ...   \n",
       "2  Scarcity is a fact of life in which human want...   \n",
       "3  The St. Louis Federal Reserve Bank's FRED data...   \n",
       "4              Division and specialization of labor.   \n",
       "\n",
       "                                      correct_answer  \\\n",
       "0  Social media can alter how we make decisions b...   \n",
       "1  Economics is a subject area that studies how p...   \n",
       "2  Scarcity refers to the limited availability of...   \n",
       "3  The data used for this course is obtained from...   \n",
       "4  Adam Smith first put forth the division and sp...   \n",
       "\n",
       "                                    incorrect_answer  \n",
       "0  Social media outlets like Facebook and Twitter...  \n",
       "1     Economics is primarily about money or finance.  \n",
       "2  Scarcity is when resources are infinite and hu...  \n",
       "3                     The US Census Bureau database.  \n",
       "4                                          Scarcity.  "
      ]
     },
     "execution_count": 2,
     "metadata": {},
     "output_type": "execute_result"
    }
   ],
   "source": [
    "df = pd.read_csv('~/active-projects/textbook-question-generation/data/aqag-chatgpt-vicuna.csv')\n",
    "# df.rename({'correct_answer_vicuna': 'gold_answer'}, axis=1, inplace=True)\n",
    "df.rename({'correct_answer': 'gold_answer'}, axis=1, inplace=True)\n",
    "df.rename({'correct_answer_vicuna': 'correct_answer'}, axis=1, inplace=True)\n",
    "df.dropna(subset=['clean_text', 'question', 'correct_answer', 'incorrect_answer', 'gold_answer'], inplace=True)\n",
    "df = df[['type', 'question', 'gold_answer', 'correct_answer', 'incorrect_answer']]\n",
    "df.head() # shape - 1464 x 5"
   ]
  },
  {
   "cell_type": "code",
   "execution_count": 3,
   "id": "3e2b75dc-5616-46a2-a4ed-84b682143c31",
   "metadata": {},
   "outputs": [
    {
     "data": {
      "text/html": [
       "<div>\n",
       "<style scoped>\n",
       "    .dataframe tbody tr th:only-of-type {\n",
       "        vertical-align: middle;\n",
       "    }\n",
       "\n",
       "    .dataframe tbody tr th {\n",
       "        vertical-align: top;\n",
       "    }\n",
       "\n",
       "    .dataframe thead th {\n",
       "        text-align: right;\n",
       "    }\n",
       "</style>\n",
       "<table border=\"1\" class=\"dataframe\">\n",
       "  <thead>\n",
       "    <tr style=\"text-align: right;\">\n",
       "      <th></th>\n",
       "      <th>type</th>\n",
       "      <th>question</th>\n",
       "      <th>gold_answer</th>\n",
       "      <th>student_response</th>\n",
       "      <th>true_label</th>\n",
       "    </tr>\n",
       "  </thead>\n",
       "  <tbody>\n",
       "    <tr>\n",
       "      <th>0</th>\n",
       "      <td>recall</td>\n",
       "      <td>How can social media alter how we make decisions?</td>\n",
       "      <td>Social media outlets like Facebook and Twitter...</td>\n",
       "      <td>Social media can alter how we make decisions b...</td>\n",
       "      <td>1</td>\n",
       "    </tr>\n",
       "    <tr>\n",
       "      <th>1</th>\n",
       "      <td>recall</td>\n",
       "      <td>What is economics?</td>\n",
       "      <td>Economics is both a subject area and a way of ...</td>\n",
       "      <td>Economics is a subject area that studies how p...</td>\n",
       "      <td>1</td>\n",
       "    </tr>\n",
       "    <tr>\n",
       "      <th>2</th>\n",
       "      <td>recall</td>\n",
       "      <td>What is scarcity?</td>\n",
       "      <td>Scarcity is a fact of life in which human want...</td>\n",
       "      <td>Scarcity refers to the limited availability of...</td>\n",
       "      <td>1</td>\n",
       "    </tr>\n",
       "    <tr>\n",
       "      <th>3</th>\n",
       "      <td>recall</td>\n",
       "      <td>What is the name of the database where most of...</td>\n",
       "      <td>The St. Louis Federal Reserve Bank's FRED data...</td>\n",
       "      <td>The data used for this course is obtained from...</td>\n",
       "      <td>1</td>\n",
       "    </tr>\n",
       "    <tr>\n",
       "      <th>4</th>\n",
       "      <td>recall</td>\n",
       "      <td>What economic principle does Adam Smith first ...</td>\n",
       "      <td>Division and specialization of labor.</td>\n",
       "      <td>Adam Smith first put forth the division and sp...</td>\n",
       "      <td>1</td>\n",
       "    </tr>\n",
       "  </tbody>\n",
       "</table>\n",
       "</div>"
      ],
      "text/plain": [
       "     type                                           question  \\\n",
       "0  recall  How can social media alter how we make decisions?   \n",
       "1  recall                                 What is economics?   \n",
       "2  recall                                  What is scarcity?   \n",
       "3  recall  What is the name of the database where most of...   \n",
       "4  recall  What economic principle does Adam Smith first ...   \n",
       "\n",
       "                                         gold_answer  \\\n",
       "0  Social media outlets like Facebook and Twitter...   \n",
       "1  Economics is both a subject area and a way of ...   \n",
       "2  Scarcity is a fact of life in which human want...   \n",
       "3  The St. Louis Federal Reserve Bank's FRED data...   \n",
       "4              Division and specialization of labor.   \n",
       "\n",
       "                                    student_response  true_label  \n",
       "0  Social media can alter how we make decisions b...           1  \n",
       "1  Economics is a subject area that studies how p...           1  \n",
       "2  Scarcity refers to the limited availability of...           1  \n",
       "3  The data used for this course is obtained from...           1  \n",
       "4  Adam Smith first put forth the division and sp...           1  "
      ]
     },
     "execution_count": 3,
     "metadata": {},
     "output_type": "execute_result"
    }
   ],
   "source": [
    "temp_correct_df = df[['type', 'question', 'gold_answer', 'correct_answer']]\n",
    "temp_correct_df = temp_correct_df.rename(columns={'correct_answer': 'student_response'})\n",
    "temp_correct_df['true_label'] = 1\n",
    "\n",
    "temp_incorrect_df = df[['type', 'question', 'gold_answer', 'incorrect_answer']]\n",
    "temp_incorrect_df = temp_incorrect_df.rename(columns={'incorrect_answer': 'student_response'})\n",
    "temp_incorrect_df['true_label'] = 0\n",
    "\n",
    "new_df = pd.concat([temp_correct_df, temp_incorrect_df]).reset_index(drop=True)\n",
    "new_df.head() # shape - 2928 x 5"
   ]
  },
  {
   "cell_type": "code",
   "execution_count": 4,
   "id": "3a87e451-53c7-453f-aafa-a36ca385fb4d",
   "metadata": {},
   "outputs": [],
   "source": [
    "X = new_df.drop('true_label', axis=1)\n",
    "y = new_df['true_label']"
   ]
  },
  {
   "cell_type": "code",
   "execution_count": 5,
   "id": "c5ecb101-e33f-41b6-b5a8-3e7e6b224d4a",
   "metadata": {},
   "outputs": [
    {
     "data": {
      "text/plain": [
       "((1756, 4), (1756,), (1172, 4), (1172,))"
      ]
     },
     "execution_count": 5,
     "metadata": {},
     "output_type": "execute_result"
    }
   ],
   "source": [
    "X_train, X_holdout, y_train, y_holdout = train_test_split(X, y, test_size=0.4, random_state=42)\n",
    "X_train.shape, y_train.shape, X_holdout.shape, y_holdout.shape"
   ]
  },
  {
   "cell_type": "code",
   "execution_count": 6,
   "id": "3b39a86f-f735-49ec-8708-eef690d89ff2",
   "metadata": {},
   "outputs": [
    {
     "data": {
      "text/plain": [
       "((586, 4), (586,), (586, 4), (586,))"
      ]
     },
     "execution_count": 6,
     "metadata": {},
     "output_type": "execute_result"
    }
   ],
   "source": [
    "X_test, X_val, y_test, y_val = train_test_split(X_holdout, y_holdout, test_size=0.5, random_state=42)\n",
    "X_test.shape, y_test.shape, X_val.shape, y_val.shape"
   ]
  },
  {
   "cell_type": "code",
   "execution_count": 7,
   "id": "b3fdb4fa-3cde-482a-a3a0-d824b3d838ac",
   "metadata": {},
   "outputs": [
    {
     "name": "stdout",
     "output_type": "stream",
     "text": [
      "{True}\n"
     ]
    },
    {
     "data": {
      "text/html": [
       "<div>\n",
       "<style scoped>\n",
       "    .dataframe tbody tr th:only-of-type {\n",
       "        vertical-align: middle;\n",
       "    }\n",
       "\n",
       "    .dataframe tbody tr th {\n",
       "        vertical-align: top;\n",
       "    }\n",
       "\n",
       "    .dataframe thead th {\n",
       "        text-align: right;\n",
       "    }\n",
       "</style>\n",
       "<table border=\"1\" class=\"dataframe\">\n",
       "  <thead>\n",
       "    <tr style=\"text-align: right;\">\n",
       "      <th></th>\n",
       "      <th>type</th>\n",
       "      <th>question</th>\n",
       "      <th>gold_answer</th>\n",
       "      <th>student_response</th>\n",
       "      <th>true_label</th>\n",
       "    </tr>\n",
       "  </thead>\n",
       "  <tbody>\n",
       "    <tr>\n",
       "      <th>2818</th>\n",
       "      <td>inference</td>\n",
       "      <td>What three criteria does the government use to...</td>\n",
       "      <td>The three criteria that the government uses to...</td>\n",
       "      <td>The three criteria that the government uses to...</td>\n",
       "      <td>0</td>\n",
       "    </tr>\n",
       "    <tr>\n",
       "      <th>2808</th>\n",
       "      <td>inference</td>\n",
       "      <td>What is one example of an automatic stabilizer...</td>\n",
       "      <td>Higher unemployment and a weaker economy can l...</td>\n",
       "      <td>The government provides tax cuts to help reduc...</td>\n",
       "      <td>0</td>\n",
       "    </tr>\n",
       "    <tr>\n",
       "      <th>2889</th>\n",
       "      <td>inference</td>\n",
       "      <td>What type of information can be found on this ...</td>\n",
       "      <td>Trade-related data visualizations.</td>\n",
       "      <td>Recipes for dinner.</td>\n",
       "      <td>0</td>\n",
       "    </tr>\n",
       "    <tr>\n",
       "      <th>1506</th>\n",
       "      <td>recall</td>\n",
       "      <td>What caused the price for gasoline to fall sha...</td>\n",
       "      <td>Increases in supply and decreases in the deman...</td>\n",
       "      <td>People driving more in the summer and being wi...</td>\n",
       "      <td>0</td>\n",
       "    </tr>\n",
       "    <tr>\n",
       "      <th>1690</th>\n",
       "      <td>recall</td>\n",
       "      <td>What did the U.S. government do in response to...</td>\n",
       "      <td>The government implemented programs like the A...</td>\n",
       "      <td>The government increased taxes to help million...</td>\n",
       "      <td>0</td>\n",
       "    </tr>\n",
       "  </tbody>\n",
       "</table>\n",
       "</div>"
      ],
      "text/plain": [
       "           type                                           question  \\\n",
       "2818  inference  What three criteria does the government use to...   \n",
       "2808  inference  What is one example of an automatic stabilizer...   \n",
       "2889  inference  What type of information can be found on this ...   \n",
       "1506     recall  What caused the price for gasoline to fall sha...   \n",
       "1690     recall  What did the U.S. government do in response to...   \n",
       "\n",
       "                                            gold_answer  \\\n",
       "2818  The three criteria that the government uses to...   \n",
       "2808  Higher unemployment and a weaker economy can l...   \n",
       "2889                 Trade-related data visualizations.   \n",
       "1506  Increases in supply and decreases in the deman...   \n",
       "1690  The government implemented programs like the A...   \n",
       "\n",
       "                                       student_response  true_label  \n",
       "2818  The three criteria that the government uses to...           0  \n",
       "2808  The government provides tax cuts to help reduc...           0  \n",
       "2889                                Recipes for dinner.           0  \n",
       "1506  People driving more in the summer and being wi...           0  \n",
       "1690  The government increased taxes to help million...           0  "
      ]
     },
     "execution_count": 7,
     "metadata": {},
     "output_type": "execute_result"
    }
   ],
   "source": [
    "X_train['true_label'] = y_train\n",
    "print(set(X_train['true_label'] == y_train))\n",
    "X_train.head()"
   ]
  },
  {
   "cell_type": "code",
   "execution_count": 8,
   "id": "5affd951-42d3-486f-b3ab-8c4ebd05f15e",
   "metadata": {},
   "outputs": [
    {
     "name": "stdout",
     "output_type": "stream",
     "text": [
      "{True}\n"
     ]
    },
    {
     "data": {
      "text/html": [
       "<div>\n",
       "<style scoped>\n",
       "    .dataframe tbody tr th:only-of-type {\n",
       "        vertical-align: middle;\n",
       "    }\n",
       "\n",
       "    .dataframe tbody tr th {\n",
       "        vertical-align: top;\n",
       "    }\n",
       "\n",
       "    .dataframe thead th {\n",
       "        text-align: right;\n",
       "    }\n",
       "</style>\n",
       "<table border=\"1\" class=\"dataframe\">\n",
       "  <thead>\n",
       "    <tr style=\"text-align: right;\">\n",
       "      <th></th>\n",
       "      <th>type</th>\n",
       "      <th>question</th>\n",
       "      <th>gold_answer</th>\n",
       "      <th>student_response</th>\n",
       "      <th>true_label</th>\n",
       "    </tr>\n",
       "  </thead>\n",
       "  <tbody>\n",
       "    <tr>\n",
       "      <th>528</th>\n",
       "      <td>summarization</td>\n",
       "      <td>What does the tradeoff diagram illustrate?</td>\n",
       "      <td>The tradeoff diagram illustrates scarcity, tra...</td>\n",
       "      <td>The tradeoff diagram illustrates scarcity, tra...</td>\n",
       "      <td>1</td>\n",
       "    </tr>\n",
       "    <tr>\n",
       "      <th>1750</th>\n",
       "      <td>recall</td>\n",
       "      <td>What is the total amount of imports for an aft...</td>\n",
       "      <td>$48</td>\n",
       "      <td>$20</td>\n",
       "      <td>0</td>\n",
       "    </tr>\n",
       "    <tr>\n",
       "      <th>2687</th>\n",
       "      <td>inference</td>\n",
       "      <td>What is the Keynesian economic response to an ...</td>\n",
       "      <td>The Keynesian response would be to enact a pol...</td>\n",
       "      <td>The Keynesian response would be to enact a pol...</td>\n",
       "      <td>0</td>\n",
       "    </tr>\n",
       "    <tr>\n",
       "      <th>2783</th>\n",
       "      <td>inference</td>\n",
       "      <td>Why did expansionary monetary policy have litt...</td>\n",
       "      <td>Banks were holding excess reserves above the l...</td>\n",
       "      <td>Japan's central bank had lowered the equivalen...</td>\n",
       "      <td>0</td>\n",
       "    </tr>\n",
       "    <tr>\n",
       "      <th>471</th>\n",
       "      <td>recall</td>\n",
       "      <td>What is the real question that needs to be ask...</td>\n",
       "      <td>What are acceptable and enforceable minimum la...</td>\n",
       "      <td>The real question that needs to be asked regar...</td>\n",
       "      <td>1</td>\n",
       "    </tr>\n",
       "  </tbody>\n",
       "</table>\n",
       "</div>"
      ],
      "text/plain": [
       "               type                                           question  \\\n",
       "528   summarization         What does the tradeoff diagram illustrate?   \n",
       "1750         recall  What is the total amount of imports for an aft...   \n",
       "2687      inference  What is the Keynesian economic response to an ...   \n",
       "2783      inference  Why did expansionary monetary policy have litt...   \n",
       "471          recall  What is the real question that needs to be ask...   \n",
       "\n",
       "                                            gold_answer  \\\n",
       "528   The tradeoff diagram illustrates scarcity, tra...   \n",
       "1750                                                $48   \n",
       "2687  The Keynesian response would be to enact a pol...   \n",
       "2783  Banks were holding excess reserves above the l...   \n",
       "471   What are acceptable and enforceable minimum la...   \n",
       "\n",
       "                                       student_response  true_label  \n",
       "528   The tradeoff diagram illustrates scarcity, tra...           1  \n",
       "1750                                                $20           0  \n",
       "2687  The Keynesian response would be to enact a pol...           0  \n",
       "2783  Japan's central bank had lowered the equivalen...           0  \n",
       "471   The real question that needs to be asked regar...           1  "
      ]
     },
     "execution_count": 8,
     "metadata": {},
     "output_type": "execute_result"
    }
   ],
   "source": [
    "X_test['true_label'] = y_test\n",
    "print(set(X_test['true_label'] == y_test))\n",
    "X_test.head()"
   ]
  },
  {
   "cell_type": "code",
   "execution_count": 9,
   "id": "8de8ce7c-c263-4e5d-a52f-2fc6bf979edc",
   "metadata": {},
   "outputs": [
    {
     "name": "stdout",
     "output_type": "stream",
     "text": [
      "{True}\n"
     ]
    },
    {
     "data": {
      "text/html": [
       "<div>\n",
       "<style scoped>\n",
       "    .dataframe tbody tr th:only-of-type {\n",
       "        vertical-align: middle;\n",
       "    }\n",
       "\n",
       "    .dataframe tbody tr th {\n",
       "        vertical-align: top;\n",
       "    }\n",
       "\n",
       "    .dataframe thead th {\n",
       "        text-align: right;\n",
       "    }\n",
       "</style>\n",
       "<table border=\"1\" class=\"dataframe\">\n",
       "  <thead>\n",
       "    <tr style=\"text-align: right;\">\n",
       "      <th></th>\n",
       "      <th>type</th>\n",
       "      <th>question</th>\n",
       "      <th>gold_answer</th>\n",
       "      <th>student_response</th>\n",
       "      <th>true_label</th>\n",
       "    </tr>\n",
       "  </thead>\n",
       "  <tbody>\n",
       "    <tr>\n",
       "      <th>2877</th>\n",
       "      <td>inference</td>\n",
       "      <td>Why did Japan experience a trade surplus for t...</td>\n",
       "      <td>Japan had a high rate of domestic savings, and...</td>\n",
       "      <td>Japan's economy was growing vigorously and had...</td>\n",
       "      <td>0</td>\n",
       "    </tr>\n",
       "    <tr>\n",
       "      <th>93</th>\n",
       "      <td>recall</td>\n",
       "      <td>What is a good economic growth rate according ...</td>\n",
       "      <td>A growth rate of more than 3% is considered good.</td>\n",
       "      <td>A growth rate of more than 3% is considered good.</td>\n",
       "      <td>1</td>\n",
       "    </tr>\n",
       "    <tr>\n",
       "      <th>347</th>\n",
       "      <td>recall</td>\n",
       "      <td>What is the impact of an $800 billion dollar i...</td>\n",
       "      <td>The monetary stimulus increased the quantity o...</td>\n",
       "      <td>The increase in the money supply increases the...</td>\n",
       "      <td>1</td>\n",
       "    </tr>\n",
       "    <tr>\n",
       "      <th>1672</th>\n",
       "      <td>recall</td>\n",
       "      <td>What is the equilibrium point shown on Figure ...</td>\n",
       "      <td>The equilibrium point occurs at point E, at a ...</td>\n",
       "      <td>The equilibrium point occurs at point E, at a ...</td>\n",
       "      <td>0</td>\n",
       "    </tr>\n",
       "    <tr>\n",
       "      <th>178</th>\n",
       "      <td>recall</td>\n",
       "      <td>What is the purpose of the Core Inflation Index?</td>\n",
       "      <td>The purpose of the Core Inflation Index is to ...</td>\n",
       "      <td>The Core Inflation Index is used to measure th...</td>\n",
       "      <td>1</td>\n",
       "    </tr>\n",
       "  </tbody>\n",
       "</table>\n",
       "</div>"
      ],
      "text/plain": [
       "           type                                           question  \\\n",
       "2877  inference  Why did Japan experience a trade surplus for t...   \n",
       "93       recall  What is a good economic growth rate according ...   \n",
       "347      recall  What is the impact of an $800 billion dollar i...   \n",
       "1672     recall  What is the equilibrium point shown on Figure ...   \n",
       "178      recall   What is the purpose of the Core Inflation Index?   \n",
       "\n",
       "                                            gold_answer  \\\n",
       "2877  Japan had a high rate of domestic savings, and...   \n",
       "93    A growth rate of more than 3% is considered good.   \n",
       "347   The monetary stimulus increased the quantity o...   \n",
       "1672  The equilibrium point occurs at point E, at a ...   \n",
       "178   The purpose of the Core Inflation Index is to ...   \n",
       "\n",
       "                                       student_response  true_label  \n",
       "2877  Japan's economy was growing vigorously and had...           0  \n",
       "93    A growth rate of more than 3% is considered good.           1  \n",
       "347   The increase in the money supply increases the...           1  \n",
       "1672  The equilibrium point occurs at point E, at a ...           0  \n",
       "178   The Core Inflation Index is used to measure th...           1  "
      ]
     },
     "execution_count": 9,
     "metadata": {},
     "output_type": "execute_result"
    }
   ],
   "source": [
    "X_val['true_label'] = y_val\n",
    "print(set(X_val['true_label'] == y_val))\n",
    "X_val.head()"
   ]
  },
  {
   "cell_type": "code",
   "execution_count": 10,
   "id": "2c8e809d-954f-4e16-91af-8387f6ec9bb0",
   "metadata": {},
   "outputs": [
    {
     "data": {
      "text/plain": [
       "<Axes: ylabel='Frequency'>"
      ]
     },
     "execution_count": 10,
     "metadata": {},
     "output_type": "execute_result"
    },
    {
     "data": {
      "image/png": "[encoded data removed]",
      "text/plain": [
       "<Figure size 640x480 with 1 Axes>"
      ]
     },
     "metadata": {},
     "output_type": "display_data"
    }
   ],
   "source": [
    "X_train[\"true_label\"].plot(kind=\"hist\")"
   ]
  },
  {
   "cell_type": "code",
   "execution_count": 11,
   "id": "eab13b86-8198-451b-a452-1fb5aa33d51c",
   "metadata": {},
   "outputs": [
    {
     "data": {
      "text/plain": [
       "<Axes: ylabel='Frequency'>"
      ]
     },
     "execution_count": 11,
     "metadata": {},
     "output_type": "execute_result"
    },
    {
     "data": {
      "image/png": "[encoded data removed]",
      "text/plain": [
       "<Figure size 640x480 with 1 Axes>"
      ]
     },
     "metadata": {},
     "output_type": "display_data"
    }
   ],
   "source": [
    "X_test[\"true_label\"].plot(kind=\"hist\")"
   ]
  },
  {
   "cell_type": "code",
   "execution_count": 12,
   "id": "7ebdb65d-5f7f-427e-be25-6eb0e2c7cca6",
   "metadata": {},
   "outputs": [
    {
     "data": {
      "text/plain": [
       "<Axes: ylabel='Frequency'>"
      ]
     },
     "execution_count": 12,
     "metadata": {},
     "output_type": "execute_result"
    },
    {
     "data": {
      "image/png": "[encoded data removed]",
      "text/plain": [
       "<Figure size 640x480 with 1 Axes>"
      ]
     },
     "metadata": {},
     "output_type": "display_data"
    }
   ],
   "source": [
    "X_val[\"true_label\"].plot(kind=\"hist\")"
   ]
  },
  {
   "cell_type": "code",
   "execution_count": 13,
   "id": "cef02b2f-619e-45df-9d7c-75297222a932",
   "metadata": {},
   "outputs": [
    {
     "data": {
      "text/plain": [
       "(True, True, True)"
      ]
     },
     "execution_count": 13,
     "metadata": {},
     "output_type": "execute_result"
    }
   ],
   "source": [
    "train_samples = [{\"candidate\":row[\"student_response\"], \"reference\":row[\"gold_answer\"], \"score\":row[\"true_label\"]} for _, row in X_train.iterrows()]\n",
    "test_samples = [{\"candidate\":row[\"student_response\"], \"reference\":row[\"gold_answer\"], \"score\":row[\"true_label\"]} for _, row in X_test.iterrows()]\n",
    "val_samples = [{\"candidate\":row[\"student_response\"], \"reference\":row[\"gold_answer\"], \"score\":row[\"true_label\"]} for _, row in X_val.iterrows()]\n",
    "\n",
    "len(train_samples) == X_train.shape[0], len(test_samples) == X_test.shape[0], len(val_samples) == X_val.shape[0]"
   ]
  },
  {
   "cell_type": "code",
   "execution_count": 14,
   "id": "5749ce4b-05c7-4745-a4db-d9b332e00975",
   "metadata": {},
   "outputs": [
    {
     "data": {
      "text/plain": [
       "[{'candidate': 'The three criteria that the government uses to judge eligibility are age, gender, and the cost of the institution.',\n",
       "  'reference': 'The three criteria that the government uses to judge eligibility are income, full-time or part-time attendance, and the cost of the institution.',\n",
       "  'score': 0},\n",
       " {'candidate': 'The government provides tax cuts to help reduce the size of budget deficits.',\n",
       "  'reference': 'Higher unemployment and a weaker economy can lead to increased government spending on unemployment benefits and welfare.',\n",
       "  'score': 0}]"
      ]
     },
     "execution_count": 14,
     "metadata": {},
     "output_type": "execute_result"
    }
   ],
   "source": [
    "with open('/home/jovyan/active-projects/textbook-question-generation/bleurt/bleurt/bleurt/test_data/train_samples.jsonl', 'w') as f:\n",
    "    for sample in train_samples:\n",
    "        json.dump(sample, f)\n",
    "        f.write('\\n')\n",
    "\n",
    "train_samples[:2]"
   ]
  },
  {
   "cell_type": "code",
   "execution_count": 15,
   "id": "b1f0a92c-0c85-48aa-a352-64f746572c28",
   "metadata": {},
   "outputs": [
    {
     "data": {
      "text/plain": [
       "[{'candidate': 'The tradeoff diagram illustrates scarcity, tradeoffs, and economic efficiency.',\n",
       "  'reference': 'The tradeoff diagram illustrates scarcity, tradeoffs, and economic efficiency.',\n",
       "  'score': 1},\n",
       " {'candidate': '$20', 'reference': '$48', 'score': 0}]"
      ]
     },
     "execution_count": 15,
     "metadata": {},
     "output_type": "execute_result"
    }
   ],
   "source": [
    "with open('/home/jovyan/active-projects/textbook-question-generation/bleurt/bleurt/bleurt/test_data/test_samples.jsonl', 'w') as f:\n",
    "    for sample in test_samples:\n",
    "        json.dump(sample, f)\n",
    "        f.write('\\n')\n",
    "\n",
    "test_samples[:2]"
   ]
  },
  {
   "cell_type": "code",
   "execution_count": 16,
   "id": "af848b1e-968b-457d-8bf8-ae0c077611c0",
   "metadata": {},
   "outputs": [
    {
     "data": {
      "text/plain": [
       "[{'candidate': \"Japan's economy was growing vigorously and had a robust economic health.\",\n",
       "  'reference': 'Japan had a high rate of domestic savings, and more to invest abroad than in their own economy.',\n",
       "  'score': 0},\n",
       " {'candidate': 'A growth rate of more than 3% is considered good.',\n",
       "  'reference': 'A growth rate of more than 3% is considered good.',\n",
       "  'score': 1}]"
      ]
     },
     "execution_count": 16,
     "metadata": {},
     "output_type": "execute_result"
    }
   ],
   "source": [
    "with open('/home/jovyan/active-projects/textbook-question-generation/bleurt/bleurt/bleurt/test_data/val_samples.jsonl', 'w') as f:\n",
    "    for sample in val_samples:\n",
    "        json.dump(sample, f)\n",
    "        f.write('\\n')\n",
    "\n",
    "val_samples[:2]"
   ]
  },
  {
   "cell_type": "code",
   "execution_count": null,
   "id": "2415eb29-e897-410c-ba3a-59a80cd3f886",
   "metadata": {},
   "outputs": [],
   "source": [
    "# python -m bleurt.finetune -init_bleurt_checkpoint=bleurt/test_checkpoint_base_128 -model_dir=/home/jovyan/active-projects/textbook-question-generation/bleurt/trained_bleurt/ -train_set=bleurt/test_data/train_samples.jsonl -dev_set=bleurt/test_data/test_samples.jsonl -num_train_steps=500"
   ]
  },
  {
   "cell_type": "code",
   "execution_count": 29,
   "id": "cd0618c6-c07d-41e3-8955-c0da14070c47",
   "metadata": {
    "scrolled": true
   },
   "outputs": [
    {
     "name": "stderr",
     "output_type": "stream",
     "text": [
      "WARNING:evaluate_modules.metrics.evaluate-metric--bleurt.98e148b2f8c4a88aba5037e4e0e90c9fd9ec35dc37a054ded8cfef0fa801ffab.bleurt:Using default BLEURT-Base checkpoint for sequence maximum length 128. You can use a bigger model for better results with e.g.: evaluate.load('bleurt', 'bleurt-large-512').\n"
     ]
    },
    {
     "name": "stdout",
     "output_type": "stream",
     "text": [
      "INFO:tensorflow:Reading checkpoint /home/jovyan/.cache/huggingface/metrics/bleurt/default/downloads/extracted/bdfa1ee4ee11acef1b6b4614c809053c68eaf56a2181893dde453e318a0280af/bleurt-base-128.\n"
     ]
    },
    {
     "name": "stderr",
     "output_type": "stream",
     "text": [
      "INFO:tensorflow:Reading checkpoint /home/jovyan/.cache/huggingface/metrics/bleurt/default/downloads/extracted/bdfa1ee4ee11acef1b6b4614c809053c68eaf56a2181893dde453e318a0280af/bleurt-base-128.\n"
     ]
    },
    {
     "name": "stdout",
     "output_type": "stream",
     "text": [
      "INFO:tensorflow:Config file found, reading.\n"
     ]
    },
    {
     "name": "stderr",
     "output_type": "stream",
     "text": [
      "INFO:tensorflow:Config file found, reading.\n"
     ]
    },
    {
     "name": "stdout",
     "output_type": "stream",
     "text": [
      "INFO:tensorflow:Will load checkpoint bert_custom\n"
     ]
    },
    {
     "name": "stderr",
     "output_type": "stream",
     "text": [
      "INFO:tensorflow:Will load checkpoint bert_custom\n"
     ]
    },
    {
     "name": "stdout",
     "output_type": "stream",
     "text": [
      "INFO:tensorflow:Loads full paths and checks that files exists.\n"
     ]
    },
    {
     "name": "stderr",
     "output_type": "stream",
     "text": [
      "INFO:tensorflow:Loads full paths and checks that files exists.\n"
     ]
    },
    {
     "name": "stdout",
     "output_type": "stream",
     "text": [
      "INFO:tensorflow:... name:bert_custom\n"
     ]
    },
    {
     "name": "stderr",
     "output_type": "stream",
     "text": [
      "INFO:tensorflow:... name:bert_custom\n"
     ]
    },
    {
     "name": "stdout",
     "output_type": "stream",
     "text": [
      "INFO:tensorflow:... vocab_file:vocab.txt\n"
     ]
    },
    {
     "name": "stderr",
     "output_type": "stream",
     "text": [
      "INFO:tensorflow:... vocab_file:vocab.txt\n"
     ]
    },
    {
     "name": "stdout",
     "output_type": "stream",
     "text": [
      "INFO:tensorflow:... bert_config_file:bert_config.json\n"
     ]
    },
    {
     "name": "stderr",
     "output_type": "stream",
     "text": [
      "INFO:tensorflow:... bert_config_file:bert_config.json\n"
     ]
    },
    {
     "name": "stdout",
     "output_type": "stream",
     "text": [
      "INFO:tensorflow:... do_lower_case:True\n"
     ]
    },
    {
     "name": "stderr",
     "output_type": "stream",
     "text": [
      "INFO:tensorflow:... do_lower_case:True\n"
     ]
    },
    {
     "name": "stdout",
     "output_type": "stream",
     "text": [
      "INFO:tensorflow:... max_seq_length:128\n"
     ]
    },
    {
     "name": "stderr",
     "output_type": "stream",
     "text": [
      "INFO:tensorflow:... max_seq_length:128\n"
     ]
    },
    {
     "name": "stdout",
     "output_type": "stream",
     "text": [
      "INFO:tensorflow:Creating BLEURT scorer.\n"
     ]
    },
    {
     "name": "stderr",
     "output_type": "stream",
     "text": [
      "INFO:tensorflow:Creating BLEURT scorer.\n"
     ]
    },
    {
     "name": "stdout",
     "output_type": "stream",
     "text": [
      "INFO:tensorflow:Creating WordPiece tokenizer.\n"
     ]
    },
    {
     "name": "stderr",
     "output_type": "stream",
     "text": [
      "INFO:tensorflow:Creating WordPiece tokenizer.\n"
     ]
    },
    {
     "name": "stdout",
     "output_type": "stream",
     "text": [
      "INFO:tensorflow:WordPiece tokenizer instantiated.\n"
     ]
    },
    {
     "name": "stderr",
     "output_type": "stream",
     "text": [
      "INFO:tensorflow:WordPiece tokenizer instantiated.\n"
     ]
    },
    {
     "name": "stdout",
     "output_type": "stream",
     "text": [
      "INFO:tensorflow:Creating Eager Mode predictor.\n"
     ]
    },
    {
     "name": "stderr",
     "output_type": "stream",
     "text": [
      "INFO:tensorflow:Creating Eager Mode predictor.\n"
     ]
    },
    {
     "name": "stdout",
     "output_type": "stream",
     "text": [
      "INFO:tensorflow:Loading model.\n"
     ]
    },
    {
     "name": "stderr",
     "output_type": "stream",
     "text": [
      "INFO:tensorflow:Loading model.\n"
     ]
    },
    {
     "name": "stdout",
     "output_type": "stream",
     "text": [
      "INFO:tensorflow:BLEURT initialized.\n"
     ]
    },
    {
     "name": "stderr",
     "output_type": "stream",
     "text": [
      "INFO:tensorflow:BLEURT initialized.\n"
     ]
    }
   ],
   "source": [
    "import numpy as np\n",
    "import pandas as pd\n",
    "\n",
    "import spacy\n",
    "from nltk import ngrams as nltk_ngrams\n",
    "\n",
    "from sklearn.metrics import cohen_kappa_score, confusion_matrix, classification_report\n",
    "\n",
    "import evaluate\n",
    "\n",
    "import seaborn as sns\n",
    "import matplotlib.pyplot as plt\n",
    "\n",
    "nlp = spacy.load('en_core_web_sm')\n",
    "\n",
    "bleurt_model = evaluate.load(\"bleurt\", module_type=\"metric\", checkpoint=\"/home/jovyan/active-projects/textbook-question-generation/bleurt/trained_bleurt/\")"
   ]
  },
  {
   "cell_type": "code",
   "execution_count": 30,
   "id": "2eb4b8b8-bf9a-4984-afb3-0215a3a13349",
   "metadata": {},
   "outputs": [
    {
     "data": {
      "text/html": [
       "<div>\n",
       "<style scoped>\n",
       "    .dataframe tbody tr th:only-of-type {\n",
       "        vertical-align: middle;\n",
       "    }\n",
       "\n",
       "    .dataframe tbody tr th {\n",
       "        vertical-align: top;\n",
       "    }\n",
       "\n",
       "    .dataframe thead th {\n",
       "        text-align: right;\n",
       "    }\n",
       "</style>\n",
       "<table border=\"1\" class=\"dataframe\">\n",
       "  <thead>\n",
       "    <tr style=\"text-align: right;\">\n",
       "      <th></th>\n",
       "      <th>type</th>\n",
       "      <th>question</th>\n",
       "      <th>gold_answer</th>\n",
       "      <th>student_response</th>\n",
       "      <th>true_label</th>\n",
       "    </tr>\n",
       "  </thead>\n",
       "  <tbody>\n",
       "    <tr>\n",
       "      <th>2877</th>\n",
       "      <td>inference</td>\n",
       "      <td>Why did Japan experience a trade surplus for t...</td>\n",
       "      <td>Japan had a high rate of domestic savings, and...</td>\n",
       "      <td>Japan's economy was growing vigorously and had...</td>\n",
       "      <td>0</td>\n",
       "    </tr>\n",
       "    <tr>\n",
       "      <th>93</th>\n",
       "      <td>recall</td>\n",
       "      <td>What is a good economic growth rate according ...</td>\n",
       "      <td>A growth rate of more than 3% is considered good.</td>\n",
       "      <td>A growth rate of more than 3% is considered good.</td>\n",
       "      <td>1</td>\n",
       "    </tr>\n",
       "    <tr>\n",
       "      <th>347</th>\n",
       "      <td>recall</td>\n",
       "      <td>What is the impact of an $800 billion dollar i...</td>\n",
       "      <td>The monetary stimulus increased the quantity o...</td>\n",
       "      <td>The increase in the money supply increases the...</td>\n",
       "      <td>1</td>\n",
       "    </tr>\n",
       "    <tr>\n",
       "      <th>1672</th>\n",
       "      <td>recall</td>\n",
       "      <td>What is the equilibrium point shown on Figure ...</td>\n",
       "      <td>The equilibrium point occurs at point E, at a ...</td>\n",
       "      <td>The equilibrium point occurs at point E, at a ...</td>\n",
       "      <td>0</td>\n",
       "    </tr>\n",
       "    <tr>\n",
       "      <th>178</th>\n",
       "      <td>recall</td>\n",
       "      <td>What is the purpose of the Core Inflation Index?</td>\n",
       "      <td>The purpose of the Core Inflation Index is to ...</td>\n",
       "      <td>The Core Inflation Index is used to measure th...</td>\n",
       "      <td>1</td>\n",
       "    </tr>\n",
       "    <tr>\n",
       "      <th>...</th>\n",
       "      <td>...</td>\n",
       "      <td>...</td>\n",
       "      <td>...</td>\n",
       "      <td>...</td>\n",
       "      <td>...</td>\n",
       "    </tr>\n",
       "    <tr>\n",
       "      <th>807</th>\n",
       "      <td>summarization</td>\n",
       "      <td>What is money deposited in bank accounts typic...</td>\n",
       "      <td>It is loaned to businesses, individuals, and o...</td>\n",
       "      <td>Bank loans.</td>\n",
       "      <td>1</td>\n",
       "    </tr>\n",
       "    <tr>\n",
       "      <th>1075</th>\n",
       "      <td>inference</td>\n",
       "      <td>What is considered a good rate of economic gro...</td>\n",
       "      <td>A growth rate of more than 3% is considered good.</td>\n",
       "      <td>A growth rate of more than 3% is considered good.</td>\n",
       "      <td>1</td>\n",
       "    </tr>\n",
       "    <tr>\n",
       "      <th>199</th>\n",
       "      <td>recall</td>\n",
       "      <td>Who argued that supply is the most important d...</td>\n",
       "      <td>Macroeconomists over the last two centuries.</td>\n",
       "      <td>The first group of macroeconomists argued that...</td>\n",
       "      <td>1</td>\n",
       "    </tr>\n",
       "    <tr>\n",
       "      <th>449</th>\n",
       "      <td>recall</td>\n",
       "      <td>What does comparative advantage identify?</td>\n",
       "      <td>Comparative advantage identifies the good for ...</td>\n",
       "      <td>Comparative advantage identifies the good for ...</td>\n",
       "      <td>1</td>\n",
       "    </tr>\n",
       "    <tr>\n",
       "      <th>782</th>\n",
       "      <td>summarization</td>\n",
       "      <td>What are the policy solutions for a recessiona...</td>\n",
       "      <td>The policy solution to a recessionary gap is t...</td>\n",
       "      <td>The policy solutions for a recessionary gap ar...</td>\n",
       "      <td>1</td>\n",
       "    </tr>\n",
       "  </tbody>\n",
       "</table>\n",
       "<p>586 rows × 5 columns</p>\n",
       "</div>"
      ],
      "text/plain": [
       "               type                                           question  \\\n",
       "2877      inference  Why did Japan experience a trade surplus for t...   \n",
       "93           recall  What is a good economic growth rate according ...   \n",
       "347          recall  What is the impact of an $800 billion dollar i...   \n",
       "1672         recall  What is the equilibrium point shown on Figure ...   \n",
       "178          recall   What is the purpose of the Core Inflation Index?   \n",
       "...             ...                                                ...   \n",
       "807   summarization  What is money deposited in bank accounts typic...   \n",
       "1075      inference  What is considered a good rate of economic gro...   \n",
       "199          recall  Who argued that supply is the most important d...   \n",
       "449          recall          What does comparative advantage identify?   \n",
       "782   summarization  What are the policy solutions for a recessiona...   \n",
       "\n",
       "                                            gold_answer  \\\n",
       "2877  Japan had a high rate of domestic savings, and...   \n",
       "93    A growth rate of more than 3% is considered good.   \n",
       "347   The monetary stimulus increased the quantity o...   \n",
       "1672  The equilibrium point occurs at point E, at a ...   \n",
       "178   The purpose of the Core Inflation Index is to ...   \n",
       "...                                                 ...   \n",
       "807   It is loaned to businesses, individuals, and o...   \n",
       "1075  A growth rate of more than 3% is considered good.   \n",
       "199        Macroeconomists over the last two centuries.   \n",
       "449   Comparative advantage identifies the good for ...   \n",
       "782   The policy solution to a recessionary gap is t...   \n",
       "\n",
       "                                       student_response  true_label  \n",
       "2877  Japan's economy was growing vigorously and had...           0  \n",
       "93    A growth rate of more than 3% is considered good.           1  \n",
       "347   The increase in the money supply increases the...           1  \n",
       "1672  The equilibrium point occurs at point E, at a ...           0  \n",
       "178   The Core Inflation Index is used to measure th...           1  \n",
       "...                                                 ...         ...  \n",
       "807                                         Bank loans.           1  \n",
       "1075  A growth rate of more than 3% is considered good.           1  \n",
       "199   The first group of macroeconomists argued that...           1  \n",
       "449   Comparative advantage identifies the good for ...           1  \n",
       "782   The policy solutions for a recessionary gap ar...           1  \n",
       "\n",
       "[586 rows x 5 columns]"
      ]
     },
     "execution_count": 30,
     "metadata": {},
     "output_type": "execute_result"
    }
   ],
   "source": [
    "df = X_val.copy()\n",
    "df"
   ]
  },
  {
   "cell_type": "code",
   "execution_count": 31,
   "id": "b5870978-55db-47a7-be62-880f1c127827",
   "metadata": {},
   "outputs": [
    {
     "data": {
      "text/html": [
       "<div>\n",
       "<style scoped>\n",
       "    .dataframe tbody tr th:only-of-type {\n",
       "        vertical-align: middle;\n",
       "    }\n",
       "\n",
       "    .dataframe tbody tr th {\n",
       "        vertical-align: top;\n",
       "    }\n",
       "\n",
       "    .dataframe thead th {\n",
       "        text-align: right;\n",
       "    }\n",
       "</style>\n",
       "<table border=\"1\" class=\"dataframe\">\n",
       "  <thead>\n",
       "    <tr style=\"text-align: right;\">\n",
       "      <th></th>\n",
       "      <th>type</th>\n",
       "      <th>question</th>\n",
       "      <th>gold_answer</th>\n",
       "      <th>student_response</th>\n",
       "      <th>true_label</th>\n",
       "      <th>processed_gold_answer</th>\n",
       "      <th>processed_student_response</th>\n",
       "      <th>processed_lemmatized_gold_answer</th>\n",
       "      <th>processed_lemmatized_student_response</th>\n",
       "    </tr>\n",
       "  </thead>\n",
       "  <tbody>\n",
       "    <tr>\n",
       "      <th>2877</th>\n",
       "      <td>inference</td>\n",
       "      <td>Why did Japan experience a trade surplus for t...</td>\n",
       "      <td>Japan had a high rate of domestic savings, and...</td>\n",
       "      <td>Japan's economy was growing vigorously and had...</td>\n",
       "      <td>0</td>\n",
       "      <td>japan high rate domestic savings , invest abro...</td>\n",
       "      <td>japan economy growing vigorously robust econom...</td>\n",
       "      <td>japan high rate domestic saving , invest abroa...</td>\n",
       "      <td>japan economy grow vigorously robust economic ...</td>\n",
       "    </tr>\n",
       "    <tr>\n",
       "      <th>93</th>\n",
       "      <td>recall</td>\n",
       "      <td>What is a good economic growth rate according ...</td>\n",
       "      <td>A growth rate of more than 3% is considered good.</td>\n",
       "      <td>A growth rate of more than 3% is considered good.</td>\n",
       "      <td>1</td>\n",
       "      <td>growth rate 3 % considered good .</td>\n",
       "      <td>growth rate 3 % considered good .</td>\n",
       "      <td>growth rate 3 % consider good .</td>\n",
       "      <td>growth rate 3 % consider good .</td>\n",
       "    </tr>\n",
       "    <tr>\n",
       "      <th>347</th>\n",
       "      <td>recall</td>\n",
       "      <td>What is the impact of an $800 billion dollar i...</td>\n",
       "      <td>The monetary stimulus increased the quantity o...</td>\n",
       "      <td>The increase in the money supply increases the...</td>\n",
       "      <td>1</td>\n",
       "      <td>monetary stimulus increased quantity goods ser...</td>\n",
       "      <td>increase money supply increases quantity goods...</td>\n",
       "      <td>monetary stimulus increase quantity good servi...</td>\n",
       "      <td>increase money supply increase quantity good s...</td>\n",
       "    </tr>\n",
       "    <tr>\n",
       "      <th>1672</th>\n",
       "      <td>recall</td>\n",
       "      <td>What is the equilibrium point shown on Figure ...</td>\n",
       "      <td>The equilibrium point occurs at point E, at a ...</td>\n",
       "      <td>The equilibrium point occurs at point E, at a ...</td>\n",
       "      <td>0</td>\n",
       "      <td>equilibrium point occurs point e , price level...</td>\n",
       "      <td>equilibrium point occurs point e , price level...</td>\n",
       "      <td>equilibrium point occur point e , price level ...</td>\n",
       "      <td>equilibrium point occur point e , price level ...</td>\n",
       "    </tr>\n",
       "    <tr>\n",
       "      <th>178</th>\n",
       "      <td>recall</td>\n",
       "      <td>What is the purpose of the Core Inflation Index?</td>\n",
       "      <td>The purpose of the Core Inflation Index is to ...</td>\n",
       "      <td>The Core Inflation Index is used to measure th...</td>\n",
       "      <td>1</td>\n",
       "      <td>purpose core inflation index provide better gu...</td>\n",
       "      <td>core inflation index measure persistent underl...</td>\n",
       "      <td>purpose core inflation index provide well guid...</td>\n",
       "      <td>core inflation index measure persistent underl...</td>\n",
       "    </tr>\n",
       "  </tbody>\n",
       "</table>\n",
       "</div>"
      ],
      "text/plain": [
       "           type                                           question  \\\n",
       "2877  inference  Why did Japan experience a trade surplus for t...   \n",
       "93       recall  What is a good economic growth rate according ...   \n",
       "347      recall  What is the impact of an $800 billion dollar i...   \n",
       "1672     recall  What is the equilibrium point shown on Figure ...   \n",
       "178      recall   What is the purpose of the Core Inflation Index?   \n",
       "\n",
       "                                            gold_answer  \\\n",
       "2877  Japan had a high rate of domestic savings, and...   \n",
       "93    A growth rate of more than 3% is considered good.   \n",
       "347   The monetary stimulus increased the quantity o...   \n",
       "1672  The equilibrium point occurs at point E, at a ...   \n",
       "178   The purpose of the Core Inflation Index is to ...   \n",
       "\n",
       "                                       student_response  true_label  \\\n",
       "2877  Japan's economy was growing vigorously and had...           0   \n",
       "93    A growth rate of more than 3% is considered good.           1   \n",
       "347   The increase in the money supply increases the...           1   \n",
       "1672  The equilibrium point occurs at point E, at a ...           0   \n",
       "178   The Core Inflation Index is used to measure th...           1   \n",
       "\n",
       "                                  processed_gold_answer  \\\n",
       "2877  japan high rate domestic savings , invest abro...   \n",
       "93                    growth rate 3 % considered good .   \n",
       "347   monetary stimulus increased quantity goods ser...   \n",
       "1672  equilibrium point occurs point e , price level...   \n",
       "178   purpose core inflation index provide better gu...   \n",
       "\n",
       "                             processed_student_response  \\\n",
       "2877  japan economy growing vigorously robust econom...   \n",
       "93                    growth rate 3 % considered good .   \n",
       "347   increase money supply increases quantity goods...   \n",
       "1672  equilibrium point occurs point e , price level...   \n",
       "178   core inflation index measure persistent underl...   \n",
       "\n",
       "                       processed_lemmatized_gold_answer  \\\n",
       "2877  japan high rate domestic saving , invest abroa...   \n",
       "93                      growth rate 3 % consider good .   \n",
       "347   monetary stimulus increase quantity good servi...   \n",
       "1672  equilibrium point occur point e , price level ...   \n",
       "178   purpose core inflation index provide well guid...   \n",
       "\n",
       "                  processed_lemmatized_student_response  \n",
       "2877  japan economy grow vigorously robust economic ...  \n",
       "93                      growth rate 3 % consider good .  \n",
       "347   increase money supply increase quantity good s...  \n",
       "1672  equilibrium point occur point e , price level ...  \n",
       "178   core inflation index measure persistent underl...  "
      ]
     },
     "execution_count": 31,
     "metadata": {},
     "output_type": "execute_result"
    }
   ],
   "source": [
    "# preprocessing steps for similarity computation:\n",
    "# 1. lower case\n",
    "# 2. remove non-alphanumeric characters except those bringing in context - (['@', '#', '$', '%', '*', '<', '>', '.', ','])\n",
    "# 3. remove stopwords\n",
    "# 4. lemmatize --- experiment\n",
    "\n",
    "def func_preprocessing(text:str, lemmatize:bool=False):\n",
    "\n",
    "    return_list = list()\n",
    "    doc = nlp(text.lower().strip())\n",
    "    for token in [token for token in doc]:\n",
    "        if (token.text.isalnum() or any(i in token.text and token.text.count(i) == 1 for i in ['@', '#', '$', '%', '<', '>', '.', ',', '+', '-', '*'])) and (not token.is_stop):\n",
    "            if lemmatize:\n",
    "                return_list.append(token.lemma_)\n",
    "            else:\n",
    "                return_list.append(token.text)\n",
    "    \n",
    "    return ' '.join(return_list)\n",
    "\n",
    "df['processed_gold_answer'] = df['gold_answer'].apply(lambda x: func_preprocessing(x))\n",
    "df['processed_student_response'] = df['student_response'].apply(lambda x: func_preprocessing(x))\n",
    "\n",
    "df['processed_lemmatized_gold_answer'] = df['gold_answer'].apply(lambda x: func_preprocessing(x, lemmatize=True))\n",
    "df['processed_lemmatized_student_response'] = df['student_response'].apply(lambda x: func_preprocessing(x, lemmatize=True))\n",
    "\n",
    "df.head()"
   ]
  },
  {
   "cell_type": "code",
   "execution_count": 32,
   "id": "995b0427-a762-49a7-85bb-6517c01efa84",
   "metadata": {},
   "outputs": [],
   "source": [
    "df['score'] = bleurt_model.compute(predictions=df['student_response'].tolist(), references=df['gold_answer'].tolist())['scores']\n",
    "df['processed_score'] = bleurt_model.compute(predictions=df['processed_student_response'].tolist(), references=df['processed_gold_answer'].tolist())['scores']\n",
    "df['processed_lemmatized_score'] = bleurt_model.compute(predictions=df['processed_lemmatized_student_response'].tolist(), references=df['processed_lemmatized_gold_answer'].tolist())['scores']"
   ]
  },
  {
   "cell_type": "code",
   "execution_count": 33,
   "id": "2a9436e9-ade0-40e1-b17f-34f4b6346b07",
   "metadata": {},
   "outputs": [
    {
     "data": {
      "text/plain": [
       "<Axes: ylabel='Frequency'>"
      ]
     },
     "execution_count": 33,
     "metadata": {},
     "output_type": "execute_result"
    },
    {
     "data": {
      "image/png": "[encoded data removed]",
      "text/plain": [
       "<Figure size 640x480 with 1 Axes>"
      ]
     },
     "metadata": {},
     "output_type": "display_data"
    }
   ],
   "source": [
    "df['score'].plot(kind='hist')"
   ]
  },
  {
   "cell_type": "code",
   "execution_count": 34,
   "id": "c8528543-7135-42b7-95c4-f70a3a40c77c",
   "metadata": {},
   "outputs": [
    {
     "data": {
      "text/plain": [
       "<Axes: ylabel='Frequency'>"
      ]
     },
     "execution_count": 34,
     "metadata": {},
     "output_type": "execute_result"
    },
    {
     "data": {
      "image/png": "[encoded data removed]",
      "text/plain": [
       "<Figure size 640x480 with 1 Axes>"
      ]
     },
     "metadata": {},
     "output_type": "display_data"
    }
   ],
   "source": [
    "df['processed_score'].plot(kind='hist')"
   ]
  },
  {
   "cell_type": "code",
   "execution_count": 35,
   "id": "cd5fc65c-ecb2-447d-bb69-a68c12131ea1",
   "metadata": {},
   "outputs": [
    {
     "data": {
      "text/plain": [
       "<Axes: ylabel='Frequency'>"
      ]
     },
     "execution_count": 35,
     "metadata": {},
     "output_type": "execute_result"
    },
    {
     "data": {
      "image/png": "[encoded data removed]",
      "text/plain": [
       "<Figure size 640x480 with 1 Axes>"
      ]
     },
     "metadata": {},
     "output_type": "display_data"
    }
   ],
   "source": [
    "df['processed_lemmatized_score'].plot(kind='hist')"
   ]
  },
  {
   "cell_type": "code",
   "execution_count": 48,
   "id": "1ed37ab6-4c5c-480d-82c6-911db8d81fb7",
   "metadata": {},
   "outputs": [],
   "source": [
    "df['label'] = df['score'].apply(lambda x: 1 if x>0 else 0)\n",
    "df['processed_label'] = df['processed_score'].apply(lambda x: 1 if x>0 else 0)\n",
    "df['processed_lemmatized_label'] = df['processed_lemmatized_score'].apply(lambda x: 1 if x>0 else 0)"
   ]
  },
  {
   "cell_type": "code",
   "execution_count": 49,
   "id": "67b0d256-f0e5-48bf-b407-9987f5266bc0",
   "metadata": {},
   "outputs": [
    {
     "data": {
      "image/png": "[encoded data removed]",
      "text/plain": [
       "<Figure size 640x480 with 1 Axes>"
      ]
     },
     "metadata": {},
     "output_type": "display_data"
    }
   ],
   "source": [
    "df[df['true_label'] == 1]['score'].plot(kind='hist');"
   ]
  },
  {
   "cell_type": "code",
   "execution_count": 50,
   "id": "f1988418-11cd-47fa-a2fc-47c470e1272e",
   "metadata": {},
   "outputs": [
    {
     "data": {
      "image/png": "[encoded data removed]",
      "text/plain": [
       "<Figure size 640x480 with 1 Axes>"
      ]
     },
     "metadata": {},
     "output_type": "display_data"
    }
   ],
   "source": [
    "df[df['true_label'] == 0]['score'].plot(kind='hist');"
   ]
  },
  {
   "cell_type": "code",
   "execution_count": 51,
   "id": "80c3915f-693e-46f9-a0ab-d8e69ec23976",
   "metadata": {},
   "outputs": [
    {
     "data": {
      "text/plain": [
       "array([[131, 153],\n",
       "       [169, 133]])"
      ]
     },
     "execution_count": 51,
     "metadata": {},
     "output_type": "execute_result"
    }
   ],
   "source": [
    "confusion_matrix(df['true_label'], df['label'])"
   ]
  },
  {
   "cell_type": "code",
   "execution_count": 52,
   "id": "2cc54a18-968a-48e6-8669-063119629f45",
   "metadata": {},
   "outputs": [
    {
     "name": "stdout",
     "output_type": "stream",
     "text": [
      "              precision    recall  f1-score   support\n",
      "\n",
      "           0       0.44      0.46      0.45       284\n",
      "           1       0.47      0.44      0.45       302\n",
      "\n",
      "    accuracy                           0.45       586\n",
      "   macro avg       0.45      0.45      0.45       586\n",
      "weighted avg       0.45      0.45      0.45       586\n",
      "\n"
     ]
    }
   ],
   "source": [
    "print(classification_report(df['true_label'], df['label']))"
   ]
  },
  {
   "cell_type": "code",
   "execution_count": 53,
   "id": "875885ea-1e07-4e18-a24b-e1d91844ad51",
   "metadata": {},
   "outputs": [
    {
     "data": {
      "text/plain": [
       "-0.09817022069093961"
      ]
     },
     "execution_count": 53,
     "metadata": {},
     "output_type": "execute_result"
    }
   ],
   "source": [
    "cohen_kappa_score(df['true_label'], df['label'])"
   ]
  },
  {
   "cell_type": "code",
   "execution_count": 54,
   "id": "868feb65-556e-445f-a36d-52580b5e0a10",
   "metadata": {},
   "outputs": [
    {
     "data": {
      "text/plain": [
       "array([[154, 130],\n",
       "       [224,  78]])"
      ]
     },
     "execution_count": 54,
     "metadata": {},
     "output_type": "execute_result"
    }
   ],
   "source": [
    "confusion_matrix(df['true_label'], df['processed_label'])"
   ]
  },
  {
   "cell_type": "code",
   "execution_count": 55,
   "id": "0deadbd1-1e19-4765-8dbd-b72b031fe194",
   "metadata": {},
   "outputs": [
    {
     "name": "stdout",
     "output_type": "stream",
     "text": [
      "              precision    recall  f1-score   support\n",
      "\n",
      "           0       0.41      0.54      0.47       284\n",
      "           1       0.38      0.26      0.31       302\n",
      "\n",
      "    accuracy                           0.40       586\n",
      "   macro avg       0.39      0.40      0.39       586\n",
      "weighted avg       0.39      0.40      0.38       586\n",
      "\n"
     ]
    }
   ],
   "source": [
    "print(classification_report(df['true_label'], df['processed_label']))"
   ]
  },
  {
   "cell_type": "code",
   "execution_count": 56,
   "id": "cc4d3f98-2de7-4a27-a3b4-74a4579b5281",
   "metadata": {},
   "outputs": [
    {
     "data": {
      "text/plain": [
       "-0.19752003140369934"
      ]
     },
     "execution_count": 56,
     "metadata": {},
     "output_type": "execute_result"
    }
   ],
   "source": [
    "cohen_kappa_score(df['true_label'], df['processed_label'])"
   ]
  },
  {
   "cell_type": "code",
   "execution_count": 57,
   "id": "7dd303dc-1603-44ea-8e69-0c1edd59c4e5",
   "metadata": {},
   "outputs": [
    {
     "data": {
      "text/plain": [
       "array([[162, 122],\n",
       "       [230,  72]])"
      ]
     },
     "execution_count": 57,
     "metadata": {},
     "output_type": "execute_result"
    }
   ],
   "source": [
    "confusion_matrix(df['true_label'], df['processed_lemmatized_label'])"
   ]
  },
  {
   "cell_type": "code",
   "execution_count": 58,
   "id": "1687837f-56ff-475f-a2b6-d94294cce08e",
   "metadata": {},
   "outputs": [
    {
     "name": "stdout",
     "output_type": "stream",
     "text": [
      "              precision    recall  f1-score   support\n",
      "\n",
      "           0       0.41      0.57      0.48       284\n",
      "           1       0.37      0.24      0.29       302\n",
      "\n",
      "    accuracy                           0.40       586\n",
      "   macro avg       0.39      0.40      0.38       586\n",
      "weighted avg       0.39      0.40      0.38       586\n",
      "\n"
     ]
    }
   ],
   "source": [
    "print(classification_report(df['true_label'], df['processed_lemmatized_label']))"
   ]
  },
  {
   "cell_type": "code",
   "execution_count": 59,
   "id": "a1798037-1d87-4dfb-b1cc-ac719437988c",
   "metadata": {},
   "outputs": [
    {
     "data": {
      "text/plain": [
       "-0.18902467143186552"
      ]
     },
     "execution_count": 59,
     "metadata": {},
     "output_type": "execute_result"
    }
   ],
   "source": [
    "cohen_kappa_score(df['true_label'], df['processed_lemmatized_label'])"
   ]
  },
  {
   "cell_type": "code",
   "execution_count": null,
   "id": "9917683f-8786-4d2d-b75c-b61cf7b06f22",
   "metadata": {},
   "outputs": [],
   "source": []
  }
 ],
 "metadata": {
  "kernelspec": {
   "display_name": "Python [conda env:env_vaibhav_autograder]",
   "language": "python",
   "name": "conda-env-env_vaibhav_autograder-py"
  },
  "language_info": {
   "codemirror_mode": {
    "name": "ipython",
    "version": 3
   },
   "file_extension": ".py",
   "mimetype": "text/x-python",
   "name": "python",
   "nbconvert_exporter": "python",
   "pygments_lexer": "ipython3",
   "version": "3.9.6"
  }
 },
 "nbformat": 4,
 "nbformat_minor": 5
}
