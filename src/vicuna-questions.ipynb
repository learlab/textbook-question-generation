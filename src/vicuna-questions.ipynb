{
 "cells": [
  {
   "cell_type": "markdown",
   "id": "cacf8f10-eaba-465b-b2d3-234a43572d87",
   "metadata": {},
   "source": [
    "# Generating text with LangChain and Huggingface\n",
    "\n",
    "We will start by setting up a standartd huggingface pipeline from our local Vicuna model. From there, it can be used as a normal Langchain LLM."
   ]
  },
  {
   "cell_type": "code",
   "execution_count": 12,
   "id": "07dede10-349b-4962-be63-4a1696ba2d98",
   "metadata": {},
   "outputs": [],
   "source": [
    "from langchain.llms import HuggingFacePipeline\n",
    "from transformers import pipeline, LlamaForCausalLM\n",
    "from accelerate import Accelerator\n",
    "import torch"
   ]
  },
  {
   "cell_type": "code",
   "execution_count": null,
   "id": "21396279-0b91-404d-91e0-ca5ebd03da94",
   "metadata": {},
   "outputs": [],
   "source": [
    "model_location = '/home/jovyan/project-archive/vicuna-7b'\n",
    "\n",
    "model = LlamaForCausalLM.from_pretrained(\n",
    "        model_location,\n",
    "        load_in_8bit=True,\n",
    "        torch_dtype=torch.float16,\n",
    "        device_map={'': Accelerator().local_process_index}\n",
    "    )"
   ]
  },
  {
   "cell_type": "code",
   "execution_count": 50,
   "id": "0f0fa730-85ef-401c-90dc-5635ae4f3ad0",
   "metadata": {},
   "outputs": [],
   "source": [
    "pipe = pipeline(model=model,\n",
    "                tokenizer=model_location,\n",
    "                use_fast=False,\n",
    "                task='text-generation',\n",
    "                model_kwargs={'load_in_8bit': True},\n",
    "                max_length=2048,\n",
    "                temperature=0.6,\n",
    "                top_p=0.95,\n",
    "                repetition_penalty=1.1\n",
    "               )"
   ]
  },
  {
   "cell_type": "markdown",
   "id": "52b9d03a-5529-45d7-9d86-cc092bcadb7d",
   "metadata": {},
   "source": [
    "# Data"
   ]
  },
  {
   "cell_type": "code",
   "execution_count": 17,
   "id": "8b218723-9e4e-47d9-8b48-218dba33c7de",
   "metadata": {},
   "outputs": [],
   "source": [
    "import pandas as pd\n",
    "subsections = pd.read_csv('../data/subsections.csv')"
   ]
  },
  {
   "cell_type": "markdown",
   "id": "a6c31c76-de6f-4283-9cb2-78cd78999354",
   "metadata": {},
   "source": [
    "## Testing Prompts"
   ]
  },
  {
   "cell_type": "code",
   "execution_count": 65,
   "id": "e0052fcd-2eff-4429-96c2-859405beb738",
   "metadata": {},
   "outputs": [],
   "source": [
    "template = (\n",
    "    'The following is a passage from a macroeconomics textbook. Please read the passage and write two inference-type comprehension questions to assess the learner\\'s understanding. '\n",
    "    'An infernece question will encourage the learner to go beyond the text in their response, but the learner should still be able to adequately answer the question in one or two sentences. '\n",
    "    'Please read the following passage and generate two inference-type comprehension questions:\\n\\n{0}\\n\\nQuestion 1: '\n",
    ")"
   ]
  },
  {
   "cell_type": "code",
   "execution_count": 56,
   "id": "743cc468-ec47-4103-9517-eccdd4ffa553",
   "metadata": {},
   "outputs": [
    {
     "data": {
      "text/plain": [
       "\"The following is a passage from a macroeconomics textbook. Please read the passage and write two comprehension questions to assess the learner's understanding. A good comprehension question will encourage the learner to reflect on the reading. The learner should be able to adequately answer the question in one or two sentences. \\n Overview\\n  \\n    By the end of this section, you will be able to:\\n  \\n  - Define absolute advantage, comparative advantage, and opportunity costs - Explain\\n  the gains of trade created when a country specializes\\n  \\n  No nation was ever ruined by trade\\n  \\n  Benjamin Franklin (1706-1790)\\nMany economists would express their attitudes toward international trade in an even more positive manner. The evidence that international trade confers overall benefits on economies is pretty strong. Trade has accompanied economic growth in the United States and around the world. Many national economies that have shown the most rapid growth in the last several decades—for example, Japan, South Korea, China, and India—have done so by dramatically orienting their economies toward international trade. There is no modern example of a country that has shut itself off from world trade and yet prospered. To understand the benefits of trade, or why we trade in the first place, we need to understand the concepts of comparative and absolute advantage.\\nIn 1817, David Ricardo, a businessman, economist, and member of the British Parliament, wrote a treatise called On the Principles of Political Economy and Taxation. In this treatise, Ricardo argued that specialization and free trade benefit all trading partners, even those that may be relatively inefficient. To see what he meant, we must be able to distinguish between absolute and comparative advantage.\\nA country has an absolute advantage over another country in producing a good if it uses fewer resources to produce that good. Absolute advantage can be the result of a country’s natural endowment. For example, extracting oil in Saudi Arabia is pretty much just a matter of drilling a hole. Producing oil in other countries can require considerable exploration and costly technologies for drilling and extraction, if they have any oil at all. The United States has some of the richest farmland in the world, making it easier to grow corn and wheat than in many other countries. Guatemala and Colombia have climates especially suited for growing coffee. Chile and Zambia have some of the world’s richest copper mines.\\nAs some have argued, geography is destiny. Chile will provide copper and Guatemala will produce coffee, and they will trade. When each country has a product others need and it can produce it with fewer resources, then it is easy to imagine all parties benefitting from trade. However, thinking about trade just in terms of geography and absolute advantage is incomplete. Trade really occurs because of comparative advantage\\n\\n Question 1: \""
      ]
     },
     "execution_count": 56,
     "metadata": {},
     "output_type": "execute_result"
    }
   ],
   "source": [
    "sources = subsections['clean_text'][subsections['clean_text'].str.len() > 100] # check string length to filter out short subsections \"learn with videos\" and \"link it up\" etc.\n",
    "prompt.format(sources.sample().item())"
   ]
  },
  {
   "cell_type": "code",
   "execution_count": 68,
   "id": "d14fa7b5-7d7b-48eb-b7b8-88106b36bec8",
   "metadata": {},
   "outputs": [
    {
     "name": "stdout",
     "output_type": "stream",
     "text": [
      "The following is a passage from a macroeconomics textbook. Please read the passage and write two inference-type comprehension questions to assess the learner's understanding.An infernece question will encourage the learner to go beyond the text in their response, but the learner should still be able to adequately answer the question in one or two sentences.Please read the following passage and generate two inference-type comprehension questions:\n",
      "\n",
      "The Aggregate Supply Curve and Potential GDP\n",
      "Firms make decisions about what quantity to supply based on the profits they expect to earn. They determine profits, in turn, by the price of the outputs they sell and by the prices of the inputs, like labor or raw materials, that they need to buy.\n",
      "  \n",
      "    Aggregate supply (AS)  refers to the total quantity of output (i.e. real GDP) firms will produce and sell.\n",
      "    The aggregate supply (AS) curve shows the total quantity of output (i.e. real GDP) that firms will produce and sell at each price level.\n",
      "  \n",
      "Figure 10.2 shows an aggregate supply curve. In the following paragraphs, we will walk through the elements of the diagram one at a time: the horizontal and vertical axes, the aggregate supply curve itself, and the meaning of the potential GDP vertical line.\n",
      "Figure 10.2 The Aggregate Supply Curve\n",
      "Aggregate supply (AS) slopes up, because as the price level for outputs rises, with the price of inputs remaining fixed, firms have an incentive to produce more to earn higher profits. The potential GDP line shows the maximum that the economy can produce with full employment of workers and physical capital.\n",
      "The diagram's horizontal axis shows real GDP—that is, the level of GDP adjusted for inflation. The vertical axis shows the price level, which measures the average price of all goods and services produced in the economy. In other words, the price level in the AD/AS model is what we called the GDP Deflator in The Macroeconomic Perspective. Remember that the price level is different from the inflation rate. We visualize the price level as an index number, like the Consumer Price Index, while the inflation rate is the percentage change in the price level over time.\n",
      "As the price level rises, real GDP rises as well. Why? The price level on the vertical axis represents prices for final goods or outputs bought in the economy—i.e. the GDP deflator—not the price level for intermediate goods and services that are inputs to production. Thus, the AS curve describes how suppliers will react to a higher price level for final outputs of goods and services, while holding the prices of inputs like labor and energy constant. If firms across the economy face a situation where the price level of what they produce and sell is rising, but their costs of production are not rising, then the lure of higher profits will induce them to expand production. In other words, an aggregate supply curve shows how producers as a group will respond to an increase in aggregate demand.\n",
      "An AS curve's slope changes from nearly flat at its far left to nearly vertical at its far right. At the far left of the aggregate supply curve, the level of output in the economy is far below potential GDP, which we define as the amount of real GDP an economy can produce by fully employing its existing levels of labor, physical capital, and technology, in the context of its existing market and legal institutions. At these relatively low levels of output, levels of unemployment are high, and many factories are running only part-time, or have closed their doors. In this situation, a relatively small increase in the prices of the outputs that businesses sell—while assuming no rise in input prices—can encourage a considerable surge in the quantity of aggregate supply because so many workers and factories are ready to swing into production.\n",
      "As the GDP increases, however, some firms and industries will start running into limits: perhaps nearly all of the expert workers in a certain industry will have jobs or factories in certain geographic areas or industries will be running at full speed. In the AS curve's intermediate area, a higher price level for outputs continues to encourage a greater quantity of output—but as the increasingly steep upward slope of the aggregate supply curve shows, the increase in real GDP in response to a given rise in the price level will not be as large. (Read the following Clear It Up feature to learn why the AS curve crosses potential GDP.)\n",
      "\n",
      "\n",
      "Question 1: \n",
      "What happens to the quantity of output produced by firms when the price level rises?\n",
      "\n",
      "Question 2: \n",
      "Why does the aggregate supply curve slope upwards?\n"
     ]
    }
   ],
   "source": [
    "print(pipe(prompt.format(sources.sample().item()))[0]['generated_text'])"
   ]
  },
  {
   "cell_type": "markdown",
   "id": "541fc52e-6f59-4a6d-8f31-e39cdd3756ba",
   "metadata": {},
   "source": [
    "## Langchain\n",
    "\n",
    "The questions are looking fairly good. Now let's see if we can first extract the automatically generated questions reliably. Then, we will work on generating answers to those questions with the same model using LangChain."
   ]
  },
  {
   "cell_type": "markdown",
   "id": "004373d7-1ca0-4dd1-99f3-c919fcb2c3a8",
   "metadata": {},
   "source": [
    "### Prompt"
   ]
  },
  {
   "cell_type": "code",
   "execution_count": 144,
   "id": "2171019c-95cc-4d18-b824-ece5e41b685d",
   "metadata": {},
   "outputs": [],
   "source": [
    "from langchain.chains import LLMChain\n",
    "from langchain import PromptTemplate\n",
    "from langchain.output_parsers.regex_dict import RegexDictParser\n",
    "\n",
    "llm = HuggingFacePipeline(pipeline=pipe)"
   ]
  },
  {
   "cell_type": "code",
   "execution_count": 186,
   "id": "368a486a-1283-459e-8b07-f7b96dcf82ae",
   "metadata": {},
   "outputs": [],
   "source": [
    "template = (\n",
    "    'The following is a passage from a macroeconomics textbook. Please read the passage and write two inference-type comprehension questions to assess the learner\\'s understanding. '\n",
    "    'An infernece question will encourage the learner to go beyond the text in their response, but the learner should still be able to adequately answer the question in one or two sentences. '\n",
    "    'Format your response in the following way:\\n'\n",
    "    'Question 1:\\n'\n",
    "    'The first question.\\n'\n",
    "    'Question 2:\\n'\n",
    "    'The second question.\\n'\n",
    "    'Please read the following passage and generate two inference-type comprehension questions:\\n\\n{source}\\n\\nQuestion 1: '\n",
    ")\n",
    "\n",
    "prompt = PromptTemplate(\n",
    "    input_variables=['source'],\n",
    "    template=template,\n",
    ")"
   ]
  },
  {
   "cell_type": "code",
   "execution_count": 187,
   "id": "42437c41-ea38-4080-a2f9-efd75c3aef30",
   "metadata": {},
   "outputs": [],
   "source": [
    "chain = LLMChain(llm=llm, prompt=prompt)"
   ]
  },
  {
   "cell_type": "code",
   "execution_count": 147,
   "id": "1c560908-fa4a-4e27-85c9-44efc8b542a8",
   "metadata": {},
   "outputs": [
    {
     "name": "stderr",
     "output_type": "stream",
     "text": [
      "/home/jovyan/conda_envs/peft/lib/python3.10/site-packages/transformers/pipelines/base.py:1080: UserWarning: You seem to be using the pipelines sequentially on GPU. In order to maximize efficiency please use a dataset\n",
      "  warnings.warn(\n"
     ]
    }
   ],
   "source": [
    "output = chain.run(sources.sample().item())"
   ]
  },
  {
   "cell_type": "markdown",
   "id": "5d8b567f-62de-45ba-a2f5-12cd5b75a7f8",
   "metadata": {},
   "source": [
    "### Output Parser\n",
    "\n",
    "Langchain reallys wants us to use a JSON or Pydantic parser. I highly doubt LLaMA-7B can reliably output structured responses. Let's try to build something with regex that fails gracefully.\n",
    "\n",
    "Unlike good Python code, RegEx is never easily readable. The following expression searches for \"Question 1:\" and any trailing whitespace. It then lazily matches all characters, including newline characters (re.DOTALL), until it finds \"Question 2:\" OR the end of the string ($). It skips over any whitespace, then captures the rest of the string until it finds a newline."
   ]
  },
  {
   "cell_type": "code",
   "execution_count": 155,
   "id": "99d25083-de5b-466b-b877-5471d83e1386",
   "metadata": {},
   "outputs": [
    {
     "data": {
      "text/plain": [
       "'What were economic conditions like before 1870?'"
      ]
     },
     "execution_count": 155,
     "metadata": {},
     "output_type": "execute_result"
    }
   ],
   "source": [
    "import re\n",
    "pattern = re.compile(r'Question 2:\\s*(.*?)(?=\\n|$)')\n",
    "pattern = re.compile(r'^\\s*(.*?)(?=\\n|$)')\n",
    "pattern.search(output)[1]"
   ]
  },
  {
   "cell_type": "code",
   "execution_count": 198,
   "id": "1ce842da-4c2d-472a-9220-93f1a4617627",
   "metadata": {},
   "outputs": [],
   "source": [
    "class RegexParser(RegexDictParser):\n",
    "    '''Overriding the parse method so that it does not escape regex patterns.\n",
    "    I need to match the first question at the beginning of the string with the regex '^' special character'''\n",
    "    def parse(self, text):\n",
    "        result = {}\n",
    "        for output_key, expected_format in self.output_key_to_format.items():\n",
    "            specific_regex = self.regex_pattern.format(expected_format)\n",
    "            matches = re.findall(specific_regex, text)\n",
    "            if not matches:\n",
    "                print(\n",
    "                    f\"No match found for output key: {output_key} with expected format ```{expected_format}``` on text ```{text.strip()}```\"\n",
    "                )\n",
    "                result[output_key] = '' # we can add in a retry function to try again if the model fails. for now, we will just return an empty string.\n",
    "            elif len(matches) > 1:\n",
    "                raise ValueError(\n",
    "                    f\"Multiple matches found for output key: {output_key} with expected format ```{expected_format}``` on text ```{text.strip()}```\"\n",
    "                )\n",
    "            elif (\n",
    "                self.no_update_value is not None and matches[0] == self.no_update_value\n",
    "            ):\n",
    "                continue\n",
    "            else:\n",
    "                result[output_key] = matches[0]\n",
    "        return result"
   ]
  },
  {
   "cell_type": "code",
   "execution_count": 165,
   "id": "b53628e8-808c-4744-b857-7b98a9ae390e",
   "metadata": {},
   "outputs": [
    {
     "data": {
      "text/plain": [
       "[]"
      ]
     },
     "execution_count": 165,
     "metadata": {},
     "output_type": "execute_result"
    }
   ],
   "source": [
    "regex_pattern=r'{}\\s*(.*?)(?=\\n|$)'\n",
    "re.findall(regex_pattern.format(re.escape('^')), output)\n",
    "re.findall(regex_pattern.format(re.escape(r'^')), output)"
   ]
  },
  {
   "cell_type": "code",
   "execution_count": 167,
   "id": "f5dab308-0800-4ba7-9b08-19fa422f7b7b",
   "metadata": {},
   "outputs": [
    {
     "data": {
      "text/plain": [
       "['What were economic conditions like before 1870?']"
      ]
     },
     "execution_count": 167,
     "metadata": {},
     "output_type": "execute_result"
    }
   ],
   "source": [
    "re.findall(r'^\\s*(.*?)(?=\\n|$)', output)"
   ]
  },
  {
   "cell_type": "code",
   "execution_count": 199,
   "id": "33aead18-5689-4d00-a6f5-76e0b616d6c6",
   "metadata": {},
   "outputs": [],
   "source": [
    "output_key_to_format = {'Question 1': '^', # for the first question, we need to match the beginning of the string.\n",
    "                        'Question 2': 'Question 2:'}\n",
    "\n",
    "re_parser = RegexParser(\n",
    "    regex_pattern=r'{}\\s*(.*?)(?=\\n|$)', # searches for the key, a colon, any whitespace, and then matches on all the characters that follow until a linebreak or the end of string.\n",
    "    output_key_to_format=output_key_to_format,\n",
    "    no_update_value='N/A'\n",
    ")"
   ]
  },
  {
   "cell_type": "code",
   "execution_count": 200,
   "id": "6a044ca1-774b-4e74-9d4b-c4babca2c19d",
   "metadata": {},
   "outputs": [
    {
     "name": "stdout",
     "output_type": "stream",
     "text": [
      "Parsed Output: {'Question 1': 'What does the author mean by \"demand\" in the context of economics?', 'Question 2': 'According to the passage, what are the two key components that determine the shape of a demand curve?'}\n",
      "Parsed Output: {'Question 1': 'Why do economists consider the ability to pay when measuring demand?', 'Question 2': 'How does the law of demand relate to the price and quantity demanded of a good or service?'}\n",
      "Parsed Output: {'Question 1': 'What is the main argument presented in this passage?', 'Question 2': 'How might high-income countries influence low-income countries to adopt stronger environmental standards without resorting to protectionism?'}\n",
      "Parsed Output: {'Question 1': 'What is the main idea of the passage?', 'Question 2': 'Why should sunk costs not affect the current decision according to the budget constraint framework?'}\n",
      "Parsed Output: {'Question 1': 'What is the difference between the aggregate supply and aggregate demand model and the microeconomic analysis of demand and supply in particular markets?', 'Question 2': 'Why does confusion sometimes arise between the two models?'}\n",
      "Parsed Output: {'Question 1': 'What are some of the reasons why studying economics is important?', 'Question 2': 'How does having a basic understanding of economics make someone a well-rounded thinker?'}\n",
      "Parsed Output: {'Question 1': 'What is the current average percentage of GDP spent by the federal government on research and development?', 'Question 2': 'According to the passage, what are some ways that fiscal policy can encourage R&D?'}\n",
      "Parsed Output: {'Question 1': 'What is the relationship between banks and the creation of money?', 'Question 2': 'How does the money multiplier formula relate to the creation of money by banks?'}\n",
      "Parsed Output: {'Question 1': 'What are some reasons why people can lose their jobs?', 'Question 2': 'How might new technology affect the number of workers needed in an industry?'}\n",
      "Parsed Output: {'Question 1': 'What is the main difference between nominal and real measurements?', 'Question 2': 'Why is it important to consider inflation when examining economic statistics?'}\n",
      "Parsed Output: {'Question 1': 'What are some examples of other supply shocks that could cause the aggregate supply curve to shift?', 'Question 2': 'How do these supply shocks affect the aggregate supply curve differently compared to changes in technology or changes in preferences?'}\n",
      "Parsed Output: {'Question 1': 'What happens to the supply curve when the cost of production goes up?', 'Question 2': 'How does the firm determine the price it wishes to charge?'}\n",
      "Parsed Output: {'Question 1': 'What is the main purpose of the demand and supply model?', 'Question 2': 'How can the demand and supply model explain changes in prices, wages, and rates of return?'}\n",
      "Parsed Output: {'Question 1': 'What are some examples of goods and services included in GDP?', 'Question 2': \"Why is measuring GDP important for evaluating the size of a nation's economy?\"}\n",
      "Parsed Output: {'Question 1': 'What factors contribute to the higher unemployment rates among younger workers?', 'Question 2': 'Why are the unemployment rates for black workers typically higher than those for white workers?'}\n"
     ]
    }
   ],
   "source": [
    "for sample in sources.sample(15):\n",
    "    output = chain.run(sample)\n",
    "    try:\n",
    "        questions = re_parser.parse(output)\n",
    "        print('Parsed Output:', questions)\n",
    "    except ValueError as e:\n",
    "        print('Failed Parse:', e)"
   ]
  },
  {
   "cell_type": "code",
   "execution_count": null,
   "id": "26105d66-eb0a-4eef-b1fe-101c63d6ac27",
   "metadata": {},
   "outputs": [],
   "source": []
  }
 ],
 "metadata": {
  "kernelspec": {
   "display_name": "Python [conda env:peft]",
   "language": "python",
   "name": "conda-env-peft-py"
  },
  "language_info": {
   "codemirror_mode": {
    "name": "ipython",
    "version": 3
   },
   "file_extension": ".py",
   "mimetype": "text/x-python",
   "name": "python",
   "nbconvert_exporter": "python",
   "pygments_lexer": "ipython3",
   "version": "3.10.11"
  }
 },
 "nbformat": 4,
 "nbformat_minor": 5
}
