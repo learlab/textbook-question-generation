{
 "cells": [
  {
   "cell_type": "markdown",
   "id": "cacf8f10-eaba-465b-b2d3-234a43572d87",
   "metadata": {},
   "source": [
    "# Generating text with LangChain and Huggingface\n",
    "\n",
    "We will start by setting up a standartd huggingface pipeline from our local Vicuna model. From there, it can be used as a normal Langchain LLM."
   ]
  },
  {
   "cell_type": "code",
   "execution_count": null,
   "id": "07dede10-349b-4962-be63-4a1696ba2d98",
   "metadata": {},
   "outputs": [],
   "source": [
    "from langchain.llms import HuggingFacePipeline\n",
    "from transformers import pipeline"
   ]
  },
  {
   "cell_type": "code",
   "execution_count": null,
   "id": "24bd711b-1be2-4954-bc33-ab8334242d2b",
   "metadata": {},
   "outputs": [],
   "source": [
    "pipe = pipeline(model='/home/jovyan/project-archive/vicuna-7b/',\n",
    "                tokenizer=model_name,\n",
    "                use_fast=False,\n",
    "                task='text-generation',\n",
    "                device=0,\n",
    "                max_length=1200,\n",
    "                temperature=0.6,\n",
    "                top_p=0.95,\n",
    "                repetition_penalty=1.1\n",
    "               )"
   ]
  },
  {
   "cell_type": "code",
   "execution_count": null,
   "id": "94b9c3c7-7f4b-447f-ad12-9d94656de745",
   "metadata": {},
   "outputs": [],
   "source": [
    "llm = HuggingFacePipeline(pipeline=pipe)"
   ]
  },
  {
   "cell_type": "markdown",
   "id": "541fc52e-6f59-4a6d-8f31-e39cdd3756ba",
   "metadata": {},
   "source": [
    "## Langchain"
   ]
  },
  {
   "cell_type": "code",
   "execution_count": null,
   "id": "2171019c-95cc-4d18-b824-ece5e41b685d",
   "metadata": {},
   "outputs": [],
   "source": [
    "from langchain.prompts import PromptTemplate\n",
    "from langchain.chains import LLMChain"
   ]
  }
 ],
 "metadata": {
  "kernelspec": {
   "display_name": "Python [conda env:peft]",
   "language": "python",
   "name": "conda-env-peft-py"
  },
  "language_info": {
   "codemirror_mode": {
    "name": "ipython",
    "version": 3
   },
   "file_extension": ".py",
   "mimetype": "text/x-python",
   "name": "python",
   "nbconvert_exporter": "python",
   "pygments_lexer": "ipython3",
   "version": "3.10.11"
  }
 },
 "nbformat": 4,
 "nbformat_minor": 5
}
