{
 "cells": [
  {
   "cell_type": "code",
   "execution_count": 20,
   "id": "850ddfdd-8dfc-4908-8ec0-f05c6d1cda7c",
   "metadata": {},
   "outputs": [
    {
     "name": "stderr",
     "output_type": "stream",
     "text": [
      "huggingface/tokenizers: The current process just got forked, after parallelism has already been used. Disabling parallelism to avoid deadlocks...\n",
      "To disable this warning, you can either:\n",
      "\t- Avoid using `tokenizers` before the fork if possible\n",
      "\t- Explicitly set the environment variable TOKENIZERS_PARALLELISM=(true | false)\n"
     ]
    },
    {
     "name": "stdout",
     "output_type": "stream",
     "text": [
      "\u001b[31mERROR: THESE PACKAGES DO NOT MATCH THE HASHES FROM THE REQUIREMENTS FILE. If you have updated the package versions, please update the hashes. Otherwise, examine the package contents carefully; someone may have tampered with them.\n",
      "    unknown package:\n",
      "        Expected sha256 7979834102cd5b7a43cc64e87f2f3b14bd0e1458f06e9f88ffa386d07c7446e1\n",
      "             Got        e3b0c44298fc1c149afbf4c8996fb92427ae41e4649b934ca495991b7852b855\n",
      "\u001b[0m\u001b[31m\n",
      "\u001b[0mNote: you may need to restart the kernel to use updated packages.\n"
     ]
    }
   ],
   "source": [
    "# Upgrade Pytorch & other libraries\n",
    "%pip install --upgrade --quiet \\\n",
    "    torch torchvision torchaudio \\\n",
    "    transformers accelerate datasets"
   ]
  },
  {
   "cell_type": "code",
   "execution_count": 21,
   "id": "2e62729c-cf99-4c20-b69d-d4cd6bfba4df",
   "metadata": {},
   "outputs": [],
   "source": [
    "import os\n",
    "from pathlib import Path\n",
    "\n",
    "import numpy as np\n",
    "import torch\n",
    "import datasets\n",
    "from transformers import (Trainer, TrainingArguments, DataCollatorWithPadding,\n",
    "                          AutoTokenizer, AutoModelForSequenceClassification)\n",
    "from sklearn import metrics\n",
    "\n",
    "torch.set_float32_matmul_precision('high')\n",
    "os.environ[\"TOKENIZERS_PARALLELISM\"]=\"true\""
   ]
  },
  {
   "cell_type": "code",
   "execution_count": 22,
   "id": "7f83294d-c97a-4a61-b519-6d00b0955978",
   "metadata": {},
   "outputs": [],
   "source": [
    "model_name_or_path = \"answerdotai/ModernBERT-base\"\n",
    "dataset_path = \"../bin/multirc_dataset.hf\"\n",
    "output_dir = \"../bin/modernbert-multirc\"\n",
    "\n",
    "batch_size = 4\n",
    "num_epochs = 8\n",
    "learning_rate = 3e-5\n",
    "seed = 42\n",
    "\n",
    "tokenizer = AutoTokenizer.from_pretrained(model_name_or_path)"
   ]
  },
  {
   "cell_type": "code",
   "execution_count": 23,
   "id": "43f94ce2-d3e5-4fda-9dfa-f052810f0da4",
   "metadata": {},
   "outputs": [],
   "source": [
    "def model_init():\n",
    "    model = AutoModelForSequenceClassification.from_pretrained(\n",
    "        model_name_or_path,\n",
    "        num_labels=2,\n",
    "        label2id={\"incorrect\": 0, \"correct\": 1},\n",
    "        id2label={0: \"incorrect\", 1: \"correct\"},\n",
    "    )   \n",
    "    return model"
   ]
  },
  {
   "cell_type": "code",
   "execution_count": 24,
   "id": "a08319cb-976b-4881-806d-35bb513aeb1f",
   "metadata": {},
   "outputs": [],
   "source": [
    "def preprocess_function(example):\n",
    "    return tokenizer(example[\"text\"], truncation=True)\n",
    "\n",
    "ds = datasets.DatasetDict.load_from_disk(dataset_path)\n",
    "ds = ds.map(preprocess_function, batched=True, remove_columns=[\"text\"])"
   ]
  },
  {
   "cell_type": "code",
   "execution_count": 25,
   "id": "28983ab0-53af-46fa-997c-4c8901eaa110",
   "metadata": {},
   "outputs": [
    {
     "data": {
      "text/plain": [
       "[1, 0, 0, 0, 1, 0, 1, 0, 0, 1]"
      ]
     },
     "execution_count": 25,
     "metadata": {},
     "output_type": "execute_result"
    }
   ],
   "source": [
    "ds[\"test\"][\"labels\"][0:10]"
   ]
  },
  {
   "cell_type": "code",
   "execution_count": 26,
   "id": "277f30ce-7d15-4412-a711-0db9af1d4712",
   "metadata": {},
   "outputs": [
    {
     "data": {
      "text/plain": [
       "DatasetDict({\n",
       "    train: Dataset({\n",
       "        features: ['index', 'labels', 'input_ids', 'attention_mask'],\n",
       "        num_rows: 19170\n",
       "    })\n",
       "    valid: Dataset({\n",
       "        features: ['index', 'labels', 'input_ids', 'attention_mask'],\n",
       "        num_rows: 4080\n",
       "    })\n",
       "    test: Dataset({\n",
       "        features: ['index', 'labels', 'input_ids', 'attention_mask'],\n",
       "        num_rows: 3962\n",
       "    })\n",
       "})"
      ]
     },
     "execution_count": 26,
     "metadata": {},
     "output_type": "execute_result"
    }
   ],
   "source": [
    "ds"
   ]
  },
  {
   "cell_type": "code",
   "execution_count": 27,
   "id": "af48ad60-c899-483a-b16e-67e9905ab769",
   "metadata": {},
   "outputs": [],
   "source": [
    "from transformers import Trainer, AutoModelForSequenceClassification, AutoTokenizer\n",
    "import torch\n",
    "\n",
    "model_path = \"../results/modernbert_multirc\"\n",
    "model = AutoModelForSequenceClassification.from_pretrained(model_path)"
   ]
  },
  {
   "cell_type": "code",
   "execution_count": 3,
   "id": "a155fca6-8582-4c11-bc88-e1d8746ff561",
   "metadata": {},
   "outputs": [
    {
     "name": "stdout",
     "output_type": "stream",
     "text": [
      "cuda\n"
     ]
    },
    {
     "ename": "NameError",
     "evalue": "name 'ds' is not defined",
     "output_type": "error",
     "traceback": [
      "\u001b[0;31m---------------------------------------------------------------------------\u001b[0m",
      "\u001b[0;31mNameError\u001b[0m                                 Traceback (most recent call last)",
      "Cell \u001b[0;32mIn[3], line 13\u001b[0m\n\u001b[1;32m     11\u001b[0m model \u001b[38;5;241m=\u001b[39m AutoModelForSequenceClassification\u001b[38;5;241m.\u001b[39mfrom_pretrained(\u001b[38;5;124m\"\u001b[39m\u001b[38;5;124m../bin/modernbert_classifier\u001b[39m\u001b[38;5;124m\"\u001b[39m)\u001b[38;5;241m.\u001b[39mto(device)\n\u001b[1;32m     12\u001b[0m \u001b[38;5;66;03m# Check classifier path\u001b[39;00m\n\u001b[0;32m---> 13\u001b[0m \u001b[38;5;28;01mfor\u001b[39;00m text \u001b[38;5;129;01min\u001b[39;00m \u001b[43mds\u001b[49m[\u001b[38;5;124m'\u001b[39m\u001b[38;5;124mtest\u001b[39m\u001b[38;5;124m'\u001b[39m][\u001b[38;5;124m'\u001b[39m\u001b[38;5;124mtext\u001b[39m\u001b[38;5;124m'\u001b[39m]:\n\u001b[1;32m     14\u001b[0m     start_time \u001b[38;5;241m=\u001b[39m perf_counter()\n\u001b[1;32m     15\u001b[0m     inputs \u001b[38;5;241m=\u001b[39m tokenizer(text, return_tensors\u001b[38;5;241m=\u001b[39m\u001b[38;5;124m'\u001b[39m\u001b[38;5;124mpt\u001b[39m\u001b[38;5;124m'\u001b[39m)\u001b[38;5;241m.\u001b[39mto(device)\n",
      "\u001b[0;31mNameError\u001b[0m: name 'ds' is not defined"
     ]
    }
   ],
   "source": [
    "import torch\n",
    "from time import perf_counter\n",
    "\n",
    "device = 'cuda' if torch.cuda.is_available() else 'cpu'\n",
    "print(device)\n",
    "\n",
    "from transformers import AutoModelForSequenceClassification\n",
    "\n",
    "preds = []\n",
    "times = []\n",
    "model = AutoModelForSequenceClassification.from_pretrained(\"../bin/modernbert_classifier\").to(device)\n",
    "# Check classifier path\n",
    "for text in ds['test']['text']:\n",
    "    start_time = perf_counter()\n",
    "    inputs = tokenizer(text, return_tensors='pt').to(device)\n",
    "    with torch.no_grad():\n",
    "        logits = model(**inputs).logits\n",
    "    predicted_class_id = logits.argmax().item()\n",
    "    preds.append(model.config.id2label[predicted_class_id])\n",
    "    times.append(perf_counter() - start_time)"
   ]
  },
  {
   "cell_type": "code",
   "execution_count": 28,
   "id": "4112c8eb-2eea-4943-8e05-0c3c3aa318a6",
   "metadata": {},
   "outputs": [],
   "source": [
    "df = ds['test'].to_pandas()\n",
    "df['preds']=preds\n",
    "df['times']=times\n",
    "df.to_csv('modernbert-results.csv')"
   ]
  },
  {
   "cell_type": "code",
   "execution_count": 29,
   "id": "0df0561d-9658-446b-bdb0-c6117cf910d8",
   "metadata": {},
   "outputs": [
    {
     "name": "stdout",
     "output_type": "stream",
     "text": [
      "                  precision    recall  f1-score   support\n",
      "\n",
      "         LABEL_0       0.00      0.00      0.00       0.0\n",
      "  correct_answer       0.00      0.00      0.00    1722.0\n",
      "incorrect_answer       0.00      0.00      0.00    2240.0\n",
      "\n",
      "        accuracy                           0.00    3962.0\n",
      "       macro avg       0.00      0.00      0.00    3962.0\n",
      "    weighted avg       0.00      0.00      0.00    3962.0\n",
      "\n"
     ]
    },
    {
     "name": "stderr",
     "output_type": "stream",
     "text": [
      "/opt/conda/lib/python3.11/site-packages/sklearn/metrics/_classification.py:1469: UndefinedMetricWarning: Precision and F-score are ill-defined and being set to 0.0 in labels with no predicted samples. Use `zero_division` parameter to control this behavior.\n",
      "  _warn_prf(average, modifier, msg_start, len(result))\n",
      "/opt/conda/lib/python3.11/site-packages/sklearn/metrics/_classification.py:1469: UndefinedMetricWarning: Recall and F-score are ill-defined and being set to 0.0 in labels with no true samples. Use `zero_division` parameter to control this behavior.\n",
      "  _warn_prf(average, modifier, msg_start, len(result))\n",
      "/opt/conda/lib/python3.11/site-packages/sklearn/metrics/_classification.py:1469: UndefinedMetricWarning: Precision and F-score are ill-defined and being set to 0.0 in labels with no predicted samples. Use `zero_division` parameter to control this behavior.\n",
      "  _warn_prf(average, modifier, msg_start, len(result))\n",
      "/opt/conda/lib/python3.11/site-packages/sklearn/metrics/_classification.py:1469: UndefinedMetricWarning: Recall and F-score are ill-defined and being set to 0.0 in labels with no true samples. Use `zero_division` parameter to control this behavior.\n",
      "  _warn_prf(average, modifier, msg_start, len(result))\n",
      "/opt/conda/lib/python3.11/site-packages/sklearn/metrics/_classification.py:1469: UndefinedMetricWarning: Precision and F-score are ill-defined and being set to 0.0 in labels with no predicted samples. Use `zero_division` parameter to control this behavior.\n",
      "  _warn_prf(average, modifier, msg_start, len(result))\n",
      "/opt/conda/lib/python3.11/site-packages/sklearn/metrics/_classification.py:1469: UndefinedMetricWarning: Recall and F-score are ill-defined and being set to 0.0 in labels with no true samples. Use `zero_division` parameter to control this behavior.\n",
      "  _warn_prf(average, modifier, msg_start, len(result))\n"
     ]
    }
   ],
   "source": [
    "labels = []\n",
    "for x in ds['test']['labels']:\n",
    "    if x == 1:\n",
    "        labels.append('correct_answer' )\n",
    "    else: \n",
    "        labels.append('incorrect_answer') \n",
    "\n",
    "from sklearn import metrics\n",
    "from matplotlib import pyplot as plt\n",
    "\n",
    "print(metrics.classification_report(labels, preds))"
   ]
  },
  {
   "cell_type": "code",
   "execution_count": null,
   "id": "d9bad22d-16bc-42d1-b6d3-f7a95d323868",
   "metadata": {},
   "outputs": [],
   "source": [
    "#Alternative\n",
    "\n",
    "import torch\n",
    "from transformers import AutoModelForSequenceClassification, AutoTokenizer\n",
    "from sklearn import metrics\n",
    "import matplotlib.pyplot as plt\n",
    "import numpy as np\n",
    "import pandas as pd\n",
    "from time import perf_counter\n",
    "\n",
    "model_path = \"../results/modernbert_checkpoints/checkpoint-38344\"\n",
    "model = AutoModelForSequenceClassification.from_pretrained(model_path)\n",
    "tokenizer = AutoTokenizer.from_pretrained(\"answerdotai/ModernBERT-base\")\n",
    "\n",
    "print(f\"Model config: {model.config}\")\n",
    "print(f\"Number of labels: {model.config.num_labels}\")\n",
    "print(f\"Problem type: {model.config.problem_type}\")\n",
    "\n",
    "device = 'cuda' if torch.cuda.is_available() else 'cpu'\n",
    "model = model.to(device)\n",
    "\n",
    "raw_preds = []\n",
    "pred_labels = []\n",
    "true_labels = []\n",
    "inference_times = []\n",
    "\n",
    "print(f\"Running inference on test set...\")\n",
    "for i, example in enumerate(ds['test']):\n",
    "    \n",
    "    true_label = int(example['labels'])\n",
    "    true_labels.append(true_label)\n",
    "    \n",
    "    start_time = perf_counter()\n",
    "    \n",
    "    inputs = tokenizer(example['text'], return_tensors='pt', truncation=True).to(device)\n",
    "    with torch.no_grad():\n",
    "        outputs = model(**inputs)\n",
    "    \n",
    "    inference_time = perf_counter() - start_time\n",
    "    inference_times.append(inference_time)\n",
    "    \n",
    "    logits = outputs.logits.cpu().numpy().flatten()\n",
    "    print(logits)\n",
    "    raw_preds.append(logits)\n",
    "    \n",
    "\n",
    "    pred_label = np.argmax(logits, axis=0)\n",
    "    \n",
    "    pred_labels.append(pred_label)\n",
    "    \n",
    "    if i < 5:\n",
    "        print(f\"\\nExample {i}:\")\n",
    "        print(f\"Text: {example['text'][:100]}...\")\n",
    "        print(f\"True label: {true_label}\")\n",
    "        print(f\"Raw prediction: {logits}\")\n",
    "        print(f\"Predicted label: {pred_label}\")\n",
    "\n",
    "true_labels = np.array(true_labels)\n",
    "pred_labels = np.array(pred_labels)\n",
    "raw_preds = np.array(raw_preds)\n",
    "\n",
    "print(\"\\nPrediction distribution:\")\n",
    "print(f\"Unique predicted labels: {np.unique(pred_labels, return_counts=True)}\")\n",
    "print(f\"Unique true labels: {np.unique(true_labels, return_counts=True)}\")\n",
    "\n",
    "avg_time = sum(inference_times) / len(inference_times)\n",
    "print(f\"\\nAverage inference time per example: {avg_time:.4f} seconds\")\n",
    "print(f\"Total inference time: {sum(inference_times):.2f} seconds\")\n",
    "\n",
    "if len(np.unique(pred_labels)) > 1 and len(np.unique(true_labels)) > 1:\n",
    "    accuracy = metrics.accuracy_score(true_labels, pred_labels)\n",
    "    precision = metrics.precision_score(true_labels, pred_labels, zero_division=0)\n",
    "    recall = metrics.recall_score(true_labels, pred_labels, zero_division=0)\n",
    "    f1 = metrics.f1_score(true_labels, pred_labels, zero_division=0)\n",
    "    \n",
    "    print(f\"\\nAccuracy: {accuracy:.4f}\")\n",
    "    print(f\"Precision: {precision:.4f}\")\n",
    "    print(f\"Recall: {recall:.4f}\")\n",
    "    print(f\"F1 Score: {f1:.4f}\")\n",
    "    \n",
    "    cm = metrics.confusion_matrix(true_labels, pred_labels)\n",
    "    print(f\"Confusion Matrix:\\n{cm}\")\n",
    "    \n",
    "    cm_display = metrics.ConfusionMatrixDisplay(confusion_matrix=cm, display_labels=['incorrect', 'correct'])\n",
    "    cm_display.plot()\n",
    "    plt.title(\"Predicted and True Classifications (ModernBERT)\")\n",
    "    plt.show()\n",
    "    \n",
    "    print(\"\\nClassification Report:\")\n",
    "    print(metrics.classification_report(true_labels, pred_labels, \n",
    "                                       target_names=['incorrect_answer', 'correct_answer']))\n",
    "else:\n",
    "    print(\"\\nWARNING: Cannot calculate metrics - predictions or true labels are all the same value\")\n",
    "    print(f\"All predictions: {pred_labels[0]}\")\n",
    "    print(f\"Raw prediction examples: {raw_preds[:5]}\")\n",
    "\n",
    "results_df = pd.DataFrame({\n",
    "    'text': [ex['text'] for ex in ds['test']],\n",
    "    'true_label': true_labels,\n",
    "    'predicted_label': pred_labels,\n",
    "    'raw_prediction': [p[0] for p in raw_preds],\n",
    "    'inference_time': inference_times\n",
    "})\n",
    "results_df.to_csv('modernbert_debug_results.csv')"
   ]
  }
 ],
 "metadata": {
  "kernelspec": {
   "display_name": "Python [conda env:base] *",
   "language": "python",
   "name": "conda-base-py"
  },
  "language_info": {
   "codemirror_mode": {
    "name": "ipython",
    "version": 3
   },
   "file_extension": ".py",
   "mimetype": "text/x-python",
   "name": "python",
   "nbconvert_exporter": "python",
   "pygments_lexer": "ipython3",
   "version": "3.11.6"
  }
 },
 "nbformat": 4,
 "nbformat_minor": 5
}
