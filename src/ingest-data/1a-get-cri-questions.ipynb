{
 "cells": [
  {
   "cell_type": "code",
   "execution_count": 11,
   "id": "d11418d7-4e1b-446b-80b5-6fa5feb970d6",
   "metadata": {},
   "outputs": [
    {
     "data": {
      "text/plain": [
       "volume_slug\n",
       "business-law-and-the-legal-environment    211\n",
       "eloquent-javascript                        92\n",
       "cornell                                    44\n",
       "cttc-poe                                   37\n",
       "introduction-to-computing                  10\n",
       "Name: count, dtype: int64"
      ]
     },
     "execution_count": 11,
     "metadata": {},
     "output_type": "execute_result"
    }
   ],
   "source": [
    "import json\n",
    "from pathlib import Path\n",
    "import pandas as pd\n",
    "\n",
    "content_dir = Path(\"/home/jovyan/active-projects/shared-resources/old_texts_from_strapi_json/\")\n",
    "\n",
    "content_list = []\n",
    "for fn in content_dir.glob(\"*.json\"):\n",
    "    with open(fn) as f:\n",
    "        volume = json.load(f)[\"data\"][\"attributes\"]\n",
    "        for page_data in volume[\"Pages\"][\"data\"]:\n",
    "            page = page_data[\"attributes\"]\n",
    "            for chunk in page[\"Content\"]:\n",
    "                d = {}\n",
    "                if not chunk[\"__component\"] == \"page.chunk\":\n",
    "                    continue\n",
    "                d[\"volume_title\"] = volume[\"Title\"]\n",
    "                d[\"volume_slug\"] = volume[\"Slug\"]\n",
    "                d[\"page_title\"] = page[\"Title\"]\n",
    "                d[\"page_slug\"] = page[\"Slug\"]\n",
    "                d[\"chunk_header\"] = chunk[\"Header\"]\n",
    "                d[\"chunk_slug\"] = chunk[\"Slug\"]\n",
    "                d[\"chunk_text\"] = chunk[\"CleanText\"]\n",
    "                d[\"question\"] = chunk[\"Question\"]\n",
    "                d[\"answer\"] = chunk[\"ConstructedResponse\"]\n",
    "                content_list.append(d)"
   ]
  },
  {
   "cell_type": "code",
   "execution_count": 13,
   "id": "0343e97b-a923-4d80-a16f-83530568ec95",
   "metadata": {},
   "outputs": [],
   "source": [
    "# Different structure for Strapi v5 exports\n",
    "\n",
    "rmp_path = \"/home/jovyan/active-projects/shared-resources/strapi_v5_json_exports/research-methods-in-psychology.json\"\n",
    "\n",
    "with open(rmp_path) as f:\n",
    "    volume = json.load(f)[\"data\"]\n",
    "    for page in volume[\"Pages\"]:\n",
    "        for chunk in page[\"Content\"]:\n",
    "            d = {}\n",
    "            if not chunk[\"__component\"] == \"page.chunk\":\n",
    "                continue\n",
    "            d[\"volume_title\"] = volume[\"Title\"]\n",
    "            d[\"volume_slug\"] = volume[\"Slug\"]\n",
    "            d[\"page_title\"] = page[\"Title\"]\n",
    "            d[\"page_slug\"] = page[\"Slug\"]\n",
    "            d[\"chunk_header\"] = chunk[\"Header\"]\n",
    "            d[\"chunk_slug\"] = chunk[\"Slug\"]\n",
    "            d[\"chunk_text\"] = chunk[\"CleanText\"]\n",
    "            d[\"question\"] = chunk[\"Question\"]\n",
    "            d[\"answer\"] = chunk[\"ConstructedResponse\"]\n",
    "            content_list.append(d)"
   ]
  },
  {
   "cell_type": "code",
   "execution_count": 15,
   "id": "4d56a35b-ab8f-429d-a27b-f8373c1fff53",
   "metadata": {},
   "outputs": [],
   "source": [
    "content = pd.DataFrame(content_list).set_index(\"chunk_slug\")\n",
    "content.volume_slug.value_counts()\n",
    "content.to_csv(\"../data/cri_questions.csv\")"
   ]
  }
 ],
 "metadata": {
  "kernelspec": {
   "display_name": "Python [conda env:requests]",
   "language": "python",
   "name": "conda-env-requests-py"
  },
  "language_info": {
   "codemirror_mode": {
    "name": "ipython",
    "version": 3
   },
   "file_extension": ".py",
   "mimetype": "text/x-python",
   "name": "python",
   "nbconvert_exporter": "python",
   "pygments_lexer": "ipython3",
   "version": "3.11.6"
  }
 },
 "nbformat": 4,
 "nbformat_minor": 5
}
