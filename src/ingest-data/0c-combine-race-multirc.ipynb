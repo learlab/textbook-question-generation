{
 "cells": [
  {
   "cell_type": "code",
   "execution_count": 2,
   "id": "1df6e10d-c651-4396-81d2-82494cd1c668",
   "metadata": {},
   "outputs": [],
   "source": [
    "import pandas as pd\n",
    "import datasets"
   ]
  },
  {
   "cell_type": "code",
   "execution_count": 31,
   "id": "e9ff3ff0-6241-4ce9-955a-163b393311d3",
   "metadata": {},
   "outputs": [],
   "source": [
    "multirc = datasets.DatasetDict.load_from_disk(\"../../data/multirc_contrastive_pairs.hf\")\n",
    "race = datasets.DatasetDict.load_from_disk(\"../../data/RACE_contrastive_pairs.hf\")\n",
    "race = race.remove_columns(column_names=[\"split\"])"
   ]
  },
  {
   "cell_type": "code",
   "execution_count": 32,
   "id": "766ed3e9-b957-4444-b65e-d6d52d990b47",
   "metadata": {},
   "outputs": [
    {
     "data": {
      "text/plain": [
       "Dataset({\n",
       "    features: ['passage', 'question', 'answer', 'label', 'passage_id', 'question_id', 'answer_id'],\n",
       "    num_rows: 21785\n",
       "})"
      ]
     },
     "execution_count": 32,
     "metadata": {},
     "output_type": "execute_result"
    }
   ],
   "source": [
    "multirc[\"train\"]"
   ]
  },
  {
   "cell_type": "code",
   "execution_count": 33,
   "id": "51a2789c-c7e4-48a4-b456-b8f3db736a2e",
   "metadata": {},
   "outputs": [
    {
     "data": {
      "text/plain": [
       "Dataset({\n",
       "    features: ['passage', 'question', 'answer', 'label', 'passage_id', 'question_id', 'answer_id'],\n",
       "    num_rows: 124890\n",
       "})"
      ]
     },
     "execution_count": 33,
     "metadata": {},
     "output_type": "execute_result"
    }
   ],
   "source": [
    "race[\"train\"]"
   ]
  },
  {
   "cell_type": "code",
   "execution_count": 34,
   "id": "659ce48d-eafe-4ec8-818e-20ce01e53aae",
   "metadata": {},
   "outputs": [
    {
     "data": {
      "text/plain": [
       "DatasetDict({\n",
       "    train: Dataset({\n",
       "        features: ['passage', 'question', 'answer', 'label', 'passage_id', 'question_id', 'answer_id'],\n",
       "        num_rows: 146675\n",
       "    })\n",
       "    dev: Dataset({\n",
       "        features: ['passage', 'question', 'answer', 'label', 'passage_id', 'question_id', 'answer_id'],\n",
       "        num_rows: 11672\n",
       "    })\n",
       "    test: Dataset({\n",
       "        features: ['passage', 'question', 'answer', 'label', 'passage_id', 'question_id', 'answer_id'],\n",
       "        num_rows: 12532\n",
       "    })\n",
       "})"
      ]
     },
     "execution_count": 34,
     "metadata": {},
     "output_type": "execute_result"
    }
   ],
   "source": [
    "dd = datasets.DatasetDict({\n",
    "    \"train\": datasets.concatenate_datasets([multirc[\"train\"], race[\"train\"]]),\n",
    "    \"dev\": datasets.concatenate_datasets([multirc[\"dev\"], race[\"dev\"]]),\n",
    "    \"test\": datasets.concatenate_datasets([multirc[\"test\"], race[\"test\"]]),\n",
    "})\n",
    "dd"
   ]
  },
  {
   "cell_type": "code",
   "execution_count": 35,
   "id": "4d8cb0b2-6770-4a7a-b9dc-4481e03e9fef",
   "metadata": {},
   "outputs": [
    {
     "data": {
      "application/vnd.jupyter.widget-view+json": {
       "model_id": "cecef548a1da4ba891142ea5cc9a8b0c",
       "version_major": 2,
       "version_minor": 0
      },
      "text/plain": [
       "Saving the dataset (0/1 shards):   0%|          | 0/146675 [00:00<?, ? examples/s]"
      ]
     },
     "metadata": {},
     "output_type": "display_data"
    },
    {
     "data": {
      "application/vnd.jupyter.widget-view+json": {
       "model_id": "1e9991ac6c4a425d936a3c69bbdf88dc",
       "version_major": 2,
       "version_minor": 0
      },
      "text/plain": [
       "Saving the dataset (0/1 shards):   0%|          | 0/11672 [00:00<?, ? examples/s]"
      ]
     },
     "metadata": {},
     "output_type": "display_data"
    },
    {
     "data": {
      "application/vnd.jupyter.widget-view+json": {
       "model_id": "d06ab42d6c2040c8860788e005d565b5",
       "version_major": 2,
       "version_minor": 0
      },
      "text/plain": [
       "Saving the dataset (0/1 shards):   0%|          | 0/12532 [00:00<?, ? examples/s]"
      ]
     },
     "metadata": {},
     "output_type": "display_data"
    }
   ],
   "source": [
    "dd.save_to_disk(\"../../data/race_multirc_contrastive_pairs.hf\")"
   ]
  }
 ],
 "metadata": {
  "kernelspec": {
   "display_name": "Python [conda env:hf]",
   "language": "python",
   "name": "conda-env-hf-py"
  },
  "language_info": {
   "codemirror_mode": {
    "name": "ipython",
    "version": 3
   },
   "file_extension": ".py",
   "mimetype": "text/x-python",
   "name": "python",
   "nbconvert_exporter": "python",
   "pygments_lexer": "ipython3",
   "version": "3.11.6"
  }
 },
 "nbformat": 4,
 "nbformat_minor": 5
}
