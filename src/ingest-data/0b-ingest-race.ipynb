{
 "cells": [
  {
   "cell_type": "code",
   "execution_count": 27,
   "id": "1df6e10d-c651-4396-81d2-82494cd1c668",
   "metadata": {},
   "outputs": [],
   "source": [
    "from pathlib import Path\n",
    "import tarfile\n",
    "import json\n",
    "import random\n",
    "\n",
    "import pandas as pd\n",
    "import datasets"
   ]
  },
  {
   "cell_type": "markdown",
   "id": "3594014a-40c8-448a-ba68-9a381d985a96",
   "metadata": {},
   "source": [
    "## Load JSON-like, Compressed Data to Dataframe"
   ]
  },
  {
   "cell_type": "code",
   "execution_count": 19,
   "id": "2bf63da8-248f-49c2-bbc7-c8f84d98819e",
   "metadata": {},
   "outputs": [],
   "source": [
    "archive_path = Path(\"../../data/RACE.tar.gz\")\n",
    "\n",
    "items = []\n",
    "    \n",
    "with tarfile.open(archive_path, \"r:gz\") as tar:\n",
    "    for member in tar.getmembers():\n",
    "        if not member.isfile() or not member.name.endswith('.txt'):\n",
    "            continue\n",
    "\n",
    "        item_dict = {}\n",
    "        _, split, lvl, fn = member.name.split(\"/\")\n",
    "        item_dict[\"split\"] = split\n",
    "\n",
    "        if not lvl == \"high\":\n",
    "            continue\n",
    "\n",
    "        f = tar.extractfile(member)\n",
    "        if f is not None:\n",
    "            item_dict.update(json.load(f))\n",
    "            items.append(item_dict)\n",
    "\n",
    "df = pd.DataFrame(items)\n",
    "\n",
    "df[\"passage_id\"] = df[\"id\"].str.extract(\"(\\d+)\")\n",
    "\n",
    "# Two rows/passages have no questions or options\n",
    "empty_options = df[\"options\"].map(len) == 0\n",
    "df = df[~empty_options]"
   ]
  },
  {
   "cell_type": "code",
   "execution_count": 20,
   "id": "82d4b01d-e9ae-40c8-80f6-b447aebbdabb",
   "metadata": {},
   "outputs": [],
   "source": [
    "# Explode questions into individual rows\n",
    "\n",
    "df = df.explode([\"answers\", \"options\", \"questions\"]).reset_index(drop=True)\n",
    "df = df.rename(columns={\n",
    "    \"id\": \"filename\",\n",
    "    \"answers\": \"answer\",\n",
    "    \"questions\": \"question\",\n",
    "})\n",
    "df.index.name = \"idx\"\n",
    "df.to_parquet(\"../../data/RACE.parquet\")"
   ]
  },
  {
   "cell_type": "code",
   "execution_count": 21,
   "id": "5329c7f3-ecfa-4e67-8ca7-22346df0db13",
   "metadata": {},
   "outputs": [
    {
     "data": {
      "text/plain": [
       "options\n",
       "4    69394\n",
       "Name: count, dtype: int64"
      ]
     },
     "execution_count": 21,
     "metadata": {},
     "output_type": "execute_result"
    }
   ],
   "source": [
    "# All items have four options\n",
    "df[\"options\"].map(len).value_counts()"
   ]
  },
  {
   "cell_type": "code",
   "execution_count": 22,
   "id": "b1def9d3-db22-49a5-b2fc-1240d6cddcdb",
   "metadata": {},
   "outputs": [
    {
     "data": {
      "text/html": [
       "<div>\n",
       "<style scoped>\n",
       "    .dataframe tbody tr th:only-of-type {\n",
       "        vertical-align: middle;\n",
       "    }\n",
       "\n",
       "    .dataframe tbody tr th {\n",
       "        vertical-align: top;\n",
       "    }\n",
       "\n",
       "    .dataframe thead th {\n",
       "        text-align: right;\n",
       "    }\n",
       "</style>\n",
       "<table border=\"1\" class=\"dataframe\">\n",
       "  <thead>\n",
       "    <tr style=\"text-align: right;\">\n",
       "      <th></th>\n",
       "      <th>split</th>\n",
       "      <th>answer</th>\n",
       "      <th>options</th>\n",
       "      <th>question</th>\n",
       "      <th>article</th>\n",
       "      <th>filename</th>\n",
       "      <th>passage_id</th>\n",
       "    </tr>\n",
       "    <tr>\n",
       "      <th>idx</th>\n",
       "      <th></th>\n",
       "      <th></th>\n",
       "      <th></th>\n",
       "      <th></th>\n",
       "      <th></th>\n",
       "      <th></th>\n",
       "      <th></th>\n",
       "    </tr>\n",
       "  </thead>\n",
       "  <tbody>\n",
       "    <tr>\n",
       "      <th>34366</th>\n",
       "      <td>train</td>\n",
       "      <td>A</td>\n",
       "      <td>[in need of help, not interested in studies, n...</td>\n",
       "      <td>After his tour to the school, the author found...</td>\n",
       "      <td>I'd always dreamed of exploring Africa, ever s...</td>\n",
       "      <td>high4561.txt</td>\n",
       "      <td>4561</td>\n",
       "    </tr>\n",
       "  </tbody>\n",
       "</table>\n",
       "</div>"
      ],
      "text/plain": [
       "       split answer                                            options  \\\n",
       "idx                                                                      \n",
       "34366  train      A  [in need of help, not interested in studies, n...   \n",
       "\n",
       "                                                question  \\\n",
       "idx                                                        \n",
       "34366  After his tour to the school, the author found...   \n",
       "\n",
       "                                                 article      filename  \\\n",
       "idx                                                                      \n",
       "34366  I'd always dreamed of exploring Africa, ever s...  high4561.txt   \n",
       "\n",
       "      passage_id  \n",
       "idx               \n",
       "34366       4561  "
      ]
     },
     "execution_count": 22,
     "metadata": {},
     "output_type": "execute_result"
    }
   ],
   "source": [
    "df.sample(1)"
   ]
  },
  {
   "cell_type": "markdown",
   "id": "d6eb8a57-8c2b-44db-87e8-321a1c49487c",
   "metadata": {},
   "source": [
    "## Convert to Contrastive Pairs\n",
    "\n",
    "Create four rows, one for each item option, where distractors are labeled as incorrect and the correct answer is labeled as correct."
   ]
  },
  {
   "cell_type": "code",
   "execution_count": 30,
   "id": "06f5159f-0485-41e0-9ecf-3a73e3e4b111",
   "metadata": {},
   "outputs": [
    {
     "data": {
      "text/html": [
       "<div>\n",
       "<style scoped>\n",
       "    .dataframe tbody tr th:only-of-type {\n",
       "        vertical-align: middle;\n",
       "    }\n",
       "\n",
       "    .dataframe tbody tr th {\n",
       "        vertical-align: top;\n",
       "    }\n",
       "\n",
       "    .dataframe thead th {\n",
       "        text-align: right;\n",
       "    }\n",
       "</style>\n",
       "<table border=\"1\" class=\"dataframe\">\n",
       "  <thead>\n",
       "    <tr style=\"text-align: right;\">\n",
       "      <th></th>\n",
       "      <th>split</th>\n",
       "      <th>passage</th>\n",
       "      <th>question</th>\n",
       "      <th>answer</th>\n",
       "      <th>label</th>\n",
       "      <th>passage_id</th>\n",
       "      <th>question_id</th>\n",
       "    </tr>\n",
       "    <tr>\n",
       "      <th>answer_id</th>\n",
       "      <th></th>\n",
       "      <th></th>\n",
       "      <th></th>\n",
       "      <th></th>\n",
       "      <th></th>\n",
       "      <th></th>\n",
       "      <th></th>\n",
       "    </tr>\n",
       "  </thead>\n",
       "  <tbody>\n",
       "    <tr>\n",
       "      <th>0</th>\n",
       "      <td>test</td>\n",
       "      <td>The rain had continued for a week and the floo...</td>\n",
       "      <td>What did Nancy try to do before she fell over?</td>\n",
       "      <td>Protect her cows from being drowned</td>\n",
       "      <td>1</td>\n",
       "      <td>19432</td>\n",
       "      <td>0</td>\n",
       "    </tr>\n",
       "    <tr>\n",
       "      <th>1</th>\n",
       "      <td>test</td>\n",
       "      <td>The rain had continued for a week and the floo...</td>\n",
       "      <td>What did Nancy try to do before she fell over?</td>\n",
       "      <td>Look for a fallen tree trunk</td>\n",
       "      <td>0</td>\n",
       "      <td>19432</td>\n",
       "      <td>0</td>\n",
       "    </tr>\n",
       "    <tr>\n",
       "      <th>2</th>\n",
       "      <td>test</td>\n",
       "      <td>The rain had continued for a week and the floo...</td>\n",
       "      <td>The following are true according to the passag...</td>\n",
       "      <td>Nancy took hold of the rope and climbed into t...</td>\n",
       "      <td>1</td>\n",
       "      <td>19432</td>\n",
       "      <td>1</td>\n",
       "    </tr>\n",
       "    <tr>\n",
       "      <th>3</th>\n",
       "      <td>test</td>\n",
       "      <td>The rain had continued for a week and the floo...</td>\n",
       "      <td>The following are true according to the passag...</td>\n",
       "      <td>It was raining harder when Nancy managed to ge...</td>\n",
       "      <td>0</td>\n",
       "      <td>19432</td>\n",
       "      <td>1</td>\n",
       "    </tr>\n",
       "    <tr>\n",
       "      <th>4</th>\n",
       "      <td>test</td>\n",
       "      <td>The rain had continued for a week and the floo...</td>\n",
       "      <td>What did the local people do to help those in ...</td>\n",
       "      <td>They put up shelter for them in a school.</td>\n",
       "      <td>1</td>\n",
       "      <td>19432</td>\n",
       "      <td>2</td>\n",
       "    </tr>\n",
       "    <tr>\n",
       "      <th>...</th>\n",
       "      <td>...</td>\n",
       "      <td>...</td>\n",
       "      <td>...</td>\n",
       "      <td>...</td>\n",
       "      <td>...</td>\n",
       "      <td>...</td>\n",
       "      <td>...</td>\n",
       "    </tr>\n",
       "    <tr>\n",
       "      <th>138783</th>\n",
       "      <td>dev</td>\n",
       "      <td>How come it seems like every kid today is a wi...</td>\n",
       "      <td>In the passage, parents are advised to   _  .</td>\n",
       "      <td>stop kids taking part in any competition.</td>\n",
       "      <td>0</td>\n",
       "      <td>18939</td>\n",
       "      <td>69391</td>\n",
       "    </tr>\n",
       "    <tr>\n",
       "      <th>138784</th>\n",
       "      <td>dev</td>\n",
       "      <td>I clearly remember my mom telling me to drink ...</td>\n",
       "      <td>From what the author's mother did we may infer...</td>\n",
       "      <td>she knew her children would benefit from milk</td>\n",
       "      <td>1</td>\n",
       "      <td>11113</td>\n",
       "      <td>69392</td>\n",
       "    </tr>\n",
       "    <tr>\n",
       "      <th>138785</th>\n",
       "      <td>dev</td>\n",
       "      <td>I clearly remember my mom telling me to drink ...</td>\n",
       "      <td>From what the author's mother did we may infer...</td>\n",
       "      <td>she didn't like her daughter who didn't obey h...</td>\n",
       "      <td>0</td>\n",
       "      <td>11113</td>\n",
       "      <td>69392</td>\n",
       "    </tr>\n",
       "    <tr>\n",
       "      <th>138786</th>\n",
       "      <td>dev</td>\n",
       "      <td>I clearly remember my mom telling me to drink ...</td>\n",
       "      <td>Based on the passage, which of the following i...</td>\n",
       "      <td>The author's sister will suffer from osteopros...</td>\n",
       "      <td>1</td>\n",
       "      <td>11113</td>\n",
       "      <td>69393</td>\n",
       "    </tr>\n",
       "    <tr>\n",
       "      <th>138787</th>\n",
       "      <td>dev</td>\n",
       "      <td>I clearly remember my mom telling me to drink ...</td>\n",
       "      <td>Based on the passage, which of the following i...</td>\n",
       "      <td>Many businessmen have already been selling pro...</td>\n",
       "      <td>0</td>\n",
       "      <td>11113</td>\n",
       "      <td>69393</td>\n",
       "    </tr>\n",
       "  </tbody>\n",
       "</table>\n",
       "<p>138788 rows × 7 columns</p>\n",
       "</div>"
      ],
      "text/plain": [
       "          split                                            passage  \\\n",
       "answer_id                                                            \n",
       "0          test  The rain had continued for a week and the floo...   \n",
       "1          test  The rain had continued for a week and the floo...   \n",
       "2          test  The rain had continued for a week and the floo...   \n",
       "3          test  The rain had continued for a week and the floo...   \n",
       "4          test  The rain had continued for a week and the floo...   \n",
       "...         ...                                                ...   \n",
       "138783      dev  How come it seems like every kid today is a wi...   \n",
       "138784      dev  I clearly remember my mom telling me to drink ...   \n",
       "138785      dev  I clearly remember my mom telling me to drink ...   \n",
       "138786      dev  I clearly remember my mom telling me to drink ...   \n",
       "138787      dev  I clearly remember my mom telling me to drink ...   \n",
       "\n",
       "                                                    question  \\\n",
       "answer_id                                                      \n",
       "0             What did Nancy try to do before she fell over?   \n",
       "1             What did Nancy try to do before she fell over?   \n",
       "2          The following are true according to the passag...   \n",
       "3          The following are true according to the passag...   \n",
       "4          What did the local people do to help those in ...   \n",
       "...                                                      ...   \n",
       "138783         In the passage, parents are advised to   _  .   \n",
       "138784     From what the author's mother did we may infer...   \n",
       "138785     From what the author's mother did we may infer...   \n",
       "138786     Based on the passage, which of the following i...   \n",
       "138787     Based on the passage, which of the following i...   \n",
       "\n",
       "                                                      answer  label  \\\n",
       "answer_id                                                             \n",
       "0                        Protect her cows from being drowned      1   \n",
       "1                               Look for a fallen tree trunk      0   \n",
       "2          Nancy took hold of the rope and climbed into t...      1   \n",
       "3          It was raining harder when Nancy managed to ge...      0   \n",
       "4                  They put up shelter for them in a school.      1   \n",
       "...                                                      ...    ...   \n",
       "138783             stop kids taking part in any competition.      0   \n",
       "138784         she knew her children would benefit from milk      1   \n",
       "138785     she didn't like her daughter who didn't obey h...      0   \n",
       "138786     The author's sister will suffer from osteopros...      1   \n",
       "138787     Many businessmen have already been selling pro...      0   \n",
       "\n",
       "           passage_id  question_id  \n",
       "answer_id                           \n",
       "0               19432            0  \n",
       "1               19432            0  \n",
       "2               19432            1  \n",
       "3               19432            1  \n",
       "4               19432            2  \n",
       "...               ...          ...  \n",
       "138783          18939        69391  \n",
       "138784          11113        69392  \n",
       "138785          11113        69392  \n",
       "138786          11113        69393  \n",
       "138787          11113        69393  \n",
       "\n",
       "[138788 rows x 7 columns]"
      ]
     },
     "execution_count": 30,
     "metadata": {},
     "output_type": "execute_result"
    }
   ],
   "source": [
    "def construct_pairs(df):\n",
    "    records = []\n",
    "    \n",
    "    option_letters = [\"A\", \"B\", \"C\", \"D\"]\n",
    "\n",
    "    for row in df.itertuples():\n",
    "        incorrect_records = []\n",
    "        for i, option in enumerate(row.options):\n",
    "            is_correct = 1 if option_letters[i] == row.answer else 0\n",
    "\n",
    "            record = {\n",
    "                \"split\": row.split,\n",
    "                \"passage\": row.article,\n",
    "                \"question\": row.question,\n",
    "                \"answer\": option,\n",
    "                \"label\": is_correct,\n",
    "                \"passage_id\": int(row.passage_id),\n",
    "                \"question_id\": int(row.Index)\n",
    "            }\n",
    "\n",
    "            if is_correct:\n",
    "                records.append(record)\n",
    "            else:\n",
    "                incorrect_records.append(record)\n",
    "\n",
    "        # Sample one incorrect option\n",
    "        records.append(random.sample(incorrect_records, 1)[0])\n",
    "\n",
    "    # Create the transformed dataframe\n",
    "    transformed_df = pd.DataFrame(records)\n",
    "    transformed_df.index.name = \"answer_id\"\n",
    "\n",
    "    return transformed_df\n",
    "\n",
    "contrastive_df = construct_pairs(df)\n",
    "contrastive_df"
   ]
  },
  {
   "cell_type": "code",
   "execution_count": 31,
   "id": "d3a94ebd-d550-47d3-b324-696dbcbb0a37",
   "metadata": {},
   "outputs": [
    {
     "data": {
      "text/plain": [
       "{'split': Value(dtype='string', id=None),\n",
       " 'passage': Value(dtype='string', id=None),\n",
       " 'question': Value(dtype='string', id=None),\n",
       " 'answer': Value(dtype='string', id=None),\n",
       " 'label': Value(dtype='int64', id=None),\n",
       " 'passage_id': Value(dtype='int64', id=None),\n",
       " 'question_id': Value(dtype='int64', id=None),\n",
       " 'answer_id': Value(dtype='int64', id=None)}"
      ]
     },
     "execution_count": 31,
     "metadata": {},
     "output_type": "execute_result"
    }
   ],
   "source": [
    "dd = datasets.DatasetDict({\n",
    "    \"train\": datasets.Dataset.from_pandas(contrastive_df[contrastive_df[\"split\"] == \"train\"]),\n",
    "    \"dev\": datasets.Dataset.from_pandas(contrastive_df[contrastive_df[\"split\"] == \"dev\"]),\n",
    "    \"test\": datasets.Dataset.from_pandas(contrastive_df[contrastive_df[\"split\"] == \"test\"]),\n",
    "})\n",
    "dd[\"train\"].features"
   ]
  },
  {
   "cell_type": "code",
   "execution_count": 32,
   "id": "3e705822-1e1e-4d32-ab14-7f692537f15d",
   "metadata": {},
   "outputs": [
    {
     "data": {
      "text/plain": [
       "DatasetDict({\n",
       "    train: Dataset({\n",
       "        features: ['split', 'passage', 'question', 'answer', 'label', 'passage_id', 'question_id', 'answer_id'],\n",
       "        num_rows: 124890\n",
       "    })\n",
       "    dev: Dataset({\n",
       "        features: ['split', 'passage', 'question', 'answer', 'label', 'passage_id', 'question_id', 'answer_id'],\n",
       "        num_rows: 6902\n",
       "    })\n",
       "    test: Dataset({\n",
       "        features: ['split', 'passage', 'question', 'answer', 'label', 'passage_id', 'question_id', 'answer_id'],\n",
       "        num_rows: 6996\n",
       "    })\n",
       "})"
      ]
     },
     "execution_count": 32,
     "metadata": {},
     "output_type": "execute_result"
    }
   ],
   "source": [
    "dd"
   ]
  },
  {
   "cell_type": "code",
   "execution_count": 33,
   "id": "b22a2dcd-0e83-4f9c-b578-a05f862cd3f0",
   "metadata": {},
   "outputs": [
    {
     "data": {
      "application/vnd.jupyter.widget-view+json": {
       "model_id": "a366f6a9d51c48b3992226cee996aedd",
       "version_major": 2,
       "version_minor": 0
      },
      "text/plain": [
       "Saving the dataset (0/1 shards):   0%|          | 0/124890 [00:00<?, ? examples/s]"
      ]
     },
     "metadata": {},
     "output_type": "display_data"
    },
    {
     "data": {
      "application/vnd.jupyter.widget-view+json": {
       "model_id": "259ea43fcba34403b5fed7a0f0f1d0c4",
       "version_major": 2,
       "version_minor": 0
      },
      "text/plain": [
       "Saving the dataset (0/1 shards):   0%|          | 0/6902 [00:00<?, ? examples/s]"
      ]
     },
     "metadata": {},
     "output_type": "display_data"
    },
    {
     "data": {
      "application/vnd.jupyter.widget-view+json": {
       "model_id": "4b022d49591641cd9dd382ef1f7a778f",
       "version_major": 2,
       "version_minor": 0
      },
      "text/plain": [
       "Saving the dataset (0/1 shards):   0%|          | 0/6996 [00:00<?, ? examples/s]"
      ]
     },
     "metadata": {},
     "output_type": "display_data"
    }
   ],
   "source": [
    "dd.save_to_disk(\"../../data/RACE_contrastive_pairs.hf\")"
   ]
  }
 ],
 "metadata": {
  "kernelspec": {
   "display_name": "Python [conda env:hf]",
   "language": "python",
   "name": "conda-env-hf-py"
  },
  "language_info": {
   "codemirror_mode": {
    "name": "ipython",
    "version": 3
   },
   "file_extension": ".py",
   "mimetype": "text/x-python",
   "name": "python",
   "nbconvert_exporter": "python",
   "pygments_lexer": "ipython3",
   "version": "3.11.6"
  }
 },
 "nbformat": 4,
 "nbformat_minor": 5
}
