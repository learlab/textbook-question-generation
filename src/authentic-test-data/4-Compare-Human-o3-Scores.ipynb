{
 "cells": [
  {
   "cell_type": "code",
   "execution_count": 26,
   "id": "aaa9f8f6-e648-4187-8bc0-170c5f04f9f7",
   "metadata": {},
   "outputs": [],
   "source": [
    "import pandas as pd\n",
    "\n",
    "df1 = pd.read_csv(\"../../data/itell-question-data-w-o3-scores.csv\")\n",
    "df1 = df1.rename(columns={\"score\": \"ensemble_score\"})\n",
    "df2 = pd.read_csv(\"../../data/cri_annotations.csv\")\n",
    "df2 = df2.rename(columns={\"score\": \"human_score\"})\n",
    "df = pd.merge(\n",
    "    df1,\n",
    "    df2,\n",
    "    left_on=\"id\",\n",
    "    right_on=\"question_id\",\n",
    "    how=\"right\",\n",
    "    suffixes=[\"\", \"_remove\"]\n",
    "    )"
   ]
  },
  {
   "cell_type": "code",
   "execution_count": 27,
   "id": "85b80935-3b09-4955-8dd5-d44252fa3c68",
   "metadata": {},
   "outputs": [
    {
     "data": {
      "text/plain": [
       "Index(['id', 'response', 'ensemble_score', 'condition', 'user_id', 'page_slug',\n",
       "       'chunk_slug', 'created_at', 'volume_slug', 'volume_title', 'page_title',\n",
       "       'chunk_header', 'chunk_text', 'question', 'answer', 'o3_mini_score',\n",
       "       'question_id', 'chunk_header_remove', 'text', 'question_remove',\n",
       "       'reference', 'candidate', 'human_score', 'annotator', 'labels'],\n",
       "      dtype='object')"
      ]
     },
     "execution_count": 27,
     "metadata": {},
     "output_type": "execute_result"
    }
   ],
   "source": [
    "df.columns"
   ]
  },
  {
   "cell_type": "code",
   "execution_count": 28,
   "id": "d490b941-bf15-4551-8146-21845d2ecc1c",
   "metadata": {},
   "outputs": [],
   "source": [
    "df = df.drop(columns=[\n",
    "        \"id\",\n",
    "        \"condition\",\n",
    "        \"chunk_header_remove\",\n",
    "        \"question_remove\",\n",
    "    ])"
   ]
  },
  {
   "cell_type": "code",
   "execution_count": 31,
   "id": "3196fcd2-1740-422f-b0e7-8f5100587df9",
   "metadata": {},
   "outputs": [
    {
     "data": {
      "text/plain": [
       "o3_mini_score     0.698105\n",
       "ensemble_score    0.508575\n",
       "dtype: float64"
      ]
     },
     "execution_count": 31,
     "metadata": {},
     "output_type": "execute_result"
    }
   ],
   "source": [
    "df[[\"o3_mini_score\", \"ensemble_score\"]].corrwith(df[\"human_score\"], method=\"spearman\")"
   ]
  }
 ],
 "metadata": {
  "kernelspec": {
   "display_name": "Python [conda env:hf]",
   "language": "python",
   "name": "conda-env-hf-py"
  },
  "language_info": {
   "codemirror_mode": {
    "name": "ipython",
    "version": 3
   },
   "file_extension": ".py",
   "mimetype": "text/x-python",
   "name": "python",
   "nbconvert_exporter": "python",
   "pygments_lexer": "ipython3",
   "version": "3.11.6"
  }
 },
 "nbformat": 4,
 "nbformat_minor": 5
}
