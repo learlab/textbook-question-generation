{
 "cells": [
  {
   "cell_type": "code",
   "execution_count": 2,
   "id": "c5091ae1-446e-4950-b382-758baa6dd4b3",
   "metadata": {},
   "outputs": [],
   "source": [
    "dataset_path = '../bin/multirc_dataset.hf'\n",
    "model_name = '/tiedaar/summary-longformer-wording'"
   ]
  },
  {
   "cell_type": "code",
   "execution_count": 3,
   "id": "f3edf980-9bf8-47e1-9cb0-36fe1709a155",
   "metadata": {},
   "outputs": [],
   "source": [
    "from transformers import pipeline\n",
    "from datasets import DatasetDict\n",
    "import pandas as pd\n",
    "from tqdm import tqdm\n",
    "import torch\n",
    "\n",
    "tqdm.pandas()"
   ]
  },
  {
   "cell_type": "code",
   "execution_count": 4,
   "id": "2053ad4b-64b6-4249-9429-fe70e29870ea",
   "metadata": {},
   "outputs": [
    {
     "name": "stderr",
     "output_type": "stream",
     "text": [
      "Xformers is not installed correctly. If you want to use memory_efficient_attention to accelerate training use the following command to install Xformers\n",
      "pip install xformers.\n"
     ]
    }
   ],
   "source": [
    "pipe = pipeline('text-classification', model='tiedaar/short-answer-classification', device=0)"
   ]
  },
  {
   "cell_type": "code",
   "execution_count": 5,
   "id": "dd56ebb5-67a4-46c9-944c-718af6d07acf",
   "metadata": {},
   "outputs": [],
   "source": [
    "ds = DatasetDict.load_from_disk(dataset_path)"
   ]
  },
  {
   "cell_type": "code",
   "execution_count": 6,
   "id": "9372d2ca-9ed7-4d5b-a59f-55576469c6bc",
   "metadata": {},
   "outputs": [],
   "source": [
    "test_df = ds['test'].to_pandas()"
   ]
  },
  {
   "cell_type": "code",
   "execution_count": 7,
   "id": "4ee7f34a-05c7-46b9-9661-700d61a57c07",
   "metadata": {},
   "outputs": [],
   "source": [
    "df = pd.read_csv('../data/multirc.csv')\n",
    "column_index = list(df.columns)\n",
    "column_index[0] = 'index'\n",
    "df.columns = column_index\n",
    "test_df = df.merge(test_df, on='index', how='right')\n",
    "test_df['labels'] = test_df['labels'].progress_apply(lambda x: 'correct_answer' if x==1 else 'incorrect_answer')"
   ]
  },
  {
   "cell_type": "code",
   "execution_count": 8,
   "id": "07f8ce71-7108-482d-a45f-5b9ba27e0739",
   "metadata": {},
   "outputs": [
    {
     "name": "stderr",
     "output_type": "stream",
     "text": [
      "  0%|          | 7/3962 [00:01<12:01,  5.48it/s]/home/jovyan/conda_envs/wes_env/lib/python3.11/site-packages/transformers/pipelines/base.py:1083: UserWarning: You seem to be using the pipelines sequentially on GPU. In order to maximize efficiency please use a dataset\n",
      "  warnings.warn(\n",
      "100%|██████████| 3962/3962 [01:00<00:00, 65.88it/s]\n"
     ]
    }
   ],
   "source": [
    "test_df['preds'] = test_df['text'].progress_apply(lambda x: pipe(x)[0]['label'])"
   ]
  },
  {
   "cell_type": "code",
   "execution_count": 14,
   "id": "e014448e-6446-42a3-9d91-a2e1ff6e233b",
   "metadata": {},
   "outputs": [],
   "source": [
    "test_df[test_df['labels']!=test_df['preds']].to_csv('../results/mpnet-misclassifications.csv')"
   ]
  }
 ],
 "metadata": {
  "kernelspec": {
   "display_name": "Python [conda env:wes_env]",
   "language": "python",
   "name": "conda-env-wes_env-py"
  },
  "language_info": {
   "codemirror_mode": {
    "name": "ipython",
    "version": 3
   },
   "file_extension": ".py",
   "mimetype": "text/x-python",
   "name": "python",
   "nbconvert_exporter": "python",
   "pygments_lexer": "ipython3",
   "version": "3.11.4"
  }
 },
 "nbformat": 4,
 "nbformat_minor": 5
}
