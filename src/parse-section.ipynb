{
 "cells": [
  {
   "cell_type": "code",
   "execution_count": 1,
   "id": "ffe19aaf-6c47-4dc3-bfde-169c9c28dc95",
   "metadata": {
    "tags": []
   },
   "outputs": [],
   "source": [
    "import re\n",
    "import pandas as pd\n",
    "import os"
   ]
  },
  {
   "cell_type": "code",
   "execution_count": 2,
   "id": "6e05d284-23a4-4aa1-9125-9ca7e4280bf6",
   "metadata": {
    "tags": []
   },
   "outputs": [
    {
     "data": {
      "text/plain": [
       "'/home/jovyan/active-projects/textbook-question-generation/src'"
      ]
     },
     "execution_count": 2,
     "metadata": {},
     "output_type": "execute_result"
    }
   ],
   "source": [
    "os.getcwd()"
   ]
  },
  {
   "cell_type": "code",
   "execution_count": 3,
   "id": "5c6153e1-0322-4499-a5f8-8c60fb2148e9",
   "metadata": {
    "tags": []
   },
   "outputs": [],
   "source": [
    "DATA = '../data/'"
   ]
  },
  {
   "cell_type": "code",
   "execution_count": 4,
   "id": "85de15d7-6c25-40e0-a82e-9029021950a4",
   "metadata": {
    "tags": []
   },
   "outputs": [],
   "source": [
    "with open(DATA+'section1.txt', 'r') as f:\n",
    "    sample_text = f.read()"
   ]
  },
  {
   "cell_type": "code",
   "execution_count": 68,
   "id": "59719ce6-f045-4f18-858b-c1707871fc5a",
   "metadata": {},
   "outputs": [],
   "source": []
  },
  {
   "cell_type": "code",
   "execution_count": null,
   "id": "a6b17c09-acba-4baa-828a-e271466d1a2b",
   "metadata": {
    "tags": []
   },
   "outputs": [],
   "source": []
  },
  {
   "cell_type": "code",
   "execution_count": 91,
   "id": "a7d31de4-30d6-44dd-b336-816fb6541c78",
   "metadata": {
    "tags": []
   },
   "outputs": [],
   "source": [
    "def clean_section(string):\n",
    "    samp_sub1 = re.sub('<[\\S\\n\\t\\v ]*?>', '', string)\n",
    "    samp_sub2 = re.sub('\\*\\*', '', samp_sub1)\n",
    "    samp_sub3 = re.sub('\\!.*?\\n', '', samp_sub2)\n",
    "    samp_sub4 = re.sub('import.*?;', '', samp_sub3)\n",
    "    samp_sub5 = re.sub('\\n\\[.*?\\n', '\\n', samp_sub4)\n",
    "    samp_sub6 = re.sub('\\n+', '\\n', samp_sub5)\n",
    "    samp_sub7 = re.sub('_', '', samp_sub6)\n",
    "    return samp_sub7"
   ]
  },
  {
   "cell_type": "code",
   "execution_count": 69,
   "id": "cbd54f13-88d6-4416-bdc7-e6ff8967af16",
   "metadata": {
    "tags": []
   },
   "outputs": [
    {
     "name": "stdout",
     "output_type": "stream",
     "text": [
      " Introduction to FRED\n",
      "\n",
      "Data is very important in economics because it describes and measures the issues and problems that economics seek to understand. A variety of government agencies publish economic and social data. For this course, we will generally use data from the St. Louis Federal Reserve Bank's FRED database. FRED is very user friendly. It allows you to display data in tables or charts, and you can easily download it into spreadsheet form if you want to use the data for other purposes. The \n",
      "\n",
      "\n"
     ]
    }
   ],
   "source": [
    "sample_subsection = sample_text.split('#')[2]\n",
    "print(clean_section(sample_subsection))"
   ]
  },
  {
   "cell_type": "code",
   "execution_count": 97,
   "id": "c044869a-81c7-4fd5-b6f5-3d5de54e471d",
   "metadata": {
    "tags": []
   },
   "outputs": [
    {
     "name": "stdout",
     "output_type": "stream",
     "text": [
      " Why Study Economics?\n",
      "  \n",
      "  \n",
      "    \n",
      "      The study of economics does not dictate the answers, but it can illuminate how decisions are made in a variety of personal, business, and societal situations.\n",
      "    \n",
      "  \n",
      "Now that you have an overview on what economics studies, let's quickly discuss why\n",
      "you are right to study it. Economics is not primarily a collection of facts to memorize,\n",
      "although there are plenty of important concepts to learn. Instead, think of economics\n",
      "as a collection of questions to answer or puzzles to work. Most importantly, economics\n",
      "provides the tools to solve those puzzles. If the economics “bug” has not bitten\n",
      "you yet, there are other reasons why you should study economics.\n",
      "- Virtually every major problem facing the world today, from global warming, to world poverty, to the conflicts in Syria, Afghanistan, and Somalia, has an economic dimension. If you are going to be part of solving those problems, you need to be able to understand them. Economics is crucial.\n",
      "- It is hard to overstate the importance of economics to good citizenship. You need to be able to vote intelligently on budgets, regulations, and laws in general. When the U.S. government came close to a standstill at the end of 2012 due to the “fiscal cliff,” what were the issues? Did you know?\n",
      "- A basic understanding of economics makes you a well-rounded thinker. When you read articles about economic issues, you will understand and be able to evaluate the writer's argument. When you hear classmates, co-workers, or political candidates talking about economics, you will be able to distinguish between common sense and nonsense. You will find new ways of thinking about current events and about personal and business decisions, as well as current events and politics.\n",
      "\n"
     ]
    }
   ],
   "source": [
    "i = 10\n",
    "print(clean_section(sample_text.split('#')[i]))"
   ]
  },
  {
   "cell_type": "code",
   "execution_count": 98,
   "id": "f8fd6f6b-96c3-47e8-a82a-4007efb8dbd4",
   "metadata": {
    "tags": []
   },
   "outputs": [
    {
     "data": {
      "text/plain": [
       "' Why Study Economics?\\n\\n<Card className=\"bg-dark text-yellow\" style = {{ width: \"35rem\"}}>\\n  <Card.Img\\n    src=\"/c1/J8rKDhx1hoi3orSN_FbREclUNsTcNUm-g-stock-image.jpeg\"\\n    alt=\"Card image\"\\n    style = {{ height: \\'25rem\\', width: \"35rem\"}}\\n  />\\n  <Card.ImgOverlay className = \"d-flex align-items-center\">\\n    <Card.Text style={{fontSize: \"1.5em\", color:\\'yellow\\'}}>\\n      <span>The study of economics does not dictate the answers, but it can illuminate how decisions are made in a variety of personal, business, and societal situations.</span>\\n    </Card.Text>\\n\\n  </Card.ImgOverlay>\\n</Card>\\n\\n<br />\\nNow that you have an overview on what economics studies, let\\'s quickly discuss why\\nyou are right to study it. Economics is not primarily a collection of facts to memorize,\\nalthough there are plenty of important concepts to learn. Instead, think of economics\\nas a collection of questions to answer or puzzles to work. Most importantly, economics\\nprovides the tools to solve those puzzles. If the economics “bug” has not bitten\\nyou yet, there are other reasons why you should study economics.\\n\\n- Virtually every major problem facing the world today, from global warming, to world poverty, to the conflicts in Syria, Afghanistan, and Somalia, has an economic dimension. If you are going to be part of solving those problems, you need to be able to understand them. Economics is crucial.\\n\\n- It is hard to overstate the importance of economics to good citizenship. You need to be able to vote intelligently on budgets, regulations, and laws in general. When the U.S. government came close to a standstill at the end of 2012 due to the “fiscal cliff,” what were the issues? Did you know?\\n\\n- A basic understanding of economics makes you a well-rounded thinker. When you read articles about economic issues, you will understand and be able to evaluate the writer\\'s argument. When you hear classmates, co-workers, or political candidates talking about economics, you will be able to distinguish between common sense and nonsense. You will find new ways of thinking about current events and about personal and business decisions, as well as current events and politics.\\n\\n'"
      ]
     },
     "execution_count": 98,
     "metadata": {},
     "output_type": "execute_result"
    }
   ],
   "source": [
    "sample_text.split('#')[i]"
   ]
  },
  {
   "cell_type": "code",
   "execution_count": null,
   "id": "9fb01b33-9a63-45df-937f-f3f3c9ac4cc1",
   "metadata": {},
   "outputs": [],
   "source": []
  }
 ],
 "metadata": {
  "kernelspec": {
   "display_name": "Python [conda env:keyword-extraction]",
   "language": "python",
   "name": "conda-env-keyword-extraction-py"
  },
  "language_info": {
   "codemirror_mode": {
    "name": "ipython",
    "version": 3
   },
   "file_extension": ".py",
   "mimetype": "text/x-python",
   "name": "python",
   "nbconvert_exporter": "python",
   "pygments_lexer": "ipython3",
   "version": "3.11.0"
  }
 },
 "nbformat": 4,
 "nbformat_minor": 5
}
