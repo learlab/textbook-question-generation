{
 "cells": [
  {
   "cell_type": "code",
   "execution_count": 5,
   "id": "789b4b01-f705-4953-84ca-0c7eebb7f2fa",
   "metadata": {
    "tags": []
   },
   "outputs": [],
   "source": [
    "# this parses and stores the output as a dataframe. The correct prompt is:\n",
    "# Generate a multiple-choice question for the following passage. First, write 'Question:' and write the question. Then write the answer options. Then write 'Correct Answer:' and give the correct answer. Finally, write explanations for the correct answer and each of the distractors on a new line starting with 'Explanation for A'."
   ]
  },
  {
   "cell_type": "code",
   "execution_count": 1,
   "id": "9d3113ff-d3b3-46bf-bf66-2ff204a9f109",
   "metadata": {
    "tags": []
   },
   "outputs": [],
   "source": [
    "import pandas as pd\n",
    "import os\n",
    "import re\n",
    "import openai\n",
    "import os\n",
    "from getpass import getpass\n",
    "import json\n",
    "from dotenv import load_dotenv, find_dotenv\n",
    "from pathlib import Path"
   ]
  },
  {
   "cell_type": "markdown",
   "id": "8625bce2-3caf-4b49-8fb3-507f453a704c",
   "metadata": {},
   "source": [
    "Create a .env file in `/src` with the follow line:\n",
    "`API_TOKEN={your api key}`\n",
    "\n",
    "I added `**/.env` to `.gitignore` already. In the future, you'll have to double check that git is ignoring the secrets file.\n",
    "\n",
    "You may need to `pip install python-dotenv`"
   ]
  },
  {
   "cell_type": "code",
   "execution_count": 2,
   "id": "547266e9-a0fd-4a2f-abea-66d6546518d2",
   "metadata": {},
   "outputs": [],
   "source": [
    "%load_ext dotenv\n",
    "%dotenv\n",
    "import os\n",
    "load_dotenv(Path(\".env\"))\n",
    "openai_api_key = os.getenv('API_TOKEN').strip('{}')"
   ]
  },
  {
   "cell_type": "code",
   "execution_count": 3,
   "id": "4ed3a77a-2ba7-4bdb-94a3-f0fe76bd3000",
   "metadata": {
    "tags": []
   },
   "outputs": [],
   "source": [
    "DATA = '../data/'\n",
    "subsections = pd.read_csv(DATA + 'subsections.csv')\n"
   ]
  },
  {
   "cell_type": "code",
   "execution_count": 4,
   "id": "c866c930-d574-440d-9002-69e282aa6dda",
   "metadata": {
    "tags": []
   },
   "outputs": [],
   "source": [
    "from langchain.llms import OpenAI\n",
    "from langchain import PromptTemplate\n",
    "from langchain.output_parsers import StructuredOutputParser, ResponseSchema\n",
    "model = OpenAI(temperature=0.9, openai_api_key = openai_api_key)"
   ]
  },
  {
   "cell_type": "markdown",
   "id": "6274421a-7c80-44f6-a48a-6583ec6ceceb",
   "metadata": {},
   "source": [
    "## Short Answer Questions"
   ]
  },
  {
   "cell_type": "code",
   "execution_count": 52,
   "id": "ff25005d-ed4a-4256-a8a7-f3021e90e081",
   "metadata": {
    "tags": []
   },
   "outputs": [],
   "source": [
    "# The types of questions we are interested in\n",
    "kinds = {'recall': 'requiring the reader to recall information from the text',\n",
    "         'summarization': 'requiring the reader to summarize information from the text',\n",
    "         'inference': 'requiring the reader to make inferences from the text'}"
   ]
  },
  {
   "cell_type": "code",
   "execution_count": 58,
   "id": "3ca5b22f-732e-4eda-8728-bd179d9cc7f6",
   "metadata": {
    "tags": []
   },
   "outputs": [],
   "source": [
    "# Create a response schema to organize the output from the model\n",
    "response_schemas = [\n",
    "    ResponseSchema(name=\"question\", description=\"a question based on the passage. The answer should be one sentence long.\"),\n",
    "    ResponseSchema(name=\"correct_answer\", description=\"a correct short answer to the question. The answer should be one sentence long.\"),\n",
    "    ResponseSchema(name=\"incorrect_answer\", description=\"an incorrect short answer to the question. The answer should be one sentence long.\")\n",
    "]\n",
    "output_parser = StructuredOutputParser.from_response_schemas(response_schemas)\n",
    "format_instructions = output_parser.get_format_instructions()"
   ]
  },
  {
   "cell_type": "code",
   "execution_count": 59,
   "id": "ca310109-c337-40fb-b99d-b0280f79b711",
   "metadata": {
    "tags": []
   },
   "outputs": [],
   "source": [
    "# Create a prompt template, the input to feed to the model\n",
    "prompt = PromptTemplate(\n",
    "    template=\"generate a question based on the passage {kind}. \\n{format_instructions}\\n{passage}\",\n",
    "    input_variables=[\"kind\", \"passage\"],\n",
    "    partial_variables={\"format_instructions\": format_instructions}\n",
    ")"
   ]
  },
  {
   "cell_type": "code",
   "execution_count": 76,
   "id": "7014a9df-8ee3-495b-85e1-b56745a77760",
   "metadata": {
    "tags": []
   },
   "outputs": [],
   "source": [
    "'''\n",
    "This is a function which takes a passage and a desired type of question, as well as the chapter, section, and subsection numbers\n",
    "It returns a dataframe with one row\n",
    "'''\n",
    "\n",
    "def generate_sa_question(example, kind):\n",
    "    # Input to the model\n",
    "    _input = prompt.format_prompt(passage=example['clean_text'], kind=kind)\n",
    "    output = model(_input.to_string())\n",
    "    \n",
    "    # Clean out the output string and convert it to a dataframe\n",
    "    output_string = output.replace('`','').replace('json','').strip()\n",
    "    # Try to decode the json\n",
    "    try:\n",
    "        output_dict = json.loads(output_string)\n",
    "    # If it doesn't work, return an empty row\n",
    "    except:\n",
    "        output_dict = {'question':'', 'correct_answer':'', 'incorrect_answer':''}\n",
    "        print('Error Parsing Output')\n",
    "\n",
    "    output_dict['type'] = kind\n",
    "    return output_dict"
   ]
  },
  {
   "cell_type": "code",
   "execution_count": 77,
   "id": "6b328977-6126-4c12-9465-883bc1d9a10c",
   "metadata": {
    "tags": []
   },
   "outputs": [
    {
     "name": "stderr",
     "output_type": "stream",
     "text": [
      "Map:   3%|▎         | 16/523 [01:48<1:06:18,  7.85s/ examples]"
     ]
    },
    {
     "name": "stdout",
     "output_type": "stream",
     "text": [
      "Error Parsing Output\n"
     ]
    },
    {
     "name": "stderr",
     "output_type": "stream",
     "text": [
      "Map:   7%|▋         | 36/523 [04:17<1:03:43,  7.85s/ examples]"
     ]
    },
    {
     "name": "stdout",
     "output_type": "stream",
     "text": [
      "Error Parsing Output\n"
     ]
    },
    {
     "name": "stderr",
     "output_type": "stream",
     "text": [
      "Map:  11%|█         | 57/523 [06:41<55:24,  7.13s/ examples]  "
     ]
    },
    {
     "name": "stdout",
     "output_type": "stream",
     "text": [
      "Error Parsing Output\n"
     ]
    },
    {
     "name": "stderr",
     "output_type": "stream",
     "text": [
      "Map:  12%|█▏        | 64/523 [07:25<49:11,  6.43s/ examples]"
     ]
    },
    {
     "name": "stdout",
     "output_type": "stream",
     "text": [
      "Error Parsing Output\n"
     ]
    },
    {
     "name": "stderr",
     "output_type": "stream",
     "text": [
      "Map:  12%|█▏        | 65/523 [07:35<57:10,  7.49s/ examples]"
     ]
    },
    {
     "name": "stdout",
     "output_type": "stream",
     "text": [
      "Error Parsing Output\n"
     ]
    },
    {
     "name": "stderr",
     "output_type": "stream",
     "text": [
      "Map:  15%|█▍        | 77/523 [09:12<1:01:17,  8.25s/ examples]"
     ]
    },
    {
     "name": "stdout",
     "output_type": "stream",
     "text": [
      "Error Parsing Output\n"
     ]
    },
    {
     "name": "stderr",
     "output_type": "stream",
     "text": [
      "Map:  16%|█▌        | 83/523 [09:50<53:23,  7.28s/ examples]  "
     ]
    },
    {
     "name": "stdout",
     "output_type": "stream",
     "text": [
      "Error Parsing Output\n"
     ]
    },
    {
     "name": "stderr",
     "output_type": "stream",
     "text": [
      "Map:  27%|██▋       | 140/523 [16:09<40:07,  6.29s/ examples]"
     ]
    },
    {
     "name": "stdout",
     "output_type": "stream",
     "text": [
      "Error Parsing Output\n"
     ]
    },
    {
     "name": "stderr",
     "output_type": "stream",
     "text": [
      "Map:  30%|██▉       | 156/523 [18:20<44:56,  7.35s/ examples]"
     ]
    },
    {
     "name": "stdout",
     "output_type": "stream",
     "text": [
      "Error Parsing Output\n"
     ]
    },
    {
     "name": "stderr",
     "output_type": "stream",
     "text": [
      "Map:  32%|███▏      | 168/523 [19:38<34:12,  5.78s/ examples]"
     ]
    },
    {
     "name": "stdout",
     "output_type": "stream",
     "text": [
      "Error Parsing Output\n"
     ]
    },
    {
     "name": "stderr",
     "output_type": "stream",
     "text": [
      "Map:  36%|███▌      | 186/523 [21:45<43:31,  7.75s/ examples]"
     ]
    },
    {
     "name": "stdout",
     "output_type": "stream",
     "text": [
      "Error Parsing Output\n"
     ]
    },
    {
     "name": "stderr",
     "output_type": "stream",
     "text": [
      "Map:  37%|███▋      | 193/523 [22:41<39:36,  7.20s/ examples]"
     ]
    },
    {
     "name": "stdout",
     "output_type": "stream",
     "text": [
      "Error Parsing Output\n"
     ]
    },
    {
     "name": "stderr",
     "output_type": "stream",
     "text": [
      "Map:  37%|███▋      | 194/523 [22:48<38:50,  7.08s/ examples]"
     ]
    },
    {
     "name": "stdout",
     "output_type": "stream",
     "text": [
      "Error Parsing Output\n"
     ]
    },
    {
     "name": "stderr",
     "output_type": "stream",
     "text": [
      "Map:  45%|████▍     | 235/523 [28:10<38:44,  8.07s/ examples]"
     ]
    },
    {
     "name": "stdout",
     "output_type": "stream",
     "text": [
      "Error Parsing Output\n"
     ]
    },
    {
     "name": "stderr",
     "output_type": "stream",
     "text": [
      "Map:  49%|████▉     | 256/523 [31:02<55:46, 12.53s/ examples]"
     ]
    },
    {
     "name": "stdout",
     "output_type": "stream",
     "text": [
      "Error Parsing Output\n"
     ]
    },
    {
     "name": "stderr",
     "output_type": "stream",
     "text": [
      "Map:  53%|█████▎    | 275/523 [33:39<29:25,  7.12s/ examples]"
     ]
    },
    {
     "name": "stdout",
     "output_type": "stream",
     "text": [
      "Error Parsing Output\n"
     ]
    },
    {
     "name": "stderr",
     "output_type": "stream",
     "text": [
      "Map:  54%|█████▎    | 281/523 [34:18<21:14,  5.27s/ examples]"
     ]
    },
    {
     "name": "stdout",
     "output_type": "stream",
     "text": [
      "Error Parsing Output\n"
     ]
    },
    {
     "name": "stderr",
     "output_type": "stream",
     "text": [
      "Map:  57%|█████▋    | 299/523 [36:39<34:00,  9.11s/ examples]"
     ]
    },
    {
     "name": "stdout",
     "output_type": "stream",
     "text": [
      "Error Parsing Output\n"
     ]
    },
    {
     "name": "stderr",
     "output_type": "stream",
     "text": [
      "Map:  60%|█████▉    | 312/523 [37:51<20:39,  5.87s/ examples]"
     ]
    },
    {
     "name": "stdout",
     "output_type": "stream",
     "text": [
      "Error Parsing Output\n"
     ]
    },
    {
     "name": "stderr",
     "output_type": "stream",
     "text": [
      "Map:  60%|██████    | 314/523 [38:03<20:50,  5.98s/ examples]"
     ]
    },
    {
     "name": "stdout",
     "output_type": "stream",
     "text": [
      "Error Parsing Output\n"
     ]
    },
    {
     "name": "stderr",
     "output_type": "stream",
     "text": [
      "Map:  61%|██████    | 318/523 [38:33<23:48,  6.97s/ examples]"
     ]
    },
    {
     "name": "stdout",
     "output_type": "stream",
     "text": [
      "Error Parsing Output\n"
     ]
    },
    {
     "name": "stderr",
     "output_type": "stream",
     "text": [
      "Map:  64%|██████▍   | 334/523 [40:14<21:02,  6.68s/ examples]"
     ]
    },
    {
     "name": "stdout",
     "output_type": "stream",
     "text": [
      "Error Parsing Output\n"
     ]
    },
    {
     "name": "stderr",
     "output_type": "stream",
     "text": [
      "Map:  74%|███████▍  | 389/523 [46:33<15:20,  6.87s/ examples]"
     ]
    },
    {
     "name": "stdout",
     "output_type": "stream",
     "text": [
      "Error Parsing Output\n"
     ]
    },
    {
     "name": "stderr",
     "output_type": "stream",
     "text": [
      "Map:  75%|███████▍  | 391/523 [46:45<13:46,  6.26s/ examples]"
     ]
    },
    {
     "name": "stdout",
     "output_type": "stream",
     "text": [
      "Error Parsing Output\n"
     ]
    },
    {
     "name": "stderr",
     "output_type": "stream",
     "text": [
      "Map:  78%|███████▊  | 407/523 [48:52<17:34,  9.09s/ examples]"
     ]
    },
    {
     "name": "stdout",
     "output_type": "stream",
     "text": [
      "Error Parsing Output\n"
     ]
    },
    {
     "name": "stderr",
     "output_type": "stream",
     "text": [
      "Map:  80%|████████  | 419/523 [50:13<12:47,  7.38s/ examples]"
     ]
    },
    {
     "name": "stdout",
     "output_type": "stream",
     "text": [
      "Error Parsing Output\n"
     ]
    },
    {
     "name": "stderr",
     "output_type": "stream",
     "text": [
      "Map:  82%|████████▏ | 430/523 [51:41<13:52,  8.96s/ examples]"
     ]
    },
    {
     "name": "stdout",
     "output_type": "stream",
     "text": [
      "Error Parsing Output\n"
     ]
    },
    {
     "name": "stderr",
     "output_type": "stream",
     "text": [
      "Map:  83%|████████▎ | 434/523 [52:14<11:54,  8.03s/ examples]Retrying langchain.llms.openai.completion_with_retry.<locals>._completion_with_retry in 4.0 seconds as it raised APIError: Request failed due to server shutdown {\n",
      "  \"error\": {\n",
      "    \"message\": \"Request failed due to server shutdown\",\n",
      "    \"type\": \"server_error\",\n",
      "    \"param\": null,\n",
      "    \"code\": null\n",
      "  }\n",
      "}\n",
      " 500 {'error': {'message': 'Request failed due to server shutdown', 'type': 'server_error', 'param': None, 'code': None}} {'Date': 'Wed, 21 Jun 2023 16:39:14 GMT', 'Content-Type': 'application/json', 'Content-Length': '141', 'Connection': 'keep-alive', 'access-control-allow-origin': '*', 'openai-model': 'text-davinci-003', 'openai-organization': 'ai-aloe-georgia-institute-of-technology', 'openai-processing-ms': '9797', 'openai-version': '2020-10-01', 'strict-transport-security': 'max-age=15724800; includeSubDomains', 'x-ratelimit-limit-requests': '3000', 'x-ratelimit-limit-tokens': '250000', 'x-ratelimit-remaining-requests': '2999', 'x-ratelimit-remaining-tokens': '249744', 'x-ratelimit-reset-requests': '20ms', 'x-ratelimit-reset-tokens': '61ms', 'x-request-id': 'ea549708e6429db969b4e196b481b631', 'CF-Cache-Status': 'DYNAMIC', 'Server': 'cloudflare', 'CF-RAY': '7dadaf7e8d52f7d0-BNA', 'alt-svc': 'h3=\":443\"; ma=86400'}.\n",
      "Map:  89%|████████▉ | 466/523 [57:02<08:13,  8.66s/ examples]"
     ]
    },
    {
     "name": "stdout",
     "output_type": "stream",
     "text": [
      "Error Parsing Output\n"
     ]
    },
    {
     "name": "stderr",
     "output_type": "stream",
     "text": [
      "Map:  90%|█████████ | 473/523 [57:55<05:25,  6.50s/ examples]"
     ]
    },
    {
     "name": "stdout",
     "output_type": "stream",
     "text": [
      "Error Parsing Output\n"
     ]
    },
    {
     "name": "stderr",
     "output_type": "stream",
     "text": [
      "Map:  91%|█████████ | 476/523 [58:22<06:24,  8.17s/ examples]"
     ]
    },
    {
     "name": "stdout",
     "output_type": "stream",
     "text": [
      "Error Parsing Output\n"
     ]
    },
    {
     "name": "stderr",
     "output_type": "stream",
     "text": [
      "Map:  93%|█████████▎| 484/523 [59:22<05:15,  8.10s/ examples]"
     ]
    },
    {
     "name": "stdout",
     "output_type": "stream",
     "text": [
      "Error Parsing Output\n"
     ]
    },
    {
     "name": "stderr",
     "output_type": "stream",
     "text": [
      "Map:   1%|          | 3/523 [00:21<1:06:50,  7.71s/ examples]  "
     ]
    },
    {
     "name": "stdout",
     "output_type": "stream",
     "text": [
      "Error Parsing Output\n"
     ]
    },
    {
     "name": "stderr",
     "output_type": "stream",
     "text": [
      "Map:   7%|▋         | 36/523 [03:58<1:05:31,  8.07s/ examples]"
     ]
    },
    {
     "name": "stdout",
     "output_type": "stream",
     "text": [
      "Error Parsing Output\n"
     ]
    },
    {
     "name": "stderr",
     "output_type": "stream",
     "text": [
      "Map:  11%|█         | 55/523 [06:04<48:45,  6.25s/ examples]  "
     ]
    },
    {
     "name": "stdout",
     "output_type": "stream",
     "text": [
      "Error Parsing Output\n"
     ]
    },
    {
     "name": "stderr",
     "output_type": "stream",
     "text": [
      "Map:  11%|█         | 57/523 [06:16<49:15,  6.34s/ examples]"
     ]
    },
    {
     "name": "stdout",
     "output_type": "stream",
     "text": [
      "Error Parsing Output\n"
     ]
    },
    {
     "name": "stderr",
     "output_type": "stream",
     "text": [
      "Map:  12%|█▏        | 64/523 [07:08<53:04,  6.94s/ examples]  "
     ]
    },
    {
     "name": "stdout",
     "output_type": "stream",
     "text": [
      "Error Parsing Output\n"
     ]
    },
    {
     "name": "stderr",
     "output_type": "stream",
     "text": [
      "Map:  12%|█▏        | 65/523 [07:16<55:07,  7.22s/ examples]"
     ]
    },
    {
     "name": "stdout",
     "output_type": "stream",
     "text": [
      "Error Parsing Output\n"
     ]
    },
    {
     "name": "stderr",
     "output_type": "stream",
     "text": [
      "Map:  15%|█▍        | 77/523 [08:37<50:58,  6.86s/ examples]  "
     ]
    },
    {
     "name": "stdout",
     "output_type": "stream",
     "text": [
      "Error Parsing Output\n"
     ]
    },
    {
     "name": "stderr",
     "output_type": "stream",
     "text": [
      "Map:  19%|█▉        | 99/523 [11:23<1:01:24,  8.69s/ examples]"
     ]
    },
    {
     "name": "stdout",
     "output_type": "stream",
     "text": [
      "Error Parsing Output\n"
     ]
    },
    {
     "name": "stderr",
     "output_type": "stream",
     "text": [
      "Map:  30%|██▉       | 156/523 [17:58<37:44,  6.17s/ examples]  "
     ]
    },
    {
     "name": "stdout",
     "output_type": "stream",
     "text": [
      "Error Parsing Output\n"
     ]
    },
    {
     "name": "stderr",
     "output_type": "stream",
     "text": [
      "Map:  37%|███▋      | 194/523 [22:41<40:28,  7.38s/ examples]"
     ]
    },
    {
     "name": "stdout",
     "output_type": "stream",
     "text": [
      "Error Parsing Output\n"
     ]
    },
    {
     "name": "stderr",
     "output_type": "stream",
     "text": [
      "Map:  40%|████      | 211/523 [24:31<36:09,  6.95s/ examples]"
     ]
    },
    {
     "name": "stdout",
     "output_type": "stream",
     "text": [
      "Error Parsing Output\n"
     ]
    },
    {
     "name": "stderr",
     "output_type": "stream",
     "text": [
      "Map:  49%|████▉     | 256/523 [29:43<38:58,  8.76s/ examples]"
     ]
    },
    {
     "name": "stdout",
     "output_type": "stream",
     "text": [
      "Error Parsing Output\n"
     ]
    },
    {
     "name": "stderr",
     "output_type": "stream",
     "text": [
      "Map:  53%|█████▎    | 275/523 [32:10<29:18,  7.09s/ examples]"
     ]
    },
    {
     "name": "stdout",
     "output_type": "stream",
     "text": [
      "Error Parsing Output\n"
     ]
    },
    {
     "name": "stderr",
     "output_type": "stream",
     "text": [
      "Map:  54%|█████▎    | 281/523 [32:44<22:47,  5.65s/ examples]"
     ]
    },
    {
     "name": "stdout",
     "output_type": "stream",
     "text": [
      "Error Parsing Output\n"
     ]
    },
    {
     "name": "stderr",
     "output_type": "stream",
     "text": [
      "Map:  55%|█████▍    | 287/523 [33:29<25:31,  6.49s/ examples]"
     ]
    },
    {
     "name": "stdout",
     "output_type": "stream",
     "text": [
      "Error Parsing Output\n"
     ]
    },
    {
     "name": "stderr",
     "output_type": "stream",
     "text": [
      "Map:  57%|█████▋    | 299/523 [34:57<29:59,  8.03s/ examples]"
     ]
    },
    {
     "name": "stdout",
     "output_type": "stream",
     "text": [
      "Error Parsing Output\n"
     ]
    },
    {
     "name": "stderr",
     "output_type": "stream",
     "text": [
      "Map:  60%|██████    | 315/523 [36:34<20:37,  5.95s/ examples]"
     ]
    },
    {
     "name": "stdout",
     "output_type": "stream",
     "text": [
      "Error Parsing Output\n"
     ]
    },
    {
     "name": "stderr",
     "output_type": "stream",
     "text": [
      "Map:  61%|██████    | 318/523 [36:54<23:43,  6.95s/ examples]"
     ]
    },
    {
     "name": "stdout",
     "output_type": "stream",
     "text": [
      "Error Parsing Output\n"
     ]
    },
    {
     "name": "stderr",
     "output_type": "stream",
     "text": [
      "Map:  61%|██████    | 319/523 [36:59<22:11,  6.53s/ examples]"
     ]
    },
    {
     "name": "stdout",
     "output_type": "stream",
     "text": [
      "Error Parsing Output\n"
     ]
    },
    {
     "name": "stderr",
     "output_type": "stream",
     "text": [
      "Map:  63%|██████▎   | 330/523 [38:03<23:52,  7.42s/ examples]"
     ]
    },
    {
     "name": "stdout",
     "output_type": "stream",
     "text": [
      "Error Parsing Output\n"
     ]
    },
    {
     "name": "stderr",
     "output_type": "stream",
     "text": [
      "Map:  64%|██████▍   | 334/523 [38:25<18:25,  5.85s/ examples]"
     ]
    },
    {
     "name": "stdout",
     "output_type": "stream",
     "text": [
      "Error Parsing Output\n"
     ]
    },
    {
     "name": "stderr",
     "output_type": "stream",
     "text": [
      "Map:  67%|██████▋   | 350/523 [39:55<16:54,  5.86s/ examples]"
     ]
    },
    {
     "name": "stdout",
     "output_type": "stream",
     "text": [
      "Error Parsing Output\n"
     ]
    },
    {
     "name": "stderr",
     "output_type": "stream",
     "text": [
      "Map:  70%|██████▉   | 366/523 [41:58<22:49,  8.72s/ examples]"
     ]
    },
    {
     "name": "stdout",
     "output_type": "stream",
     "text": [
      "Error Parsing Output\n"
     ]
    },
    {
     "name": "stderr",
     "output_type": "stream",
     "text": [
      "Map:  74%|███████▍  | 389/523 [44:51<16:12,  7.26s/ examples]"
     ]
    },
    {
     "name": "stdout",
     "output_type": "stream",
     "text": [
      "Error Parsing Output\n"
     ]
    },
    {
     "name": "stderr",
     "output_type": "stream",
     "text": [
      "Map:  78%|███████▊  | 407/523 [46:51<15:12,  7.86s/ examples]"
     ]
    },
    {
     "name": "stdout",
     "output_type": "stream",
     "text": [
      "Error Parsing Output\n"
     ]
    },
    {
     "name": "stderr",
     "output_type": "stream",
     "text": [
      "Map:  82%|████████▏ | 430/523 [49:42<12:38,  8.15s/ examples]"
     ]
    },
    {
     "name": "stdout",
     "output_type": "stream",
     "text": [
      "Error Parsing Output\n"
     ]
    },
    {
     "name": "stderr",
     "output_type": "stream",
     "text": [
      "Map:  84%|████████▎ | 438/523 [50:34<07:43,  5.45s/ examples]"
     ]
    },
    {
     "name": "stdout",
     "output_type": "stream",
     "text": [
      "Error Parsing Output\n"
     ]
    },
    {
     "name": "stderr",
     "output_type": "stream",
     "text": [
      "Map:  91%|█████████ | 476/523 [54:51<04:08,  5.29s/ examples]"
     ]
    },
    {
     "name": "stdout",
     "output_type": "stream",
     "text": [
      "Error Parsing Output\n"
     ]
    },
    {
     "name": "stderr",
     "output_type": "stream",
     "text": [
      "Map:  93%|█████████▎| 486/523 [55:55<03:37,  5.88s/ examples]"
     ]
    },
    {
     "name": "stdout",
     "output_type": "stream",
     "text": [
      "Error Parsing Output\n"
     ]
    },
    {
     "name": "stderr",
     "output_type": "stream",
     "text": [
      "Map:  94%|█████████▎| 490/523 [56:21<03:22,  6.15s/ examples]"
     ]
    },
    {
     "name": "stdout",
     "output_type": "stream",
     "text": [
      "Error Parsing Output\n"
     ]
    },
    {
     "name": "stderr",
     "output_type": "stream",
     "text": [
      "Map:   4%|▍         | 22/523 [02:21<44:34,  5.34s/ examples]   "
     ]
    },
    {
     "name": "stdout",
     "output_type": "stream",
     "text": [
      "Error Parsing Output\n"
     ]
    },
    {
     "name": "stderr",
     "output_type": "stream",
     "text": [
      "Map:  11%|█▏        | 59/523 [06:45<57:22,  7.42s/ examples]  "
     ]
    },
    {
     "name": "stdout",
     "output_type": "stream",
     "text": [
      "Error Parsing Output\n"
     ]
    },
    {
     "name": "stderr",
     "output_type": "stream",
     "text": [
      "Map:  12%|█▏        | 64/523 [07:19<51:09,  6.69s/ examples]  "
     ]
    },
    {
     "name": "stdout",
     "output_type": "stream",
     "text": [
      "Error Parsing Output\n"
     ]
    },
    {
     "name": "stderr",
     "output_type": "stream",
     "text": [
      "Map:  12%|█▏        | 65/523 [07:26<52:28,  6.87s/ examples]"
     ]
    },
    {
     "name": "stdout",
     "output_type": "stream",
     "text": [
      "Error Parsing Output\n"
     ]
    },
    {
     "name": "stderr",
     "output_type": "stream",
     "text": [
      "Map:  22%|██▏       | 116/523 [13:14<52:38,  7.76s/ examples] "
     ]
    },
    {
     "name": "stdout",
     "output_type": "stream",
     "text": [
      "Error Parsing Output\n"
     ]
    },
    {
     "name": "stderr",
     "output_type": "stream",
     "text": [
      "Map:  30%|██▉       | 156/523 [19:00<1:00:18,  9.86s/ examples]"
     ]
    },
    {
     "name": "stdout",
     "output_type": "stream",
     "text": [
      "Error Parsing Output\n"
     ]
    },
    {
     "name": "stderr",
     "output_type": "stream",
     "text": [
      "Map:  32%|███▏      | 168/523 [20:36<51:14,  8.66s/ examples]  "
     ]
    },
    {
     "name": "stdout",
     "output_type": "stream",
     "text": [
      "Error Parsing Output\n"
     ]
    },
    {
     "name": "stderr",
     "output_type": "stream",
     "text": [
      "Map:  37%|███▋      | 194/523 [24:20<46:32,  8.49s/ examples]"
     ]
    },
    {
     "name": "stdout",
     "output_type": "stream",
     "text": [
      "Error Parsing Output\n"
     ]
    },
    {
     "name": "stderr",
     "output_type": "stream",
     "text": [
      "Map:  37%|███▋      | 196/523 [24:40<51:08,  9.39s/ examples]"
     ]
    },
    {
     "name": "stdout",
     "output_type": "stream",
     "text": [
      "Error Parsing Output\n"
     ]
    },
    {
     "name": "stderr",
     "output_type": "stream",
     "text": [
      "Map:  38%|███▊      | 201/523 [25:21<43:35,  8.12s/ examples]"
     ]
    },
    {
     "name": "stdout",
     "output_type": "stream",
     "text": [
      "Error Parsing Output\n"
     ]
    },
    {
     "name": "stderr",
     "output_type": "stream",
     "text": [
      "Map:  39%|███▉      | 205/523 [26:11<54:59, 10.38s/ examples]  "
     ]
    },
    {
     "name": "stdout",
     "output_type": "stream",
     "text": [
      "Error Parsing Output\n"
     ]
    },
    {
     "name": "stderr",
     "output_type": "stream",
     "text": [
      "Map:  43%|████▎     | 226/523 [29:47<57:21, 11.59s/ examples]  "
     ]
    },
    {
     "name": "stdout",
     "output_type": "stream",
     "text": [
      "Error Parsing Output\n"
     ]
    },
    {
     "name": "stderr",
     "output_type": "stream",
     "text": [
      "Map:  49%|████▉     | 256/523 [34:29<39:55,  8.97s/ examples]"
     ]
    },
    {
     "name": "stdout",
     "output_type": "stream",
     "text": [
      "Error Parsing Output\n"
     ]
    },
    {
     "name": "stderr",
     "output_type": "stream",
     "text": [
      "Map:  53%|█████▎    | 275/523 [37:47<41:13,  9.97s/ examples]"
     ]
    },
    {
     "name": "stdout",
     "output_type": "stream",
     "text": [
      "Error Parsing Output\n"
     ]
    },
    {
     "name": "stderr",
     "output_type": "stream",
     "text": [
      "Map:  54%|█████▎    | 281/523 [38:41<34:58,  8.67s/ examples]"
     ]
    },
    {
     "name": "stdout",
     "output_type": "stream",
     "text": [
      "Error Parsing Output\n"
     ]
    },
    {
     "name": "stderr",
     "output_type": "stream",
     "text": [
      "Map:  54%|█████▍    | 282/523 [38:48<32:14,  8.03s/ examples]"
     ]
    },
    {
     "name": "stdout",
     "output_type": "stream",
     "text": [
      "Error Parsing Output\n"
     ]
    },
    {
     "name": "stderr",
     "output_type": "stream",
     "text": [
      "Map:  57%|█████▋    | 299/523 [41:17<36:50,  9.87s/ examples]"
     ]
    },
    {
     "name": "stdout",
     "output_type": "stream",
     "text": [
      "Error Parsing Output\n"
     ]
    },
    {
     "name": "stderr",
     "output_type": "stream",
     "text": [
      "Map:  59%|█████▊    | 306/523 [42:13<29:38,  8.20s/ examples]"
     ]
    },
    {
     "name": "stdout",
     "output_type": "stream",
     "text": [
      "Error Parsing Output\n"
     ]
    },
    {
     "name": "stderr",
     "output_type": "stream",
     "text": [
      "Map:  60%|██████    | 314/523 [43:27<38:49, 11.14s/ examples]"
     ]
    },
    {
     "name": "stdout",
     "output_type": "stream",
     "text": [
      "Error Parsing Output\n"
     ]
    },
    {
     "name": "stderr",
     "output_type": "stream",
     "text": [
      "Map:  63%|██████▎   | 330/523 [45:54<28:21,  8.82s/ examples]"
     ]
    },
    {
     "name": "stdout",
     "output_type": "stream",
     "text": [
      "Error Parsing Output\n"
     ]
    },
    {
     "name": "stderr",
     "output_type": "stream",
     "text": [
      "Map:  64%|██████▍   | 334/523 [46:25<25:06,  7.97s/ examples]"
     ]
    },
    {
     "name": "stdout",
     "output_type": "stream",
     "text": [
      "Error Parsing Output\n"
     ]
    },
    {
     "name": "stderr",
     "output_type": "stream",
     "text": [
      "Map:  66%|██████▌   | 343/523 [47:38<21:30,  7.17s/ examples]"
     ]
    },
    {
     "name": "stdout",
     "output_type": "stream",
     "text": [
      "Error Parsing Output\n"
     ]
    },
    {
     "name": "stderr",
     "output_type": "stream",
     "text": [
      "Map:  67%|██████▋   | 350/523 [48:55<34:02, 11.80s/ examples]"
     ]
    },
    {
     "name": "stdout",
     "output_type": "stream",
     "text": [
      "Error Parsing Output\n"
     ]
    },
    {
     "name": "stderr",
     "output_type": "stream",
     "text": [
      "Map:  70%|██████▉   | 366/523 [51:33<26:47, 10.24s/ examples]"
     ]
    },
    {
     "name": "stdout",
     "output_type": "stream",
     "text": [
      "Error Parsing Output\n"
     ]
    },
    {
     "name": "stderr",
     "output_type": "stream",
     "text": [
      "Map:  76%|███████▌  | 395/523 [56:41<19:54,  9.33s/ examples]"
     ]
    },
    {
     "name": "stdout",
     "output_type": "stream",
     "text": [
      "Error Parsing Output\n"
     ]
    },
    {
     "name": "stderr",
     "output_type": "stream",
     "text": [
      "Map:  77%|███████▋  | 403/523 [58:06<22:59, 11.50s/ examples]"
     ]
    },
    {
     "name": "stdout",
     "output_type": "stream",
     "text": [
      "Error Parsing Output\n"
     ]
    },
    {
     "name": "stderr",
     "output_type": "stream",
     "text": [
      "Map:  78%|███████▊  | 407/523 [59:08<27:18, 14.12s/ examples]"
     ]
    },
    {
     "name": "stdout",
     "output_type": "stream",
     "text": [
      "Error Parsing Output\n"
     ]
    },
    {
     "name": "stderr",
     "output_type": "stream",
     "text": [
      "Map:  82%|████████▏ | 430/523 [1:03:34<24:01, 15.50s/ examples]"
     ]
    },
    {
     "name": "stdout",
     "output_type": "stream",
     "text": [
      "Error Parsing Output\n"
     ]
    },
    {
     "name": "stderr",
     "output_type": "stream",
     "text": [
      "Map:  83%|████████▎ | 432/523 [1:03:52<18:32, 12.22s/ examples]"
     ]
    },
    {
     "name": "stdout",
     "output_type": "stream",
     "text": [
      "Error Parsing Output\n"
     ]
    },
    {
     "name": "stderr",
     "output_type": "stream",
     "text": [
      "Map:  84%|████████▎ | 438/523 [1:04:57<14:37, 10.32s/ examples]"
     ]
    },
    {
     "name": "stdout",
     "output_type": "stream",
     "text": [
      "Error Parsing Output\n"
     ]
    },
    {
     "name": "stderr",
     "output_type": "stream",
     "text": [
      "Map:  86%|████████▌ | 450/523 [1:07:03<14:38, 12.04s/ examples]"
     ]
    },
    {
     "name": "stdout",
     "output_type": "stream",
     "text": [
      "Error Parsing Output\n"
     ]
    },
    {
     "name": "stderr",
     "output_type": "stream",
     "text": [
      "Map:  91%|█████████ | 476/523 [1:11:10<06:38,  8.48s/ examples]"
     ]
    },
    {
     "name": "stdout",
     "output_type": "stream",
     "text": [
      "Error Parsing Output\n"
     ]
    },
    {
     "name": "stderr",
     "output_type": "stream",
     "text": [
      "Map:  94%|█████████▎| 490/523 [1:13:15<05:21,  9.74s/ examples]"
     ]
    },
    {
     "name": "stdout",
     "output_type": "stream",
     "text": [
      "Error Parsing Output\n"
     ]
    },
    {
     "name": "stderr",
     "output_type": "stream",
     "text": [
      "Map:  94%|█████████▍| 493/523 [1:13:51<05:37, 11.23s/ examples]"
     ]
    },
    {
     "name": "stdout",
     "output_type": "stream",
     "text": [
      "Error Parsing Output\n"
     ]
    },
    {
     "name": "stderr",
     "output_type": "stream",
     "text": [
      "Map:  96%|█████████▌| 503/523 [1:15:28<03:25, 10.29s/ examples]"
     ]
    },
    {
     "name": "stdout",
     "output_type": "stream",
     "text": [
      "Error Parsing Output\n"
     ]
    },
    {
     "name": "stderr",
     "output_type": "stream",
     "text": [
      "Map:  98%|█████████▊| 512/523 [1:16:50<01:39,  9.08s/ examples]"
     ]
    },
    {
     "name": "stdout",
     "output_type": "stream",
     "text": [
      "Error Parsing Output\n"
     ]
    },
    {
     "name": "stderr",
     "output_type": "stream",
     "text": [
      "                                                               \r"
     ]
    },
    {
     "data": {
      "text/plain": [
       "{'recall': Dataset({\n",
       "     features: ['module', 'chapter', 'section', 'subsection', 'heading', 'raw_text', 'clean_text', 'slug', 'question', 'correct_answer', 'incorrect_answer', 'type'],\n",
       "     num_rows: 523\n",
       " }),\n",
       " 'summarization': Dataset({\n",
       "     features: ['module', 'chapter', 'section', 'subsection', 'heading', 'raw_text', 'clean_text', 'slug', 'question', 'correct_answer', 'incorrect_answer', 'type'],\n",
       "     num_rows: 523\n",
       " }),\n",
       " 'inference': Dataset({\n",
       "     features: ['module', 'chapter', 'section', 'subsection', 'heading', 'raw_text', 'clean_text', 'slug', 'question', 'correct_answer', 'incorrect_answer', 'type'],\n",
       "     num_rows: 523\n",
       " })}"
      ]
     },
     "execution_count": 77,
     "metadata": {},
     "output_type": "execute_result"
    }
   ],
   "source": [
    "import datasets\n",
    "\n",
    "ds = datasets.Dataset.from_pandas(subsections)\n",
    "ds_dict = {}\n",
    "\n",
    "for k in kinds:\n",
    "    ds_dict[k] = ds.map(lambda x: generate_sa_question(x, k))\n",
    "\n",
    "ds_dict"
   ]
  },
  {
   "cell_type": "code",
   "execution_count": 92,
   "id": "6e2f8dcb-b159-4322-a018-5f6ecf039d4c",
   "metadata": {},
   "outputs": [],
   "source": [
    "df_list = [v.to_pandas() for v in ds_dict.values()]\n",
    "big_df = pd.concat(df_list)\n",
    "big_df.reset_index().to_csv('../data/aqag-chatcpt.csv')"
   ]
  },
  {
   "cell_type": "code",
   "execution_count": 91,
   "id": "615d9fc0-a82b-4c59-9d6f-9890d5d65c98",
   "metadata": {},
   "outputs": [
    {
     "data": {
      "text/html": [
       "<div>\n",
       "<style scoped>\n",
       "    .dataframe tbody tr th:only-of-type {\n",
       "        vertical-align: middle;\n",
       "    }\n",
       "\n",
       "    .dataframe tbody tr th {\n",
       "        vertical-align: top;\n",
       "    }\n",
       "\n",
       "    .dataframe thead th {\n",
       "        text-align: right;\n",
       "    }\n",
       "</style>\n",
       "<table border=\"1\" class=\"dataframe\">\n",
       "  <thead>\n",
       "    <tr style=\"text-align: right;\">\n",
       "      <th></th>\n",
       "      <th>index</th>\n",
       "      <th>module</th>\n",
       "      <th>chapter</th>\n",
       "      <th>section</th>\n",
       "      <th>subsection</th>\n",
       "      <th>heading</th>\n",
       "      <th>raw_text</th>\n",
       "      <th>clean_text</th>\n",
       "      <th>slug</th>\n",
       "      <th>question</th>\n",
       "      <th>correct_answer</th>\n",
       "      <th>incorrect_answer</th>\n",
       "      <th>type</th>\n",
       "    </tr>\n",
       "  </thead>\n",
       "  <tbody>\n",
       "    <tr>\n",
       "      <th>3</th>\n",
       "      <td>3</td>\n",
       "      <td>1</td>\n",
       "      <td>1</td>\n",
       "      <td>1</td>\n",
       "      <td>1</td>\n",
       "      <td>Introduction to FRED</td>\n",
       "      <td>Data is very important in economics because it...</td>\n",
       "      <td>Data is very important in economics because it...</td>\n",
       "      <td>introduction-to-fred</td>\n",
       "      <td>What is the name of the database where most of...</td>\n",
       "      <td>The St. Louis Federal Reserve Bank's FRED data...</td>\n",
       "      <td>The US Census Bureau database.</td>\n",
       "      <td>recall</td>\n",
       "    </tr>\n",
       "    <tr>\n",
       "      <th>526</th>\n",
       "      <td>3</td>\n",
       "      <td>1</td>\n",
       "      <td>1</td>\n",
       "      <td>1</td>\n",
       "      <td>1</td>\n",
       "      <td>Introduction to FRED</td>\n",
       "      <td>Data is very important in economics because it...</td>\n",
       "      <td>Data is very important in economics because it...</td>\n",
       "      <td>introduction-to-fred</td>\n",
       "      <td>What website does the course primarily use for...</td>\n",
       "      <td>The course primarily uses the St. Louis Federa...</td>\n",
       "      <td>The course primarily uses the St. Louis Federa...</td>\n",
       "      <td>summarization</td>\n",
       "    </tr>\n",
       "    <tr>\n",
       "      <th>1049</th>\n",
       "      <td>3</td>\n",
       "      <td>1</td>\n",
       "      <td>1</td>\n",
       "      <td>1</td>\n",
       "      <td>1</td>\n",
       "      <td>Introduction to FRED</td>\n",
       "      <td>Data is very important in economics because it...</td>\n",
       "      <td>Data is very important in economics because it...</td>\n",
       "      <td>introduction-to-fred</td>\n",
       "      <td>Which government agencies are sources of econo...</td>\n",
       "      <td>A variety of government agencies</td>\n",
       "      <td>FRED</td>\n",
       "      <td>inference</td>\n",
       "    </tr>\n",
       "  </tbody>\n",
       "</table>\n",
       "</div>"
      ],
      "text/plain": [
       "      index  module  chapter  section  subsection               heading  \\\n",
       "3         3       1        1        1           1  Introduction to FRED   \n",
       "526       3       1        1        1           1  Introduction to FRED   \n",
       "1049      3       1        1        1           1  Introduction to FRED   \n",
       "\n",
       "                                               raw_text  \\\n",
       "3     Data is very important in economics because it...   \n",
       "526   Data is very important in economics because it...   \n",
       "1049  Data is very important in economics because it...   \n",
       "\n",
       "                                             clean_text                  slug  \\\n",
       "3     Data is very important in economics because it...  introduction-to-fred   \n",
       "526   Data is very important in economics because it...  introduction-to-fred   \n",
       "1049  Data is very important in economics because it...  introduction-to-fred   \n",
       "\n",
       "                                               question  \\\n",
       "3     What is the name of the database where most of...   \n",
       "526   What website does the course primarily use for...   \n",
       "1049  Which government agencies are sources of econo...   \n",
       "\n",
       "                                         correct_answer  \\\n",
       "3     The St. Louis Federal Reserve Bank's FRED data...   \n",
       "526   The course primarily uses the St. Louis Federa...   \n",
       "1049                   A variety of government agencies   \n",
       "\n",
       "                                       incorrect_answer           type  \n",
       "3                        The US Census Bureau database.         recall  \n",
       "526   The course primarily uses the St. Louis Federa...  summarization  \n",
       "1049                                               FRED      inference  "
      ]
     },
     "execution_count": 91,
     "metadata": {},
     "output_type": "execute_result"
    }
   ],
   "source": [
    "big_df1 = big_df\n",
    "big_df1[big_df1['index'] == 3]"
   ]
  },
  {
   "cell_type": "code",
   "execution_count": 62,
   "id": "7d686ca6-33af-4e4d-884c-a6da8e7961d9",
   "metadata": {
    "tags": []
   },
   "outputs": [
    {
     "name": "stdout",
     "output_type": "stream",
     "text": [
      "Trouble parsing 1569 subsections\n"
     ]
    }
   ],
   "source": [
    "'''\n",
    "This cell generates short answer questions and correct and incorrect answer for each row of the subsections dataframe\n",
    "'''\n",
    "\n",
    "df = pd.DataFrame({'clean_text':[], 'question':[], 'correct_answer':[], 'incorrect_answer':[], 'type':[], 'chapter':[], 'section':[], 'subsection':[]})\n",
    "# Count how many rows chatGPT failed at\n",
    "problem_rows = 0\n",
    "\n",
    "for row in subsections.iterrows():\n",
    "    print(row[0], end='\\r')\n",
    "    passage = row[1]['clean_text']\n",
    "    for kind in kinds:\n",
    "        try: \n",
    "            line = generate_sa_question(passage, kind, row[1]['chapter'], row[1]['section'], row[1]['subsection'])\n",
    "            df = pd.concat([df, line], axis=0)\n",
    "        except:\n",
    "            problem_rows += 1\n",
    "            continue\n",
    "\n",
    "print(f'Trouble parsing {problem_rows} subsections')\n",
    "        \n",
    "        "
   ]
  },
  {
   "cell_type": "code",
   "execution_count": null,
   "id": "be071978-6339-4207-9a7b-2bc59ab0d54c",
   "metadata": {
    "tags": []
   },
   "outputs": [],
   "source": [
    "df"
   ]
  },
  {
   "cell_type": "code",
   "execution_count": null,
   "id": "3f26bc96-c3f2-4063-a73a-bb605d4c279f",
   "metadata": {
    "tags": []
   },
   "outputs": [],
   "source": [
    "df.reset_index(drop=True).to_csv('../results/aqg.csv')"
   ]
  },
  {
   "cell_type": "markdown",
   "id": "785340eb-b374-4669-8562-30dca5b2bdf5",
   "metadata": {},
   "source": [
    "## Multiple Choice Questions"
   ]
  },
  {
   "cell_type": "code",
   "execution_count": null,
   "id": "e29d6328-8e92-4a11-bc9f-e2752969c14a",
   "metadata": {
    "tags": []
   },
   "outputs": [
    {
     "name": "stdout",
     "output_type": "stream",
     "text": [
      "116\r"
     ]
    }
   ],
   "source": [
    "template = \"\"\"\n",
    "I want you to generate a multiple choice question for a passage with one correct answer and explanations for all answers using this as an example:\n",
    "\n",
    "Question:\n",
    "\n",
    "A:\n",
    "B:\n",
    "C:\n",
    "D:\n",
    "\n",
    "Correct Answer:\n",
    "\n",
    "Explanation for A:\n",
    "Explanation for B:\n",
    "Explanation for C:\n",
    "Explanation for D:\n",
    "\n",
    "Here is the passage I want you to use to generate the question: {passage}\n",
    "\"\"\"\n",
    "\n",
    "prompt = PromptTemplate(\n",
    "    input_variables=[\"passage\"],\n",
    "    template = template)\n",
    "\n",
    "questions_dict = {'id':[], 'chapter':[], 'section':[], 'subsection':[], 'item':[]}\n",
    "counter = 0\n",
    "for row in subsections.iterrows():\n",
    "    print(counter, end='\\r')\n",
    "    questions_dict['id'].append(row[0])\n",
    "    questions_dict['chapter'].append(row[1]['chapter'])\n",
    "    questions_dict['section'].append(row[1]['section'])\n",
    "    questions_dict['subsection'].append(row[1]['subsection'])\n",
    "    questions_dict['item'].append(llm(prompt.format(passage=row[1]['clean_text'])))\n",
    "    counter +=1\n"
   ]
  },
  {
   "cell_type": "code",
   "execution_count": null,
   "id": "da128720-fad7-401e-af75-57286a82ae7f",
   "metadata": {
    "tags": []
   },
   "outputs": [],
   "source": [
    "questions_df = pd.DataFrame.from_dict(questions_dict)\n",
    "questions_df.to_csv('../data/gpt_questions.csv')"
   ]
  },
  {
   "cell_type": "code",
   "execution_count": 6,
   "id": "ba12decb-98e2-4323-8136-2e7c1955f3ba",
   "metadata": {
    "tags": []
   },
   "outputs": [],
   "source": [
    "def generate_question(summary):\n",
    "    prompt = \"\"\"Generate a multiple-choice question, give the correct answer, and give explanations for the distractors for the following passage. Please use the following format:\n",
    "    Question: [Write the question here.] \n",
    "    A. [Write option A here]\n",
    "    B. [Write option B here]\n",
    "    C. [Write option C here]\n",
    "    D. [Write option D here]\n",
    "\n",
    "    Correct Answer: [Write the correct answer here] \n",
    "\n",
    "    Explanation for A: [Write the explanation for A here]\n",
    "    Explanation for B: [Write the explanation for B here]\n",
    "    Explanation for C: [Write the explanation for C here]\n",
    "    Explanation for D: [Write the explanation for D here]\n",
    "    \n",
    "\"\"\"\n",
    "    text_input = prompt + summary\n",
    "    completions = openai.Completion.create(engine=\"text-davinci-003\", prompt=text_input, max_tokens=2048, n=1,stop=None,temperature=0.7)\n",
    "    message = completions.choices[0].text\n",
    "    return message"
   ]
  },
  {
   "cell_type": "code",
   "execution_count": 7,
   "id": "2e1ddbfa-3ad0-43f4-8a5e-d1618874392d",
   "metadata": {
    "tags": []
   },
   "outputs": [],
   "source": [
    "def chatGPTparseMCQ(output):    \n",
    "    output_dict['question'].append(re.search('(Question:)[\\w\\d\\s]*/?', output).group(0)[10:])\n",
    "    output = re.sub('(Question:)[\\w\\d\\s]*/?', '', output).strip()\n",
    "\n",
    "    output_dict['answer_a'].append(re.search('A.+', output).group(0)[3:])\n",
    "    output = re.sub('A.+', '', output, count=1).strip()\n",
    "    output_dict['answer_b'].append(re.search('B.+', output).group(0)[3:])\n",
    "    output = re.sub('B.+', '', output, count=1).strip()\n",
    "    output_dict['answer_c'].append(re.search('C.+', output).group(0)[3:])\n",
    "    output = re.sub('C.+', '', output, count=1).strip()\n",
    "    output_dict['answer_d'].append(re.search('D.+', output).group(0)[3:])\n",
    "    output = re.sub('D.+', '', output, count=1).strip()\n",
    "\n",
    "    output_dict['correct_answer'].append(re.search('[Cc]orrect [Aa]nswer: .', output).group(0)[-1])\n",
    "    output = re.sub('[Cc]orrect [Aa]nswer: .+', '', output, count=1).strip()\n",
    "\n",
    "    a = re.search('Explanation for A.+', output)\n",
    "    if a == None:\n",
    "        output_dict['explanation_a'].append('')\n",
    "    else:\n",
    "        output_dict['explanation_a'].append(a.group(0)[18:])\n",
    "\n",
    "    b = re.search('Explanation for B.+', output)\n",
    "    if b == None:\n",
    "        output_dict['explanation_b'].append('')\n",
    "    else:\n",
    "        output_dict['explanation_b'].append(b.group(0)[18:])\n",
    "    \n",
    "    c = re.search('Explanation for C.+', output)\n",
    "    if c == None:\n",
    "        output_dict['explanation_c'].append('')\n",
    "    else:\n",
    "        output_dict['explanation_c'].append(c.group(0)[18:])\n",
    "        \n",
    "    d = re.search('Explanation for D.+', output)\n",
    "    if d == None:\n",
    "        output_dict['explanation_d'].append('')\n",
    "    else:\n",
    "        output_dict['explanation_d'].append(d.group(0)[18:])\n",
    "\n",
    "\n"
   ]
  },
  {
   "cell_type": "code",
   "execution_count": null,
   "id": "a7fc6d91-b977-4cc4-b758-a7f38f7e68a0",
   "metadata": {
    "tags": []
   },
   "outputs": [],
   "source": [
    "output_dict = {'chapter': [], 'section': [], 'subsection_number':[], 'subsection_slug': [], 'question': [], 'answer_a':[], 'answer_b':[], 'answer_c':[], 'answer_d':[], \n",
    "                'explanation_a':[], 'explanation_b':[], 'explanation_c':[], 'explanation_d':[], \n",
    "                'correct_answer':[]}\n",
    "\n",
    "for row in subsections.iterrows():\n",
    "    subsection = row[1]\n",
    "    output_dict['chapter'].append(subsection['chapter'])\n",
    "    output_dict['section'].append(subsection['section'])\n",
    "    output_dict['subsection_number'].append(subsection['subsection'])\n",
    "    output_dict['subsection_slug'].append(subsection['slug'])\n",
    "    output = generate_question(subsection['clean_text'])\n",
    "    print(output)\n",
    "    chatGPTparseMCQ(output)\n",
    "    \n",
    "pd.DataFrame.from_dict(output_dict).to_csv(DATA+'mcq_table.csv')"
   ]
  },
  {
   "cell_type": "code",
   "execution_count": null,
   "id": "ada59ed5-70d0-4f63-978e-5e336b778f07",
   "metadata": {
    "tags": []
   },
   "outputs": [],
   "source": [
    "pd.DataFrame.from_dict(output_dict)"
   ]
  }
 ],
 "metadata": {
  "kernelspec": {
   "display_name": "Python [conda env:WesleyEnv]",
   "language": "python",
   "name": "conda-env-WesleyEnv-py"
  },
  "language_info": {
   "codemirror_mode": {
    "name": "ipython",
    "version": 3
   },
   "file_extension": ".py",
   "mimetype": "text/x-python",
   "name": "python",
   "nbconvert_exporter": "python",
   "pygments_lexer": "ipython3",
   "version": "3.10.9"
  }
 },
 "nbformat": 4,
 "nbformat_minor": 5
}
