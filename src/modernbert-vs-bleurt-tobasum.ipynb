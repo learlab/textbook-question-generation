{
 "cells": [
  {
   "cell_type": "code",
   "execution_count": null,
   "id": "1737e775-f26f-4bb1-ac81-14764e36caa9",
   "metadata": {},
   "outputs": [],
   "source": [
    "!pip install transformers\n",
    "\n",
    "import os\n",
    "import torch\n",
    "import pyarrow\n",
    "\n",
    "import numpy as np\n",
    "import pandas as pd\n",
    "import datasets\n",
    "from transformers import pipeline\n",
    "import matplotlib.pyplot as plt\n",
    "from sklearn import metrics\n",
    "\n",
    "torch.set_float32_matmul_precision('high')\n",
    "os.environ[\"TOKENIZERS_PARALLELISM\"]=\"true\""
   ]
  },
  {
   "cell_type": "code",
   "execution_count": null,
   "id": "b197d117-b3bc-45bf-bc1e-ee14d63feeb6",
   "metadata": {},
   "outputs": [],
   "source": [
    "model_name_or_path_modernbert = \"answerdotai/ModernBERT-base\"\n",
    "model_name_or_path_bleurt = \"microsoft/mpnet-base\""
   ]
  }
 ],
 "metadata": {
  "kernelspec": {
   "display_name": "Python [conda env:base] *",
   "language": "python",
   "name": "conda-base-py"
  },
  "language_info": {
   "codemirror_mode": {
    "name": "ipython",
    "version": 3
   },
   "file_extension": ".py",
   "mimetype": "text/x-python",
   "name": "python",
   "nbconvert_exporter": "python",
   "pygments_lexer": "ipython3",
   "version": "3.11.6"
  }
 },
 "nbformat": 4,
 "nbformat_minor": 5
}
