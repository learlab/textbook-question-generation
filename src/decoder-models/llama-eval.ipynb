{
 "cells": [
  {
   "cell_type": "code",
   "execution_count": 1,
   "id": "57b2a02b-08d4-40fa-adff-f0b8128faa2e",
   "metadata": {},
   "outputs": [
    {
     "data": {
      "application/vnd.jupyter.widget-view+json": {
       "model_id": "7070a33a09284456b89176b0aa200c9b",
       "version_major": 2,
       "version_minor": 0
      },
      "text/plain": [
       "Loading checkpoint shards:   0%|          | 0/2 [00:00<?, ?it/s]"
      ]
     },
     "metadata": {},
     "output_type": "display_data"
    }
   ],
   "source": [
    "from peft import AutoPeftModelForCausalLM\n",
    "from transformers import AutoTokenizer\n",
    "import torch\n",
    "import pandas as pd\n",
    "\n",
    "model_name = 'tiedaar/short-answer-llama'\n",
    "\n",
    "device_map = {\"\": 0}\n",
    "model_m = AutoPeftModelForCausalLM.from_pretrained(model_name, device_map=device_map, torch_dtype=torch.bfloat16)\n",
    "tokenizer = AutoTokenizer.from_pretrained(model_name, padding=True)\n",
    "tokenizer.pad_token = tokenizer.eos_token"
   ]
  },
  {
   "cell_type": "code",
   "execution_count": null,
   "id": "469b0007-53be-4f3e-87de-7048f51f17da",
   "metadata": {},
   "outputs": [],
   "source": [
    "#preprocessing\n",
    "dataframe_path = '../data/aqag-chatgpt-vicuna.csv'\n",
    "\n",
    "def clean_df(dataframe_path):\n",
    "    df = pd.read_csv(dataframe_path)[['clean_text', 'question', 'correct_answer', 'incorrect_answer']]\n",
    "    df.columns = ['source_text', 'question_text', 'True', 'False']\n",
    "    df = pd.melt(df, id_vars=['source_text', 'question_text'], value_vars=['True', 'False'], var_name='labels', value_name='answer_text', col_level=None, ignore_index=True)\n",
    "    df['answer_text'] = df['answer_text'].apply(lambda x: str(x))\n",
    "    df['comp'] = \"### Instructions \\nYou will be provided with a text, a question, and an answer. Your task is to decide whether the answer is correct or incorrect and respond with a single word denoting the appropriate label: `False` for incorrect and `True` for correct.\\n\\n\\n###The text\\nThe text is as follows, delimited by three backticks: ```\" + df['source_text'] + \"...```\\n\\n\\n ### The question and answer pair \\n The question and answer pair are as follows, delimited by three backticks: ```##Question: \" + df[\"question_text\"] + \" ##Answer: \" + df['answer_text'] + \"``` \"\n",
    "    df['text'] = df['comp'] + \"\\n\\n\\n<<<\" + df['labels'] + \">>>\"\n",
    "    df = df[['comp', 'labels', 'text']]\n",
    "    return df.reset_index()\n",
    "    return df\n",
    "\n",
    "df = clean_df(dataframe_path)"
   ]
  },
  {
   "cell_type": "code",
   "execution_count": null,
   "id": "10fe181d-448a-464c-9c66-3e5183aa59c3",
   "metadata": {},
   "outputs": [],
   "source": [
    "from tqdm import tqdm\n",
    "tqdm.pandas()\n",
    "device = 'cuda' if torch.cuda.is_available() else 'cpu'\n",
    "print(device)\n",
    "short_df = df.head()\n",
    "\n",
    "def make_preds(comp):\n",
    "    try:\n",
    "        inputs = tokenizer(comp, return_tensors='pt').to(device)\n",
    "        outputs = model_m.generate(input_ids=inputs['input_ids'].to(device), attention_mask=inputs['attention_mask'], max_new_tokens=1700, pad_token_id=tokenizer.eos_token_id)\n",
    "        res = tokenizer.decode(outputs[0], skip_special_tokens=True)\n",
    "        return res\n",
    "    except:\n",
    "        print(comp)\n",
    "\n",
    "short_df['raw_results'] = short_df['comp'].progress_apply(make_preds)"
   ]
  },
  {
   "cell_type": "code",
   "execution_count": null,
   "id": "dfcaa198-c7d9-4166-99a9-2c88be6b7df1",
   "metadata": {},
   "outputs": [],
   "source": [
    "df.to_csv('temp_df.csv')"
   ]
  },
  {
   "cell_type": "code",
   "execution_count": null,
   "id": "92f27285-b88c-471b-8bc6-bf5b93d8a960",
   "metadata": {},
   "outputs": [],
   "source": []
  },
  {
   "cell_type": "code",
   "execution_count": null,
   "id": "227940db-efbe-4e0d-829e-87c08544ab11",
   "metadata": {},
   "outputs": [],
   "source": []
  }
 ],
 "metadata": {
  "kernelspec": {
   "display_name": "Python 3 (ipykernel)",
   "language": "python",
   "name": "python3"
  },
  "language_info": {
   "codemirror_mode": {
    "name": "ipython",
    "version": 3
   },
   "file_extension": ".py",
   "mimetype": "text/x-python",
   "name": "python",
   "nbconvert_exporter": "python",
   "pygments_lexer": "ipython3",
   "version": "3.11.6"
  }
 },
 "nbformat": 4,
 "nbformat_minor": 5
}
