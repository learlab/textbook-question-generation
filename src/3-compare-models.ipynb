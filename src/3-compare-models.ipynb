{
 "cells": [
  {
   "cell_type": "code",
   "execution_count": 1,
   "id": "386ad11e-a333-4d75-b31e-e5ba0445290f",
   "metadata": {},
   "outputs": [],
   "source": [
    "from transformers import pipeline"
   ]
  },
  {
   "cell_type": "code",
   "execution_count": 2,
   "id": "6130a5ec-a0d0-44a8-ad52-52e9eceb3f38",
   "metadata": {},
   "outputs": [],
   "source": [
    "mpnet_model = \"tiedaar/short-answer-classification\"\n",
    "bleurt_model = \"vaiibhavgupta/finetuned-bleurt-large\"\n",
    "modernbert_model = \"answerdotai/ModernBERT-base\"\n",
    "bleurt_threshold = 0.7"
   ]
  },
  {
   "cell_type": "code",
   "execution_count": 7,
   "id": "0c5ad0e8-6682-408c-b928-cd7c6ae1f00e",
   "metadata": {},
   "outputs": [],
   "source": [
    "class Bleurt():\n",
    "    model_name = \"vaiibhavgupta/finetuned-bleurt-large\"\n",
    "    threshold = 0.7\n",
    "\n",
    "    def __init__(self):\n",
    "        self.classifier = pipeline(\n",
    "            \"text-classification\",\n",
    "            model=self.model_name,\n",
    "            device=\"cuda\",\n",
    "        )\n",
    "\n",
    "    def __call__(self, candidate: str, reference: str) -> int:\n",
    "        sequence = f\"{candidate}[SEP]{reference}\"\n",
    "\n",
    "        result = self.classifier(sequence)\n",
    "        score = result[0][\"score\"]\n",
    "\n",
    "        return 1 if score > self.threshold else 0"
   ]
  },
  {
   "cell_type": "code",
   "execution_count": 11,
   "id": "22763d7d-5d2c-4f73-b3c4-dbac5fb2314e",
   "metadata": {},
   "outputs": [],
   "source": [
    "class Mpnet():\n",
    "    model_name = \"tiedaar/short-answer-classification\"\n",
    "    revision = \"77b846ec4606bfcfdf913888d7f0ab51f977a579\"\n",
    "\n",
    "    def __init__(self):\n",
    "        self.classifier = pipeline(\n",
    "            \"text-classification\",\n",
    "            model=self.model_name,\n",
    "            revision=self.revision,\n",
    "            device=\"cuda\",\n",
    "            )\n",
    "\n",
    "    def __call__(self, candidate: str, reference: str) -> int:\n",
    "        sequence = f\"{candidate}</s>{reference}\"\n",
    "\n",
    "        result = self.classifier(sequence)\n",
    "        label = result[0][\"label\"]\n",
    "\n",
    "        return 1 if label == \"correct_answer\" else 0"
   ]
  },
  {
   "cell_type": "code",
   "execution_count": null,
   "id": "08e0897d-3a63-4592-803c-bbf8e314b669",
   "metadata": {},
   "outputs": [],
   "source": [
    "from transformers import AutoTokenizer\n",
    "\n",
    "class ModernBERT():\n",
    "    model_name = \"tiedaar/short-answer-classification\"\n",
    "\n",
    "    def __init__(self):\n",
    "        self.classifier = pipeline(\n",
    "            \"text-classification\",\n",
    "            model=self.model_name,\n",
    "            revision=self.revision,\n",
    "            device=\"cuda\",\n",
    "            )\n",
    "\n",
    "    def __call__(self, candidate: str, reference: str) -> int:\n",
    "        sequence = f\"{candidate}</s>{reference}\"\n",
    "\n",
    "        result = self.classifier(sequence)\n",
    "        label = result[0][\"label\"]\n",
    "\n",
    "        return 1 if label == \"correct_answer\" else 0\n",
    "\n",
    "# add tokenizer, use local path"
   ]
  },
  {
   "cell_type": "code",
   "execution_count": 12,
   "id": "1f3c58ac-3bd7-42e5-bb4f-6d2d39f25407",
   "metadata": {},
   "outputs": [
    {
     "name": "stderr",
     "output_type": "stream",
     "text": [
      "Device set to use cuda\n",
      "Device set to use cuda\n"
     ]
    }
   ],
   "source": [
    "# mpnet = Mpnet()\n",
    "# bleurt = Bleurt()"
   ]
  },
  {
   "cell_type": "code",
   "execution_count": null,
   "id": "04017245-b580-414a-a283-ef2c0702ce34",
   "metadata": {},
   "outputs": [],
   "source": [
    "pipes = {\n",
    "    \"Mpnet_pipe\": Mpnet()\n",
    "    \"Bleurt_pipe\": Bleurt()\n",
    "    \"ModernBERT_pipe\": ModernBERT()\n",
    "}\n",
    "\n",
    "def evaluate_all_models(dataset, models, label_key=\"labels\"):\n",
    "    texts = []\n",
    "    true_labels = []\n",
    "    preds_dict = {name: [] for name in models.keys()}\n",
    "\n",
    "    for example in dataset[\"test\"]:\n",
    "        text = example[\"text\"]\n",
    "        texts.append(input_text)\n",
    "\n",
    "        true_label = example[label_key]\n",
    "        true_labels.append(true_label)\n",
    "\n",
    "        for name, pipe in pipes.items():\n",
    "            pred_label = pipe.predict(student_response, reference) \n",
    "            preds_dict[name].append(pred)\n",
    "\n",
    "    results_dict = {\n",
    "        \"input_text\": texts,\n",
    "        \"true_label\": true_labels\n",
    "    })\n",
    "\n",
    "    for name, preds in preds_dict.items():\n",
    "        results_dict[f\"{name}_pred\"] = preds\n",
    "\n",
    "    return pd.DataFrame(results_dict)\n",
    "\n",
    "df_predictions = evaluate_all_models(ds, models)"
   ]
  },
  {
   "cell_type": "code",
   "execution_count": 13,
   "id": "d04f30d8-c3e9-4253-b7b4-35cd116136db",
   "metadata": {},
   "outputs": [
    {
     "data": {
      "text/plain": [
       "0"
      ]
     },
     "execution_count": 13,
     "metadata": {},
     "output_type": "execute_result"
    }
   ],
   "source": [
    "mpnet(\"This a strong answer to the question\", \"This is a reference answer to the question\")  # Scored incorrect (0)"
   ]
  },
  {
   "cell_type": "code",
   "execution_count": 14,
   "id": "9964cb6c-89d2-41c3-b0f4-b415934ff2c3",
   "metadata": {},
   "outputs": [
    {
     "data": {
      "text/plain": [
       "1"
      ]
     },
     "execution_count": 14,
     "metadata": {},
     "output_type": "execute_result"
    }
   ],
   "source": [
    "bleurt(\"This a strong answer to the question\", \"This is a reference answer to the question\")  # Scored correct (1)"
   ]
  }
 ],
 "metadata": {
  "kernelspec": {
   "display_name": "Python [conda env:base] *",
   "language": "python",
   "name": "conda-base-py"
  },
  "language_info": {
   "codemirror_mode": {
    "name": "ipython",
    "version": 3
   },
   "file_extension": ".py",
   "mimetype": "text/x-python",
   "name": "python",
   "nbconvert_exporter": "python",
   "pygments_lexer": "ipython3",
   "version": "3.11.6"
  }
 },
 "nbformat": 4,
 "nbformat_minor": 5
}
