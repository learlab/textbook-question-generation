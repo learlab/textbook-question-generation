{
 "cells": [
  {
   "cell_type": "code",
   "execution_count": 1,
   "id": "a99d442e-2102-4c86-9d5d-2331b05d5aee",
   "metadata": {},
   "outputs": [],
   "source": [
    "import re\n",
    "import pandas as pd\n",
    "from datasets import Dataset, Value"
   ]
  },
  {
   "cell_type": "code",
   "execution_count": 3,
   "id": "acfd11ee-1d72-44dc-828d-cd5eb6703320",
   "metadata": {},
   "outputs": [],
   "source": [
    "sheet_id = \"1qZc2b8wWlIRhxDr6Z9r6tzOcLsBrLXmKBvj4zp7-qHU\"\n",
    "export_url = f\"https://docs.google.com/spreadsheets/d/{sheet_id}/export?format=xlsx\"\n",
    "\n",
    "sheets = pd.read_excel(\n",
    "    export_url,\n",
    "    sheet_name=[\n",
    "        \"langdon\",\n",
    "        \"David\",\n",
    "        \"Joon\",\n",
    "        \"Wes\",\n",
    "        \"Anna\",\n",
    "        \"Julia\",\n",
    "        \"Reece\",\n",
    "        \"Tobasum\",\n",
    "        \"Qiushi\",\n",
    "        \"Rachel\",\n",
    "        \"Sophie\",\n",
    "        \"Scott\",\n",
    "        \"Van\",\n",
    "        \"Adithya\",\n",
    "        \"Jesse\",\n",
    "        \"Kevin\",\n",
    "        \"Saeyi\",\n",
    "    ],\n",
    ")\n",
    "\n",
    "dfs = []\n",
    "for name, d in sheets.items():\n",
    "    d[\"annotator\"] = name\n",
    "    dfs.append(d)\n",
    "\n",
    "df = (\n",
    "    pd.concat(dfs, ignore_index=True)\n",
    "    .drop([\"annotator_id\"], axis=1)\n",
    "    .rename(\n",
    "        columns={\n",
    "            \"response\": \"candidate\",\n",
    "            \"reference_answer\": \"reference\",\n",
    "            \"chunk_text\": \"text\",\n",
    "            \"score (1-4)\": \"score\",\n",
    "        }\n",
    "    )\n",
    "    .dropna(subset=[\"score\"])\n",
    "    .assign(labels=lambda x: (x.score >= 2).astype(int))\n",
    ")\n",
    "\n",
    "df.to_csv(\"../../data/cri_annotations.csv\", index=False)"
   ]
  },
  {
   "cell_type": "code",
   "execution_count": 4,
   "id": "4365102d-c4db-4398-bf24-8a7da63b8213",
   "metadata": {},
   "outputs": [
    {
     "data": {
      "text/plain": [
       "question_id     string[python]\n",
       "chunk_header    string[python]\n",
       "text            string[python]\n",
       "question        string[python]\n",
       "reference       string[python]\n",
       "candidate       string[python]\n",
       "score                  float64\n",
       "annotator       string[python]\n",
       "labels                   int64\n",
       "dtype: object"
      ]
     },
     "execution_count": 4,
     "metadata": {},
     "output_type": "execute_result"
    }
   ],
   "source": [
    "for col in df.columns:\n",
    "    if df[col].dtype == \"object\":\n",
    "        df[col] = df[col].astype(pd.StringDtype())\n",
    "\n",
    "df.dtypes"
   ]
  },
  {
   "cell_type": "code",
   "execution_count": 5,
   "id": "c78854f7-13e0-43fa-ad56-7b9d13886086",
   "metadata": {},
   "outputs": [
    {
     "data": {
      "text/plain": [
       "Dataset({\n",
       "    features: ['question_id', 'chunk_header', 'text', 'question', 'reference', 'candidate', 'score', 'annotator', 'labels'],\n",
       "    num_rows: 490\n",
       "})"
      ]
     },
     "execution_count": 5,
     "metadata": {},
     "output_type": "execute_result"
    }
   ],
   "source": [
    "ds = Dataset.from_pandas(df, preserve_index=False)\n",
    "ds"
   ]
  },
  {
   "cell_type": "code",
   "execution_count": 6,
   "id": "c8b1bf7e-bd10-4884-9d0b-0d7021a78030",
   "metadata": {},
   "outputs": [
    {
     "data": {
      "application/vnd.jupyter.widget-view+json": {
       "model_id": "716866e2bc3e4c9a9ebb10d618b2fb13",
       "version_major": 2,
       "version_minor": 0
      },
      "text/plain": [
       "Saving the dataset (0/1 shards):   0%|          | 0/490 [00:00<?, ? examples/s]"
      ]
     },
     "metadata": {},
     "output_type": "display_data"
    }
   ],
   "source": [
    "ds.save_to_disk(\"../../data/cri_annotations.hf\")"
   ]
  }
 ],
 "metadata": {
  "kernelspec": {
   "display_name": "Python [conda env:base] *",
   "language": "python",
   "name": "conda-base-py"
  },
  "language_info": {
   "codemirror_mode": {
    "name": "ipython",
    "version": 3
   },
   "file_extension": ".py",
   "mimetype": "text/x-python",
   "name": "python",
   "nbconvert_exporter": "python",
   "pygments_lexer": "ipython3",
   "version": "3.11.6"
  }
 },
 "nbformat": 4,
 "nbformat_minor": 5
}
