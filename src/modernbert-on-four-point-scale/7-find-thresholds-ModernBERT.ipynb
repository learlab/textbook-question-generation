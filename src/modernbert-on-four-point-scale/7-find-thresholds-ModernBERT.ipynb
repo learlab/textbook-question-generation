{
 "cells": [
  {
   "cell_type": "markdown",
   "id": "c3946cfc-f8b0-4f18-bd93-a431cb472d8a",
   "metadata": {},
   "source": [
    "# Evaluate Finetuned Model Performance\n",
    "\n",
    "Our current ensemble correlates with the test data at Spearman's r of 0.51. The raw o3-mini scores were correlated at 0.70."
   ]
  },
  {
   "cell_type": "code",
   "execution_count": 1,
   "id": "6d545d92-1c06-4595-a9e6-8634dd5d3146",
   "metadata": {},
   "outputs": [],
   "source": [
    "import os\n",
    "from collections import Counter\n",
    "\n",
    "import numpy as np\n",
    "import pandas as pd\n",
    "import torch\n",
    "import datasets\n",
    "from transformers import pipeline\n",
    "from sklearn import metrics\n",
    "from scipy import stats\n",
    "\n",
    "torch.set_float32_matmul_precision(\"high\")\n",
    "os.environ[\"TOKENIZERS_PARALLELISM\"] = \"true\""
   ]
  },
  {
   "cell_type": "code",
   "execution_count": 2,
   "id": "b46d3a50-69f1-4c52-a6cc-13ba1e5faca4",
   "metadata": {},
   "outputs": [],
   "source": [
    "datadict_path = \"../../data/authentic-03-scores-multirc-gpt5-scores.hf\"  # The prepared training and validation data\n",
    "model_name_or_path = \"answerdotai/ModernBERT-base\"\n",
    "finetuned_model_path = \"../../results/modernbert_authentic_multirc_with_reference/\""
   ]
  },
  {
   "cell_type": "code",
   "execution_count": 3,
   "id": "2772333d-9f93-4c94-a807-d8e00022f26b",
   "metadata": {},
   "outputs": [
    {
     "data": {
      "text/plain": [
       "DatasetDict({\n",
       "    train: Dataset({\n",
       "        features: ['label', 'input_str'],\n",
       "        num_rows: 5004\n",
       "    })\n",
       "    test: Dataset({\n",
       "        features: ['label', 'input_str'],\n",
       "        num_rows: 370\n",
       "    })\n",
       "    dev: Dataset({\n",
       "        features: ['label', 'input_str'],\n",
       "        num_rows: 556\n",
       "    })\n",
       "})"
      ]
     },
     "execution_count": 3,
     "metadata": {},
     "output_type": "execute_result"
    }
   ],
   "source": [
    "def format_inputs(example):\n",
    "    input_str = \"\\n\\n\\n\".join([\n",
    "        f'Passage: {example[\"chunk_text\"]}',\n",
    "        f'Question: {example[\"question\"]}',\n",
    "        f'Reference Answer: {example.get(\"answer\", \"\")}',\n",
    "        f'Student Response: {example[\"response\"]}',\n",
    "        ])\n",
    "    example[\"input_str\"] = input_str\n",
    "    return example\n",
    "\n",
    "\n",
    "dd = datasets.DatasetDict.load_from_disk(datadict_path)\n",
    "dd = dd.map(\n",
    "    format_inputs,\n",
    "    batched=False,\n",
    "    remove_columns=[\n",
    "        \"chunk_text\",\n",
    "        \"question\",\n",
    "        \"answer\",\n",
    "        \"response\",\n",
    "    ],\n",
    ")\n",
    "\n",
    "# Convert label column to float type\n",
    "new_features = dd[\"train\"].features.copy()\n",
    "new_features[\"label\"] = datasets.Value(\"float32\")\n",
    "dd = dd.cast(new_features)\n",
    "dd"
   ]
  },
  {
   "cell_type": "code",
   "execution_count": 4,
   "id": "52bb7c25-3f7b-4728-b84d-75eb8d4d65be",
   "metadata": {},
   "outputs": [
    {
     "name": "stderr",
     "output_type": "stream",
     "text": [
      "Device set to use cuda:0\n"
     ]
    }
   ],
   "source": [
    "classifier = pipeline(\n",
    "    task=\"text-classification\",\n",
    "    model=finetuned_model_path,\n",
    "    tokenizer=model_name_or_path,\n",
    "    device=0,\n",
    ")\n",
    "\n",
    "train_results = classifier(dd[\"train\"][\"input_str\"])\n",
    "dev_results = classifier(dd[\"dev\"][\"input_str\"])\n",
    "test_results = classifier(dd[\"test\"][\"input_str\"])"
   ]
  },
  {
   "cell_type": "code",
   "execution_count": 6,
   "id": "36fb69ad-2e8c-40e0-8c72-0e737e54990f",
   "metadata": {},
   "outputs": [],
   "source": [
    "def find_rounding_thresholds(y_true, y_pred):\n",
    "    \"\"\"\n",
    "    Find rounding thresholds to match the distribution of actual scores.\n",
    "    \n",
    "    Args:\n",
    "        actual_scores: List/array of actual discrete scores\n",
    "        predicted_scores: List/array of predicted scores (floating point)\n",
    "    \n",
    "    Returns:\n",
    "        thresholds: List of thresholds for rounding\n",
    "        score_values: Sorted unique score values\n",
    "    \"\"\"\n",
    "    # Get unique scores and sort them\n",
    "    score_values = [int(score) for score in sorted(set(y_true))]\n",
    "    \n",
    "    # Calculate proportions of each score\n",
    "    score_counts = Counter(y_true)\n",
    "    total_count = len(y_true)\n",
    "    proportions = [score_counts[score] / total_count for score in score_values]\n",
    "    \n",
    "    # Calculate cumulative proportions (excluding the last one)\n",
    "    cumulative_props = np.cumsum(proportions[:-1])\n",
    "    \n",
    "    # Find quantile thresholds in predicted scores\n",
    "    thresholds = [np.quantile(y_pred, cum_prop) for cum_prop in cumulative_props]\n",
    "    \n",
    "    return thresholds, score_values"
   ]
  },
  {
   "cell_type": "code",
   "execution_count": 9,
   "id": "4d2c99aa-da23-47ca-8936-5c1f06be24b8",
   "metadata": {},
   "outputs": [
    {
     "name": "stdout",
     "output_type": "stream",
     "text": [
      "[1.66, 2.26, 3.02]\n"
     ]
    }
   ],
   "source": [
    "labels = dd[\"test\"][\"label\"]\n",
    "preds = [result[\"score\"] for result in test_results]\n",
    "\n",
    "thresholds, values = find_rounding_thresholds(labels, preds)\n",
    "print([round(t, 2) for t in thresholds])"
   ]
  },
  {
   "cell_type": "code",
   "execution_count": 10,
   "id": "64846995-a1d1-46ef-a21b-5316b24c14ce",
   "metadata": {},
   "outputs": [],
   "source": [
    "preds = np.array(preds)\n",
    "rounded_preds = np.full_like(preds, 1)\n",
    "standard_rounded_preds = [round(pred) for pred in preds]\n",
    "\n",
    "for i, threshold in enumerate(thresholds):\n",
    "    rounded_preds[preds >= threshold] = values[i + 1]"
   ]
  },
  {
   "cell_type": "code",
   "execution_count": 11,
   "id": "326154b4-f227-4fce-a539-d3760ec6467f",
   "metadata": {},
   "outputs": [
    {
     "data": {
      "image/png": "[encoded data removed]",
      "text/plain": [
       "<Figure size 640x480 with 1 Axes>"
      ]
     },
     "metadata": {},
     "output_type": "display_data"
    },
    {
     "data": {
      "image/png": "[encoded data removed]",
      "text/plain": [
       "<Figure size 640x480 with 1 Axes>"
      ]
     },
     "metadata": {},
     "output_type": "display_data"
    }
   ],
   "source": [
    "import seaborn as sns\n",
    "import matplotlib.pyplot as plt\n",
    "\n",
    "sns.histplot(labels)\n",
    "plt.show();\n",
    "sns.histplot(rounded_preds)\n",
    "plt.show();"
   ]
  },
  {
   "cell_type": "code",
   "execution_count": 12,
   "id": "1c6911dc-804b-4eca-ad47-9cd36c4eb2b1",
   "metadata": {},
   "outputs": [
    {
     "name": "stdout",
     "output_type": "stream",
     "text": [
      "MSE: 0.8676\n",
      "RMSE: 0.9314\n",
      "MAE: 0.6243\n",
      "R2: 0.2394\n",
      "QWK: 0.6196\n",
      "LWK: 0.4743\n",
      "KAPPA: 0.3121\n",
      "SPEARMAN: 0.6095\n"
     ]
    }
   ],
   "source": [
    "def calculate_metrics(labels, preds):\n",
    "    \"\"\"\n",
    "    Calculate multiple evaluation metrics using sklearn.\n",
    "\n",
    "    Args:\n",
    "        labels: List of float true labels\n",
    "        preds: List of float predictions\n",
    "\n",
    "    Returns:\n",
    "        Dictionary containing calculated metrics\n",
    "    \"\"\"\n",
    "    labels = np.array(labels)\n",
    "    preds = np.array(preds)\n",
    "\n",
    "    metric_dict = {}\n",
    "\n",
    "    # Regression metrics\n",
    "    metric_dict[\"mse\"] = metrics.mean_squared_error(labels, preds)\n",
    "    metric_dict[\"rmse\"] = metrics.mean_squared_error(labels, preds, squared=False)\n",
    "    metric_dict[\"mae\"] = metrics.mean_absolute_error(labels, preds)\n",
    "    metric_dict[\"r2\"] = metrics.r2_score(labels, preds)\n",
    "\n",
    "    # Classification metrics (round to integers for ordinal ratings)\n",
    "    preds_int = np.round(preds).astype(int)\n",
    "    labels_int = np.round(labels).astype(int)\n",
    "\n",
    "    # Quadratic Weighted Kappa\n",
    "    metric_dict[\"qwk\"] = metrics.cohen_kappa_score(\n",
    "        labels_int, preds_int, weights=\"quadratic\"\n",
    "    )\n",
    "\n",
    "    # Linear Weighted Kappa (bonus)\n",
    "    metric_dict[\"lwk\"] = metrics.cohen_kappa_score(\n",
    "        labels_int, preds_int, weights=\"linear\"\n",
    "    )\n",
    "\n",
    "    # Regular Cohen's Kappa\n",
    "    metric_dict[\"kappa\"] = metrics.cohen_kappa_score(labels_int, preds_int)\n",
    "\n",
    "    # Spearman's r\n",
    "    metric_dict[\"spearman\"] = stats.spearmanr(labels_int, preds_int).statistic\n",
    "\n",
    "    return metric_dict\n",
    "\n",
    "metric_dict = calculate_metrics(labels, rounded_preds)\n",
    "\n",
    "for metric, value in metric_dict.items():\n",
    "    print(f\"{metric.upper()}: {value:.4f}\")"
   ]
  },
  {
   "cell_type": "code",
   "execution_count": null,
   "id": "5369b47d-085d-432f-8133-abaedd4fd765",
   "metadata": {},
   "outputs": [],
   "source": []
  }
 ],
 "metadata": {
  "kernelspec": {
   "display_name": "Python [conda env:hf]",
   "language": "python",
   "name": "conda-env-hf-py"
  },
  "language_info": {
   "codemirror_mode": {
    "name": "ipython",
    "version": 3
   },
   "file_extension": ".py",
   "mimetype": "text/x-python",
   "name": "python",
   "nbconvert_exporter": "python",
   "pygments_lexer": "ipython3",
   "version": "3.11.6"
  }
 },
 "nbformat": 4,
 "nbformat_minor": 5
}
