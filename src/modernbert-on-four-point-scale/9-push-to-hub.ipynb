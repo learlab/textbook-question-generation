{
 "cells": [
  {
   "cell_type": "markdown",
   "id": "c3946cfc-f8b0-4f18-bd93-a431cb472d8a",
   "metadata": {},
   "source": [
    "# Push Finetuned Model to HuggingFace Hub\n"
   ]
  },
  {
   "cell_type": "code",
   "execution_count": 1,
   "id": "73209892-32d7-44f5-9cf1-6c99e3c65d5b",
   "metadata": {},
   "outputs": [],
   "source": [
    "from transformers import AutoModelForSequenceClassification\n",
    "\n",
    "finetuned_model_path = \"../../results/modernbert_authentic_multirc_with_reference\"\n",
    "\n",
    "model = AutoModelForSequenceClassification.from_pretrained(finetuned_model_path)"
   ]
  },
  {
   "cell_type": "code",
   "execution_count": 2,
   "id": "f2a4afaf-b7f9-4266-a699-c34b80a7202a",
   "metadata": {},
   "outputs": [
    {
     "data": {
      "application/vnd.jupyter.widget-view+json": {
       "model_id": "2ae7e420878549f3b63848119560c33b",
       "version_major": 2,
       "version_minor": 0
      },
      "text/plain": [
       "Processing Files (0 / 0)                : |          |  0.00B /  0.00B            "
      ]
     },
     "metadata": {},
     "output_type": "display_data"
    },
    {
     "data": {
      "application/vnd.jupyter.widget-view+json": {
       "model_id": "7849f7ab17314fcebd5cc0cd8333189a",
       "version_major": 2,
       "version_minor": 0
      },
      "text/plain": [
       "New Data Upload                         : |          |  0.00B /  0.00B            "
      ]
     },
     "metadata": {},
     "output_type": "display_data"
    },
    {
     "data": {
      "application/vnd.jupyter.widget-view+json": {
       "model_id": "8b5dd8a6f62b437bb8efc4224bffe198",
       "version_major": 2,
       "version_minor": 0
      },
      "text/plain": [
       "  /tmp/tmp567nbw24/model.safetensors    :   1%|1         | 6.07MB /  598MB            "
      ]
     },
     "metadata": {},
     "output_type": "display_data"
    },
    {
     "data": {
      "text/plain": [
       "CommitInfo(commit_url='https://huggingface.co/lear-lab/modernbert_authentic_multirc/commit/d550fa8f30605471dafc904de7fb4e231af5c810', commit_message='Upload ModernBertForSequenceClassification', commit_description='', oid='d550fa8f30605471dafc904de7fb4e231af5c810', pr_url=None, repo_url=RepoUrl('https://huggingface.co/lear-lab/modernbert_authentic_multirc', endpoint='https://huggingface.co', repo_type='model', repo_id='lear-lab/modernbert_authentic_multirc'), pr_revision=None, pr_num=None)"
      ]
     },
     "execution_count": 2,
     "metadata": {},
     "output_type": "execute_result"
    }
   ],
   "source": [
    "model.push_to_hub(\"lear-lab/modernbert_authentic_multirc\")"
   ]
  }
 ],
 "metadata": {
  "kernelspec": {
   "display_name": "Python [conda env:hf]",
   "language": "python",
   "name": "conda-env-hf-py"
  },
  "language_info": {
   "codemirror_mode": {
    "name": "ipython",
    "version": 3
   },
   "file_extension": ".py",
   "mimetype": "text/x-python",
   "name": "python",
   "nbconvert_exporter": "python",
   "pygments_lexer": "ipython3",
   "version": "3.11.6"
  }
 },
 "nbformat": 4,
 "nbformat_minor": 5
}
