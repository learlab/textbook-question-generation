{
 "cells": [
  {
   "cell_type": "markdown",
   "id": "c3946cfc-f8b0-4f18-bd93-a431cb472d8a",
   "metadata": {},
   "source": [
    "# Push Finetuned Model to HuggingFace Hub\n"
   ]
  },
  {
   "cell_type": "code",
   "execution_count": 6,
   "id": "73209892-32d7-44f5-9cf1-6c99e3c65d5b",
   "metadata": {},
   "outputs": [],
   "source": [
    "from transformers import AutoModelForSequenceClassification\n",
    "\n",
    "finetuned_model_path = \"../../results/modernbert_authentic_multirc\"\n",
    "\n",
    "model = AutoModelForSequenceClassification.from_pretrained(finetuned_model_path)"
   ]
  },
  {
   "cell_type": "code",
   "execution_count": 7,
   "id": "f2a4afaf-b7f9-4266-a699-c34b80a7202a",
   "metadata": {},
   "outputs": [
    {
     "data": {
      "application/vnd.jupyter.widget-view+json": {
       "model_id": "19d770f0ab6d417c98e40280bdf4381e",
       "version_major": 2,
       "version_minor": 0
      },
      "text/plain": [
       "model.safetensors:   0%|          | 0.00/598M [00:00<?, ?B/s]"
      ]
     },
     "metadata": {},
     "output_type": "display_data"
    },
    {
     "data": {
      "text/plain": [
       "CommitInfo(commit_url='https://huggingface.co/lear-lab/modernbert_authentic_multirc/commit/a4a79519b64b45db558e42a1292eb4a10f41b5bf', commit_message='Upload ModernBertForSequenceClassification', commit_description='', oid='a4a79519b64b45db558e42a1292eb4a10f41b5bf', pr_url=None, repo_url=RepoUrl('https://huggingface.co/lear-lab/modernbert_authentic_multirc', endpoint='https://huggingface.co', repo_type='model', repo_id='lear-lab/modernbert_authentic_multirc'), pr_revision=None, pr_num=None)"
      ]
     },
     "execution_count": 7,
     "metadata": {},
     "output_type": "execute_result"
    }
   ],
   "source": [
    "model.push_to_hub(\"lear-lab/modernbert_authentic_multirc\")"
   ]
  }
 ],
 "metadata": {
  "kernelspec": {
   "display_name": "Python [conda env:base] *",
   "language": "python",
   "name": "conda-base-py"
  },
  "language_info": {
   "codemirror_mode": {
    "name": "ipython",
    "version": 3
   },
   "file_extension": ".py",
   "mimetype": "text/x-python",
   "name": "python",
   "nbconvert_exporter": "python",
   "pygments_lexer": "ipython3",
   "version": "3.11.6"
  }
 },
 "nbformat": 4,
 "nbformat_minor": 5
}
