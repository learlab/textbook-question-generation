{
 "cells": [
  {
   "cell_type": "code",
   "execution_count": 2,
   "id": "75f30500-18cd-4ced-b2e7-49aefb5b4a86",
   "metadata": {},
   "outputs": [],
   "source": [
    "import json\n",
    "from pathlib import Path\n",
    "import pandas as pd"
   ]
  },
  {
   "cell_type": "code",
   "execution_count": 3,
   "id": "ceea3b4f-a9d0-4aec-8d15-6ce01d186539",
   "metadata": {},
   "outputs": [],
   "source": [
    "content_dir = Path(\n",
    "    \"/home/jovyan/active-projects/shared-resources/old_texts_from_strapi_json/\"\n",
    ")\n",
    "\n",
    "content_list = []\n",
    "for fn in content_dir.glob(\"*.json\"):\n",
    "    with open(fn) as f:\n",
    "        volume = json.load(f)[\"data\"][\"attributes\"]\n",
    "        for page_data in volume[\"Pages\"][\"data\"]:\n",
    "            page = page_data[\"attributes\"]\n",
    "            for chunk in page[\"Content\"]:\n",
    "                d = {}\n",
    "                if not chunk[\"__component\"] == \"page.chunk\":\n",
    "                    continue\n",
    "                d[\"volume_title\"] = volume[\"Title\"]\n",
    "                d[\"volume_slug\"] = volume[\"Slug\"]\n",
    "                d[\"page_title\"] = page[\"Title\"]\n",
    "                d[\"page_slug\"] = page[\"Slug\"]\n",
    "                d[\"chunk_header\"] = chunk[\"Header\"]\n",
    "                d[\"chunk_slug\"] = chunk[\"Slug\"]\n",
    "                d[\"chunk_text\"] = chunk[\"CleanText\"]\n",
    "                d[\"question\"] = chunk[\"Question\"]\n",
    "                d[\"answer\"] = chunk[\"ConstructedResponse\"]\n",
    "                content_list.append(d)"
   ]
  },
  {
   "cell_type": "code",
   "execution_count": 6,
   "id": "0343e97b-a923-4d80-a16f-83530568ec95",
   "metadata": {},
   "outputs": [],
   "source": [
    "# Different structure for Strapi v5 exports\n",
    "\n",
    "v5_path = Path(\"/home/jovyan/active-projects/shared-resources/strapi_v5_json_exports/\")\n",
    "\n",
    "for fn in v5_path.glob(\"*.json\"):\n",
    "    with open(fn) as f:\n",
    "        volume = json.load(f)[\"data\"]\n",
    "        for page in volume[\"Pages\"]:\n",
    "            for chunk in page[\"Content\"]:\n",
    "                d = {}\n",
    "                if not chunk[\"__component\"] == \"page.chunk\":\n",
    "                    continue\n",
    "                d[\"volume_title\"] = volume[\"Title\"]\n",
    "                d[\"volume_slug\"] = volume[\"Slug\"]\n",
    "                d[\"page_title\"] = page[\"Title\"]\n",
    "                d[\"page_slug\"] = page[\"Slug\"]\n",
    "                d[\"chunk_header\"] = chunk[\"Header\"]\n",
    "                d[\"chunk_slug\"] = chunk[\"Slug\"]\n",
    "                d[\"chunk_text\"] = chunk[\"CleanText\"]\n",
    "                d[\"question\"] = chunk[\"Question\"]\n",
    "                d[\"answer\"] = chunk[\"ConstructedResponse\"]\n",
    "                content_list.append(d)"
   ]
  },
  {
   "cell_type": "code",
   "execution_count": 8,
   "id": "4d56a35b-ab8f-429d-a27b-f8373c1fff53",
   "metadata": {},
   "outputs": [],
   "source": [
    "content = pd.DataFrame(content_list).set_index(\"chunk_slug\")\n",
    "content.volume_slug.value_counts()\n",
    "content.to_csv(\"../../data/cri_questions2.csv\")"
   ]
  }
 ],
 "metadata": {
  "kernelspec": {
   "display_name": "Python [conda env:base] *",
   "language": "python",
   "name": "conda-base-py"
  },
  "language_info": {
   "codemirror_mode": {
    "name": "ipython",
    "version": 3
   },
   "file_extension": ".py",
   "mimetype": "text/x-python",
   "name": "python",
   "nbconvert_exporter": "python",
   "pygments_lexer": "ipython3",
   "version": "3.11.6"
  }
 },
 "nbformat": 4,
 "nbformat_minor": 5
}
