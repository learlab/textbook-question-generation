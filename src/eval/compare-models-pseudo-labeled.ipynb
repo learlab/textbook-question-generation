{
 "cells": [
  {
   "cell_type": "code",
   "execution_count": 1,
   "id": "386ad11e-a333-4d75-b31e-e5ba0445290f",
   "metadata": {},
   "outputs": [],
   "source": [
    "from tqdm.auto import tqdm\n",
    "import pandas as pd\n",
    "import torch\n",
    "import datasets\n",
    "from transformers import pipeline, AutoTokenizer\n",
    "\n",
    "torch.set_float32_matmul_precision('high')"
   ]
  },
  {
   "cell_type": "code",
   "execution_count": 32,
   "id": "e1e70a8e-dcbd-4063-80a6-029f18e21e2f",
   "metadata": {},
   "outputs": [
    {
     "data": {
      "text/html": [
       "<div>\n",
       "<style scoped>\n",
       "    .dataframe tbody tr th:only-of-type {\n",
       "        vertical-align: middle;\n",
       "    }\n",
       "\n",
       "    .dataframe tbody tr th {\n",
       "        vertical-align: top;\n",
       "    }\n",
       "\n",
       "    .dataframe thead th {\n",
       "        text-align: right;\n",
       "    }\n",
       "</style>\n",
       "<table border=\"1\" class=\"dataframe\">\n",
       "  <thead>\n",
       "    <tr style=\"text-align: right;\">\n",
       "      <th></th>\n",
       "      <th>id</th>\n",
       "      <th>response</th>\n",
       "      <th>score</th>\n",
       "      <th>condition</th>\n",
       "      <th>user_id</th>\n",
       "      <th>page_slug</th>\n",
       "      <th>chunk_slug</th>\n",
       "      <th>created_at</th>\n",
       "      <th>volume_slug</th>\n",
       "      <th>volume_title</th>\n",
       "      <th>page_title</th>\n",
       "      <th>chunk_header</th>\n",
       "      <th>chunk_text</th>\n",
       "      <th>question</th>\n",
       "      <th>answer</th>\n",
       "      <th>o3_mini_score</th>\n",
       "    </tr>\n",
       "  </thead>\n",
       "  <tbody>\n",
       "    <tr>\n",
       "      <th>1266</th>\n",
       "      <td>4d5f8f27-140c-4821-afd4-033116e217d7</td>\n",
       "      <td>the purpose of learning analytics dashboards i...</td>\n",
       "      <td>2</td>\n",
       "      <td>NaN</td>\n",
       "      <td>cluass5es0000k00f92fxztbx</td>\n",
       "      <td>learning-an-1</td>\n",
       "      <td>What-For,-Whom,-Why,-How?-473t</td>\n",
       "      <td>2024-04-20 19:00:22.664</td>\n",
       "      <td>cornell</td>\n",
       "      <td>Handbook of Learning Analytics</td>\n",
       "      <td>Learning Analytics Dashboard</td>\n",
       "      <td>What For, Whom, Why, How?</td>\n",
       "      <td>What follows is a non-exhaustive overview; it ...</td>\n",
       "      <td>What are the main purposes of learning analyti...</td>\n",
       "      <td>The main purposes are to promote awareness, re...</td>\n",
       "      <td>2</td>\n",
       "    </tr>\n",
       "    <tr>\n",
       "      <th>152</th>\n",
       "      <td>2c3bbc12-a1fc-4b75-ab10-1ba760a0c056</td>\n",
       "      <td>According to visualization experts, the step o...</td>\n",
       "      <td>2</td>\n",
       "      <td>NaN</td>\n",
       "      <td>clud1801v0000jv0f6vzbe06v</td>\n",
       "      <td>learning-an-1</td>\n",
       "      <td>Acquire-and-Pre-Process-Your-Data-533t</td>\n",
       "      <td>2024-03-29 21:04:40.135</td>\n",
       "      <td>cornell</td>\n",
       "      <td>Handbook of Learning Analytics</td>\n",
       "      <td>Learning Analytics Dashboard</td>\n",
       "      <td>Acquire and (Pre-)Process Your Data</td>\n",
       "      <td>Building a visual dashboard typically entails ...</td>\n",
       "      <td>What step of building a visual dashboard typic...</td>\n",
       "      <td>Data-gathering and preprocessing step.</td>\n",
       "      <td>4</td>\n",
       "    </tr>\n",
       "  </tbody>\n",
       "</table>\n",
       "</div>"
      ],
      "text/plain": [
       "                                        id  \\\n",
       "1266  4d5f8f27-140c-4821-afd4-033116e217d7   \n",
       "152   2c3bbc12-a1fc-4b75-ab10-1ba760a0c056   \n",
       "\n",
       "                                               response  score condition  \\\n",
       "1266  the purpose of learning analytics dashboards i...      2       NaN   \n",
       "152   According to visualization experts, the step o...      2       NaN   \n",
       "\n",
       "                        user_id      page_slug  \\\n",
       "1266  cluass5es0000k00f92fxztbx  learning-an-1   \n",
       "152   clud1801v0000jv0f6vzbe06v  learning-an-1   \n",
       "\n",
       "                                  chunk_slug               created_at  \\\n",
       "1266          What-For,-Whom,-Why,-How?-473t  2024-04-20 19:00:22.664   \n",
       "152   Acquire-and-Pre-Process-Your-Data-533t  2024-03-29 21:04:40.135   \n",
       "\n",
       "     volume_slug                    volume_title  \\\n",
       "1266     cornell  Handbook of Learning Analytics   \n",
       "152      cornell  Handbook of Learning Analytics   \n",
       "\n",
       "                        page_title                         chunk_header  \\\n",
       "1266  Learning Analytics Dashboard            What For, Whom, Why, How?   \n",
       "152   Learning Analytics Dashboard  Acquire and (Pre-)Process Your Data   \n",
       "\n",
       "                                             chunk_text  \\\n",
       "1266  What follows is a non-exhaustive overview; it ...   \n",
       "152   Building a visual dashboard typically entails ...   \n",
       "\n",
       "                                               question  \\\n",
       "1266  What are the main purposes of learning analyti...   \n",
       "152   What step of building a visual dashboard typic...   \n",
       "\n",
       "                                                 answer  o3_mini_score  \n",
       "1266  The main purposes are to promote awareness, re...              2  \n",
       "152              Data-gathering and preprocessing step.              4  "
      ]
     },
     "metadata": {},
     "output_type": "display_data"
    },
    {
     "data": {
      "text/plain": [
       "Dataset({\n",
       "    features: ['id', 'response', 'score', 'condition', 'user_id', 'page_slug', 'chunk_slug', 'created_at', 'volume_slug', 'volume_title', 'page_title', 'chunk_header', 'chunk_text', 'question', 'answer', 'o3_mini_score'],\n",
       "    num_rows: 1428\n",
       "})"
      ]
     },
     "execution_count": 32,
     "metadata": {},
     "output_type": "execute_result"
    }
   ],
   "source": [
    "df = pd.read_csv(\"../../data/itell-question-data-w-o3-scores.csv\")\n",
    "display(df.sample(2))\n",
    "\n",
    "ds = datasets.Dataset.from_pandas(df)\n",
    "ds"
   ]
  },
  {
   "cell_type": "code",
   "execution_count": 33,
   "id": "0c5ad0e8-6682-408c-b928-cd7c6ae1f00e",
   "metadata": {},
   "outputs": [],
   "source": [
    "class Bleurt():\n",
    "    model_name = \"vaiibhavgupta/finetuned-bleurt-large\"\n",
    "    threshold = 0.7\n",
    "\n",
    "    def __init__(self):\n",
    "        self.classifier = pipeline(\n",
    "            \"text-classification\",\n",
    "            model=self.model_name,\n",
    "            device=\"cuda\",\n",
    "        )\n",
    "\n",
    "    def __call__(self, input_dict) -> int:\n",
    "        reference = input_dict.get(\"answer\", \"\")\n",
    "        candidate = input_dict.get(\"response\", \"\")\n",
    "        \n",
    "        sequence = f\"{candidate}[SEP]{reference}\"\n",
    "\n",
    "        result = self.classifier(sequence)\n",
    "        score = result[0][\"score\"]\n",
    "\n",
    "        return 1 if score > self.threshold else 0"
   ]
  },
  {
   "cell_type": "code",
   "execution_count": 34,
   "id": "22763d7d-5d2c-4f73-b3c4-dbac5fb2314e",
   "metadata": {},
   "outputs": [],
   "source": [
    "class Mpnet():\n",
    "    model_name = \"tiedaar/short-answer-classification\"\n",
    "    revision = \"77b846ec4606bfcfdf913888d7f0ab51f977a579\"\n",
    "\n",
    "    def __init__(self):\n",
    "        self.classifier = pipeline(\n",
    "            \"text-classification\",\n",
    "            model=self.model_name,\n",
    "            revision=self.revision,\n",
    "            device=\"cuda\",\n",
    "            )\n",
    "\n",
    "    def __call__(self, input_dict) -> int:\n",
    "        reference = input_dict.get(\"answer\", \"\")\n",
    "        candidate = input_dict.get(\"response\", \"\")\n",
    "        \n",
    "        sequence = f\"{candidate}</s>{reference}\"\n",
    "\n",
    "        result = self.classifier(sequence)\n",
    "        label = result[0][\"label\"]\n",
    "\n",
    "        return 1 if label == \"correct_answer\" else 0"
   ]
  },
  {
   "cell_type": "code",
   "execution_count": 35,
   "id": "08e0897d-3a63-4592-803c-bbf8e314b669",
   "metadata": {},
   "outputs": [],
   "source": [
    "class ModernBERT():\n",
    "    model_name = \"../../results/modernbert_multirc/\"\n",
    "    tokenizer_name = \"answerdotai/ModernBERT-base\"\n",
    "\n",
    "    def __init__(self):\n",
    "        self.classifier = pipeline(\n",
    "            \"text-classification\",\n",
    "            model=self.model_name,\n",
    "            tokenizer=AutoTokenizer.from_pretrained(self.tokenizer_name),\n",
    "            device=\"cuda\",\n",
    "            )\n",
    "\n",
    "    def __call__(self, input_dict) -> int:\n",
    "        reference = input_dict.get(\"answer\", \"\")\n",
    "        candidate = input_dict.get(\"response\", \"\")\n",
    "        sequence = f\"{candidate}</s>{reference}\"\n",
    "\n",
    "        result = self.classifier(sequence)\n",
    "        label = result[0][\"label\"]\n",
    "\n",
    "        return 1 if label == \"correct\" else 0"
   ]
  },
  {
   "cell_type": "code",
   "execution_count": 36,
   "id": "2a31f3ab-4276-481b-bd33-bfda087a249e",
   "metadata": {},
   "outputs": [],
   "source": [
    "class AugModernBert():\n",
    "    \"\"\"Augmented ModernBERT. Trained on mix of RACE and MultiRC\"\"\"\n",
    "    model_name = \"../../results/modernbert_race_multirc\"\n",
    "    tokenizer_name = \"answerdotai/ModernBERT-base\"\n",
    "    \n",
    "    def __init__(self):\n",
    "        self.classifier = pipeline(\n",
    "            \"text-classification\",\n",
    "            model=self.model_name,\n",
    "            tokenizer=AutoTokenizer.from_pretrained(self.tokenizer_name),\n",
    "            device=\"cuda\",\n",
    "            )\n",
    "\n",
    "    def __call__(self, input_dict) -> int:\n",
    "        passage = input_dict.get(\"chunk_text\", \"\")\n",
    "        question = input_dict.get(\"question\", \"\")\n",
    "        candidate = input_dict.get(\"response\", \"\")\n",
    "        \n",
    "        sequence = f'{passage}\\n\\n{question}\\n\\n{candidate}'\n",
    "\n",
    "        result = self.classifier(sequence)\n",
    "        label = result[0][\"label\"]\n",
    "\n",
    "        return 1 if label == \"correct\" else 0"
   ]
  },
  {
   "cell_type": "code",
   "execution_count": 37,
   "id": "5457e844-0b15-41df-b0ae-0474ca205a48",
   "metadata": {},
   "outputs": [
    {
     "name": "stderr",
     "output_type": "stream",
     "text": [
      "Device set to use cuda\n",
      "Device set to use cuda\n",
      "Device set to use cuda\n",
      "Device set to use cuda\n"
     ]
    }
   ],
   "source": [
    "# NOTE: these classes are not designed to take advantage of Pipeline's batching optimizations.\n",
    "\n",
    "pipe_dict = {\n",
    "    \"Mpnet\": Mpnet(),\n",
    "    \"Bleurt\": Bleurt(),\n",
    "    \"ModernBERT\": ModernBERT(),\n",
    "    \"AugmentedModernBERT\": AugModernBert(),\n",
    "}"
   ]
  },
  {
   "cell_type": "code",
   "execution_count": 38,
   "id": "4446c393-99c3-4a5b-b8e0-2f89018e4ed8",
   "metadata": {},
   "outputs": [
    {
     "data": {
      "application/vnd.jupyter.widget-view+json": {
       "model_id": "0269cfbe2be54b499b53b1916ea5de1b",
       "version_major": 2,
       "version_minor": 0
      },
      "text/plain": [
       "  0%|          | 0/4 [00:00<?, ?it/s]"
      ]
     },
     "metadata": {},
     "output_type": "display_data"
    },
    {
     "data": {
      "application/vnd.jupyter.widget-view+json": {
       "model_id": "8d6f06b5fee042a7ad064bfd4caf0948",
       "version_major": 2,
       "version_minor": 0
      },
      "text/plain": [
       "  0%|          | 0/1428 [00:00<?, ?it/s]"
      ]
     },
     "metadata": {},
     "output_type": "display_data"
    },
    {
     "data": {
      "application/vnd.jupyter.widget-view+json": {
       "model_id": "8d18eb2df67144559f0fb23e47aeb9a2",
       "version_major": 2,
       "version_minor": 0
      },
      "text/plain": [
       "  0%|          | 0/1428 [00:00<?, ?it/s]"
      ]
     },
     "metadata": {},
     "output_type": "display_data"
    },
    {
     "name": "stderr",
     "output_type": "stream",
     "text": [
      "Token indices sequence length is longer than the specified maximum sequence length for this model (217 > 128). Running this sequence through the model will result in indexing errors\n"
     ]
    },
    {
     "data": {
      "application/vnd.jupyter.widget-view+json": {
       "model_id": "76304c403263499d874d70d76e621788",
       "version_major": 2,
       "version_minor": 0
      },
      "text/plain": [
       "  0%|          | 0/1428 [00:00<?, ?it/s]"
      ]
     },
     "metadata": {},
     "output_type": "display_data"
    },
    {
     "data": {
      "application/vnd.jupyter.widget-view+json": {
       "model_id": "d8b148c697134b628ce4a76d431f458d",
       "version_major": 2,
       "version_minor": 0
      },
      "text/plain": [
       "  0%|          | 0/1428 [00:00<?, ?it/s]"
      ]
     },
     "metadata": {},
     "output_type": "display_data"
    }
   ],
   "source": [
    "def evaluate_all_models(dataset, pipe_dict):\n",
    "    pred_dict = {name: [] for name in pipe_dict.keys()}\n",
    "\n",
    "    for name, pipe in tqdm(pipe_dict.items(), total=len(pipe_dict)):\n",
    "        for example in tqdm(dataset, total=len(dataset)):\n",
    "            pred_dict[name].append(pipe(example))\n",
    "\n",
    "    return pd.DataFrame(pred_dict)\n",
    "\n",
    "df_preds = evaluate_all_models(ds, pipe_dict)\n",
    "df_results = pd.concat([df, df_preds], axis=1)"
   ]
  },
  {
   "cell_type": "code",
   "execution_count": 39,
   "id": "45ee67e7-7de4-4cdf-8fde-34f7d1c71a9b",
   "metadata": {},
   "outputs": [
    {
     "data": {
      "text/html": [
       "<div>\n",
       "<style scoped>\n",
       "    .dataframe tbody tr th:only-of-type {\n",
       "        vertical-align: middle;\n",
       "    }\n",
       "\n",
       "    .dataframe tbody tr th {\n",
       "        vertical-align: top;\n",
       "    }\n",
       "\n",
       "    .dataframe thead th {\n",
       "        text-align: right;\n",
       "    }\n",
       "</style>\n",
       "<table border=\"1\" class=\"dataframe\">\n",
       "  <thead>\n",
       "    <tr style=\"text-align: right;\">\n",
       "      <th></th>\n",
       "      <th>Mpnet</th>\n",
       "      <th>Bleurt</th>\n",
       "      <th>ModernBERT</th>\n",
       "      <th>AugmentedModernBERT</th>\n",
       "    </tr>\n",
       "  </thead>\n",
       "  <tbody>\n",
       "    <tr>\n",
       "      <th>1344</th>\n",
       "      <td>1</td>\n",
       "      <td>1</td>\n",
       "      <td>1</td>\n",
       "      <td>1</td>\n",
       "    </tr>\n",
       "    <tr>\n",
       "      <th>3</th>\n",
       "      <td>0</td>\n",
       "      <td>1</td>\n",
       "      <td>0</td>\n",
       "      <td>1</td>\n",
       "    </tr>\n",
       "    <tr>\n",
       "      <th>1067</th>\n",
       "      <td>1</td>\n",
       "      <td>1</td>\n",
       "      <td>0</td>\n",
       "      <td>1</td>\n",
       "    </tr>\n",
       "    <tr>\n",
       "      <th>1384</th>\n",
       "      <td>1</td>\n",
       "      <td>1</td>\n",
       "      <td>1</td>\n",
       "      <td>1</td>\n",
       "    </tr>\n",
       "    <tr>\n",
       "      <th>425</th>\n",
       "      <td>0</td>\n",
       "      <td>1</td>\n",
       "      <td>1</td>\n",
       "      <td>0</td>\n",
       "    </tr>\n",
       "  </tbody>\n",
       "</table>\n",
       "</div>"
      ],
      "text/plain": [
       "      Mpnet  Bleurt  ModernBERT  AugmentedModernBERT\n",
       "1344      1       1           1                    1\n",
       "3         0       1           0                    1\n",
       "1067      1       1           0                    1\n",
       "1384      1       1           1                    1\n",
       "425       0       1           1                    0"
      ]
     },
     "execution_count": 39,
     "metadata": {},
     "output_type": "execute_result"
    }
   ],
   "source": [
    "df_preds.sample(5)"
   ]
  },
  {
   "cell_type": "code",
   "execution_count": 40,
   "id": "59f1808c-7362-418b-b3e0-8c78250f96c9",
   "metadata": {},
   "outputs": [],
   "source": [
    "df_results.to_csv(\"../../data/itell-question-data-w-preds.csv\", index=False)"
   ]
  },
  {
   "cell_type": "code",
   "execution_count": 41,
   "id": "ad524815-2105-4239-8119-5d417a4acba5",
   "metadata": {},
   "outputs": [
    {
     "data": {
      "text/html": [
       "<div>\n",
       "<style scoped>\n",
       "    .dataframe tbody tr th:only-of-type {\n",
       "        vertical-align: middle;\n",
       "    }\n",
       "\n",
       "    .dataframe tbody tr th {\n",
       "        vertical-align: top;\n",
       "    }\n",
       "\n",
       "    .dataframe thead th {\n",
       "        text-align: right;\n",
       "    }\n",
       "</style>\n",
       "<table border=\"1\" class=\"dataframe\">\n",
       "  <thead>\n",
       "    <tr style=\"text-align: right;\">\n",
       "      <th></th>\n",
       "      <th>o3_mini_score</th>\n",
       "      <th>o3_binary</th>\n",
       "      <th>ensemble</th>\n",
       "      <th>Mpnet</th>\n",
       "      <th>Bleurt</th>\n",
       "      <th>ModernBERT</th>\n",
       "      <th>AugmentedModernBERT</th>\n",
       "    </tr>\n",
       "  </thead>\n",
       "  <tbody>\n",
       "    <tr>\n",
       "      <th>o3_mini_score</th>\n",
       "      <td>1.000000</td>\n",
       "      <td>0.774024</td>\n",
       "      <td>0.570712</td>\n",
       "      <td>0.540838</td>\n",
       "      <td>0.468128</td>\n",
       "      <td>0.486892</td>\n",
       "      <td>0.314204</td>\n",
       "    </tr>\n",
       "    <tr>\n",
       "      <th>o3_binary</th>\n",
       "      <td>0.774024</td>\n",
       "      <td>1.000000</td>\n",
       "      <td>0.470355</td>\n",
       "      <td>0.467751</td>\n",
       "      <td>0.383013</td>\n",
       "      <td>0.416643</td>\n",
       "      <td>0.331107</td>\n",
       "    </tr>\n",
       "    <tr>\n",
       "      <th>ensemble</th>\n",
       "      <td>0.570712</td>\n",
       "      <td>0.470355</td>\n",
       "      <td>1.000000</td>\n",
       "      <td>0.866354</td>\n",
       "      <td>0.883833</td>\n",
       "      <td>0.655310</td>\n",
       "      <td>0.390070</td>\n",
       "    </tr>\n",
       "    <tr>\n",
       "      <th>Mpnet</th>\n",
       "      <td>0.540838</td>\n",
       "      <td>0.467751</td>\n",
       "      <td>0.866354</td>\n",
       "      <td>1.000000</td>\n",
       "      <td>0.552537</td>\n",
       "      <td>0.633455</td>\n",
       "      <td>0.392620</td>\n",
       "    </tr>\n",
       "    <tr>\n",
       "      <th>Bleurt</th>\n",
       "      <td>0.468128</td>\n",
       "      <td>0.383013</td>\n",
       "      <td>0.883833</td>\n",
       "      <td>0.552537</td>\n",
       "      <td>1.000000</td>\n",
       "      <td>0.535407</td>\n",
       "      <td>0.311470</td>\n",
       "    </tr>\n",
       "    <tr>\n",
       "      <th>ModernBERT</th>\n",
       "      <td>0.486892</td>\n",
       "      <td>0.416643</td>\n",
       "      <td>0.655310</td>\n",
       "      <td>0.633455</td>\n",
       "      <td>0.535407</td>\n",
       "      <td>1.000000</td>\n",
       "      <td>0.300353</td>\n",
       "    </tr>\n",
       "    <tr>\n",
       "      <th>AugmentedModernBERT</th>\n",
       "      <td>0.314204</td>\n",
       "      <td>0.331107</td>\n",
       "      <td>0.390070</td>\n",
       "      <td>0.392620</td>\n",
       "      <td>0.311470</td>\n",
       "      <td>0.300353</td>\n",
       "      <td>1.000000</td>\n",
       "    </tr>\n",
       "  </tbody>\n",
       "</table>\n",
       "</div>"
      ],
      "text/plain": [
       "                     o3_mini_score  o3_binary  ensemble     Mpnet    Bleurt  \\\n",
       "o3_mini_score             1.000000   0.774024  0.570712  0.540838  0.468128   \n",
       "o3_binary                 0.774024   1.000000  0.470355  0.467751  0.383013   \n",
       "ensemble                  0.570712   0.470355  1.000000  0.866354  0.883833   \n",
       "Mpnet                     0.540838   0.467751  0.866354  1.000000  0.552537   \n",
       "Bleurt                    0.468128   0.383013  0.883833  0.552537  1.000000   \n",
       "ModernBERT                0.486892   0.416643  0.655310  0.633455  0.535407   \n",
       "AugmentedModernBERT       0.314204   0.331107  0.390070  0.392620  0.311470   \n",
       "\n",
       "                     ModernBERT  AugmentedModernBERT  \n",
       "o3_mini_score          0.486892             0.314204  \n",
       "o3_binary              0.416643             0.331107  \n",
       "ensemble               0.655310             0.390070  \n",
       "Mpnet                  0.633455             0.392620  \n",
       "Bleurt                 0.535407             0.311470  \n",
       "ModernBERT             1.000000             0.300353  \n",
       "AugmentedModernBERT    0.300353             1.000000  "
      ]
     },
     "execution_count": 41,
     "metadata": {},
     "output_type": "execute_result"
    }
   ],
   "source": [
    "df_results[\"o3_binary\"] = (df_results[\"o3_mini_score\"] > 1).astype(int)\n",
    "df_results[\"ensemble\"] = df_results[\"Mpnet\"] + df_results[\"Bleurt\"]\n",
    "\n",
    "df_results[[\n",
    "    \"o3_mini_score\",\n",
    "    \"o3_binary\",\n",
    "    \"ensemble\",\n",
    "    \"Mpnet\",\n",
    "    \"Bleurt\",\n",
    "    \"ModernBERT\",\n",
    "    \"AugmentedModernBERT\",\n",
    "]].corr(method=\"spearman\")"
   ]
  }
 ],
 "metadata": {
  "kernelspec": {
   "display_name": "Python [conda env:hf]",
   "language": "python",
   "name": "conda-env-hf-py"
  },
  "language_info": {
   "codemirror_mode": {
    "name": "ipython",
    "version": 3
   },
   "file_extension": ".py",
   "mimetype": "text/x-python",
   "name": "python",
   "nbconvert_exporter": "python",
   "pygments_lexer": "ipython3",
   "version": "3.11.6"
  }
 },
 "nbformat": 4,
 "nbformat_minor": 5
}
