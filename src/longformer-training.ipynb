{
 "cells": [
  {
   "cell_type": "code",
   "execution_count": 1,
   "id": "27248fbd-1cf1-40b5-a124-2d14421e84e3",
   "metadata": {},
   "outputs": [
    {
     "name": "stderr",
     "output_type": "stream",
     "text": [
      "Some weights of LongformerForSequenceClassification were not initialized from the model checkpoint at allenai/longformer-base-4096 and are newly initialized: ['classifier.out_proj.weight', 'classifier.dense.bias', 'classifier.dense.weight', 'classifier.out_proj.bias']\n",
      "You should probably TRAIN this model on a down-stream task to be able to use it for predictions and inference.\n"
     ]
    }
   ],
   "source": [
    "import pandas as pd\n",
    "import os\n",
    "from datasets import load_dataset, load_metric, Dataset, Value, ClassLabel, Features, DatasetDict\n",
    "from transformers import LongformerTokenizer, LongformerForSequenceClassification, LongformerConfig, trainer, TrainingArguments\n",
    "from transformers import DataCollatorWithPadding, Trainer, TrainingArguments, EarlyStoppingCallback\n",
    "import torch\n",
    "\n",
    "seed = 42\n",
    "model_name = 'allenai/longformer-base-4096'\n",
    "\n",
    "tokenizer = LongformerTokenizer.from_pretrained(model_name, padding='max_length', truncation=True)\n",
    "model = LongformerForSequenceClassification.from_pretrained(model_name)\n",
    "#os.environ['WANDB_DISABLED'] = 'true'\n",
    "\n",
    "seed = 42"
   ]
  },
  {
   "cell_type": "markdown",
   "id": "4c173fb3-25ac-4764-ab2f-5a8d72489b57",
   "metadata": {},
   "source": [
    "## Build Dataset"
   ]
  },
  {
   "cell_type": "code",
   "execution_count": 2,
   "id": "7a476ecb-cd21-41d0-8e0d-09c2a3f4fc85",
   "metadata": {},
   "outputs": [
    {
     "name": "stdout",
     "output_type": "stream",
     "text": [
      "19189\n",
      "4080\n",
      "3962\n",
      "DatasetDict({\n",
      "    train: Dataset({\n",
      "        features: ['text', 'labels'],\n",
      "        num_rows: 19189\n",
      "    })\n",
      "    valid: Dataset({\n",
      "        features: ['text', 'labels'],\n",
      "        num_rows: 4080\n",
      "    })\n",
      "    test: Dataset({\n",
      "        features: ['text', 'labels'],\n",
      "        num_rows: 3962\n",
      "    })\n",
      "})\n"
     ]
    },
    {
     "data": {
      "application/vnd.jupyter.widget-view+json": {
       "model_id": "d637da3af5c44e7ebe066ef06f5eae16",
       "version_major": 2,
       "version_minor": 0
      },
      "text/plain": [
       "Map:   0%|          | 0/19189 [00:00<?, ? examples/s]"
      ]
     },
     "metadata": {},
     "output_type": "display_data"
    },
    {
     "data": {
      "application/vnd.jupyter.widget-view+json": {
       "model_id": "2c2a0f7fc8a94999b8dbd9b7d9953ebd",
       "version_major": 2,
       "version_minor": 0
      },
      "text/plain": [
       "Map:   0%|          | 0/4080 [00:00<?, ? examples/s]"
      ]
     },
     "metadata": {},
     "output_type": "display_data"
    },
    {
     "data": {
      "application/vnd.jupyter.widget-view+json": {
       "model_id": "a3a4a3f9aaa34a71b0ba77bd94b6397b",
       "version_major": 2,
       "version_minor": 0
      },
      "text/plain": [
       "Map:   0%|          | 0/3962 [00:00<?, ? examples/s]"
      ]
     },
     "metadata": {},
     "output_type": "display_data"
    },
    {
     "name": "stdout",
     "output_type": "stream",
     "text": [
      "DatasetDict({\n",
      "    train: Dataset({\n",
      "        features: ['text', 'labels', 'input_ids', 'attention_mask'],\n",
      "        num_rows: 19189\n",
      "    })\n",
      "    valid: Dataset({\n",
      "        features: ['text', 'labels', 'input_ids', 'attention_mask'],\n",
      "        num_rows: 4080\n",
      "    })\n",
      "    test: Dataset({\n",
      "        features: ['text', 'labels', 'input_ids', 'attention_mask'],\n",
      "        num_rows: 3962\n",
      "    })\n",
      "})\n"
     ]
    }
   ],
   "source": [
    "from sklearn.model_selection import train_test_split\n",
    "\n",
    "df = pd.read_csv('../data/multirc.csv')#[['source_text', 'source_text_clean', 'question_text', 'answer_text', 'is_correct']]\n",
    "df['text'] = df['answer_text'] + tokenizer.sep_token + df['question_text'] + tokenizer.sep_token + df['source_text_clean']\n",
    "\n",
    "df = df[['text', 'is_correct', 'source_text_clean']]\n",
    "df.columns = ['text', 'labels', 'source_text_clean']\n",
    "df['labels'] = df['labels'].apply(lambda x: 0 if x == False else 1)\n",
    "\n",
    "source_index = df['source_text_clean'].drop_duplicates()\n",
    "train_index, validtest_index = train_test_split(source_index, test_size=0.3,train_size=0.7, random_state = seed)\n",
    "valid_index, test_index = train_test_split(validtest_index, test_size=0.5, train_size=0.5, random_state = seed)\n",
    "\n",
    "train_df = df[df['source_text_clean'].isin(train_index)].dropna()[['text', 'labels']]\n",
    "valid_df = df[df['source_text_clean'].isin(valid_index)].dropna()[['text', 'labels']]\n",
    "test_df = df[df['source_text_clean'].isin(test_index)].dropna()[['text', 'labels']]\n",
    "\n",
    "print(len(train_df))\n",
    "print(len(valid_df))\n",
    "print(len(test_df))\n",
    "\n",
    "ds = DatasetDict()\n",
    "ds['train'] = Dataset.from_pandas(train_df, preserve_index=False)\n",
    "ds['valid'] = Dataset.from_pandas(valid_df, preserve_index=False)\n",
    "ds['test'] = Dataset.from_pandas(test_df, preserve_index=False)\n",
    "print(ds)\n",
    "def preprocess_function(example):\n",
    "    return tokenizer(example[\"text\"], padding=\"max_length\", truncation=True)\n",
    "    \n",
    "ds = ds.map(preprocess_function)\n",
    "print(ds)"
   ]
  },
  {
   "cell_type": "markdown",
   "id": "7a258e40-db4c-4661-88bb-032936f051f0",
   "metadata": {},
   "source": [
    "## Train Model"
   ]
  },
  {
   "cell_type": "code",
   "execution_count": 3,
   "id": "e3f28a0e-671f-4fda-8158-03cbc3b9a5b7",
   "metadata": {},
   "outputs": [
    {
     "name": "stdout",
     "output_type": "stream",
     "text": [
      "cuda\n"
     ]
    }
   ],
   "source": [
    "id2label = {0: \"incorrect_answer\", 1: \"correct_answer\"}\n",
    "label2id = {\"incorrect_answer\": 0, \"correct_answer\": 1}\n",
    "\n",
    "def model_init():\n",
    "    model = LongformerForSequenceClassification.from_pretrained(\"../bin/longformer_classifier\",\n",
    "                                                               num_labels=2,\n",
    "                                                               id2label=id2label,\n",
    "                                                               label2id=label2id)\n",
    "    return model\n",
    "\n",
    "device = torch.device(\"cpu\")\n",
    "if torch.cuda.is_available():\n",
    "    device = torch.device(\"cuda\")\n",
    "\n",
    "print(device)"
   ]
  },
  {
   "cell_type": "code",
   "execution_count": 4,
   "id": "9e295869-df5c-422c-bd86-77abc4669bfb",
   "metadata": {},
   "outputs": [],
   "source": [
    "import evaluate\n",
    "import numpy as np\n",
    "accuracy = evaluate.load(\"accuracy\")\n",
    "\n",
    "def compute_metrics(eval_pred):\n",
    "    predictions, labels = eval_pred\n",
    "    predictions = np.argmax(predictions, axis=1)\n",
    "    return accuracy.compute(predictions=predictions, references=labels)"
   ]
  },
  {
   "cell_type": "code",
   "execution_count": 5,
   "id": "434f90c2-4e4b-41dd-ae4c-1eeb19a56152",
   "metadata": {},
   "outputs": [],
   "source": [
    "model_max_length = 4096\n",
    "eval_steps = 1000\n",
    "eval_accumulation_steps = 2\n",
    "save_total_limit = 4\n",
    "batch_size = 8\n",
    "num_epochs = 4\n",
    "learning_rate = 3e-05\n",
    "seed = 42\n",
    "\n",
    "data_collator = DataCollatorWithPadding(tokenizer=tokenizer, padding='max_length', max_length=4096)"
   ]
  },
  {
   "cell_type": "code",
   "execution_count": null,
   "id": "1b33e872-fed7-494c-9f44-35427d4e8f9f",
   "metadata": {},
   "outputs": [
    {
     "name": "stderr",
     "output_type": "stream",
     "text": [
      "Using the `WANDB_DISABLED` environment variable is deprecated and will be removed in v5. Use the --report_to flag to control the integrations used for logging result (for instance --report_to none).\n",
      "Using the `WANDB_DISABLED` environment variable is deprecated and will be removed in v5. Use the --report_to flag to control the integrations used for logging result (for instance --report_to none).\n"
     ]
    },
    {
     "data": {
      "text/html": [
       "\n",
       "    <div>\n",
       "      \n",
       "      <progress value='359' max='1797' style='width:300px; height:20px; vertical-align: middle;'></progress>\n",
       "      [ 359/1797 2:10:30 < 8:45:42, 0.05 it/s, Epoch 0.60/3]\n",
       "    </div>\n",
       "    <table border=\"1\" class=\"dataframe\">\n",
       "  <thead>\n",
       " <tr style=\"text-align: left;\">\n",
       "      <th>Epoch</th>\n",
       "      <th>Training Loss</th>\n",
       "      <th>Validation Loss</th>\n",
       "    </tr>\n",
       "  </thead>\n",
       "  <tbody>\n",
       "  </tbody>\n",
       "</table><p>"
      ],
      "text/plain": [
       "<IPython.core.display.HTML object>"
      ]
     },
     "metadata": {},
     "output_type": "display_data"
    }
   ],
   "source": [
    "import os\n",
    "os.environ['WANDB_DISABLED'] = 'true'\n",
    "\n",
    "trainer = Trainer(\n",
    "    model_init=model_init,\n",
    ")\n",
    "\n",
    "training_args = TrainingArguments(\n",
    "    output_dir = f'./results/mpnet_checkpoints',\n",
    "    optim = 'adamw_torch',\n",
    "    num_train_epochs = 3,\n",
    "    per_device_train_batch_size = batch_size,\n",
    "    per_device_eval_batch_size = batch_size,\n",
    "    weight_decay = 0.01,\n",
    "    learning_rate = learning_rate,\n",
    "    gradient_accumulation_steps=4, \n",
    "    gradient_checkpointing=True,\n",
    "    logging_dir = f'./logs/content',\n",
    "    save_total_limit = 10,\n",
    "    load_best_model_at_end = True,\n",
    "    metric_for_best_model = 'accuracy',\n",
    "    evaluation_strategy = \"epoch\",\n",
    "    save_strategy = \"epoch\", \n",
    "    greater_is_better = True,\n",
    "    seed=seed,\n",
    "    log_level = 'error',  \n",
    "    disable_tqdm = False, \n",
    ") \n",
    "\n",
    "    # Call the Trainer\n",
    "trainer = Trainer(\n",
    "    model_init = model_init,\n",
    "    args = training_args,\n",
    "    data_collator=data_collator,\n",
    "    train_dataset = ds['train'],\n",
    "    eval_dataset = ds['valid'],\n",
    "    compute_metrics = compute_metrics\n",
    "    #callbacks = [EarlyStoppingCallback(early_stopping_patience=3)]\n",
    ")\n",
    "\n",
    "# Train the model\n",
    "trainer.train()"
   ]
  },
  {
   "cell_type": "code",
   "execution_count": null,
   "id": "f8e30ee5-d3d1-4190-89c8-2d50c38aeb12",
   "metadata": {},
   "outputs": [],
   "source": [
    "ds['train']['labels']"
   ]
  },
  {
   "cell_type": "code",
   "execution_count": null,
   "id": "58a10631-0b1d-4eb0-9a4e-012847e352f6",
   "metadata": {},
   "outputs": [],
   "source": [
    "import time\n",
    "\n",
    "start_time = time.time()\n",
    "preds, labels, metrics= trainer.predict(ds['test'])\n",
    "predictions = np.argmax(preds, axis=1)\n",
    "end_time = time.time()\n",
    "print(end_time-start_time)"
   ]
  },
  {
   "cell_type": "code",
   "execution_count": null,
   "id": "00157633-4845-43dd-8907-0bf44c32f1bb",
   "metadata": {},
   "outputs": [],
   "source": [
    "from sklearn import metrics\n",
    "from matplotlib import pyplot as plt\n",
    "\n",
    "confusion_matrix = metrics.confusion_matrix(labels, predictions)\n",
    "cm_display = metrics.ConfusionMatrixDisplay(confusion_matrix = confusion_matrix, display_labels = ['incorrect', 'correct'])\n",
    "\n",
    "cm_display.plot()\n",
    "plt.title('Predicted and True Classifications of Correct and Incorrect Answers (MPnet)')\n",
    "plt.show()"
   ]
  },
  {
   "cell_type": "code",
   "execution_count": null,
   "id": "a014f416-0f0f-462e-94b0-9e2be48d37f2",
   "metadata": {},
   "outputs": [],
   "source": [
    "print(metrics.classification_report(labels, predictions))"
   ]
  },
  {
   "cell_type": "code",
   "execution_count": null,
   "id": "ca22a1c7-2c7b-4fac-a06f-239bafa03723",
   "metadata": {},
   "outputs": [],
   "source": [
    "import sklearn\n",
    "sklearn.metrics.cohen_kappa_score(labels, predictions)"
   ]
  },
  {
   "cell_type": "code",
   "execution_count": null,
   "id": "2f47fa91-83c3-4a10-9454-f0bab1b62b6b",
   "metadata": {},
   "outputs": [],
   "source": [
    "trainer.save_model(\"../bin/longformer_classifier\")"
   ]
  },
  {
   "cell_type": "code",
   "execution_count": 2,
   "id": "5a08cb9f-19fe-49a8-bc90-e5fd5dace8d7",
   "metadata": {},
   "outputs": [],
   "source": [
    "from transformers import AutoModelForSequenceClassification, AutoTokenizer\n",
    "model = AutoModelForSequenceClassification.from_pretrained(\"../bin/longformer_classifier\")\n",
    "tokenizer = AutoTokenizer.from_pretrained('allenai/longformer-base-4096')"
   ]
  },
  {
   "cell_type": "code",
   "execution_count": 4,
   "id": "fb76a6ea-5ac3-4ce8-91ed-dab1f6c2961e",
   "metadata": {},
   "outputs": [
    {
     "data": {
      "text/plain": [
       "CommitInfo(commit_url='https://huggingface.co/tiedaar/short-answer-classification-longformer/commit/555ca43c68067b517aaf1ff726ee58840d1c0a30', commit_message='Upload tokenizer', commit_description='', oid='555ca43c68067b517aaf1ff726ee58840d1c0a30', pr_url=None, pr_revision=None, pr_num=None)"
      ]
     },
     "execution_count": 4,
     "metadata": {},
     "output_type": "execute_result"
    }
   ],
   "source": [
    "model.push_to_hub('tiedaar/short-answer-classification-longformer')\n",
    "tokenizer.push_to_hub('tiedaar/short-answer-classification-longformer')"
   ]
  },
  {
   "cell_type": "code",
   "execution_count": 7,
   "id": "4c23b0ed-30c4-49a3-8b98-fa459be7581b",
   "metadata": {},
   "outputs": [
    {
     "name": "stdout",
     "output_type": "stream",
     "text": [
      "Processing item 3961 of 3962\r"
     ]
    }
   ],
   "source": [
    "counter = 0\n",
    "preds = []\n",
    "for text in ds['test']['text']:\n",
    "    print(f\"Processing item {counter} of {len(ds['test']['text'])}\", end='\\r')\n",
    "    counter += 1\n",
    "    inputs = tokenizer(text, return_tensors='pt').to(device)\n",
    "    with torch.no_grad():\n",
    "        logits = model(**inputs).logits\n",
    "    predicted_class_id = logits.argmax().item()\n",
    "    preds.append(model.config.id2label[predicted_class_id])"
   ]
  },
  {
   "cell_type": "code",
   "execution_count": 8,
   "id": "535a66d4-e1dc-4808-9a4e-88876292737a",
   "metadata": {},
   "outputs": [
    {
     "data": {
      "text/plain": [
       "3962"
      ]
     },
     "execution_count": 8,
     "metadata": {},
     "output_type": "execute_result"
    }
   ],
   "source": [
    "len(preds)"
   ]
  },
  {
   "cell_type": "code",
   "execution_count": 9,
   "id": "c9a455a1-3056-488e-9cf9-313c7ebe0d47",
   "metadata": {},
   "outputs": [
    {
     "name": "stdout",
     "output_type": "stream",
     "text": [
      "                  precision    recall  f1-score   support\n",
      "\n",
      "  correct_answer       0.66      0.71      0.68      1722\n",
      "incorrect_answer       0.76      0.71      0.74      2240\n",
      "\n",
      "        accuracy                           0.71      3962\n",
      "       macro avg       0.71      0.71      0.71      3962\n",
      "    weighted avg       0.72      0.71      0.71      3962\n",
      "\n"
     ]
    }
   ],
   "source": [
    "labels = []\n",
    "for x in ds['test']['labels']:\n",
    "    if x == 1:\n",
    "        labels.append('correct_answer' )\n",
    "    else: \n",
    "        labels.append('incorrect_answer') \n",
    "\n",
    "from sklearn import metrics\n",
    "from matplotlib import pyplot as plt\n",
    "\n",
    "print(metrics.classification_report(labels, preds))"
   ]
  },
  {
   "cell_type": "code",
   "execution_count": 11,
   "id": "859db314-5e75-4cc2-ab2f-4acdb4804d37",
   "metadata": {},
   "outputs": [
    {
     "data": {
      "image/png": "[encoded data removed]",
      "text/plain": [
       "<Figure size 640x480 with 2 Axes>"
      ]
     },
     "metadata": {},
     "output_type": "display_data"
    }
   ],
   "source": [
    "from sklearn import metrics\n",
    "from matplotlib import pyplot as plt\n",
    "\n",
    "confusion_matrix = metrics.confusion_matrix(labels, preds)\n",
    "cm_display = metrics.ConfusionMatrixDisplay(confusion_matrix = confusion_matrix, display_labels = ['incorrect', 'correct'])\n",
    "\n",
    "cm_display.plot()\n",
    "plt.title('Predicted and True Classifications of Correct and Incorrect Answers (Longformer)')\n",
    "plt.show()"
   ]
  },
  {
   "cell_type": "code",
   "execution_count": null,
   "id": "75e69ad6-e658-4f14-a941-d26274127a4d",
   "metadata": {},
   "outputs": [],
   "source": []
  }
 ],
 "metadata": {
  "kernelspec": {
   "display_name": "Python 3 (ipykernel)",
   "language": "python",
   "name": "python3"
  },
  "language_info": {
   "codemirror_mode": {
    "name": "ipython",
    "version": 3
   },
   "file_extension": ".py",
   "mimetype": "text/x-python",
   "name": "python",
   "nbconvert_exporter": "python",
   "pygments_lexer": "ipython3",
   "version": "3.11.6"
  }
 },
 "nbformat": 4,
 "nbformat_minor": 5
}
