{
 "cells": [
  {
   "cell_type": "code",
   "execution_count": 1,
   "id": "226d32d2-c8d6-43b0-b569-1cd85d5bfb35",
   "metadata": {},
   "outputs": [
    {
     "name": "stderr",
     "output_type": "stream",
     "text": [
      "/home/jovyan/conda_envs/env_vaibhav_autograder/lib/python3.9/site-packages/tqdm/auto.py:21: TqdmWarning: IProgress not found. Please update jupyter and ipywidgets. See https://ipywidgets.readthedocs.io/en/stable/user_install.html\n",
      "  from .autonotebook import tqdm as notebook_tqdm\n"
     ]
    }
   ],
   "source": [
    "import numpy as np\n",
    "import pandas as pd\n",
    "\n",
    "import evaluate\n",
    "from sentence_transformers import SentenceTransformer, util\n",
    "from transformers import T5Tokenizer, T5ForConditionalGeneration, PegasusTokenizer, PegasusForConditionalGeneration"
   ]
  },
  {
   "cell_type": "code",
   "execution_count": 16,
   "id": "2f6e0754-29bb-45a9-865b-905fd1d8d52e",
   "metadata": {},
   "outputs": [
    {
     "name": "stderr",
     "output_type": "stream",
     "text": [
      "/home/jovyan/conda_envs/env_vaibhav_autograder/lib/python3.9/site-packages/transformers/models/t5/tokenization_t5.py:163: FutureWarning: This tokenizer was incorrectly instantiated with a model max length of 512 which will be corrected in Transformers v5.\n",
      "For now, this behavior is kept to avoid breaking backwards compatibility when padding/encoding with `truncation is True`.\n",
      "- Be aware that you SHOULD NOT rely on t5-base automatically truncating your input to 512 when padding/encoding.\n",
      "- If you want to encode/pad to sequences longer than 512 you can either instantiate this tokenizer with `model_max_length` or pass `max_length` when encoding/padding.\n",
      "- To avoid this warning, please instantiate this tokenizer with `model_max_length` set to your preferred value.\n",
      "  warnings.warn(\n"
     ]
    }
   ],
   "source": [
    "# rouge_model = evaluate.load('rouge')\n",
    "# similarity_model = SentenceTransformer('stsb-roberta-large')\n",
    "\n",
    "# pegasus_tokenizer = PegasusTokenizer.from_pretrained('google/pegasus-large')\n",
    "# pegasus_model = PegasusForConditionalGeneration.from_pretrained('google/pegasus-large')\n",
    "\n",
    "# t5_tokenizer = T5Tokenizer.from_pretrained('t5-base')\n",
    "# t5_model = T5ForConditionalGeneration.from_pretrained('t5-base')\n",
    "\n",
    "def generate_summary(tokenizer, model, text):\n",
    "\n",
    "    text = f\"Summarize: {text}\"\n",
    "    inputs = tokenizer.encode(text, return_tensors=\"pt\", truncation=True)\n",
    "    \n",
    "    summary_ids = model.generate(inputs, max_length=150, num_beams=4, length_penalty=2.0, early_stopping=True, temperature=0.1, repetition_penalty=2.0)\n",
    "    summary = tokenizer.decode(summary_ids[0], skip_special_tokens=True)\n",
    "    \n",
    "    return summary"
   ]
  },
  {
   "cell_type": "code",
   "execution_count": 3,
   "id": "934b269d-7313-4a9f-badd-9efaaeb6c158",
   "metadata": {},
   "outputs": [
    {
     "data": {
      "text/html": [
       "<div>\n",
       "<style scoped>\n",
       "    .dataframe tbody tr th:only-of-type {\n",
       "        vertical-align: middle;\n",
       "    }\n",
       "\n",
       "    .dataframe tbody tr th {\n",
       "        vertical-align: top;\n",
       "    }\n",
       "\n",
       "    .dataframe thead th {\n",
       "        text-align: right;\n",
       "    }\n",
       "</style>\n",
       "<table border=\"1\" class=\"dataframe\">\n",
       "  <thead>\n",
       "    <tr style=\"text-align: right;\">\n",
       "      <th></th>\n",
       "      <th>Unnamed: 0</th>\n",
       "      <th>index</th>\n",
       "      <th>module</th>\n",
       "      <th>chapter</th>\n",
       "      <th>section</th>\n",
       "      <th>subsection</th>\n",
       "      <th>heading</th>\n",
       "      <th>raw_text</th>\n",
       "      <th>clean_text</th>\n",
       "      <th>slug</th>\n",
       "      <th>question</th>\n",
       "      <th>gold_answer</th>\n",
       "      <th>incorrect_answer</th>\n",
       "      <th>type</th>\n",
       "      <th>correct_answer</th>\n",
       "    </tr>\n",
       "  </thead>\n",
       "  <tbody>\n",
       "    <tr>\n",
       "      <th>0</th>\n",
       "      <td>0</td>\n",
       "      <td>0</td>\n",
       "      <td>1</td>\n",
       "      <td>1</td>\n",
       "      <td>0</td>\n",
       "      <td>0</td>\n",
       "      <td>Decisions ... Decisions in the Social Media Age</td>\n",
       "      <td>Every day we are faced with a myriad of decisi...</td>\n",
       "      <td>Every day we are faced with a myriad of decisi...</td>\n",
       "      <td>decisions--decisions-in-the-social-media-age</td>\n",
       "      <td>How can social media alter how we make decisions?</td>\n",
       "      <td>Social media outlets like Facebook and Twitter...</td>\n",
       "      <td>Social media outlets like Facebook and Twitter...</td>\n",
       "      <td>recall</td>\n",
       "      <td>Social media can alter how we make decisions b...</td>\n",
       "    </tr>\n",
       "    <tr>\n",
       "      <th>1</th>\n",
       "      <td>1</td>\n",
       "      <td>1</td>\n",
       "      <td>1</td>\n",
       "      <td>1</td>\n",
       "      <td>0</td>\n",
       "      <td>1</td>\n",
       "      <td>Introduction</td>\n",
       "      <td>What is economics and why should you spend you...</td>\n",
       "      <td>What is economics and why should you spend you...</td>\n",
       "      <td>introduction</td>\n",
       "      <td>What is economics?</td>\n",
       "      <td>Economics is both a subject area and a way of ...</td>\n",
       "      <td>Economics is primarily about money or finance.</td>\n",
       "      <td>recall</td>\n",
       "      <td>Economics is a subject area that studies how p...</td>\n",
       "    </tr>\n",
       "    <tr>\n",
       "      <th>2</th>\n",
       "      <td>2</td>\n",
       "      <td>2</td>\n",
       "      <td>1</td>\n",
       "      <td>1</td>\n",
       "      <td>1</td>\n",
       "      <td>0</td>\n",
       "      <td>Overview</td>\n",
       "      <td>import Alert from \"react-bootstrap/Alert\";\\nim...</td>\n",
       "      <td>By the end of this section, you will be able t...</td>\n",
       "      <td>overview</td>\n",
       "      <td>What is scarcity?</td>\n",
       "      <td>Scarcity is a fact of life in which human want...</td>\n",
       "      <td>Scarcity is when resources are infinite and hu...</td>\n",
       "      <td>recall</td>\n",
       "      <td>Scarcity refers to the limited availability of...</td>\n",
       "    </tr>\n",
       "    <tr>\n",
       "      <th>3</th>\n",
       "      <td>3</td>\n",
       "      <td>3</td>\n",
       "      <td>1</td>\n",
       "      <td>1</td>\n",
       "      <td>1</td>\n",
       "      <td>1</td>\n",
       "      <td>Introduction to FRED</td>\n",
       "      <td>Data is very important in economics because it...</td>\n",
       "      <td>Data is very important in economics because it...</td>\n",
       "      <td>introduction-to-fred</td>\n",
       "      <td>What is the name of the database where most of...</td>\n",
       "      <td>The St. Louis Federal Reserve Bank's FRED data...</td>\n",
       "      <td>The US Census Bureau database.</td>\n",
       "      <td>recall</td>\n",
       "      <td>The data used for this course is obtained from...</td>\n",
       "    </tr>\n",
       "    <tr>\n",
       "      <th>4</th>\n",
       "      <td>4</td>\n",
       "      <td>4</td>\n",
       "      <td>1</td>\n",
       "      <td>1</td>\n",
       "      <td>1</td>\n",
       "      <td>2</td>\n",
       "      <td>The Problem of Scarcity</td>\n",
       "      <td>Think about all the things you consume: food, ...</td>\n",
       "      <td>Think about all the things you consume: food, ...</td>\n",
       "      <td>the-problem-of-scarcity</td>\n",
       "      <td>What economic principle does Adam Smith first ...</td>\n",
       "      <td>Division and specialization of labor.</td>\n",
       "      <td>Scarcity.</td>\n",
       "      <td>recall</td>\n",
       "      <td>Adam Smith first put forth the division and sp...</td>\n",
       "    </tr>\n",
       "  </tbody>\n",
       "</table>\n",
       "</div>"
      ],
      "text/plain": [
       "   Unnamed: 0  index  module  chapter  section  subsection  \\\n",
       "0           0      0       1        1        0           0   \n",
       "1           1      1       1        1        0           1   \n",
       "2           2      2       1        1        1           0   \n",
       "3           3      3       1        1        1           1   \n",
       "4           4      4       1        1        1           2   \n",
       "\n",
       "                                           heading  \\\n",
       "0  Decisions ... Decisions in the Social Media Age   \n",
       "1                                     Introduction   \n",
       "2                                         Overview   \n",
       "3                             Introduction to FRED   \n",
       "4                          The Problem of Scarcity   \n",
       "\n",
       "                                            raw_text  \\\n",
       "0  Every day we are faced with a myriad of decisi...   \n",
       "1  What is economics and why should you spend you...   \n",
       "2  import Alert from \"react-bootstrap/Alert\";\\nim...   \n",
       "3  Data is very important in economics because it...   \n",
       "4  Think about all the things you consume: food, ...   \n",
       "\n",
       "                                          clean_text  \\\n",
       "0  Every day we are faced with a myriad of decisi...   \n",
       "1  What is economics and why should you spend you...   \n",
       "2  By the end of this section, you will be able t...   \n",
       "3  Data is very important in economics because it...   \n",
       "4  Think about all the things you consume: food, ...   \n",
       "\n",
       "                                           slug  \\\n",
       "0  decisions--decisions-in-the-social-media-age   \n",
       "1                                  introduction   \n",
       "2                                      overview   \n",
       "3                          introduction-to-fred   \n",
       "4                       the-problem-of-scarcity   \n",
       "\n",
       "                                            question  \\\n",
       "0  How can social media alter how we make decisions?   \n",
       "1                                 What is economics?   \n",
       "2                                  What is scarcity?   \n",
       "3  What is the name of the database where most of...   \n",
       "4  What economic principle does Adam Smith first ...   \n",
       "\n",
       "                                         gold_answer  \\\n",
       "0  Social media outlets like Facebook and Twitter...   \n",
       "1  Economics is both a subject area and a way of ...   \n",
       "2  Scarcity is a fact of life in which human want...   \n",
       "3  The St. Louis Federal Reserve Bank's FRED data...   \n",
       "4              Division and specialization of labor.   \n",
       "\n",
       "                                    incorrect_answer    type  \\\n",
       "0  Social media outlets like Facebook and Twitter...  recall   \n",
       "1     Economics is primarily about money or finance.  recall   \n",
       "2  Scarcity is when resources are infinite and hu...  recall   \n",
       "3                     The US Census Bureau database.  recall   \n",
       "4                                          Scarcity.  recall   \n",
       "\n",
       "                                      correct_answer  \n",
       "0  Social media can alter how we make decisions b...  \n",
       "1  Economics is a subject area that studies how p...  \n",
       "2  Scarcity refers to the limited availability of...  \n",
       "3  The data used for this course is obtained from...  \n",
       "4  Adam Smith first put forth the division and sp...  "
      ]
     },
     "execution_count": 3,
     "metadata": {},
     "output_type": "execute_result"
    }
   ],
   "source": [
    "df = pd.read_csv('~/active-projects/textbook-question-generation/data/aqag-chatgpt-vicuna.csv')\n",
    "# df.rename({'correct_answer_vicuna': 'gold_answer'}, axis=1, inplace=True)\n",
    "df.rename({'correct_answer': 'gold_answer'}, axis=1, inplace=True)\n",
    "df.rename({'correct_answer_vicuna': 'correct_answer'}, axis=1, inplace=True)\n",
    "df.head()"
   ]
  },
  {
   "cell_type": "code",
   "execution_count": 4,
   "id": "0588c523-931d-4716-87af-979d69c91af9",
   "metadata": {},
   "outputs": [],
   "source": [
    "# df.shape, df.dropna(subset=['clean_text', 'question', 'correct_answer', 'incorrect_answer', 'gold_answer']).shape"
   ]
  },
  {
   "cell_type": "code",
   "execution_count": null,
   "id": "abf5c883-3caa-4aa9-a311-7f070b179383",
   "metadata": {},
   "outputs": [],
   "source": [
    "df.dropna(subset=['clean_text', 'question', 'correct_answer', 'incorrect_answer', 'gold_answer'], inplace=True)\n",
    "# df.shape"
   ]
  },
  {
   "cell_type": "code",
   "execution_count": 5,
   "id": "b845ea36-2187-44fc-9f78-f94011781315",
   "metadata": {},
   "outputs": [
    {
     "name": "stderr",
     "output_type": "stream",
     "text": [
      "/tmp/ipykernel_1091/115505220.py:2: SettingWithCopyWarning: \n",
      "A value is trying to be set on a copy of a slice from a DataFrame\n",
      "\n",
      "See the caveats in the documentation: https://pandas.pydata.org/pandas-docs/stable/user_guide/indexing.html#returning-a-view-versus-a-copy\n",
      "  temp_correct_df.rename({'correct_answer': 'student_response'}, axis=1, inplace=True)\n",
      "/tmp/ipykernel_1091/115505220.py:3: SettingWithCopyWarning: \n",
      "A value is trying to be set on a copy of a slice from a DataFrame.\n",
      "Try using .loc[row_indexer,col_indexer] = value instead\n",
      "\n",
      "See the caveats in the documentation: https://pandas.pydata.org/pandas-docs/stable/user_guide/indexing.html#returning-a-view-versus-a-copy\n",
      "  temp_correct_df['true_label'] = 1\n"
     ]
    }
   ],
   "source": [
    "temp_correct_df = df[['clean_text', 'question', 'gold_answer', 'correct_answer']]\n",
    "temp_correct_df.rename({'correct_answer': 'student_response'}, axis=1, inplace=True)\n",
    "temp_correct_df['true_label'] = 1\n",
    "# temp_correct_df.head()"
   ]
  },
  {
   "cell_type": "code",
   "execution_count": 6,
   "id": "b7d3a941-6899-497e-9252-a4b504f0b799",
   "metadata": {},
   "outputs": [
    {
     "name": "stderr",
     "output_type": "stream",
     "text": [
      "/tmp/ipykernel_1091/503925515.py:2: SettingWithCopyWarning: \n",
      "A value is trying to be set on a copy of a slice from a DataFrame\n",
      "\n",
      "See the caveats in the documentation: https://pandas.pydata.org/pandas-docs/stable/user_guide/indexing.html#returning-a-view-versus-a-copy\n",
      "  temp_incorrect_df.rename({'incorrect_answer': 'student_response'}, axis=1, inplace=True)\n",
      "/tmp/ipykernel_1091/503925515.py:3: SettingWithCopyWarning: \n",
      "A value is trying to be set on a copy of a slice from a DataFrame.\n",
      "Try using .loc[row_indexer,col_indexer] = value instead\n",
      "\n",
      "See the caveats in the documentation: https://pandas.pydata.org/pandas-docs/stable/user_guide/indexing.html#returning-a-view-versus-a-copy\n",
      "  temp_incorrect_df['true_label'] = 0\n"
     ]
    }
   ],
   "source": [
    "temp_incorrect_df = df[['clean_text', 'question', 'gold_answer', 'incorrect_answer']]\n",
    "temp_incorrect_df.rename({'incorrect_answer': 'student_response'}, axis=1, inplace=True)\n",
    "temp_incorrect_df['true_label'] = 0\n",
    "# temp_incorrect_df.head()"
   ]
  },
  {
   "cell_type": "code",
   "execution_count": 7,
   "id": "378d7efc-159d-47fc-9ea9-df8e3a918703",
   "metadata": {},
   "outputs": [],
   "source": [
    "# df.shape, temp_correct_df.shape, temp_incorrect_df.shape"
   ]
  },
  {
   "cell_type": "code",
   "execution_count": 8,
   "id": "6a992a4f-570e-47a1-8e6a-efe90354d4f8",
   "metadata": {},
   "outputs": [],
   "source": [
    "df = pd.concat([temp_correct_df, temp_incorrect_df]).reset_index(drop=True)"
   ]
  },
  {
   "cell_type": "code",
   "execution_count": null,
   "id": "d8986171-8d3e-4ab8-998a-1ef1cc5bf0ca",
   "metadata": {},
   "outputs": [],
   "source": []
  },
  {
   "cell_type": "code",
   "execution_count": 9,
   "id": "3953c3e3-0c35-4207-85a7-54657e825bd0",
   "metadata": {},
   "outputs": [],
   "source": [
    "# df['ga_summary'] = df['gold_answer'].apply(lambda x\n",
    "i=1"
   ]
  },
  {
   "cell_type": "code",
   "execution_count": 17,
   "id": "e31e8215-3b0d-480f-9275-a7e016224a2a",
   "metadata": {},
   "outputs": [
    {
     "data": {
      "text/plain": [
       "'Summarize: Economics is both a subject area and a way of viewing the world.'"
      ]
     },
     "execution_count": 17,
     "metadata": {},
     "output_type": "execute_result"
    }
   ],
   "source": [
    "df['gold_answer'][i:i+1].apply(lambda x: generate_summary(pegasus_tokenizer, pegasus_model, x))[i]"
   ]
  },
  {
   "cell_type": "code",
   "execution_count": 18,
   "id": "5b575601-3484-45e9-89b4-ef6e39590af2",
   "metadata": {},
   "outputs": [
    {
     "data": {
      "text/plain": [
       "': Economics is both a subject area and a way of viewing the world.: Economics is both a subject area and a way of viewing the world.'"
      ]
     },
     "execution_count": 18,
     "metadata": {},
     "output_type": "execute_result"
    }
   ],
   "source": [
    "df['gold_answer'][i:i+1].apply(lambda x: generate_summary(t5_tokenizer, t5_model, x))[i]"
   ]
  },
  {
   "cell_type": "code",
   "execution_count": 19,
   "id": "a54772f5-ffd9-4b2f-ab87-de0009d7865e",
   "metadata": {},
   "outputs": [
    {
     "data": {
      "text/plain": [
       "'Economics is both a subject area and a way of viewing the world.'"
      ]
     },
     "execution_count": 19,
     "metadata": {},
     "output_type": "execute_result"
    }
   ],
   "source": [
    "df['gold_answer'][i]"
   ]
  },
  {
   "cell_type": "code",
   "execution_count": 20,
   "id": "d45771c7-e826-485d-91c5-6a86d9405d66",
   "metadata": {},
   "outputs": [
    {
     "data": {
      "text/plain": [
       "'Summarize: Economics is a subject area that studies how people make choices and how those choices affect the economy.'"
      ]
     },
     "execution_count": 20,
     "metadata": {},
     "output_type": "execute_result"
    }
   ],
   "source": [
    "df['student_response'][i:i+1].apply(lambda x: generate_summary(pegasus_tokenizer, pegasus_model, x))[i]"
   ]
  },
  {
   "cell_type": "code",
   "execution_count": 21,
   "id": "fa99bde9-710d-42dc-9470-aac917c38c9b",
   "metadata": {},
   "outputs": [
    {
     "data": {
      "text/plain": [
       "': Economics is a subject area that studies how people make choices and how those choices affect the economy. To summarize: Economics is a subject area that studies how people make choices and how those choices affect the economy.'"
      ]
     },
     "execution_count": 21,
     "metadata": {},
     "output_type": "execute_result"
    }
   ],
   "source": [
    "df['student_response'][i:i+1].apply(lambda x: generate_summary(t5_tokenizer, t5_model, x))[i]"
   ]
  },
  {
   "cell_type": "code",
   "execution_count": 22,
   "id": "8b04c060-f5f3-48de-965e-260a28dfb778",
   "metadata": {},
   "outputs": [
    {
     "data": {
      "text/plain": [
       "'Economics is a subject area that studies how people make choices and how those choices affect the economy.'"
      ]
     },
     "execution_count": 22,
     "metadata": {},
     "output_type": "execute_result"
    }
   ],
   "source": [
    "df['student_response'][i]"
   ]
  },
  {
   "cell_type": "code",
   "execution_count": 24,
   "id": "6be48ea6-d5db-4edf-8bd6-94f0c67b217e",
   "metadata": {},
   "outputs": [
    {
     "data": {
      "text/plain": [
       "'We rarely have the data we need to make perfect decisions, we are faced with what economists call “imperfect information,” but we still make hundreds of decisions a day.'"
      ]
     },
     "execution_count": 24,
     "metadata": {},
     "output_type": "execute_result"
    }
   ],
   "source": [
    "generate_summary(pegasus_tokenizer, pegasus_model, df.iloc[0]['clean_text'])"
   ]
  },
  {
   "cell_type": "code",
   "execution_count": 23,
   "id": "90ca281b-1a5e-4f3d-bdac-02a4f1146841",
   "metadata": {},
   "outputs": [
    {
     "data": {
      "text/plain": [
       "'Every day we are faced with a myriad of decisions, from the simple question of what to have for breakfast to more complex choices like whether to double major. Our response to these decisions depends on the information we have available at any given moment. We rarely have the data we need to make perfect decisions, we are faced with what economists call “imperfect information,” but we still make hundreds of decisions a day.\\nNow we have another avenue to gather information—social media. Outlets like Facebook and Twitter are altering how we make choices, how we spend our time, which products we buy, and more. How many of you chose a university without first checking its social media presence for information and feedback? As you will see in this course, what happens in economics is affected by how well and how fast information disseminates through channels like social media.\\nThis chapter is an introduction to the world of making decisions, processing information, and understanding behavior in markets—the world of economics. Each chapter in this book will start with a discussion about current (or sometimes past) events and revisit it at chapter’s end—to “bring home” the concepts in play.'"
      ]
     },
     "execution_count": 23,
     "metadata": {},
     "output_type": "execute_result"
    }
   ],
   "source": [
    "df.iloc[0]['clean_text']"
   ]
  },
  {
   "cell_type": "code",
   "execution_count": null,
   "id": "9421c99d-72bb-416c-bbb5-f2674f0466a9",
   "metadata": {},
   "outputs": [],
   "source": []
  },
  {
   "cell_type": "code",
   "execution_count": null,
   "id": "559fb534-b6e8-4b90-927c-cca75488e9a7",
   "metadata": {},
   "outputs": [],
   "source": []
  },
  {
   "cell_type": "markdown",
   "id": "096c0d35-f737-4fee-95dd-743bae8c48cf",
   "metadata": {},
   "source": [
    "#### Preprocessing"
   ]
  },
  {
   "cell_type": "code",
   "execution_count": null,
   "id": "f3465726-3645-44ef-8721-c7aa6cd6c9fd",
   "metadata": {},
   "outputs": [],
   "source": [
    "# preprocessing steps for similarity computation:\n",
    "# 1. lower case\n",
    "# 2. remove non-alphanumeric characters except those bringing in context - (['@', '#', '$', '%', '*', '<', '>', '.', ','])\n",
    "# 3. remove stopwords\n",
    "# 4. lemmatize --- experiment\n",
    "\n",
    "def func_preprocessing(text:str, lemmatize:bool=False):\n",
    "\n",
    "    return_list = list()\n",
    "    spacy_document = spacy_model(text.lower().strip())\n",
    "    for token in [token for token in spacy_document]:\n",
    "        if (token.text.isalnum() or any(i in token.text and token.text.count(i) == 1 for i in ['@', '#', '$', '%', '<', '>', '.', ',', '+', '-', '*'])) and (not token.is_stop):\n",
    "            if lemmatize:\n",
    "                return_list.append(token.lemma_)\n",
    "            else:\n",
    "                return_list.append(token.text)\n",
    "    \n",
    "    return ' '.join(return_list)\n",
    "\n",
    "df['processed_gold_answer'] = df['gold_answer'].apply(lambda x: func_preprocessing(x))\n",
    "df['processed_student_response'] = df['student_response'].apply(lambda x: func_preprocessing(x))\n",
    "\n",
    "df['processed_gold_answer_lemmatized'] = df['gold_answer'].apply(lambda x: func_preprocessing(x, lemmatize=True))\n",
    "df['processed_student_response_lemmatized'] = df['student_response'].apply(lambda x: func_preprocessing(x, lemmatize=True))\n",
    "\n",
    "df.head()"
   ]
  },
  {
   "cell_type": "markdown",
   "id": "1b9c9906-ef91-4983-9d01-0d8b6955fbf1",
   "metadata": {},
   "source": [
    "#### Computing Cosine Similarity"
   ]
  },
  {
   "cell_type": "code",
   "execution_count": null,
   "id": "ec0ff157-7714-441a-a040-979048ff71a4",
   "metadata": {},
   "outputs": [],
   "source": [
    "# computing similarity between correct and incorect answer\n",
    "def compute_similarity(list_answers: list):\n",
    "    # calculating embeddings for the list -> [correct answer, incorrect answer]\n",
    "    embeddings = similarity_model.encode(list_answers, batch_size=16)\n",
    "    # returning similarity\n",
    "    return util.pytorch_cos_sim(embeddings[0], embeddings[1])[0].item()\n",
    "\n",
    "df['processed_similarity'] = df.apply(lambda x: compute_similarity([x['processed_gold_answer'], x['processed_student_response']]), axis=1)\n",
    "df['processed_lemmatized_similarity'] = df.apply(lambda x: compute_similarity([x['processed_gold_answer_lemmatized'], x['processed_student_response_lemmatized']]), axis=1)\n",
    "\n",
    "df.head()"
   ]
  },
  {
   "cell_type": "markdown",
   "id": "443e8bc5-62c8-4192-ad6f-1ffe2228fc5e",
   "metadata": {},
   "source": [
    "#### Computing ROUGE"
   ]
  },
  {
   "cell_type": "code",
   "execution_count": null,
   "id": "3cdc3e66-8d8b-464f-b445-b910fbabbbd7",
   "metadata": {},
   "outputs": [],
   "source": [
    "# computing rouge_n. n is calculated as follows - \n",
    "# minimum of (9 OR 'half of number of tokens in correct answer' OR 'half of number of tokens in incorrect answer') - including 9 because that is the highest that evaluate library can compute\n",
    "# maximum of (1 OR the output of above) - to prevent n from being equal to 0.\n",
    "\n",
    "compute_rouge = lambda predictions, references, n: rouge_model.compute(predictions=[predictions], references=[references], rouge_types=[f'rouge{n}'])\n",
    "get_n = lambda t1, t2: max(1, min(9, int(len(t1.split()) / 2), int(len(t2.split()) / 2)))\n",
    "\n",
    "df['processed_rouge'] = df.apply(lambda x: list(compute_rouge(x['processed_student_response'], x['processed_gold_answer'], get_n(x['processed_student_response'], x['processed_gold_answer'])).values())[0], axis=1)\n",
    "df['processed_lemmatized_rouge'] = df.apply(lambda x: list(compute_rouge(x['processed_student_response_lemmatized'], x['processed_gold_answer_lemmatized'], get_n(x['processed_student_response_lemmatized'], x['processed_gold_answer_lemmatized'])).values())[0], axis=1)"
   ]
  },
  {
   "cell_type": "code",
   "execution_count": null,
   "id": "5cfc76dc-13d6-4693-9067-627ee914aa86",
   "metadata": {},
   "outputs": [],
   "source": [
    "df.head()"
   ]
  },
  {
   "cell_type": "code",
   "execution_count": null,
   "id": "74616e2b-e063-41f1-abea-6c808c75c8d9",
   "metadata": {},
   "outputs": [],
   "source": [
    "df.to_csv('~/active-projects/textbook-question-generation/data/aqag-chatgpt-vicuna-with-rouge-and-sim-vga.csv', index=False)"
   ]
  },
  {
   "cell_type": "code",
   "execution_count": null,
   "id": "753f1511-7c86-4114-b914-40d9b05fa35b",
   "metadata": {},
   "outputs": [],
   "source": [
    "df['processed_rouge'].plot(kind='hist')"
   ]
  },
  {
   "cell_type": "code",
   "execution_count": null,
   "id": "e4d0d144-b475-45b0-9a87-a215b645b530",
   "metadata": {},
   "outputs": [],
   "source": [
    "df['processed_lemmatized_rouge'].plot(kind='hist')"
   ]
  },
  {
   "cell_type": "code",
   "execution_count": null,
   "id": "0500e4f6-7c16-4969-897f-a261dba6f8c8",
   "metadata": {},
   "outputs": [],
   "source": [
    "df['processed_similarity'].plot(kind='hist')"
   ]
  },
  {
   "cell_type": "code",
   "execution_count": null,
   "id": "a34e2f10-6ece-414f-99fc-e052551a0354",
   "metadata": {},
   "outputs": [],
   "source": [
    "df['processed_lemmatized_similarity'].plot(kind='hist')"
   ]
  },
  {
   "cell_type": "markdown",
   "id": "3f5ed356-a6bc-49d8-8927-8617f4d88b83",
   "metadata": {},
   "source": [
    "#### Scoring"
   ]
  },
  {
   "cell_type": "code",
   "execution_count": null,
   "id": "d1339924-70f0-4592-89c0-6adb3ba0a3c5",
   "metadata": {},
   "outputs": [],
   "source": [
    "# scoring method -\n",
    "# 1. if similarity > 0.90 and rouge > 0.90 -> mark as correct\n",
    "# 2. if similarity > 0.95 and rouge > 0.85 -> mark as correct\n",
    "# 3. if similarity > 0.85 and rouge > 0.95 -> mark as correct\n",
    "# 4. else incorrect\n",
    "# return 1 for correct and 0 for incorrect\n",
    "\n",
    "def score(similarity_score: float, rouge_score: float):\n",
    "    if (similarity_score >= 0.90 and rouge_score >= 0.90) or (similarity_score >= 0.95 and rouge_score >= 0.85) or (similarity_score >= 0.85 and rouge_score >= 0.95):\n",
    "        return 1\n",
    "    return 0\n",
    "\n",
    "df['processed_score'] = df.apply(lambda x: score(x['processed_similarity'], x['processed_rouge']), axis=1)\n",
    "df['processed_lemmatized_score'] = df.apply(lambda x: score(x['processed_lemmatized_similarity'], x['processed_lemmatized_rouge']), axis=1)"
   ]
  },
  {
   "cell_type": "code",
   "execution_count": null,
   "id": "4d5120b7-5227-46e7-a290-af66ce046f62",
   "metadata": {},
   "outputs": [],
   "source": [
    "confusion_matrix(df['true_label'], df['processed_score'])"
   ]
  },
  {
   "cell_type": "code",
   "execution_count": null,
   "id": "8244c21a-800a-434a-8c28-a7e7d20bca0d",
   "metadata": {},
   "outputs": [],
   "source": [
    "print(classification_report(df['true_label'], df['processed_score']))"
   ]
  },
  {
   "cell_type": "code",
   "execution_count": null,
   "id": "c9c0b3a0-5fd7-4ccd-86e2-5e3d8316b9b8",
   "metadata": {},
   "outputs": [],
   "source": [
    "cohen_kappa_score(df['true_label'], df['processed_score'])"
   ]
  },
  {
   "cell_type": "code",
   "execution_count": null,
   "id": "b563387a-c42d-4ba0-bb3d-7c6e9024a1f2",
   "metadata": {},
   "outputs": [],
   "source": [
    "confusion_matrix(df['true_label'], df['processed_lemmatized_score'])"
   ]
  },
  {
   "cell_type": "code",
   "execution_count": null,
   "id": "3281a39e-c006-43c4-be8f-87b73066ae76",
   "metadata": {},
   "outputs": [],
   "source": [
    "print(classification_report(df['true_label'], df['processed_lemmatized_score']))"
   ]
  },
  {
   "cell_type": "code",
   "execution_count": null,
   "id": "f5765dd8-5ffb-4315-94b0-bded2f9a06eb",
   "metadata": {},
   "outputs": [],
   "source": [
    "cohen_kappa_score(df['true_label'], df['processed_lemmatized_score'])"
   ]
  },
  {
   "cell_type": "code",
   "execution_count": null,
   "id": "32287b04-cc2c-4678-a8f9-d18590038264",
   "metadata": {},
   "outputs": [],
   "source": [
    "# scoring method -\n",
    "# 1. if similarity > 0.90 and rouge > 0.90 -> mark as correct\n",
    "# 2. if similarity > 0.95 and rouge > 0.85 -> mark as correct\n",
    "# 3. if similarity > 0.85 and rouge > 0.95 -> mark as correct\n",
    "# 4. else incorrect\n",
    "# return 1 for correct and 0 for incorrect\n",
    "\n",
    "def score(similarity_score: float, rouge_score: float):\n",
    "    \n",
    "    for threshold in [0.5, 0.55, 0.6, 0.65, 0.7, 0.75, 0.8, 0.85, 0.9, 0.95]:\n",
    "    if (similarity_score >= 0.90 and rouge_score >= 0.90) or (similarity_score >= 0.95 and rouge_score >= 0.85) or (similarity_score >= 0.85 and rouge_score >= 0.95):\n",
    "        return 1\n",
    "    return 0\n",
    "\n",
    "df['processed_score'] = df.apply(lambda x: score(x['processed_similarity'], x['processed_rouge']), axis=1)\n",
    "df['processed_lemmatized_score'] = df.apply(lambda x: score(x['processed_lemmatized_similarity'], x['processed_lemmatized_rouge']), axis=1)"
   ]
  },
  {
   "cell_type": "code",
   "execution_count": null,
   "id": "e455becd-0676-435f-b840-d54c9c54821f",
   "metadata": {},
   "outputs": [],
   "source": []
  },
  {
   "cell_type": "code",
   "execution_count": null,
   "id": "6bd0a4f8-2697-4ec2-9553-df7955de316c",
   "metadata": {},
   "outputs": [],
   "source": [
    "df = pd.read_csv('~/active-projects/textbook-question-generation/data/aqag-chatgpt-vicuna-with-rouge-and-sim-vga.csv')"
   ]
  },
  {
   "cell_type": "code",
   "execution_count": null,
   "id": "20d17dee-1f8d-41a7-a6cb-a12cc203c08d",
   "metadata": {},
   "outputs": [],
   "source": [
    "df.head()"
   ]
  },
  {
   "cell_type": "code",
   "execution_count": null,
   "id": "9bb70020-b10d-4604-b4e3-a0ffd992a2ba",
   "metadata": {},
   "outputs": [],
   "source": [
    "# from transformers import pipeline\n",
    "summary_model = pipeline(\"summarization\", model= \"csebuetnlp/mT5_multilingual_XLSum\")"
   ]
  },
  {
   "cell_type": "code",
   "execution_count": null,
   "id": "acb1f0f2-272a-4da2-824d-50b3e3145f73",
   "metadata": {},
   "outputs": [],
   "source": [
    "i = 0\n",
    "ga = df.iloc[1]['gold_answer']\n",
    "sr = df.iloc[1]['student_response']"
   ]
  },
  {
   "cell_type": "code",
   "execution_count": null,
   "id": "382067e4-7b01-43dc-8689-5eea86d66b29",
   "metadata": {},
   "outputs": [],
   "source": [
    "ga"
   ]
  },
  {
   "cell_type": "code",
   "execution_count": null,
   "id": "8253dd84-75bc-4351-aa5c-f34131bdea91",
   "metadata": {},
   "outputs": [],
   "source": [
    "sr"
   ]
  },
  {
   "cell_type": "code",
   "execution_count": null,
   "id": "cb187ee1-e260-4dd1-b890-bc1b9c2b7399",
   "metadata": {},
   "outputs": [],
   "source": [
    "summary_model([ga, sr])"
   ]
  },
  {
   "cell_type": "code",
   "execution_count": null,
   "id": "33f2ec30-fe4d-4530-9689-a4e05253a09b",
   "metadata": {},
   "outputs": [],
   "source": [
    "# from transformers import AutoTokenizer, AutoModelForSeq2SeqLM\n",
    "\n",
    "# tokenizer = AutoTokenizer.from_pretrained(\"google/roberta2roberta_L-24_gigaword\")\n",
    "# model = AutoModelForSeq2SeqLM.from_pretrained(\"google/roberta2roberta_L-24_gigaword\")\n",
    "\n",
    "# input_ids = tokenizer(ga, return_tensors=\"pt\").input_ids\n",
    "# output_ids = model.generate(input_ids)[0]\n",
    "# print(tokenizer.decode(output_ids, skip_special_tokens=True))"
   ]
  },
  {
   "cell_type": "code",
   "execution_count": null,
   "id": "77e24bdb-687c-44bf-a96d-2babf124b8dd",
   "metadata": {},
   "outputs": [],
   "source": []
  },
  {
   "cell_type": "code",
   "execution_count": null,
   "id": "98efa2af-c0cf-4c84-8009-0f24491c0f87",
   "metadata": {},
   "outputs": [],
   "source": []
  }
 ],
 "metadata": {
  "kernelspec": {
   "display_name": "Python [conda env:env_vaibhav_autograder]",
   "language": "python",
   "name": "conda-env-env_vaibhav_autograder-py"
  },
  "language_info": {
   "codemirror_mode": {
    "name": "ipython",
    "version": 3
   },
   "file_extension": ".py",
   "mimetype": "text/x-python",
   "name": "python",
   "nbconvert_exporter": "python",
   "pygments_lexer": "ipython3",
   "version": "3.9.6"
  }
 },
 "nbformat": 4,
 "nbformat_minor": 5
}
