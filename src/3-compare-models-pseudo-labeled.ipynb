{
 "cells": [
  {
   "cell_type": "code",
   "execution_count": 1,
   "id": "386ad11e-a333-4d75-b31e-e5ba0445290f",
   "metadata": {},
   "outputs": [],
   "source": [
    "from tqdm.auto import tqdm\n",
    "import pandas as pd\n",
    "import torch\n",
    "import datasets\n",
    "from transformers import pipeline, AutoTokenizer\n",
    "\n",
    "torch.set_float32_matmul_precision('high')"
   ]
  },
  {
   "cell_type": "code",
   "execution_count": 2,
   "id": "e1e70a8e-dcbd-4063-80a6-029f18e21e2f",
   "metadata": {},
   "outputs": [
    {
     "data": {
      "text/html": [
       "<div>\n",
       "<style scoped>\n",
       "    .dataframe tbody tr th:only-of-type {\n",
       "        vertical-align: middle;\n",
       "    }\n",
       "\n",
       "    .dataframe tbody tr th {\n",
       "        vertical-align: top;\n",
       "    }\n",
       "\n",
       "    .dataframe thead th {\n",
       "        text-align: right;\n",
       "    }\n",
       "</style>\n",
       "<table border=\"1\" class=\"dataframe\">\n",
       "  <thead>\n",
       "    <tr style=\"text-align: right;\">\n",
       "      <th></th>\n",
       "      <th>id</th>\n",
       "      <th>response</th>\n",
       "      <th>score</th>\n",
       "      <th>condition</th>\n",
       "      <th>user_id</th>\n",
       "      <th>page_slug</th>\n",
       "      <th>chunk_slug</th>\n",
       "      <th>created_at</th>\n",
       "      <th>volume_slug</th>\n",
       "      <th>volume_title</th>\n",
       "      <th>page_title</th>\n",
       "      <th>chunk_header</th>\n",
       "      <th>chunk_text</th>\n",
       "      <th>question</th>\n",
       "      <th>answer</th>\n",
       "      <th>o3_mini_score</th>\n",
       "    </tr>\n",
       "  </thead>\n",
       "  <tbody>\n",
       "    <tr>\n",
       "      <th>717</th>\n",
       "      <td>2509</td>\n",
       "      <td>The pattern of convergence in low-income and m...</td>\n",
       "      <td>2</td>\n",
       "      <td>random_reread</td>\n",
       "      <td>nwttke5kgzf4woh6mnwydb6sha</td>\n",
       "      <td>7-4-production-in-the-long-run</td>\n",
       "      <td>Introduction-712t</td>\n",
       "      <td>2024-08-15 23:54:06.844876+00:00</td>\n",
       "      <td>cttc-poe</td>\n",
       "      <td>Principles of Macroeconomics</td>\n",
       "      <td>7.4 Economic Convergence</td>\n",
       "      <td>Introduction</td>\n",
       "      <td>Some low-income and middle-income economies ar...</td>\n",
       "      <td>What is the pattern of convergence observed in...</td>\n",
       "      <td>The pattern of convergence observed in low-inc...</td>\n",
       "      <td>3</td>\n",
       "    </tr>\n",
       "    <tr>\n",
       "      <th>1096</th>\n",
       "      <td>1456</td>\n",
       "      <td>They give an overall GDP</td>\n",
       "      <td>0</td>\n",
       "      <td>random_reread</td>\n",
       "      <td>td3nw5u4het7ryco6krwvl3ydm</td>\n",
       "      <td>7-2-labor-productivity-and-economic-growth</td>\n",
       "      <td>The-Power-of-Sustained-Economic-Growth-707t</td>\n",
       "      <td>2024-08-12 17:21:31.894547+00:00</td>\n",
       "      <td>cttc-poe</td>\n",
       "      <td>Principles of Macroeconomics</td>\n",
       "      <td>7.2 Labor Productivity and Economic Growth</td>\n",
       "      <td>The Power of Sustained Economic Growth</td>\n",
       "      <td>Nothing is more important for people’s standar...</td>\n",
       "      <td>What is the relationship between compound grow...</td>\n",
       "      <td>They have the same formula for growth over tim...</td>\n",
       "      <td>1</td>\n",
       "    </tr>\n",
       "  </tbody>\n",
       "</table>\n",
       "</div>"
      ],
      "text/plain": [
       "        id                                           response  score  \\\n",
       "717   2509  The pattern of convergence in low-income and m...      2   \n",
       "1096  1456                           They give an overall GDP      0   \n",
       "\n",
       "          condition                     user_id  \\\n",
       "717   random_reread  nwttke5kgzf4woh6mnwydb6sha   \n",
       "1096  random_reread  td3nw5u4het7ryco6krwvl3ydm   \n",
       "\n",
       "                                       page_slug  \\\n",
       "717               7-4-production-in-the-long-run   \n",
       "1096  7-2-labor-productivity-and-economic-growth   \n",
       "\n",
       "                                       chunk_slug  \\\n",
       "717                             Introduction-712t   \n",
       "1096  The-Power-of-Sustained-Economic-Growth-707t   \n",
       "\n",
       "                            created_at volume_slug  \\\n",
       "717   2024-08-15 23:54:06.844876+00:00    cttc-poe   \n",
       "1096  2024-08-12 17:21:31.894547+00:00    cttc-poe   \n",
       "\n",
       "                      volume_title  \\\n",
       "717   Principles of Macroeconomics   \n",
       "1096  Principles of Macroeconomics   \n",
       "\n",
       "                                      page_title  \\\n",
       "717                     7.4 Economic Convergence   \n",
       "1096  7.2 Labor Productivity and Economic Growth   \n",
       "\n",
       "                                chunk_header  \\\n",
       "717                             Introduction   \n",
       "1096  The Power of Sustained Economic Growth   \n",
       "\n",
       "                                             chunk_text  \\\n",
       "717   Some low-income and middle-income economies ar...   \n",
       "1096  Nothing is more important for people’s standar...   \n",
       "\n",
       "                                               question  \\\n",
       "717   What is the pattern of convergence observed in...   \n",
       "1096  What is the relationship between compound grow...   \n",
       "\n",
       "                                                 answer  o3_mini_score  \n",
       "717   The pattern of convergence observed in low-inc...              3  \n",
       "1096  They have the same formula for growth over tim...              1  "
      ]
     },
     "metadata": {},
     "output_type": "display_data"
    },
    {
     "data": {
      "text/plain": [
       "Dataset({\n",
       "    features: ['id', 'response', 'score', 'condition', 'user_id', 'page_slug', 'chunk_slug', 'created_at', 'volume_slug', 'volume_title', 'page_title', 'chunk_header', 'chunk_text', 'question', 'answer', 'o3_mini_score'],\n",
       "    num_rows: 1428\n",
       "})"
      ]
     },
     "execution_count": 2,
     "metadata": {},
     "output_type": "execute_result"
    }
   ],
   "source": [
    "df = pd.read_csv(\"../data/itell-question-data-w-o3-scores.csv\")\n",
    "display(df.sample(2))\n",
    "\n",
    "ds = datasets.Dataset.from_pandas(df)\n",
    "ds"
   ]
  },
  {
   "cell_type": "code",
   "execution_count": 3,
   "id": "0c5ad0e8-6682-408c-b928-cd7c6ae1f00e",
   "metadata": {},
   "outputs": [],
   "source": [
    "class Bleurt():\n",
    "    model_name = \"vaiibhavgupta/finetuned-bleurt-large\"\n",
    "    threshold = 0.7\n",
    "\n",
    "    def __init__(self):\n",
    "        self.classifier = pipeline(\n",
    "            \"text-classification\",\n",
    "            model=self.model_name,\n",
    "            device=\"cuda\",\n",
    "        )\n",
    "\n",
    "    def __call__(self, input_dict) -> int:\n",
    "        reference = input_dict.get(\"answer\", \"\")\n",
    "        candidate = input_dict.get(\"response\", \"\")\n",
    "        \n",
    "        sequence = f\"{candidate}</s>{reference}\"\n",
    "\n",
    "        result = self.classifier(sequence)\n",
    "        score = result[0][\"score\"]\n",
    "\n",
    "        return 1 if score > self.threshold else 0"
   ]
  },
  {
   "cell_type": "code",
   "execution_count": 4,
   "id": "22763d7d-5d2c-4f73-b3c4-dbac5fb2314e",
   "metadata": {},
   "outputs": [],
   "source": [
    "class Mpnet():\n",
    "    model_name = \"tiedaar/short-answer-classification\"\n",
    "    revision = \"77b846ec4606bfcfdf913888d7f0ab51f977a579\"\n",
    "\n",
    "    def __init__(self):\n",
    "        self.classifier = pipeline(\n",
    "            \"text-classification\",\n",
    "            model=self.model_name,\n",
    "            revision=self.revision,\n",
    "            device=\"cuda\",\n",
    "            )\n",
    "\n",
    "    def __call__(self, input_dict) -> int:\n",
    "        reference = input_dict.get(\"answer\", \"\")\n",
    "        candidate = input_dict.get(\"response\", \"\")\n",
    "        \n",
    "        sequence = f\"{candidate}</s>{reference}\"\n",
    "\n",
    "        result = self.classifier(sequence)\n",
    "        label = result[0][\"label\"]\n",
    "\n",
    "        return 1 if label == \"correct_answer\" else 0"
   ]
  },
  {
   "cell_type": "code",
   "execution_count": 32,
   "id": "08e0897d-3a63-4592-803c-bbf8e314b669",
   "metadata": {},
   "outputs": [],
   "source": [
    "class ModernBERT():\n",
    "    model_name = \"../results/modernbert_multirc/\"\n",
    "    tokenizer_name = \"answerdotai/ModernBERT-base\"\n",
    "\n",
    "    def __init__(self):\n",
    "        self.classifier = pipeline(\n",
    "            \"text-classification\",\n",
    "            model=self.model_name,\n",
    "            tokenizer=AutoTokenizer.from_pretrained(self.tokenizer_name),\n",
    "            device=\"cuda\",\n",
    "            )\n",
    "\n",
    "    def __call__(self, input_dict) -> int:\n",
    "        reference = input_dict.get(\"answer\", \"\")\n",
    "        candidate = input_dict.get(\"response\", \"\")\n",
    "        sequence = f\"{candidate}</s>{reference}\"\n",
    "\n",
    "        result = self.classifier(sequence)\n",
    "        label = result[0][\"label\"]\n",
    "\n",
    "        return 1 if label == \"correct\" else 0"
   ]
  },
  {
   "cell_type": "code",
   "execution_count": 33,
   "id": "2a31f3ab-4276-481b-bd33-bfda087a249e",
   "metadata": {},
   "outputs": [],
   "source": [
    "class AugModernBert():\n",
    "    \"\"\"Augmented ModernBERT. Trained on mix of RACE and MultiRC\"\"\"\n",
    "    model_name = \"../results/modernbert_race_multirc\"\n",
    "    tokenizer_name = \"answerdotai/ModernBERT-base\"\n",
    "    \n",
    "    def __init__(self):\n",
    "        self.classifier = pipeline(\n",
    "            \"text-classification\",\n",
    "            model=self.model_name,\n",
    "            tokenizer=AutoTokenizer.from_pretrained(self.tokenizer_name),\n",
    "            device=\"cuda\",\n",
    "            )\n",
    "\n",
    "    def __call__(self, input_dict) -> int:\n",
    "        passage = input_dict.get(\"chunk_text\", \"\")\n",
    "        question = input_dict.get(\"question\", \"\")\n",
    "        candidate = input_dict.get(\"response\", \"\")\n",
    "        \n",
    "        sequence = f'{passage}\\n\\n{question}\\n\\n{candidate}'\n",
    "\n",
    "        result = self.classifier(sequence)\n",
    "        label = result[0][\"label\"]\n",
    "\n",
    "        return 1 if label == \"correct\" else 0"
   ]
  },
  {
   "cell_type": "code",
   "execution_count": 36,
   "id": "5457e844-0b15-41df-b0ae-0474ca205a48",
   "metadata": {},
   "outputs": [
    {
     "name": "stderr",
     "output_type": "stream",
     "text": [
      "Device set to use cuda\n",
      "Device set to use cuda\n",
      "Device set to use cuda\n",
      "Device set to use cuda\n"
     ]
    }
   ],
   "source": [
    "# NOTE: these classes are not designed to take advantage of Pipeline's batching optimizations.\n",
    "\n",
    "pipe_dict = {\n",
    "    \"Mpnet\": Mpnet(),\n",
    "    \"Bleurt\": Bleurt(),\n",
    "    \"ModernBERT\": ModernBERT(),\n",
    "    \"AugmentedModernBERT\": AugModernBert(),\n",
    "}"
   ]
  },
  {
   "cell_type": "code",
   "execution_count": 37,
   "id": "9964cb6c-89d2-41c3-b0f4-b415934ff2c3",
   "metadata": {},
   "outputs": [
    {
     "data": {
      "text/plain": [
       "1"
      ]
     },
     "execution_count": 37,
     "metadata": {},
     "output_type": "execute_result"
    }
   ],
   "source": [
    "pipe_dict[\"AugmentedModernBERT\"]({\n",
    "    \"chunk_text\": \"This text states that all answers are good.\",\n",
    "    \"question\": \"What is a good answer to this question?\",\n",
    "    \"reference\": \"Goodness\",\n",
    "    \"response\": \"This a strong answer to the question\",\n",
    "    })"
   ]
  },
  {
   "cell_type": "code",
   "execution_count": 39,
   "id": "4446c393-99c3-4a5b-b8e0-2f89018e4ed8",
   "metadata": {},
   "outputs": [
    {
     "data": {
      "application/vnd.jupyter.widget-view+json": {
       "model_id": "c1d1a5f090634465957b066d1508e3e2",
       "version_major": 2,
       "version_minor": 0
      },
      "text/plain": [
       "  0%|          | 0/4 [00:00<?, ?it/s]"
      ]
     },
     "metadata": {},
     "output_type": "display_data"
    },
    {
     "data": {
      "application/vnd.jupyter.widget-view+json": {
       "model_id": "0dd0b2166b4540fe9199888dce727ebe",
       "version_major": 2,
       "version_minor": 0
      },
      "text/plain": [
       "  0%|          | 0/1428 [00:00<?, ?it/s]"
      ]
     },
     "metadata": {},
     "output_type": "display_data"
    },
    {
     "data": {
      "application/vnd.jupyter.widget-view+json": {
       "model_id": "b99cf28763534cb0af2c414c41984bcd",
       "version_major": 2,
       "version_minor": 0
      },
      "text/plain": [
       "  0%|          | 0/1428 [00:00<?, ?it/s]"
      ]
     },
     "metadata": {},
     "output_type": "display_data"
    },
    {
     "data": {
      "application/vnd.jupyter.widget-view+json": {
       "model_id": "9052f121aa25461e966a8078c3f42a84",
       "version_major": 2,
       "version_minor": 0
      },
      "text/plain": [
       "  0%|          | 0/1428 [00:00<?, ?it/s]"
      ]
     },
     "metadata": {},
     "output_type": "display_data"
    },
    {
     "data": {
      "application/vnd.jupyter.widget-view+json": {
       "model_id": "956a3f099f8541fe81582313fd2d0e02",
       "version_major": 2,
       "version_minor": 0
      },
      "text/plain": [
       "  0%|          | 0/1428 [00:00<?, ?it/s]"
      ]
     },
     "metadata": {},
     "output_type": "display_data"
    }
   ],
   "source": [
    "def evaluate_all_models(dataset, pipe_dict, label_key=\"labels\"):\n",
    "    pred_dict = {name: [] for name in pipe_dict.keys()}\n",
    "\n",
    "    for name, pipe in tqdm(pipe_dict.items(), total=len(pipe_dict)):\n",
    "        for example in tqdm(dataset, total=len(dataset)):\n",
    "            pred_dict[name].append(pipe(example))\n",
    "\n",
    "    return pd.DataFrame(pred_dict)\n",
    "\n",
    "df_preds = evaluate_all_models(ds, pipe_dict, label_key=\"o3_mini_scores\")\n",
    "df_results = pd.concat([df, df_preds], axis=1)"
   ]
  },
  {
   "cell_type": "code",
   "execution_count": 40,
   "id": "45ee67e7-7de4-4cdf-8fde-34f7d1c71a9b",
   "metadata": {},
   "outputs": [
    {
     "data": {
      "text/html": [
       "<div>\n",
       "<style scoped>\n",
       "    .dataframe tbody tr th:only-of-type {\n",
       "        vertical-align: middle;\n",
       "    }\n",
       "\n",
       "    .dataframe tbody tr th {\n",
       "        vertical-align: top;\n",
       "    }\n",
       "\n",
       "    .dataframe thead th {\n",
       "        text-align: right;\n",
       "    }\n",
       "</style>\n",
       "<table border=\"1\" class=\"dataframe\">\n",
       "  <thead>\n",
       "    <tr style=\"text-align: right;\">\n",
       "      <th></th>\n",
       "      <th>Mpnet</th>\n",
       "      <th>Bleurt</th>\n",
       "      <th>ModernBERT</th>\n",
       "      <th>AugmentedModernBERT</th>\n",
       "    </tr>\n",
       "  </thead>\n",
       "  <tbody>\n",
       "    <tr>\n",
       "      <th>725</th>\n",
       "      <td>1</td>\n",
       "      <td>1</td>\n",
       "      <td>1</td>\n",
       "      <td>0</td>\n",
       "    </tr>\n",
       "    <tr>\n",
       "      <th>1098</th>\n",
       "      <td>0</td>\n",
       "      <td>1</td>\n",
       "      <td>0</td>\n",
       "      <td>0</td>\n",
       "    </tr>\n",
       "    <tr>\n",
       "      <th>968</th>\n",
       "      <td>1</td>\n",
       "      <td>1</td>\n",
       "      <td>1</td>\n",
       "      <td>0</td>\n",
       "    </tr>\n",
       "    <tr>\n",
       "      <th>1421</th>\n",
       "      <td>1</td>\n",
       "      <td>1</td>\n",
       "      <td>1</td>\n",
       "      <td>1</td>\n",
       "    </tr>\n",
       "    <tr>\n",
       "      <th>1356</th>\n",
       "      <td>1</td>\n",
       "      <td>1</td>\n",
       "      <td>0</td>\n",
       "      <td>1</td>\n",
       "    </tr>\n",
       "    <tr>\n",
       "      <th>386</th>\n",
       "      <td>1</td>\n",
       "      <td>1</td>\n",
       "      <td>1</td>\n",
       "      <td>1</td>\n",
       "    </tr>\n",
       "    <tr>\n",
       "      <th>295</th>\n",
       "      <td>0</td>\n",
       "      <td>1</td>\n",
       "      <td>1</td>\n",
       "      <td>1</td>\n",
       "    </tr>\n",
       "    <tr>\n",
       "      <th>906</th>\n",
       "      <td>1</td>\n",
       "      <td>1</td>\n",
       "      <td>1</td>\n",
       "      <td>1</td>\n",
       "    </tr>\n",
       "    <tr>\n",
       "      <th>1151</th>\n",
       "      <td>1</td>\n",
       "      <td>1</td>\n",
       "      <td>1</td>\n",
       "      <td>1</td>\n",
       "    </tr>\n",
       "    <tr>\n",
       "      <th>1361</th>\n",
       "      <td>1</td>\n",
       "      <td>1</td>\n",
       "      <td>0</td>\n",
       "      <td>1</td>\n",
       "    </tr>\n",
       "  </tbody>\n",
       "</table>\n",
       "</div>"
      ],
      "text/plain": [
       "      Mpnet  Bleurt  ModernBERT  AugmentedModernBERT\n",
       "725       1       1           1                    0\n",
       "1098      0       1           0                    0\n",
       "968       1       1           1                    0\n",
       "1421      1       1           1                    1\n",
       "1356      1       1           0                    1\n",
       "386       1       1           1                    1\n",
       "295       0       1           1                    1\n",
       "906       1       1           1                    1\n",
       "1151      1       1           1                    1\n",
       "1361      1       1           0                    1"
      ]
     },
     "execution_count": 40,
     "metadata": {},
     "output_type": "execute_result"
    }
   ],
   "source": [
    "df_preds.sample(10)"
   ]
  },
  {
   "cell_type": "code",
   "execution_count": 50,
   "id": "805c9af4-5ae1-4b13-903c-df4dc52e5a2c",
   "metadata": {},
   "outputs": [
    {
     "data": {
      "text/plain": [
       "o3_mini_score\n",
       "2    565\n",
       "1    342\n",
       "4    277\n",
       "3    244\n",
       "Name: count, dtype: int64"
      ]
     },
     "execution_count": 50,
     "metadata": {},
     "output_type": "execute_result"
    }
   ],
   "source": [
    "df[\"o3_mini_score\"].value_counts()"
   ]
  },
  {
   "cell_type": "code",
   "execution_count": 56,
   "id": "ad524815-2105-4239-8119-5d417a4acba5",
   "metadata": {},
   "outputs": [
    {
     "data": {
      "text/html": [
       "<div>\n",
       "<style scoped>\n",
       "    .dataframe tbody tr th:only-of-type {\n",
       "        vertical-align: middle;\n",
       "    }\n",
       "\n",
       "    .dataframe tbody tr th {\n",
       "        vertical-align: top;\n",
       "    }\n",
       "\n",
       "    .dataframe thead th {\n",
       "        text-align: right;\n",
       "    }\n",
       "</style>\n",
       "<table border=\"1\" class=\"dataframe\">\n",
       "  <thead>\n",
       "    <tr style=\"text-align: right;\">\n",
       "      <th></th>\n",
       "      <th>o3_binary</th>\n",
       "      <th>Mpnet</th>\n",
       "      <th>Bleurt</th>\n",
       "      <th>ModernBERT</th>\n",
       "      <th>AugmentedModernBERT</th>\n",
       "    </tr>\n",
       "  </thead>\n",
       "  <tbody>\n",
       "    <tr>\n",
       "      <th>o3_binary</th>\n",
       "      <td>1.000000</td>\n",
       "      <td>0.467751</td>\n",
       "      <td>0.212341</td>\n",
       "      <td>0.416643</td>\n",
       "      <td>0.331107</td>\n",
       "    </tr>\n",
       "    <tr>\n",
       "      <th>Mpnet</th>\n",
       "      <td>0.467751</td>\n",
       "      <td>1.000000</td>\n",
       "      <td>0.322989</td>\n",
       "      <td>0.633455</td>\n",
       "      <td>0.392620</td>\n",
       "    </tr>\n",
       "    <tr>\n",
       "      <th>Bleurt</th>\n",
       "      <td>0.212341</td>\n",
       "      <td>0.322989</td>\n",
       "      <td>1.000000</td>\n",
       "      <td>0.327521</td>\n",
       "      <td>0.103492</td>\n",
       "    </tr>\n",
       "    <tr>\n",
       "      <th>ModernBERT</th>\n",
       "      <td>0.416643</td>\n",
       "      <td>0.633455</td>\n",
       "      <td>0.327521</td>\n",
       "      <td>1.000000</td>\n",
       "      <td>0.300353</td>\n",
       "    </tr>\n",
       "    <tr>\n",
       "      <th>AugmentedModernBERT</th>\n",
       "      <td>0.331107</td>\n",
       "      <td>0.392620</td>\n",
       "      <td>0.103492</td>\n",
       "      <td>0.300353</td>\n",
       "      <td>1.000000</td>\n",
       "    </tr>\n",
       "  </tbody>\n",
       "</table>\n",
       "</div>"
      ],
      "text/plain": [
       "                     o3_binary     Mpnet    Bleurt  ModernBERT  \\\n",
       "o3_binary             1.000000  0.467751  0.212341    0.416643   \n",
       "Mpnet                 0.467751  1.000000  0.322989    0.633455   \n",
       "Bleurt                0.212341  0.322989  1.000000    0.327521   \n",
       "ModernBERT            0.416643  0.633455  0.327521    1.000000   \n",
       "AugmentedModernBERT   0.331107  0.392620  0.103492    0.300353   \n",
       "\n",
       "                     AugmentedModernBERT  \n",
       "o3_binary                       0.331107  \n",
       "Mpnet                           0.392620  \n",
       "Bleurt                          0.103492  \n",
       "ModernBERT                      0.300353  \n",
       "AugmentedModernBERT             1.000000  "
      ]
     },
     "execution_count": 56,
     "metadata": {},
     "output_type": "execute_result"
    }
   ],
   "source": [
    "df_results[\"o3_binary\"] = (df[\"o3_mini_score\"] > 1).astype(int)\n",
    "\n",
    "df_results[[\n",
    "    # \"o3_mini_score\",\n",
    "    \"o3_binary\",\n",
    "    \"Mpnet\",\n",
    "    \"Bleurt\",\n",
    "    \"ModernBERT\",\n",
    "    \"AugmentedModernBERT\",\n",
    "]].corr(method=\"spearman\")"
   ]
  }
 ],
 "metadata": {
  "kernelspec": {
   "display_name": "Python [conda env:hf]",
   "language": "python",
   "name": "conda-env-hf-py"
  },
  "language_info": {
   "codemirror_mode": {
    "name": "ipython",
    "version": 3
   },
   "file_extension": ".py",
   "mimetype": "text/x-python",
   "name": "python",
   "nbconvert_exporter": "python",
   "pygments_lexer": "ipython3",
   "version": "3.11.6"
  }
 },
 "nbformat": 4,
 "nbformat_minor": 5
}
