{
 "cells": [
  {
   "cell_type": "code",
   "execution_count": 1,
   "id": "3f7be8f6-fd8b-47fc-a5c4-72a03e78149c",
   "metadata": {},
   "outputs": [],
   "source": [
    "import pandas as pd\n",
    "from datasets import DatasetDict, Dataset, load_from_disk\n",
    "import os\n",
    "\n",
    "#os.environ['WANDB_DISABLED'] = 'true'\n",
    "\n",
    "dataset_path = '../bin/multirc_dataset.hf'\n",
    "seed = 42"
   ]
  },
  {
   "cell_type": "code",
   "execution_count": 2,
   "id": "5daf3e95-bb61-41d8-8863-3a920807c9e2",
   "metadata": {},
   "outputs": [],
   "source": [
    "df = pd.read_csv('../data/multirc.csv')#[['source_text', 'source_text_clean', 'question_text', 'answer_text', 'is_correct']]\n",
    "def clean_df(df):\n",
    "    df['labels'] = df['is_correct'].apply(lambda x: str(x))\n",
    "    df['answer_text'] = df['answer_text'].apply(lambda x: str(x))\n",
    "    df['comp'] = \"### Instructions \\nYou will be provided with a text, a question, and an answer. Your task is to decide whether the answer is correct or incorrect and respond with a single word denoting the appropriate label: `False` for incorrect and `True` for correct.\\n\\n\\n###The text\\nThe text is as follows, delimited by three backticks: ```\" + df['source_text_clean'] + \"...```\\n\\n\\n ### The question and answer pair \\n The question and answer pair are as follows, delimited by three backticks: ```##Question: \" + df[\"question_text\"] + \" ##Answer: \" + df['answer_text'] + \"``` \"\n",
    "    df['text'] = df['comp'] + \"\\n\\n\\n<<<\" + df['labels'] + \">>>\"\n",
    "    df = df[['comp', 'labels', 'text']]\n",
    "\n",
    "     \n",
    "    return df.reset_index()\n",
    "    return df"
   ]
  },
  {
   "cell_type": "code",
   "execution_count": 3,
   "id": "3b450d46-2e92-40fe-8be0-ebc903f9736c",
   "metadata": {},
   "outputs": [
    {
     "name": "stdout",
     "output_type": "stream",
     "text": [
      "19170\n",
      "4080\n",
      "3962\n"
     ]
    }
   ],
   "source": [
    "from sklearn.model_selection import train_test_split\n",
    "source_index = df['source_text'].drop_duplicates()\n",
    "train_index, validtest_index = train_test_split(source_index, test_size=0.3,train_size=0.7, random_state = seed)\n",
    "valid_index, test_index = train_test_split(validtest_index, test_size=0.5, train_size=0.5, random_state = seed)\n",
    "\n",
    "train_df = clean_df(df[df['source_text'].isin(train_index)].dropna())[['comp', 'labels', 'text']]\n",
    "valid_df = clean_df(df[df['source_text'].isin(valid_index)].dropna())[['comp', 'labels', 'text']]\n",
    "test_df = clean_df(df[df['source_text'].isin(test_index)].dropna())[['comp', 'labels', 'text']]\n",
    "\n",
    "print(len(train_df))\n",
    "print(len(valid_df))\n",
    "print(len(test_df))"
   ]
  },
  {
   "cell_type": "code",
   "execution_count": 7,
   "id": "ffad8298-85fa-4000-a41a-49761b654142",
   "metadata": {},
   "outputs": [
    {
     "name": "stdout",
     "output_type": "stream",
     "text": [
      "0\n"
     ]
    }
   ],
   "source": [
    "# testing to make sure the datasets are properly partitioned\n",
    "\n",
    "repetitions = 0\n",
    "for i in train_df['text']:\n",
    "    repetitions += valid_df['text'].isin([i]).sum()\n",
    "\n",
    "print(repetitions)"
   ]
  },
  {
   "cell_type": "code",
   "execution_count": 8,
   "id": "ef5588df-c01c-4593-a055-dc479a13a222",
   "metadata": {},
   "outputs": [],
   "source": [
    "ds = DatasetDict()\n",
    "ds['train'] = Dataset.from_pandas(train_df, preserve_index=False)\n",
    "ds['valid'] = Dataset.from_pandas(valid_df, preserve_index=False)\n",
    "ds['test'] = Dataset.from_pandas(test_df, preserve_index=False)"
   ]
  },
  {
   "cell_type": "markdown",
   "id": "9e5a7dab-ec07-49ed-a9f0-456086dd1b20",
   "metadata": {},
   "source": [
    "## Train Llama"
   ]
  },
  {
   "cell_type": "code",
   "execution_count": 6,
   "id": "2c8a5ba6-ce6e-46aa-95a8-6ffae6a25776",
   "metadata": {},
   "outputs": [],
   "source": [
    "from transformers import AutoModelForSequenceClassification, AutoModelForCausalLM, BitsAndBytesConfig, AutoTokenizer, TrainingArguments, LlamaTokenizer\n",
    "import transformers\n",
    "import torch\n",
    "from peft import LoraConfig\n",
    "from trl import SFTTrainer\n",
    "import evaluate\n",
    "from peft import (\n",
    "    get_peft_config,\n",
    "    get_peft_model,\n",
    "    get_peft_model_state_dict,\n",
    "    set_peft_model_state_dict,\n",
    "    PeftType,\n",
    "    PromptEncoderConfig,\n",
    ")\n",
    "import torch"
   ]
  },
  {
   "cell_type": "code",
   "execution_count": 7,
   "id": "756c564a-a692-44dd-97d5-74d9faf1cf3d",
   "metadata": {},
   "outputs": [],
   "source": [
    "base_model_name = \"ehartford/dolphin-llama2-7b\""
   ]
  },
  {
   "cell_type": "code",
   "execution_count": 8,
   "id": "60238e48-b07a-4ade-8861-da747b17ea43",
   "metadata": {},
   "outputs": [
    {
     "data": {
      "application/vnd.jupyter.widget-view+json": {
       "model_id": "abbe362dab1f4d2fa8971eb18b0d2ce0",
       "version_major": 2,
       "version_minor": 0
      },
      "text/plain": [
       "Loading checkpoint shards:   0%|          | 0/2 [00:00<?, ?it/s]"
      ]
     },
     "metadata": {},
     "output_type": "display_data"
    }
   ],
   "source": [
    "bnb_config = BitsAndBytesConfig(\n",
    "    load_in_4bit=True,\n",
    "    bnb_4bit_quant_type=\"nf4\",\n",
    "    bnb_4bit_compute_dtype=torch.float16,\n",
    ")\n",
    "\n",
    "device_map = {\"\": 0}\n",
    "\n",
    "base_model = AutoModelForCausalLM.from_pretrained(\n",
    "    base_model_name,\n",
    "    quantization_config=bnb_config,\n",
    "    device_map=device_map,\n",
    ")\n",
    "base_model.config.use_cache = False\n",
    "\n",
    "# More info: https://github.com/huggingface/transformers/pull/24906\n",
    "base_model.config.pretraining_tp = 1 \n",
    "\n",
    "peft_config = LoraConfig(\n",
    "    lora_alpha=16,\n",
    "    lora_dropout=0.06,\n",
    "    r=16,\n",
    "    bias=\"none\",\n",
    "    task_type=\"CAUSAL_LM\",\n",
    ")\n",
    "\n",
    "tokenizer = AutoTokenizer.from_pretrained(base_model_name)\n",
    "tokenizer.pad_token = tokenizer.eos_token\n",
    "\n",
    "output_dir = \"./results\""
   ]
  },
  {
   "cell_type": "code",
   "execution_count": null,
   "id": "f3c2bb7b-f398-49f1-bb15-9cfcf639054f",
   "metadata": {},
   "outputs": [],
   "source": [
    "training_args = TrainingArguments(\n",
    "    output_dir=output_dir,\n",
    "    per_device_train_batch_size=4,\n",
    "    gradient_accumulation_steps=4,\n",
    "    learning_rate=2e-4,\n",
    "    logging_steps=100,\n",
    "    max_steps=1250,\n",
    "    evaluation_strategy='steps',\n",
    "    eval_steps=100\n",
    "    \n",
    ")\n",
    "\n",
    "max_seq_length = 2046"
   ]
  },
  {
   "cell_type": "code",
   "execution_count": null,
   "id": "b2b7a560-a289-4a5a-8c84-466b4f79e4b5",
   "metadata": {},
   "outputs": [],
   "source": [
    "for en, i in enumerate(ds['train']['text']):\n",
    "    if type(i) != str:\n",
    "        print(i)\n",
    "        print(en)"
   ]
  },
  {
   "cell_type": "code",
   "execution_count": 12,
   "id": "74f105c6-9d18-4801-86e6-a125309697e3",
   "metadata": {},
   "outputs": [
    {
     "name": "stderr",
     "output_type": "stream",
     "text": [
      "/home/jovyan/conda_envs/wes_env/lib/python3.11/site-packages/peft/utils/other.py:122: FutureWarning: prepare_model_for_int8_training is deprecated and will be removed in a future version. Use prepare_model_for_kbit_training instead.\n",
      "  warnings.warn(\n"
     ]
    },
    {
     "data": {
      "application/vnd.jupyter.widget-view+json": {
       "model_id": "3ca5f063b7bc47ffb16d9bbbdecc8d22",
       "version_major": 2,
       "version_minor": 0
      },
      "text/plain": [
       "Map:   0%|          | 0/19170 [00:00<?, ? examples/s]"
      ]
     },
     "metadata": {},
     "output_type": "display_data"
    },
    {
     "name": "stderr",
     "output_type": "stream",
     "text": [
      "/home/jovyan/conda_envs/wes_env/lib/python3.11/site-packages/transformers/optimization.py:411: FutureWarning: This implementation of AdamW is deprecated and will be removed in a future version. Use the PyTorch implementation torch.optim.AdamW instead, or set `no_deprecation_warning=True` to disable this warning\n",
      "  warnings.warn(\n",
      "\u001b[34m\u001b[1mwandb\u001b[0m: Logging into wandb.ai. (Learn how to deploy a W&B server locally: https://wandb.me/wandb-server)\n",
      "\u001b[34m\u001b[1mwandb\u001b[0m: You can find your API key in your browser here: https://wandb.ai/authorize\n",
      "\u001b[34m\u001b[1mwandb\u001b[0m: Paste an API key from your profile and hit enter, or press ctrl+c to quit:"
     ]
    },
    {
     "name": "stdin",
     "output_type": "stream",
     "text": [
      "  ········\n"
     ]
    },
    {
     "name": "stderr",
     "output_type": "stream",
     "text": [
      "\u001b[34m\u001b[1mwandb\u001b[0m: \u001b[32m\u001b[41mERROR\u001b[0m API key must be 40 characters long, yours was 10\n",
      "\u001b[34m\u001b[1mwandb\u001b[0m: Logging into wandb.ai. (Learn how to deploy a W&B server locally: https://wandb.me/wandb-server)\n",
      "\u001b[34m\u001b[1mwandb\u001b[0m: You can find your API key in your browser here: https://wandb.ai/authorize\n",
      "\u001b[34m\u001b[1mwandb\u001b[0m: Paste an API key from your profile and hit enter, or press ctrl+c to quit:"
     ]
    },
    {
     "name": "stdin",
     "output_type": "stream",
     "text": [
      "  ········\n"
     ]
    },
    {
     "name": "stderr",
     "output_type": "stream",
     "text": [
      "\u001b[34m\u001b[1mwandb\u001b[0m: Appending key for api.wandb.ai to your netrc file: /home/jovyan/.netrc\n",
      "cat: /sys/module/amdgpu/initstate: No such file or directory\n",
      "ERROR:root:Driver not initialized (amdgpu not found in modules)\n"
     ]
    },
    {
     "data": {
      "text/html": [
       "Tracking run with wandb version 0.15.9"
      ],
      "text/plain": [
       "<IPython.core.display.HTML object>"
      ]
     },
     "metadata": {},
     "output_type": "display_data"
    },
    {
     "data": {
      "text/html": [
       "Run data is saved locally in <code>/home/jovyan/active-projects/textbook-question-generation/src/wandb/run-20230830_162436-jluqg3ur</code>"
      ],
      "text/plain": [
       "<IPython.core.display.HTML object>"
      ]
     },
     "metadata": {},
     "output_type": "display_data"
    },
    {
     "data": {
      "text/html": [
       "Syncing run <strong><a href='https://wandb.ai/tiedaar/huggingface/runs/jluqg3ur' target=\"_blank\">skilled-water-22</a></strong> to <a href='https://wandb.ai/tiedaar/huggingface' target=\"_blank\">Weights & Biases</a> (<a href='https://wandb.me/run' target=\"_blank\">docs</a>)<br/>"
      ],
      "text/plain": [
       "<IPython.core.display.HTML object>"
      ]
     },
     "metadata": {},
     "output_type": "display_data"
    },
    {
     "data": {
      "text/html": [
       " View project at <a href='https://wandb.ai/tiedaar/huggingface' target=\"_blank\">https://wandb.ai/tiedaar/huggingface</a>"
      ],
      "text/plain": [
       "<IPython.core.display.HTML object>"
      ]
     },
     "metadata": {},
     "output_type": "display_data"
    },
    {
     "data": {
      "text/html": [
       " View run at <a href='https://wandb.ai/tiedaar/huggingface/runs/jluqg3ur' target=\"_blank\">https://wandb.ai/tiedaar/huggingface/runs/jluqg3ur</a>"
      ],
      "text/plain": [
       "<IPython.core.display.HTML object>"
      ]
     },
     "metadata": {},
     "output_type": "display_data"
    },
    {
     "name": "stderr",
     "output_type": "stream",
     "text": [
      "You're using a LlamaTokenizerFast tokenizer. Please note that with a fast tokenizer, using the `__call__` method is faster than using a method to encode the text followed by a call to the `pad` method to get a padded encoding.\n"
     ]
    },
    {
     "data": {
      "text/html": [
       "\n",
       "    <div>\n",
       "      \n",
       "      <progress value='1250' max='1250' style='width:300px; height:20px; vertical-align: middle;'></progress>\n",
       "      [1250/1250 10:20:46, Epoch 1/2]\n",
       "    </div>\n",
       "    <table border=\"1\" class=\"dataframe\">\n",
       "  <thead>\n",
       " <tr style=\"text-align: left;\">\n",
       "      <th>Step</th>\n",
       "      <th>Training Loss</th>\n",
       "    </tr>\n",
       "  </thead>\n",
       "  <tbody>\n",
       "    <tr>\n",
       "      <td>10</td>\n",
       "      <td>2.877500</td>\n",
       "    </tr>\n",
       "    <tr>\n",
       "      <td>20</td>\n",
       "      <td>2.178100</td>\n",
       "    </tr>\n",
       "    <tr>\n",
       "      <td>30</td>\n",
       "      <td>1.912400</td>\n",
       "    </tr>\n",
       "    <tr>\n",
       "      <td>40</td>\n",
       "      <td>1.799200</td>\n",
       "    </tr>\n",
       "    <tr>\n",
       "      <td>50</td>\n",
       "      <td>1.740500</td>\n",
       "    </tr>\n",
       "    <tr>\n",
       "      <td>60</td>\n",
       "      <td>1.728100</td>\n",
       "    </tr>\n",
       "    <tr>\n",
       "      <td>70</td>\n",
       "      <td>1.660700</td>\n",
       "    </tr>\n",
       "    <tr>\n",
       "      <td>80</td>\n",
       "      <td>1.713800</td>\n",
       "    </tr>\n",
       "    <tr>\n",
       "      <td>90</td>\n",
       "      <td>1.643500</td>\n",
       "    </tr>\n",
       "    <tr>\n",
       "      <td>100</td>\n",
       "      <td>1.583000</td>\n",
       "    </tr>\n",
       "    <tr>\n",
       "      <td>110</td>\n",
       "      <td>1.612300</td>\n",
       "    </tr>\n",
       "    <tr>\n",
       "      <td>120</td>\n",
       "      <td>1.588700</td>\n",
       "    </tr>\n",
       "    <tr>\n",
       "      <td>130</td>\n",
       "      <td>1.551800</td>\n",
       "    </tr>\n",
       "    <tr>\n",
       "      <td>140</td>\n",
       "      <td>1.540600</td>\n",
       "    </tr>\n",
       "    <tr>\n",
       "      <td>150</td>\n",
       "      <td>1.432000</td>\n",
       "    </tr>\n",
       "    <tr>\n",
       "      <td>160</td>\n",
       "      <td>1.437000</td>\n",
       "    </tr>\n",
       "    <tr>\n",
       "      <td>170</td>\n",
       "      <td>1.483000</td>\n",
       "    </tr>\n",
       "    <tr>\n",
       "      <td>180</td>\n",
       "      <td>1.388100</td>\n",
       "    </tr>\n",
       "    <tr>\n",
       "      <td>190</td>\n",
       "      <td>1.361100</td>\n",
       "    </tr>\n",
       "    <tr>\n",
       "      <td>200</td>\n",
       "      <td>1.345700</td>\n",
       "    </tr>\n",
       "    <tr>\n",
       "      <td>210</td>\n",
       "      <td>1.319200</td>\n",
       "    </tr>\n",
       "    <tr>\n",
       "      <td>220</td>\n",
       "      <td>1.347900</td>\n",
       "    </tr>\n",
       "    <tr>\n",
       "      <td>230</td>\n",
       "      <td>1.263900</td>\n",
       "    </tr>\n",
       "    <tr>\n",
       "      <td>240</td>\n",
       "      <td>1.181500</td>\n",
       "    </tr>\n",
       "    <tr>\n",
       "      <td>250</td>\n",
       "      <td>1.188700</td>\n",
       "    </tr>\n",
       "    <tr>\n",
       "      <td>260</td>\n",
       "      <td>1.157100</td>\n",
       "    </tr>\n",
       "    <tr>\n",
       "      <td>270</td>\n",
       "      <td>1.086900</td>\n",
       "    </tr>\n",
       "    <tr>\n",
       "      <td>280</td>\n",
       "      <td>1.091800</td>\n",
       "    </tr>\n",
       "    <tr>\n",
       "      <td>290</td>\n",
       "      <td>1.035400</td>\n",
       "    </tr>\n",
       "    <tr>\n",
       "      <td>300</td>\n",
       "      <td>1.012500</td>\n",
       "    </tr>\n",
       "    <tr>\n",
       "      <td>310</td>\n",
       "      <td>0.967600</td>\n",
       "    </tr>\n",
       "    <tr>\n",
       "      <td>320</td>\n",
       "      <td>0.905400</td>\n",
       "    </tr>\n",
       "    <tr>\n",
       "      <td>330</td>\n",
       "      <td>0.847800</td>\n",
       "    </tr>\n",
       "    <tr>\n",
       "      <td>340</td>\n",
       "      <td>0.903600</td>\n",
       "    </tr>\n",
       "    <tr>\n",
       "      <td>350</td>\n",
       "      <td>0.794600</td>\n",
       "    </tr>\n",
       "    <tr>\n",
       "      <td>360</td>\n",
       "      <td>0.769400</td>\n",
       "    </tr>\n",
       "    <tr>\n",
       "      <td>370</td>\n",
       "      <td>0.774700</td>\n",
       "    </tr>\n",
       "    <tr>\n",
       "      <td>380</td>\n",
       "      <td>0.648300</td>\n",
       "    </tr>\n",
       "    <tr>\n",
       "      <td>390</td>\n",
       "      <td>0.701700</td>\n",
       "    </tr>\n",
       "    <tr>\n",
       "      <td>400</td>\n",
       "      <td>0.736200</td>\n",
       "    </tr>\n",
       "    <tr>\n",
       "      <td>410</td>\n",
       "      <td>0.652600</td>\n",
       "    </tr>\n",
       "    <tr>\n",
       "      <td>420</td>\n",
       "      <td>0.624300</td>\n",
       "    </tr>\n",
       "    <tr>\n",
       "      <td>430</td>\n",
       "      <td>0.571600</td>\n",
       "    </tr>\n",
       "    <tr>\n",
       "      <td>440</td>\n",
       "      <td>0.568400</td>\n",
       "    </tr>\n",
       "    <tr>\n",
       "      <td>450</td>\n",
       "      <td>0.638500</td>\n",
       "    </tr>\n",
       "    <tr>\n",
       "      <td>460</td>\n",
       "      <td>0.564000</td>\n",
       "    </tr>\n",
       "    <tr>\n",
       "      <td>470</td>\n",
       "      <td>0.541600</td>\n",
       "    </tr>\n",
       "    <tr>\n",
       "      <td>480</td>\n",
       "      <td>0.566300</td>\n",
       "    </tr>\n",
       "    <tr>\n",
       "      <td>490</td>\n",
       "      <td>0.556500</td>\n",
       "    </tr>\n",
       "    <tr>\n",
       "      <td>500</td>\n",
       "      <td>0.559900</td>\n",
       "    </tr>\n",
       "    <tr>\n",
       "      <td>510</td>\n",
       "      <td>0.464100</td>\n",
       "    </tr>\n",
       "    <tr>\n",
       "      <td>520</td>\n",
       "      <td>0.482100</td>\n",
       "    </tr>\n",
       "    <tr>\n",
       "      <td>530</td>\n",
       "      <td>0.482600</td>\n",
       "    </tr>\n",
       "    <tr>\n",
       "      <td>540</td>\n",
       "      <td>0.467100</td>\n",
       "    </tr>\n",
       "    <tr>\n",
       "      <td>550</td>\n",
       "      <td>0.532100</td>\n",
       "    </tr>\n",
       "    <tr>\n",
       "      <td>560</td>\n",
       "      <td>0.410900</td>\n",
       "    </tr>\n",
       "    <tr>\n",
       "      <td>570</td>\n",
       "      <td>0.448700</td>\n",
       "    </tr>\n",
       "    <tr>\n",
       "      <td>580</td>\n",
       "      <td>0.411700</td>\n",
       "    </tr>\n",
       "    <tr>\n",
       "      <td>590</td>\n",
       "      <td>0.442700</td>\n",
       "    </tr>\n",
       "    <tr>\n",
       "      <td>600</td>\n",
       "      <td>0.496600</td>\n",
       "    </tr>\n",
       "    <tr>\n",
       "      <td>610</td>\n",
       "      <td>0.427100</td>\n",
       "    </tr>\n",
       "    <tr>\n",
       "      <td>620</td>\n",
       "      <td>0.384700</td>\n",
       "    </tr>\n",
       "    <tr>\n",
       "      <td>630</td>\n",
       "      <td>0.415100</td>\n",
       "    </tr>\n",
       "    <tr>\n",
       "      <td>640</td>\n",
       "      <td>0.328000</td>\n",
       "    </tr>\n",
       "    <tr>\n",
       "      <td>650</td>\n",
       "      <td>0.380100</td>\n",
       "    </tr>\n",
       "    <tr>\n",
       "      <td>660</td>\n",
       "      <td>0.317800</td>\n",
       "    </tr>\n",
       "    <tr>\n",
       "      <td>670</td>\n",
       "      <td>0.355000</td>\n",
       "    </tr>\n",
       "    <tr>\n",
       "      <td>680</td>\n",
       "      <td>0.371100</td>\n",
       "    </tr>\n",
       "    <tr>\n",
       "      <td>690</td>\n",
       "      <td>0.391400</td>\n",
       "    </tr>\n",
       "    <tr>\n",
       "      <td>700</td>\n",
       "      <td>0.284600</td>\n",
       "    </tr>\n",
       "    <tr>\n",
       "      <td>710</td>\n",
       "      <td>0.329200</td>\n",
       "    </tr>\n",
       "    <tr>\n",
       "      <td>720</td>\n",
       "      <td>0.321000</td>\n",
       "    </tr>\n",
       "    <tr>\n",
       "      <td>730</td>\n",
       "      <td>0.316400</td>\n",
       "    </tr>\n",
       "    <tr>\n",
       "      <td>740</td>\n",
       "      <td>0.334000</td>\n",
       "    </tr>\n",
       "    <tr>\n",
       "      <td>750</td>\n",
       "      <td>0.327300</td>\n",
       "    </tr>\n",
       "    <tr>\n",
       "      <td>760</td>\n",
       "      <td>0.344400</td>\n",
       "    </tr>\n",
       "    <tr>\n",
       "      <td>770</td>\n",
       "      <td>0.279300</td>\n",
       "    </tr>\n",
       "    <tr>\n",
       "      <td>780</td>\n",
       "      <td>0.272800</td>\n",
       "    </tr>\n",
       "    <tr>\n",
       "      <td>790</td>\n",
       "      <td>0.281500</td>\n",
       "    </tr>\n",
       "    <tr>\n",
       "      <td>800</td>\n",
       "      <td>0.280900</td>\n",
       "    </tr>\n",
       "    <tr>\n",
       "      <td>810</td>\n",
       "      <td>0.283600</td>\n",
       "    </tr>\n",
       "    <tr>\n",
       "      <td>820</td>\n",
       "      <td>0.234500</td>\n",
       "    </tr>\n",
       "    <tr>\n",
       "      <td>830</td>\n",
       "      <td>0.284100</td>\n",
       "    </tr>\n",
       "    <tr>\n",
       "      <td>840</td>\n",
       "      <td>0.257800</td>\n",
       "    </tr>\n",
       "    <tr>\n",
       "      <td>850</td>\n",
       "      <td>0.288600</td>\n",
       "    </tr>\n",
       "    <tr>\n",
       "      <td>860</td>\n",
       "      <td>0.294700</td>\n",
       "    </tr>\n",
       "    <tr>\n",
       "      <td>870</td>\n",
       "      <td>0.239800</td>\n",
       "    </tr>\n",
       "    <tr>\n",
       "      <td>880</td>\n",
       "      <td>0.287400</td>\n",
       "    </tr>\n",
       "    <tr>\n",
       "      <td>890</td>\n",
       "      <td>0.283500</td>\n",
       "    </tr>\n",
       "    <tr>\n",
       "      <td>900</td>\n",
       "      <td>0.202500</td>\n",
       "    </tr>\n",
       "    <tr>\n",
       "      <td>910</td>\n",
       "      <td>0.248200</td>\n",
       "    </tr>\n",
       "    <tr>\n",
       "      <td>920</td>\n",
       "      <td>0.255800</td>\n",
       "    </tr>\n",
       "    <tr>\n",
       "      <td>930</td>\n",
       "      <td>0.243900</td>\n",
       "    </tr>\n",
       "    <tr>\n",
       "      <td>940</td>\n",
       "      <td>0.226900</td>\n",
       "    </tr>\n",
       "    <tr>\n",
       "      <td>950</td>\n",
       "      <td>0.292000</td>\n",
       "    </tr>\n",
       "    <tr>\n",
       "      <td>960</td>\n",
       "      <td>0.279300</td>\n",
       "    </tr>\n",
       "    <tr>\n",
       "      <td>970</td>\n",
       "      <td>0.239500</td>\n",
       "    </tr>\n",
       "    <tr>\n",
       "      <td>980</td>\n",
       "      <td>0.224200</td>\n",
       "    </tr>\n",
       "    <tr>\n",
       "      <td>990</td>\n",
       "      <td>0.221800</td>\n",
       "    </tr>\n",
       "    <tr>\n",
       "      <td>1000</td>\n",
       "      <td>0.245600</td>\n",
       "    </tr>\n",
       "    <tr>\n",
       "      <td>1010</td>\n",
       "      <td>0.194900</td>\n",
       "    </tr>\n",
       "    <tr>\n",
       "      <td>1020</td>\n",
       "      <td>0.236000</td>\n",
       "    </tr>\n",
       "    <tr>\n",
       "      <td>1030</td>\n",
       "      <td>0.253500</td>\n",
       "    </tr>\n",
       "    <tr>\n",
       "      <td>1040</td>\n",
       "      <td>0.220500</td>\n",
       "    </tr>\n",
       "    <tr>\n",
       "      <td>1050</td>\n",
       "      <td>0.245300</td>\n",
       "    </tr>\n",
       "    <tr>\n",
       "      <td>1060</td>\n",
       "      <td>0.224500</td>\n",
       "    </tr>\n",
       "    <tr>\n",
       "      <td>1070</td>\n",
       "      <td>0.218700</td>\n",
       "    </tr>\n",
       "    <tr>\n",
       "      <td>1080</td>\n",
       "      <td>0.222100</td>\n",
       "    </tr>\n",
       "    <tr>\n",
       "      <td>1090</td>\n",
       "      <td>0.200700</td>\n",
       "    </tr>\n",
       "    <tr>\n",
       "      <td>1100</td>\n",
       "      <td>0.194000</td>\n",
       "    </tr>\n",
       "    <tr>\n",
       "      <td>1110</td>\n",
       "      <td>0.218100</td>\n",
       "    </tr>\n",
       "    <tr>\n",
       "      <td>1120</td>\n",
       "      <td>0.235600</td>\n",
       "    </tr>\n",
       "    <tr>\n",
       "      <td>1130</td>\n",
       "      <td>0.214500</td>\n",
       "    </tr>\n",
       "    <tr>\n",
       "      <td>1140</td>\n",
       "      <td>0.231200</td>\n",
       "    </tr>\n",
       "    <tr>\n",
       "      <td>1150</td>\n",
       "      <td>0.232700</td>\n",
       "    </tr>\n",
       "    <tr>\n",
       "      <td>1160</td>\n",
       "      <td>0.192000</td>\n",
       "    </tr>\n",
       "    <tr>\n",
       "      <td>1170</td>\n",
       "      <td>0.221000</td>\n",
       "    </tr>\n",
       "    <tr>\n",
       "      <td>1180</td>\n",
       "      <td>0.200000</td>\n",
       "    </tr>\n",
       "    <tr>\n",
       "      <td>1190</td>\n",
       "      <td>0.182900</td>\n",
       "    </tr>\n",
       "    <tr>\n",
       "      <td>1200</td>\n",
       "      <td>0.191200</td>\n",
       "    </tr>\n",
       "    <tr>\n",
       "      <td>1210</td>\n",
       "      <td>0.242800</td>\n",
       "    </tr>\n",
       "    <tr>\n",
       "      <td>1220</td>\n",
       "      <td>0.166900</td>\n",
       "    </tr>\n",
       "    <tr>\n",
       "      <td>1230</td>\n",
       "      <td>0.188400</td>\n",
       "    </tr>\n",
       "    <tr>\n",
       "      <td>1240</td>\n",
       "      <td>0.175000</td>\n",
       "    </tr>\n",
       "    <tr>\n",
       "      <td>1250</td>\n",
       "      <td>0.205700</td>\n",
       "    </tr>\n",
       "  </tbody>\n",
       "</table><p>"
      ],
      "text/plain": [
       "<IPython.core.display.HTML object>"
      ]
     },
     "metadata": {},
     "output_type": "display_data"
    },
    {
     "data": {
      "text/plain": [
       "TrainOutput(global_step=1250, training_loss=0.647819612121582, metrics={'train_runtime': 37393.0455, 'train_samples_per_second': 0.535, 'train_steps_per_second': 0.033, 'total_flos': 2.933509057383137e+17, 'train_loss': 0.647819612121582, 'epoch': 1.04})"
      ]
     },
     "execution_count": 12,
     "metadata": {},
     "output_type": "execute_result"
    }
   ],
   "source": [
    "trainer = SFTTrainer(\n",
    "    model=base_model,\n",
    "    train_dataset=ds['train'],\n",
    "    eval_dataset=ds['valid'],\n",
    "    peft_config=peft_config,\n",
    "    dataset_text_field=\"text\",\n",
    "    max_seq_length=max_seq_length,\n",
    "    tokenizer=tokenizer,\n",
    "    args=training_args,\n",
    ")\n",
    "\n",
    "trainer.train()\n"
   ]
  },
  {
   "cell_type": "code",
   "execution_count": 13,
   "id": "89d4fdde-78f5-4b44-9913-7ccbc7885bcd",
   "metadata": {},
   "outputs": [],
   "source": [
    "trainer.model.save_pretrained('multirc-llama')"
   ]
  },
  {
   "cell_type": "code",
   "execution_count": null,
   "id": "bf22ec17-a91b-462d-88f2-af0bff9ca4bf",
   "metadata": {},
   "outputs": [],
   "source": []
  },
  {
   "cell_type": "code",
   "execution_count": null,
   "id": "0a6264bc-f6f3-4535-8120-fff66dbbff6c",
   "metadata": {},
   "outputs": [],
   "source": [
    "from peft import AutoPeftModelForCausalLM\n",
    "import torch\n",
    "from transformers import AutoTokenizer\n",
    "device_map = {\"\": 0}\n",
    "model_m = AutoPeftModelForCausalLM.from_pretrained(\"multirc-llama\", device_map=device_map, torch_dtype=torch.bfloat16)"
   ]
  },
  {
   "cell_type": "code",
   "execution_count": null,
   "id": "c353c66b-f977-49d6-a954-cdc99227e41c",
   "metadata": {},
   "outputs": [],
   "source": [
    "tokenizer = AutoTokenizer.from_pretrained(base_model_name, padding=True)\n",
    "tokenizer.pad_token = tokenizer.eos_token"
   ]
  },
  {
   "cell_type": "code",
   "execution_count": 11,
   "id": "59d7e2df-c568-4acc-9fd7-f0d8d1eecf03",
   "metadata": {},
   "outputs": [
    {
     "name": "stdout",
     "output_type": "stream",
     "text": [
      "cuda\n"
     ]
    }
   ],
   "source": [
    "import torch\n",
    "import gc\n",
    "device = 'cuda' if torch.cuda.is_available() else 'cpu'\n",
    "print(device)"
   ]
  },
  {
   "cell_type": "code",
   "execution_count": null,
   "id": "9ce1feea-6a72-4576-9d64-d6bbcea31316",
   "metadata": {},
   "outputs": [
    {
     "name": "stdout",
     "output_type": "stream",
     "text": [
      "Processing item 198 of 3962\r"
     ]
    }
   ],
   "source": [
    "results = []\n",
    "counter = 0\n",
    "for text in ds['test']['comp']:\n",
    "    print('Processing item ' +str(counter)+ ' of ' + str(len(ds['test']['comp'])), end = '\\r')\n",
    "    inputs = tokenizer(text, return_tensors='pt').to(device)\n",
    "    outputs = model_m.generate(input_ids=inputs['input_ids'].to(device), attention_mask=inputs['attention_mask'], max_new_tokens=1700, pad_token_id=tokenizer.eos_token_id)\n",
    "    res = tokenizer.decode(outputs[0], skip_special_tokens=True)\n",
    "    results.append(res)\n",
    "    counter += 1"
   ]
  },
  {
   "cell_type": "code",
   "execution_count": null,
   "id": "98e8b389-12cf-4b1a-9e98-cbb8402d7e3f",
   "metadata": {},
   "outputs": [],
   "source": [
    "results"
   ]
  },
  {
   "cell_type": "code",
   "execution_count": null,
   "id": "f7cc16e1-0232-4877-a4c7-aa6a9b570f76",
   "metadata": {},
   "outputs": [],
   "source": [
    "test_df['raw_results'] = results\n",
    "test_df['clean_results'] = test_df['raw_results'].apply(lambda x: x.replace(text,\"\"))\n",
    "test_df.to_csv('test_df.csv')"
   ]
  },
  {
   "cell_type": "code",
   "execution_count": 39,
   "id": "04faac69-06c8-4106-b7e9-e87d6a124c57",
   "metadata": {},
   "outputs": [
    {
     "data": {
      "text/plain": [
       "'### Instructions \\nYou will be provided with a text, a question, and an answer. Your task is to decide whether the answer is correct or incorrect and respond with a single word denoting the appropriate label: `False` for incorrect and `True` for correct.\\n\\n\\n###The text\\nThe text is as follows, delimited by three backticks: ```Legal assistance for battered women is hard to come by.\\nBut it just got a little easier to find in Tarrant County.\\nThis month, the federal Violence Against Women Office awarded a two-year, $350,000 grant to the Women\\'s Haven of Tarrant County.\\nThe money will allow the shelter to add a second full-time attorney to its staff and contract with the law school clinic at Texas Wesleyan University for pro bono and student services.\\nMost important, the funds will help fill a frustrating gap.\\nThe Women\\'s Haven, which provides shelter and outreach to domestic-violence victims, already has a full-time attorney.\\nBut that person is prohibited (by funding parameters) from representing women in matters of divorce or child custody.\\nThat\\'s not a problem for most of the shelter\\'s indigent residents, who can access free legal aid locally from West Texas Legal Services.\\nBut many of the clients served by the Women\\'s Haven outreach programs are the working poor, who don\\'t qualify for free legal services.\\nDivorces and custody battles are simply out of their financial reach.\\n\"They can\\'t begin to save up enough money for a divorce, so they\\'re stuck,\" says Sonyia Hartwell, the Women\\'s Haven\\'s associate director.\\n\"They\\'re completely shut out of the civil-law system.\"\\nIn Texas, unlike in some other states, women who aren\\'t divorced can\\'t gain full control over their portion of assets.\\nAnd they can\\'t obtain child support.\\nThe grant will also provide law students with valuable experience working these types of cases.\\n\"They can\\'t go to court, but they can interview clients and do all the initial intake work that needs to be done\" as well as investigative work, says Hartwell.\\nAnd there\\'s no shortage of abuse victims who need this kind of help.\\n\"Within 60 days of hanging out her or his shingle,\" says Hartwell of the yet unhired new attorney, \"we\\'ll have an active caseload of 20 or more.\"\\n...```\\n\\n\\n ### The question and answer pair \\n The question and answer pair are as follows, delimited by three backticks: ```##Question: Thanks to a grant, which shelter will now be able to add a second full-time attorney to its staff and contract with Texas Wesleyan University for pro bono and student services? ##Answer: The Women\\'s Haven of Tarrant County``` '"
      ]
     },
     "execution_count": 39,
     "metadata": {},
     "output_type": "execute_result"
    }
   ],
   "source": []
  },
  {
   "cell_type": "code",
   "execution_count": 14,
   "id": "4d86531c-3126-4682-b24c-25f1b3a5e348",
   "metadata": {},
   "outputs": [
    {
     "name": "stdout",
     "output_type": "stream",
     "text": [
      "### Instructions \n",
      "You will be provided with a text, a question, and an answer. Your task is to decide whether the answer is correct or incorrect and respond with a single word denoting the appropriate label: `False` for incorrect and `True` for correct.\n",
      "\n",
      "\n",
      "###The text\n",
      "The text is as follows, delimited by three backticks: ```Legal assistance for battered women is hard to come by.\n",
      "But it just got a little easier to find in Tarrant County.\n",
      "This month, the federal Violence Against Women Office awarded a two-year, $350,000 grant to the Women's Haven of Tarrant County.\n",
      "The money will allow the shelter to add a second full-time attorney to its staff and contract with the law school clinic at Texas Wesleyan University for pro bono and student services.\n",
      "Most important, the funds will help fill a frustrating gap.\n",
      "The Women's Haven, which provides shelter and outreach to domestic-violence victims, already has a full-time attorney.\n",
      "But that person is prohibited (by funding parameters) from representing women in matters of divorce or child custody.\n",
      "That's not a problem for most of the shelter's indigent residents, who can access free legal aid locally from West Texas Legal Services.\n",
      "But many of the clients served by the Women's Haven outreach programs are the working poor, who don't qualify for free legal services.\n",
      "Divorces and custody battles are simply out of their financial reach.\n",
      "\"They can't begin to save up enough money for a divorce, so they're stuck,\" says Sonyia Hartwell, the Women's Haven's associate director.\n",
      "\"They're completely shut out of the civil-law system.\"\n",
      "In Texas, unlike in some other states, women who aren't divorced can't gain full control over their portion of assets.\n",
      "And they can't obtain child support.\n",
      "The grant will also provide law students with valuable experience working these types of cases.\n",
      "\"They can't go to court, but they can interview clients and do all the initial intake work that needs to be done\" as well as investigative work, says Hartwell.\n",
      "And there's no shortage of abuse victims who need this kind of help.\n",
      "\"Within 60 days of hanging out her or his shingle,\" says Hartwell of the yet unhired new attorney, \"we'll have an active caseload of 20 or more.\"\n",
      "...```\n",
      "\n",
      "\n",
      " ### The question and answer pair \n",
      " The question and answer pair are as follows, delimited by three backticks: ```##Question: Thanks to a grant, which shelter will now be able to add a second full-time attorney to its staff and contract with Texas Wesleyan University for pro bono and student services? ##Answer: Tarrant county shelters``` \n",
      "### Instructions \n",
      "You will be provided with a text, a question, and an answer. Your task is to decide whether the answer is correct or incorrect and respond with a single word denoting the appropriate label: `False` for incorrect and `True` for correct.\n",
      "\n",
      "\n",
      "###The text\n",
      "The text is as follows, delimited by three backticks: ```Legal assistance for battered women is hard to come by.\n",
      "But it just got a little easier to find in Tarrant County.\n",
      "This month, the federal Violence Against Women Office awarded a two-year, $350,000 grant to the Women's Haven of Tarrant County.\n",
      "The money will allow the shelter to add a second full-time attorney to its staff and contract with the law school clinic at Texas Wesleyan University for pro bono and student services.\n",
      "Most important, the funds will help fill a frustrating gap.\n",
      "The Women's Haven, which provides shelter and outreach to domestic-violence victims, already has a full-time attorney.\n",
      "But that person is prohibited (by funding parameters) from representing women in matters of divorce or child custody.\n",
      "That's not a problem for most of the shelter's indigent residents, who can access free legal aid locally from West Texas Legal Services.\n",
      "But many of the clients served by the Women's Haven outreach programs are the working poor, who don't qualify for free legal services.\n",
      "Divorces and custody battles are simply out of their financial reach.\n",
      "\"They can't begin to save up enough money for a divorce, so they're stuck,\" says Sonyia Hartwell, the Women's Haven's associate director.\n",
      "\"They're completely shut out of the civil-law system.\"\n",
      "In Texas, unlike in some other states, women who aren't divorced can't gain full control over their portion of assets.\n",
      "And they can't obtain child support.\n",
      "The grant will also provide law students with valuable experience working these types of cases.\n",
      "\"They can't go to court, but they can interview clients and do all the initial intake work that needs to be done\" as well as investigative work, says Hartwell.\n",
      "And there's no shortage of abuse victims who need this kind of help.\n",
      "\"Within 60 days of hanging out her or his shingle,\" says Hartwell of the yet unhired new attorney, \"we'll have an active caseload of 20 or more.\"\n",
      "...```\n",
      "\n",
      "\n",
      " ### The question and answer pair \n",
      " The question and answer pair are as follows, delimited by three backticks: ```##Question: Thanks to a grant, which shelter will now be able to add a second full-time attorney to its staff and contract with Texas Wesleyan University for pro bono and student services? ##Answer: Tarrant county shelters``` \n",
      "\n",
      "\n",
      "<<<False>>>\n"
     ]
    }
   ],
   "source": [
    "# testing\n",
    "\n",
    "text = ds['test']['comp'][1]\n",
    "print(text)\n",
    "\n",
    "inputs = tokenizer(text, return_tensors='pt').to(device)\n",
    "outputs = model_m.generate(input_ids=inputs['input_ids'].to(device), attention_mask=inputs['attention_mask'], max_new_tokens=1700, pad_token_id=tokenizer.eos_token_id)\n",
    "res = tokenizer.decode(outputs[0], skip_special_tokens=True)#.replace(text,\"\")\n",
    "print(res)\n",
    "# results.append(res)"
   ]
  },
  {
   "cell_type": "code",
   "execution_count": 9,
   "id": "52680cf3-94fb-4509-b011-ed9dd31a56d9",
   "metadata": {},
   "outputs": [],
   "source": [
    "def parse_output(text):\n",
    "    text = str(text)\n",
    "    if text.find('True>') >  -1:\n",
    "        return 'True'\n",
    "    elif text.find('False>') > -1:\n",
    "        return 'False'\n",
    "    else:\n",
    "        return np.nan\n",
    "\n",
    "\n",
    "import numpy as np\n",
    "import pandas as pd\n",
    "results_df = pd.read_csv('test_df.csv')\n",
    "results_df['preds'] = results_df['raw_results'].apply(lambda x: parse_output(x))"
   ]
  },
  {
   "cell_type": "code",
   "execution_count": 15,
   "id": "340d92dd-766d-4611-b2e0-e5b2839aacc6",
   "metadata": {},
   "outputs": [
    {
     "data": {
      "image/png": "[encoded data removed]",
      "text/plain": [
       "<Figure size 640x480 with 2 Axes>"
      ]
     },
     "metadata": {},
     "output_type": "display_data"
    }
   ],
   "source": [
    "from sklearn import metrics\n",
    "from matplotlib import pyplot as plt\n",
    "\n",
    "results_df['labels'] = results_df['labels'].apply(lambda x: str(x))\n",
    "\n",
    "confusion_matrix = metrics.confusion_matrix(results_df['labels'], results_df['preds'])\n",
    "cm_display = metrics.ConfusionMatrixDisplay(confusion_matrix = confusion_matrix, display_labels = ['incorrect', 'correct'])\n",
    "\n",
    "cm_display.plot()\n",
    "plt.title('Predicted and True Classifications of Correct and Incorrect Answers (Llama)')\n",
    "plt.show()"
   ]
  },
  {
   "cell_type": "code",
   "execution_count": 16,
   "id": "64d6c31b-686e-44ff-b927-e52442c7964b",
   "metadata": {},
   "outputs": [
    {
     "name": "stdout",
     "output_type": "stream",
     "text": [
      "              precision    recall  f1-score   support\n",
      "\n",
      "       False       1.00      0.88      0.94      2240\n",
      "        True       0.86      1.00      0.93      1722\n",
      "\n",
      "    accuracy                           0.93      3962\n",
      "   macro avg       0.93      0.94      0.93      3962\n",
      "weighted avg       0.94      0.93      0.93      3962\n",
      "\n"
     ]
    }
   ],
   "source": [
    "print(metrics.classification_report(results_df['labels'], results_df['preds']))"
   ]
  },
  {
   "cell_type": "code",
   "execution_count": null,
   "id": "2d11ea20-1337-4180-b95f-4f0bbba760cb",
   "metadata": {},
   "outputs": [],
   "source": [
    "textbook_df = pd.read_csv()"
   ]
  }
 ],
 "metadata": {
  "kernelspec": {
   "display_name": "Python (hanlin)",
   "language": "python",
   "name": "hanlin"
  },
  "language_info": {
   "codemirror_mode": {
    "name": "ipython",
    "version": 3
   },
   "file_extension": ".py",
   "mimetype": "text/x-python",
   "name": "python",
   "nbconvert_exporter": "python",
   "pygments_lexer": "ipython3",
   "version": "3.12.2"
  }
 },
 "nbformat": 4,
 "nbformat_minor": 5
}
