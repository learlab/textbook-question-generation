{
 "cells": [
  {
   "cell_type": "code",
   "execution_count": null,
   "id": "c9d436ca-8272-495e-a58a-fd8f2f46c72a",
   "metadata": {},
   "outputs": [],
   "source": [
    "python -m bleurt.finetune -init_bleurt_checkpoint=bleurt/ckpt_base -model_dir=/home/jovyan/active-projects/textbook-question-generation/bleurt-models/ft_base_500_antique/ -train_set=bleurt/test_data/antique-dataset/train_samples_34.jsonl -dev_set=bleurt/test_data/antique-dataset/validation_samples_34.jsonl -num_train_steps=500 -batch-size=16"
   ]
  },
  {
   "cell_type": "markdown",
   "id": "230944bb-e820-49cf-a202-e629fea8250f",
   "metadata": {},
   "source": [
    "# Conda Environment Creation Steps\n",
    "\n",
    "    - conda create --name [env_name] --clone base\n",
    "    - pip install cudatoolkit==11.8.0\n",
    "    - pip install nvidia-cudnn-cu11==8.6.0.163 tensorflow==2.12.*\n",
    "    - pip install datasets==2.10.0"
   ]
  },
  {
   "cell_type": "markdown",
   "id": "33dce38d-50bc-4e8e-ba7e-846947e7e437",
   "metadata": {},
   "source": [
    "<hr>"
   ]
  },
  {
   "cell_type": "markdown",
   "id": "a1966a9f-8ebe-40d4-8f1a-aacc46de4cc4",
   "metadata": {},
   "source": [
    "# How to Finetune and Score using BLEURT\n",
    "\n",
    "### Step 1: CMD Commands\n",
    "\n",
    "    - mkdir bleurt-models-folder\n",
    "    - git clone https://github.com/google-research/bleurt.git\n",
    "    - cd bleurt-models-folder/bleurt/\n",
    "    - conda activate env\n",
    "    - pip install .\n",
    "    - cd bleurt-models-folder/bleurt/bleurt/\n",
    "    - wget https://storage.googleapis.com/bleurt-oss/bleurt-base-128.zip\n",
    "    - unzip bleurt-base-128.zip\n",
    "    - rm bleurt-base-128.zip\n",
    "    - mv bleurt-base-128 ckpt_base\n",
    "    - wget https://storage.googleapis.com/bleurt-oss/bleurt-large-128.zip\n",
    "    - unzip bleurt-large-128.zip\n",
    "    - rm bleurt-large-128.zip\n",
    "    - mv bleurt-large-128 ckpt_large\n",
    "\n",
    "### Step 2: Dataset Prepration\n",
    "\n",
    "    - Run cells under \"Data Preparation - Wesley's Split\" heading. These will create relevant files at /bleurt/bleurt/test_data/.\n",
    "    - If you wish delete all other files present in this directory\n",
    "\n",
    "### Step 3: FineTuning\n",
    "\n",
    "    - cd bleurt-models-folder/bleurt/\n",
    "    - conda activate env_vaibhav\n",
    "    - python -m bleurt.finetune -init_bleurt_checkpoint=bleurt/ckpt_* -model_dir=/home/jovyan/active-projects/textbook-question-generation/bleurt-models-folder/ft_*/ -train_set=bleurt/test_data/train_samples.jsonl -dev_set=bleurt/test_data/validation_samples.jsonl -num_train_steps=500 -batch-size=16\n",
    "\n",
    "### Step 4: Scoring and Evaluation\n",
    "\n",
    "    - Run cells under \"Evaluation finetuned BLEURT - Without Generator\" heading."
   ]
  },
  {
   "cell_type": "markdown",
   "id": "23c5a35f-0215-4919-87ab-36b238d6cd39",
   "metadata": {},
   "source": [
    "<hr>"
   ]
  },
  {
   "cell_type": "markdown",
   "id": "3b5a856a-f677-42a7-b090-8158c6bc8e9a",
   "metadata": {},
   "source": [
    "# Executed Finetuning Commands\n",
    "\n",
    "### Checkpoint - Large | Steps - 500 | Batch Size - 16\n",
    "\n",
    "    - python -m bleurt.finetune -init_bleurt_checkpoint=bleurt/ckpt_large -model_dir=/home/jovyan/active-projects/textbook-question-generation/bleurt-models/ft_large_500/ -train_set=bleurt/test_data/train_samples.jsonl -dev_set=bleurt/test_data/validation_samples.jsonl -num_train_steps=500 -batch-size=16\n",
    "\n",
    "    - BEST MODEL - /home/jovyan/active-projects/textbook-question-generation/bleurt-models/ft_large_500/export/bleurt_best/1689744148\n",
    "\n",
    "    - python -m bleurt.score_files -sentence_pairs_file=bleurt/test_data/test_sentence_pairs.jsonl -bleurt_checkpoint=/home/jovyan/active-projects/textbook-question-generation/bleurt-models/ft_large_500/export/bleurt_best/1689744148 -scores_file=bleurt/test_data/test_sentence_predicted_labels_l500.txt\n",
    "\n",
    "\n",
    "### Checkpoint - Large | Steps - 1000 | Batch Size - 16\n",
    "\n",
    "    - python -m bleurt.finetune -init_bleurt_checkpoint=bleurt/ckpt_large -model_dir=/home/jovyan/active-projects/textbook-question-generation/bleurt-models/ft_large_1000/ -train_set=bleurt/test_data/train_samples.jsonl -dev_set=bleurt/test_data/validation_samples.jsonl -num_train_steps=1000 -batch-size=16\n",
    "\n",
    "    - BEST MODEL - /home/jovyan/active-projects/textbook-question-generation/bleurt-models/ft_large_1000/export/bleurt_best/1689744734\n",
    "\n",
    "    - python -m bleurt.score_files -sentence_pairs_file=bleurt/test_data/test_sentence_pairs.jsonl -bleurt_checkpoint=/home/jovyan/active-projects/textbook-question-generation/bleurt-models/ft_large_1000/export/bleurt_best/1689744734 -scores_file=bleurt/test_data/test_sentence_predicted_labels_l1000.txt\n",
    "\n",
    "\n",
    "### Checkpoint - Base | Steps - 500 | Batch Size - 16\n",
    "\n",
    "    - python -m bleurt.finetune -init_bleurt_checkpoint=bleurt/ckpt_base -model_dir=/home/jovyan/active-projects/textbook-question-generation/bleurt-models/ft_base_500/ -train_set=bleurt/test_data/train_samples.jsonl -dev_set=bleurt/test_data/validation_samples.jsonl -num_train_steps=500 -batch-size=16\n",
    "\n",
    "    - BEST MODEL - /home/jovyan/active-projects/textbook-question-generation/bleurt-models/ft_base_500/export/bleurt_best/1689745421\n",
    "\n",
    "    - python -m bleurt.score_files -sentence_pairs_file=bleurt/test_data/test_sentence_pairs.jsonl -bleurt_checkpoint=/home/jovyan/active-projects/textbook-question-generation/bleurt-models/ft_base_500/export/bleurt_best/1689745421 -scores_file=bleurt/test_data/test_sentence_predicted_labels_b500.txt\n",
    "\n",
    "\n",
    "### Checkpoint - Base | Steps - 1000 | Batch Size - 16\n",
    "\n",
    "    - python -m bleurt.finetune -init_bleurt_checkpoint=bleurt/ckpt_base -model_dir=/home/jovyan/active-projects/textbook-question-generation/bleurt-models/ft_base_1000/ -train_set=bleurt/test_data/train_samples.jsonl -dev_set=bleurt/test_data/validation_samples.jsonl -num_train_steps=1000 -batch-size=16\n",
    "\n",
    "    - BEST MODEL - /home/jovyan/active-projects/textbook-question-generation/bleurt-models/ft_base_1000/export/bleurt_best/1689745617\n",
    "\n",
    "    - python -m bleurt.score_files -sentence_pairs_file=bleurt/test_data/test_sentence_pairs.jsonl -bleurt_checkpoint=/home/jovyan/active-projects/textbook-question-generation/bleurt-models/ft_base_1000/export/bleurt_best/1689745617 -scores_file=bleurt/test_data/test_sentence_predicted_labels_b1000.txt\n"
   ]
  },
  {
   "cell_type": "markdown",
   "id": "0a6d2575-0013-4f03-a965-ea03fa225d54",
   "metadata": {
    "jp-MarkdownHeadingCollapsed": true
   },
   "source": [
    "# Data Preparation"
   ]
  },
  {
   "cell_type": "code",
   "execution_count": null,
   "id": "aad44041-627b-4b09-8de6-1c6b42b83a14",
   "metadata": {},
   "outputs": [],
   "source": [
    "# import json\n",
    "# import pandas as pd\n",
    "# from sklearn.model_selection import train_test_split"
   ]
  },
  {
   "cell_type": "code",
   "execution_count": null,
   "id": "0c048a68-01f5-420b-9dcf-41387c415e5e",
   "metadata": {},
   "outputs": [],
   "source": [
    "# df = pd.read_csv('~/active-projects/textbook-question-generation/data/aqag-chatgpt-vicuna.csv')\n",
    "# # df.rename({'correct_answer_vicuna': 'gold_answer'}, axis=1, inplace=True)\n",
    "# df.rename({'correct_answer': 'gold_answer'}, axis=1, inplace=True)\n",
    "# df.rename({'correct_answer_vicuna': 'correct_answer'}, axis=1, inplace=True)\n",
    "# df.dropna(subset=['clean_text', 'question', 'correct_answer', 'incorrect_answer', 'gold_answer'], inplace=True)\n",
    "# df = df[['type', 'question', 'gold_answer', 'correct_answer', 'incorrect_answer']]\n",
    "# df.head() # shape - 1464 x 5"
   ]
  },
  {
   "cell_type": "code",
   "execution_count": null,
   "id": "3e2b75dc-5616-46a2-a4ed-84b682143c31",
   "metadata": {},
   "outputs": [],
   "source": [
    "# temp_correct_df = df[['type', 'question', 'gold_answer', 'correct_answer']]\n",
    "# temp_correct_df = temp_correct_df.rename(columns={'correct_answer': 'student_response'})\n",
    "# temp_correct_df['true_label'] = 1\n",
    "\n",
    "# temp_incorrect_df = df[['type', 'question', 'gold_answer', 'incorrect_answer']]\n",
    "# temp_incorrect_df = temp_incorrect_df.rename(columns={'incorrect_answer': 'student_response'})\n",
    "# temp_incorrect_df['true_label'] = 0\n",
    "\n",
    "# new_df = pd.concat([temp_correct_df, temp_incorrect_df]).reset_index(drop=True)\n",
    "# new_df.head() # shape - 2928 x 5"
   ]
  },
  {
   "cell_type": "code",
   "execution_count": null,
   "id": "3a87e451-53c7-453f-aafa-a36ca385fb4d",
   "metadata": {},
   "outputs": [],
   "source": [
    "# X = new_df.drop('true_label', axis=1)\n",
    "# y = new_df['true_label']"
   ]
  },
  {
   "cell_type": "code",
   "execution_count": null,
   "id": "c5ecb101-e33f-41b6-b5a8-3e7e6b224d4a",
   "metadata": {},
   "outputs": [],
   "source": [
    "# X_train, X_holdout, y_train, y_holdout = train_test_split(X, y, test_size=0.4, random_state=42)\n",
    "# X_train.shape, y_train.shape, X_holdout.shape, y_holdout.shape"
   ]
  },
  {
   "cell_type": "code",
   "execution_count": null,
   "id": "3b39a86f-f735-49ec-8708-eef690d89ff2",
   "metadata": {},
   "outputs": [],
   "source": [
    "# X_test, X_val, y_test, y_val = train_test_split(X_holdout, y_holdout, test_size=0.5, random_state=42)\n",
    "# X_test.shape, y_test.shape, X_val.shape, y_val.shape"
   ]
  },
  {
   "cell_type": "code",
   "execution_count": null,
   "id": "b3fdb4fa-3cde-482a-a3a0-d824b3d838ac",
   "metadata": {},
   "outputs": [],
   "source": [
    "# X_train['true_label'] = y_train\n",
    "# print(set(X_train['true_label'] == y_train))\n",
    "# X_train.head()"
   ]
  },
  {
   "cell_type": "code",
   "execution_count": null,
   "id": "5affd951-42d3-486f-b3ab-8c4ebd05f15e",
   "metadata": {},
   "outputs": [],
   "source": [
    "# X_test['true_label'] = y_test\n",
    "# print(set(X_test['true_label'] == y_test))\n",
    "# X_test.head()"
   ]
  },
  {
   "cell_type": "code",
   "execution_count": null,
   "id": "8de8ce7c-c263-4e5d-a52f-2fc6bf979edc",
   "metadata": {},
   "outputs": [],
   "source": [
    "# X_val['true_label'] = y_val\n",
    "# print(set(X_val['true_label'] == y_val))\n",
    "# X_val.head()"
   ]
  },
  {
   "cell_type": "code",
   "execution_count": null,
   "id": "2c8e809d-954f-4e16-91af-8387f6ec9bb0",
   "metadata": {},
   "outputs": [],
   "source": [
    "# X_train[\"true_label\"].plot(kind=\"hist\")"
   ]
  },
  {
   "cell_type": "code",
   "execution_count": null,
   "id": "eab13b86-8198-451b-a452-1fb5aa33d51c",
   "metadata": {},
   "outputs": [],
   "source": [
    "# X_test[\"true_label\"].plot(kind=\"hist\")"
   ]
  },
  {
   "cell_type": "code",
   "execution_count": null,
   "id": "7ebdb65d-5f7f-427e-be25-6eb0e2c7cca6",
   "metadata": {},
   "outputs": [],
   "source": [
    "# X_val[\"true_label\"].plot(kind=\"hist\")"
   ]
  },
  {
   "cell_type": "code",
   "execution_count": null,
   "id": "cef02b2f-619e-45df-9d7c-75297222a932",
   "metadata": {},
   "outputs": [],
   "source": [
    "# train_samples = [{\"candidate\":row[\"student_response\"], \"reference\":row[\"gold_answer\"], \"score\":row[\"true_label\"]} for _, row in X_train.iterrows()]\n",
    "# test_samples = [{\"candidate\":row[\"student_response\"], \"reference\":row[\"gold_answer\"], \"score\":row[\"true_label\"]} for _, row in X_test.iterrows()]\n",
    "# val_samples = [{\"candidate\":row[\"student_response\"], \"reference\":row[\"gold_answer\"], \"score\":row[\"true_label\"]} for _, row in X_val.iterrows()]\n",
    "\n",
    "# len(train_samples) == X_train.shape[0], len(test_samples) == X_test.shape[0], len(val_samples) == X_val.shape[0]"
   ]
  },
  {
   "cell_type": "code",
   "execution_count": null,
   "id": "5749ce4b-05c7-4745-a4db-d9b332e00975",
   "metadata": {},
   "outputs": [],
   "source": [
    "# with open('/home/jovyan/active-projects/textbook-question-generation/bleurt/bleurt/bleurt/test_data/train_samples.jsonl', 'w') as f:\n",
    "#     for sample in train_samples:\n",
    "#         json.dump(sample, f)\n",
    "#         f.write('\\n')\n",
    "\n",
    "# train_samples[:2]"
   ]
  },
  {
   "cell_type": "code",
   "execution_count": null,
   "id": "b1f0a92c-0c85-48aa-a352-64f746572c28",
   "metadata": {},
   "outputs": [],
   "source": [
    "# with open('/home/jovyan/active-projects/textbook-question-generation/bleurt/bleurt/bleurt/test_data/test_samples.jsonl', 'w') as f:\n",
    "#     for sample in test_samples:\n",
    "#         json.dump(sample, f)\n",
    "#         f.write('\\n')\n",
    "\n",
    "# test_samples[:2]"
   ]
  },
  {
   "cell_type": "code",
   "execution_count": null,
   "id": "af848b1e-968b-457d-8bf8-ae0c077611c0",
   "metadata": {},
   "outputs": [],
   "source": [
    "# with open('/home/jovyan/active-projects/textbook-question-generation/bleurt/bleurt/bleurt/test_data/val_samples.jsonl', 'w') as f:\n",
    "#     for sample in val_samples:\n",
    "#         json.dump(sample, f)\n",
    "#         f.write('\\n')\n",
    "\n",
    "# val_samples[:2]"
   ]
  },
  {
   "cell_type": "markdown",
   "id": "bf499b05-b0a5-406e-ad2b-f21dc0bdbff9",
   "metadata": {
    "jp-MarkdownHeadingCollapsed": true
   },
   "source": [
    "# Data Preparation - Wesley's Split"
   ]
  },
  {
   "cell_type": "code",
   "execution_count": null,
   "id": "26598beb-fdfb-43bd-9a27-c196ec70b434",
   "metadata": {},
   "outputs": [],
   "source": [
    "# import json\n",
    "# from datasets import load_from_disk\n",
    "\n",
    "# dataset = load_from_disk(\"/home/jovyan/active-projects/textbook-question-generation/bin/multirc_dataset.hf/\")"
   ]
  },
  {
   "cell_type": "code",
   "execution_count": null,
   "id": "fdf79df0-0fb2-48bc-bee2-a18f8b5f7144",
   "metadata": {},
   "outputs": [],
   "source": [
    "# # FOR CHATGPT-VICUNA DATASET\n",
    "# train_samples = [{\"candidate\": sample['text'].split('</s>')[0], \"reference\": sample['text'].split('</s>')[1], \"score\": sample[\"labels\"]} for sample in dataset['train']]\n",
    "\n",
    "# with open('/home/jovyan/active-projects/textbook-question-generation/bleurt-models/bleurt/bleurt/test_data/train_samples.jsonl', 'w') as f:\n",
    "#     for sample in train_samples:\n",
    "#         json.dump(sample, f)\n",
    "#         f.write('\\n')\n",
    "\n",
    "# train_samples[:2]\n",
    "\n",
    "# validation_samples = [{\"candidate\": sample['text'].split('</s>')[0], \"reference\": sample['text'].split('</s>')[1], \"score\": sample[\"labels\"]} for sample in dataset['valid']]\n",
    "\n",
    "# with open('/home/jovyan/active-projects/textbook-question-generation/bleurt-models/bleurt/bleurt/test_data/validation_samples.jsonl', 'w') as f:\n",
    "#     for sample in validation_samples:\n",
    "#         json.dump(sample, f)\n",
    "#         f.write('\\n')\n",
    "\n",
    "# validation_samples[:2]\n",
    "\n",
    "# test_samples = [{\"candidate\": sample['text'].split('</s>')[0], \"reference\": sample['text'].split('</s>')[1], \"score\": sample[\"labels\"]} for sample in dataset['test']]\n",
    "\n",
    "# with open('/home/jovyan/active-projects/textbook-question-generation/bleurt-models/bleurt/bleurt/test_data/test_samples.jsonl', 'w') as f:\n",
    "#     for sample in test_samples:\n",
    "#         json.dump(sample, f)\n",
    "#         f.write('\\n')\n",
    "\n",
    "# test_samples[:2]"
   ]
  },
  {
   "cell_type": "code",
   "execution_count": null,
   "id": "9a467afc-6842-43be-a467-fa278a3e6fe8",
   "metadata": {},
   "outputs": [],
   "source": [
    "# # FOR MULTIRC DATASET\n",
    "\n",
    "# train_samples, validation_samples, test_samples = [], [], []\n",
    "\n",
    "# for record in dataset['train']:\n",
    "#     if '\\nAnswer:' in record['text']:\n",
    "#         record['text'] = record['text'].replace('\\nAnswer:', ' ')\n",
    "\n",
    "#     candidate = record['text'].split(\"</s>\")[0].strip()\n",
    "#     reference = record['text'].split(\"</s>\")[1].strip()\n",
    "#     score = int(record['labels'])\n",
    "\n",
    "#     train_samples.append({\"candidate\": candidate, \"reference\": reference, \"score\": score})\n",
    "\n",
    "# assert len(train_samples) == len(dataset['train'])\n",
    "\n",
    "# for record in dataset['valid']:\n",
    "#     if '\\nAnswer:' in record['text']:\n",
    "#         record['text'] = record['text'].replace('\\nAnswer:', ' ')\n",
    "\n",
    "#     validation_samples.append({\"candidate\": record['text'].split(\"</s>\")[0].strip(), \"reference\": record['text'].split(\"</s>\")[1].strip(), \"score\": int(record['labels'])})\n",
    "\n",
    "# assert len(validation_samples) == len(dataset['valid'])\n",
    "\n",
    "\n",
    "# for record in dataset['test']:\n",
    "#     if '\\nAnswer:' in record['text']:\n",
    "#         record['text'] = record['text'].replace('\\nAnswer:', ' ')\n",
    "\n",
    "#     test_samples.append({\"candidate\": record['text'].split(\"</s>\")[0].strip(), \"reference\": record['text'].split(\"</s>\")[1].strip(), \"score\": int(record['labels'])})\n",
    "\n",
    "# assert len(test_samples) == len(dataset['test'])\n",
    "\n",
    "# len(validation_samples), validation_samples[:2], len(train_samples), train_samples[:2], len(test_samples), test_samples[:2]"
   ]
  },
  {
   "cell_type": "code",
   "execution_count": null,
   "id": "eba2b460-1498-4586-bb8d-d85c37efbb40",
   "metadata": {},
   "outputs": [],
   "source": [
    "# # SAVE DATASETS - MAKE SURE TO EDIT THE LOCATIONS\n",
    "# with open('/home/jovyan/active-projects/textbook-question-generation/bleurt-models/bleurtmodel/bleurt/bleurt/test_data/multirc-dataset/train_samples.jsonl', 'w') as f:\n",
    "#     for sample in train_samples:\n",
    "#         json.dump(sample, f)\n",
    "#         f.write('\\n')\n",
    "\n",
    "# with open('/home/jovyan/active-projects/textbook-question-generation/bleurt-models/bleurtmodel/bleurt/bleurt/test_data/multirc-dataset/validation_samples.jsonl', 'w') as f:\n",
    "#     for sample in validation_samples:\n",
    "#         json.dump(sample, f)\n",
    "#         f.write('\\n')\n",
    "\n",
    "\n",
    "# with open('/home/jovyan/active-projects/textbook-question-generation/bleurt-models/bleurtmodel/bleurt/bleurt/test_data/multirc-dataset/test_samples.jsonl', 'w') as f:\n",
    "#     for sample in test_samples:\n",
    "#         json.dump(sample, f)\n",
    "#         f.write('\\n')\n",
    "\n",
    "# train_samples[:2], validation_samples[:2], test_samples[:2]"
   ]
  },
  {
   "cell_type": "markdown",
   "id": "c57b8176-f6f3-47c4-b41a-7b3afb470f4f",
   "metadata": {
    "jp-MarkdownHeadingCollapsed": true
   },
   "source": [
    "# Evaluation - OOB BLEURT"
   ]
  },
  {
   "cell_type": "code",
   "execution_count": 1,
   "id": "cd0618c6-c07d-41e3-8955-c0da14070c47",
   "metadata": {},
   "outputs": [
    {
     "name": "stderr",
     "output_type": "stream",
     "text": [
      "2023-08-29 19:46:52.749268: I tensorflow/core/util/port.cc:110] oneDNN custom operations are on. You may see slightly different numerical results due to floating-point round-off errors from different computation orders. To turn them off, set the environment variable `TF_ENABLE_ONEDNN_OPTS=0`.\n",
      "2023-08-29 19:46:52.826289: I tensorflow/core/platform/cpu_feature_guard.cc:182] This TensorFlow binary is optimized to use available CPU instructions in performance-critical operations.\n",
      "To enable the following instructions: AVX2 AVX512F AVX512_VNNI FMA, in other operations, rebuild TensorFlow with the appropriate compiler flags.\n",
      "2023-08-29 19:46:54.036852: W tensorflow/compiler/tf2tensorrt/utils/py_utils.cc:38] TF-TRT Warning: Could not find TensorRT\n",
      "2023-08-29 19:46:55.005731: W tensorflow/core/common_runtime/gpu/gpu_device.cc:1960] Cannot dlopen some GPU libraries. Please make sure the missing libraries mentioned above are installed properly if you would like to use GPU. Follow the guide at https://www.tensorflow.org/install/gpu for how to download and setup the required libraries for your platform.\n",
      "Skipping registering GPU devices...\n"
     ]
    },
    {
     "name": "stdout",
     "output_type": "stream",
     "text": [
      "INFO:tensorflow:Reading checkpoint /home/jovyan/.cache/huggingface/metrics/bleurt/bleurt-large-128/downloads/extracted/d187b4f0c93720f5f5def99c13b0bc5511eae4a72a6d793a0ca3ea076dbea2f3/bleurt-large-128.\n",
      "INFO:tensorflow:Config file found, reading.\n",
      "INFO:tensorflow:Will load checkpoint bert_custom\n",
      "INFO:tensorflow:Loads full paths and checks that files exists.\n",
      "INFO:tensorflow:... name:bert_custom\n",
      "INFO:tensorflow:... vocab_file:vocab.txt\n",
      "INFO:tensorflow:... bert_config_file:bert_config.json\n",
      "INFO:tensorflow:... do_lower_case:True\n",
      "INFO:tensorflow:... max_seq_length:128\n",
      "INFO:tensorflow:Creating BLEURT scorer.\n",
      "INFO:tensorflow:Creating WordPiece tokenizer.\n",
      "INFO:tensorflow:WordPiece tokenizer instantiated.\n",
      "INFO:tensorflow:Creating Eager Mode predictor.\n",
      "INFO:tensorflow:Loading model.\n",
      "INFO:tensorflow:BLEURT initialized.\n"
     ]
    },
    {
     "name": "stderr",
     "output_type": "stream",
     "text": [
      "INFO:tensorflow:BLEURT initialized.\n"
     ]
    }
   ],
   "source": [
    "import json\n",
    "import numpy as np\n",
    "import pandas as pd\n",
    "\n",
    "from collections import Counter\n",
    "import spacy\n",
    "\n",
    "from sklearn.metrics import f1_score, cohen_kappa_score, confusion_matrix, classification_report, ConfusionMatrixDisplay\n",
    "\n",
    "import evaluate\n",
    "\n",
    "import seaborn as sns\n",
    "import matplotlib.pyplot as plt\n",
    "\n",
    "nlp = spacy.load('en_core_web_sm')\n",
    "\n",
    "wm = True\n",
    "bleurt_model = evaluate.load(\"bleurt\", \"bleurt-large-128\")"
   ]
  },
  {
   "cell_type": "code",
   "execution_count": 2,
   "id": "2eccabb2-412a-4d2f-8667-21ddd9527034",
   "metadata": {},
   "outputs": [],
   "source": [
    "if wm:\n",
    "    df = pd.DataFrame(columns=[\"gold_answer\", \"student_response\", \"true_label\"])\n",
    "    # with open('/home/jovyan/active-projects/textbook-question-generation/bleurt/bleurt/bleurt/test_data/val_samples_wm.jsonl', 'r') as file:\n",
    "    with open('/home/jovyan/active-projects/textbook-question-generation/bleurt-models/bleurtmodel//bleurt/bleurt/test_data/multirc-dataset/validation_samples.jsonl', 'r') as file:\n",
    "        for line in file:\n",
    "            json_line = json.loads(line)\n",
    "            df = pd.concat([df, pd.DataFrame({\"gold_answer\": [json_line[\"candidate\"]], \"student_response\": [json_line[\"reference\"]], \"true_label\": [json_line[\"score\"]]}, index=[0])], ignore_index=True)\n",
    "    \n",
    "    df[\"true_label\"] = df[\"true_label\"].astype(int)\n",
    "    \n",
    "else:\n",
    "    df = pd.DataFrame(columns=[\"gold_answer\", \"student_response\", \"true_label\"])\n",
    "    with open('/home/jovyan/active-projects/textbook-question-generation/bleurt/bleurt/bleurt/test_data/val_samples.jsonl', 'r') as file:\n",
    "        for line in file:\n",
    "            json_line = json.loads(line)\n",
    "            df = pd.concat([df, pd.DataFrame({\"gold_answer\": [json_line[\"candidate\"]], \"student_response\": [json_line[\"reference\"]], \"true_label\": [json_line[\"score\"]]}, index=[0])], ignore_index=True)\n",
    "    \n",
    "    df[\"true_label\"] = df[\"true_label\"].astype(int)"
   ]
  },
  {
   "cell_type": "code",
   "execution_count": null,
   "id": "b5870978-55db-47a7-be62-880f1c127827",
   "metadata": {},
   "outputs": [],
   "source": [
    "# # preprocessing steps for similarity computation:\n",
    "# # 1. lower case\n",
    "# # 2. remove non-alphanumeric characters except those bringing in context - (['@', '#', '$', '%', '*', '<', '>', '.', ','])\n",
    "# # 3. remove stopwords\n",
    "# # 4. lemmatize --- experiment\n",
    "\n",
    "# def func_preprocessing(text:str, lemmatize:bool=False):\n",
    "\n",
    "#     return_list = list()\n",
    "#     doc = nlp(text.lower().strip())\n",
    "#     for token in [token for token in doc]:\n",
    "#         if (token.text.isalnum() or any(i in token.text and token.text.count(i) == 1 for i in ['@', '#', '$', '%', '<', '>', '.', ',', '+', '-', '*'])) and (not token.is_stop):\n",
    "#             if lemmatize:\n",
    "#                 return_list.append(token.lemma_)\n",
    "#             else:\n",
    "#                 return_list.append(token.text)\n",
    "    \n",
    "#     return ' '.join(return_list)\n",
    "\n",
    "# df['processed_gold_answer'] = df['gold_answer'].apply(lambda x: func_preprocessing(x))\n",
    "# df['processed_student_response'] = df['student_response'].apply(lambda x: func_preprocessing(x))\n",
    "\n",
    "# df['processed_lemmatized_gold_answer'] = df['gold_answer'].apply(lambda x: func_preprocessing(x, lemmatize=True))\n",
    "# df['processed_lemmatized_student_response'] = df['student_response'].apply(lambda x: func_preprocessing(x, lemmatize=True))\n",
    "\n",
    "# df.head()"
   ]
  },
  {
   "cell_type": "code",
   "execution_count": 3,
   "id": "995b0427-a762-49a7-85bb-6517c01efa84",
   "metadata": {},
   "outputs": [],
   "source": [
    "df['score'] = bleurt_model.compute(predictions=df['student_response'].tolist(), references=df['gold_answer'].tolist())['scores']\n",
    "# df['processed_score'] = bleurt_model.compute(predictions=df['processed_student_response'].tolist(), references=df['processed_gold_answer'].tolist())['scores']\n",
    "# df['processed_lemmatized_score'] = bleurt_model.compute(predictions=df['processed_lemmatized_student_response'].tolist(), references=df['processed_lemmatized_gold_answer'].tolist())['scores']"
   ]
  },
  {
   "cell_type": "code",
   "execution_count": null,
   "id": "67b0d256-f0e5-48bf-b407-9987f5266bc0",
   "metadata": {},
   "outputs": [],
   "source": [
    "# df[df['true_label'] == 1]['score'].plot(kind='hist');"
   ]
  },
  {
   "cell_type": "code",
   "execution_count": null,
   "id": "f1988418-11cd-47fa-a2fc-47c470e1272e",
   "metadata": {},
   "outputs": [],
   "source": [
    "# df[df['true_label'] == 0]['score'].plot(kind='hist');"
   ]
  },
  {
   "cell_type": "code",
   "execution_count": null,
   "id": "9917683f-8786-4d2d-b75c-b61cf7b06f22",
   "metadata": {},
   "outputs": [],
   "source": [
    "# for th in np.arange(-0.5, 1, 0.1):\n",
    "#     df['label'] = df['score'].apply(lambda x: 1 if x<th else 0)\n",
    "#     print(confusion_matrix(df['true_label'], df['label']))\n",
    "#     print(classification_report(df['true_label'], df['label']))\n",
    "#     print(cohen_kappa_score(df['true_label'], df['label']))\n",
    "#     print('-'*100)"
   ]
  },
  {
   "cell_type": "code",
   "execution_count": null,
   "id": "a75a37d1-fb9a-4c23-bf8e-5ef3e794e19d",
   "metadata": {
    "scrolled": true
   },
   "outputs": [],
   "source": [
    "# for th in np.arange(-0.5, 1, 0.1):\n",
    "#     df['processed_label'] = df['processed_score'].apply(lambda x: 1 if x<th else 0)\n",
    "#     print(confusion_matrix(df['true_label'], df['processed_label']))\n",
    "#     print(classification_report(df['true_label'], df['processed_label']))\n",
    "#     print(cohen_kappa_score(df['true_label'], df['processed_label']))\n",
    "#     print('-'*100)"
   ]
  },
  {
   "cell_type": "code",
   "execution_count": null,
   "id": "166d9e98-0c0a-4739-806b-093b6e5b749b",
   "metadata": {
    "scrolled": true
   },
   "outputs": [],
   "source": [
    "# for th in np.arange(-0.5, 1, 0.1):\n",
    "#     df['processed_lemmatized_label'] = df['processed_lemmatized_score'].apply(lambda x: 1 if x<th else 0)\n",
    "#     print(confusion_matrix(df['true_label'], df['processed_lemmatized_label']))\n",
    "#     print(classification_report(df['true_label'], df['processed_lemmatized_label']))\n",
    "#     print(cohen_kappa_score(df['true_label'], df['processed_lemmatized_label']))\n",
    "#     print('-'*100)"
   ]
  },
  {
   "cell_type": "code",
   "execution_count": 4,
   "id": "2c0660ca-75a7-4014-a41f-67ccc55d92cf",
   "metadata": {},
   "outputs": [
    {
     "data": {
      "image/png": "[encoded data removed]",
      "text/plain": [
       "<Figure size 640x480 with 1 Axes>"
      ]
     },
     "metadata": {},
     "output_type": "display_data"
    },
    {
     "data": {
      "image/png": "[encoded data removed]",
      "text/plain": [
       "<Figure size 640x480 with 1 Axes>"
      ]
     },
     "metadata": {},
     "output_type": "display_data"
    },
    {
     "name": "stdout",
     "output_type": "stream",
     "text": [
      "Optimal Thresohld: 0.5 \n",
      "\n",
      "Predicted Label Count: Counter({0: 3988, 1: 92})\n",
      "\n",
      "Classification Report:\n",
      "              precision    recall  f1-score   support\n",
      "\n",
      "           0       0.55      0.99      0.71      2193\n",
      "           1       0.85      0.04      0.08      1887\n",
      "\n",
      "    accuracy                           0.55      4080\n",
      "   macro avg       0.70      0.52      0.39      4080\n",
      "weighted avg       0.69      0.55      0.42      4080\n",
      " \n",
      "\n",
      "F1 Score:  0.07882769075290551 \n",
      "\n",
      "Cohen Kappa:  0.03743597866835635 \n",
      "\n"
     ]
    },
    {
     "data": {
      "image/png": "[encoded data removed]",
      "text/plain": [
       "<Figure size 640x480 with 2 Axes>"
      ]
     },
     "metadata": {},
     "output_type": "display_data"
    }
   ],
   "source": [
    "def get_performance_metrics(predicted_labels_raw, true_labels):\n",
    "\n",
    "    true_labels.plot(kind='hist')\n",
    "    plt.title('True Labels Distribution')\n",
    "    plt.show()\n",
    "    predicted_labels_raw.plot(kind='hist')\n",
    "    plt.title('Predicted Scores Distribution')\n",
    "    plt.show()\n",
    "\n",
    "    max_f1_at_th = -1.0\n",
    "    max_f1 = 0.0\n",
    "    \n",
    "    for th in np.arange(0.5, 1.0, 0.05):\n",
    "        th = round(th, 2)\n",
    "        predicted_labels = [1 if bleurt_score >= th else 0 for bleurt_score in predicted_labels_raw]\n",
    "\n",
    "        temp_f1 = f1_score(true_labels, predicted_labels)\n",
    "\n",
    "        if temp_f1 >= max_f1:\n",
    "            max_f1 = temp_f1\n",
    "            max_f1_at_th = th\n",
    "\n",
    "    # printing metrics at the threshold for which we got max F1-Score\n",
    "    predicted_labels = [1 if bleurt_score >= max_f1_at_th else 0 for bleurt_score in predicted_labels_raw]        \n",
    "\n",
    "    print(f'Optimal Thresohld: {max_f1_at_th} \\n')\n",
    "    print(f'Predicted Label Count: {Counter(predicted_labels)}\\n')\n",
    "    print('Classification Report:')\n",
    "    print(classification_report(true_labels, predicted_labels), '\\n')\n",
    "    print('F1 Score: ', f1_score(true_labels, predicted_labels), '\\n')\n",
    "    print('Cohen Kappa: ', cohen_kappa_score(true_labels, predicted_labels), '\\n')\n",
    "    cm_display = ConfusionMatrixDisplay(confusion_matrix = confusion_matrix(true_labels, predicted_labels), display_labels = ['incorrect', 'correct'])\n",
    "    cm_display.plot()\n",
    "    plt.show()\n",
    "\n",
    "get_performance_metrics(df['score'], df['true_label'])"
   ]
  },
  {
   "cell_type": "markdown",
   "id": "72520889-70c5-4a47-b27c-ea3eb7e15353",
   "metadata": {},
   "source": [
    "# Evaluation - Finetuned BLEURT - cmd generated predictions"
   ]
  },
  {
   "cell_type": "code",
   "execution_count": null,
   "id": "4f9be05f-6c39-4969-83c5-fc276131c903",
   "metadata": {},
   "outputs": [],
   "source": [
    "# import numpy as np\n",
    "# import pandas as pd\n",
    "# from collections import Counter\n",
    "\n",
    "# import evaluate\n",
    "\n",
    "# import seaborn as sns\n",
    "# import matplotlib.pyplot as plt\n",
    "\n",
    "# from sklearn.metrics import cohen_kappa_score, confusion_matrix, classification_report, ConfusionMatrixDisplay\n",
    "\n",
    "# f1_metric = evaluate.load('f1')"
   ]
  },
  {
   "cell_type": "code",
   "execution_count": null,
   "id": "7971f71d-46f0-4633-bc66-fab198db1f24",
   "metadata": {},
   "outputs": [],
   "source": [
    "# with open('/home/jovyan/active-projects/textbook-question-generation/bleurt-models/bleurt/bleurt/test_data/test_sentence_true_labels.txt') as file:\n",
    "#     true_labels = [int(line.strip()) for line in file]\n",
    "\n",
    "# print(f'True Label Count: {Counter(true_labels)}\\n')\n",
    "\n",
    "# for ft_model in ['b500', 'b1000', 'l500', 'l1000']:\n",
    "\n",
    "#     print('-'*23, f'Predictions for {ft_model}', '-'*23)\n",
    "    \n",
    "#     with open(f'/home/jovyan/active-projects/textbook-question-generation/bleurt-models/bleurt/bleurt/test_data/test_sentence_predicted_labels_{ft_model}.txt') as file:\n",
    "#         predicted_labels_raw = [float(line.strip()) for line in file]\n",
    "\n",
    "#     pd.Series(predicted_labels_raw).plot(kind='hist')\n",
    "#     plt.title('BLEURT Score Distribution')\n",
    "#     plt.show()\n",
    "\n",
    "#     max_f1_at_th = -1.0\n",
    "#     max_f1 = 0.0\n",
    "    \n",
    "#     for th in np.arange(0.5, 1.0, 0.05):\n",
    "#         th = round(th, 2)\n",
    "#         predicted_labels = [1 if bleurt_score >= th else 0 for bleurt_score in predicted_labels_raw]\n",
    "\n",
    "#         temp_f1 = f1_metric.compute(predictions=predicted_labels, references=true_labels)['f1']\n",
    "\n",
    "#         if temp_f1 >= max_f1:\n",
    "#             max_f1 = temp_f1\n",
    "#             max_f1_at_th = th\n",
    "\n",
    "#     # printing metrics at the threshold for which we got max F1-Score\n",
    "#     predicted_labels = [1 if bleurt_score >= max_f1_at_th else 0 for bleurt_score in predicted_labels_raw]        \n",
    "\n",
    "#     print(f'Optimal Thresohld: {max_f1_at_th} \\n')\n",
    "#     print(f'Predicted Label Count: {Counter(predicted_labels)}\\n')\n",
    "#     print('Classification Report:')\n",
    "#     print(classification_report(true_labels, predicted_labels), '\\n')\n",
    "#     print('F1 Score: ', f1_metric.compute(predictions=predicted_labels, references=true_labels)['f1'], '\\n')\n",
    "#     print('Cohen Kappa: ', cohen_kappa_score(true_labels, predicted_labels), '\\n')\n",
    "#     cm_display = ConfusionMatrixDisplay(confusion_matrix = confusion_matrix(true_labels, predicted_labels), display_labels = ['incorrect', 'correct'])\n",
    "#     cm_display.plot()\n",
    "#     plt.show()\n",
    "#     print('\\n\\n\\n\\n\\n')"
   ]
  },
  {
   "cell_type": "markdown",
   "id": "9a52a44d-726c-41cd-8322-cb2fcbdc5c67",
   "metadata": {},
   "source": [
    "# Evaluation finetuned BLEURT - Using Generator"
   ]
  },
  {
   "cell_type": "code",
   "execution_count": null,
   "id": "925a3819-77c8-45fe-93b4-462cf33135a4",
   "metadata": {},
   "outputs": [],
   "source": [
    "# import time\n",
    "# import json\n",
    "# from bleurt import score as score_lib\n",
    "\n",
    "# import evaluate\n",
    "# import numpy as np\n",
    "# import pandas as pd\n",
    "# import matplotlib.pyplot as plt\n",
    "# from collections import Counter\n",
    "# from sklearn.metrics import cohen_kappa_score, confusion_matrix, classification_report, ConfusionMatrixDisplay"
   ]
  },
  {
   "cell_type": "code",
   "execution_count": null,
   "id": "f03b2ad1-d467-4447-94cb-faaa22b1fc7f",
   "metadata": {},
   "outputs": [],
   "source": [
    "# def format_data(sentence_pairs_file):\n",
    "#     with open(sentence_pairs_file, 'r') as file:\n",
    "#         for line in file:\n",
    "#             pair = json.loads(line)\n",
    "#             yield pair[\"reference\"], pair[\"candidate\"]\n",
    "\n",
    "# def generate_predictions(sentence_pair_generator, bleurt_scorer, batch_size, buffer_size):\n",
    "#     reference_buffer = []\n",
    "#     candidate_buffer = []\n",
    "#     predictions_buffer = []\n",
    "#     def _consume_buffer():\n",
    "#         scores = bleurt_scorer.score(references=reference_buffer, candidates=candidate_buffer, batch_size=batch_size)\n",
    "#         del reference_buffer[:]\n",
    "#         del candidate_buffer[:]\n",
    "#         predictions_buffer.extend(scores)\n",
    "\n",
    "#     for reference_sentence, candidate_sentence in sentence_pair_generator:\n",
    "#         reference_buffer.append(reference_sentence)\n",
    "#         candidate_buffer.append(candidate_sentence)\n",
    "#         if len(reference_buffer) >= buffer_size:\n",
    "#           _consume_buffer()\n",
    "#     if reference_buffer:\n",
    "#         _consume_buffer()\n",
    "\n",
    "#     del reference_buffer\n",
    "#     del candidate_buffer\n",
    "#     return predictions_buffer\n",
    "\n",
    "# def generate_predictions_and_metrics(bleurt_checkpoint, ft_model_name, sentence_pair_generator, batch_size, buffer_size):\n",
    "#     bleurt_scorer = score_lib.BleurtScorer(bleurt_checkpoint)\n",
    "#     print('-'*23, f'Predictions for {ft_model_name}', '-'*23)\n",
    "\n",
    "#     start_time = time.time()\n",
    "#     predicted_labels_raw = generate_predictions(sentence_pair_generator, bleurt_scorer, batch_size, buffer_size)\n",
    "#     print(f\"Total Inference Time: {time.time() - start_time} seconds\")\n",
    "\n",
    "#     pd.Series(predicted_labels_raw).plot(kind='hist')\n",
    "#     plt.title('BLEURT Score Distribution')\n",
    "#     plt.show()\n",
    "\n",
    "#     max_f1_at_th = -1.0\n",
    "#     max_f1 = 0.0\n",
    "    \n",
    "#     for th in np.arange(0.5, 1.0, 0.05):\n",
    "#         th = round(th, 2)\n",
    "#         predicted_labels = [1 if bleurt_score >= th else 0 for bleurt_score in predicted_labels_raw]\n",
    "\n",
    "#         temp_f1 = f1_metric.compute(predictions=predicted_labels, references=true_labels)['f1']\n",
    "\n",
    "#         if temp_f1 >= max_f1:\n",
    "#             max_f1 = temp_f1\n",
    "#             max_f1_at_th = th\n",
    "\n",
    "#     # printing metrics at the threshold for which we got max F1-Score\n",
    "#     predicted_labels = [1 if bleurt_score >= max_f1_at_th else 0 for bleurt_score in predicted_labels_raw]        \n",
    "\n",
    "#     print(f'Optimal Thresohld: {max_f1_at_th} \\n')\n",
    "#     print(f'Predicted Label Count: {Counter(predicted_labels)}\\n')\n",
    "#     print('Classification Report:')\n",
    "#     print(classification_report(true_labels, predicted_labels), '\\n')\n",
    "#     print('F1 Score: ', f1_metric.compute(predictions=predicted_labels, references=true_labels)['f1'], '\\n')\n",
    "#     print('Cohen Kappa: ', cohen_kappa_score(true_labels, predicted_labels), '\\n')\n",
    "#     cm_display = ConfusionMatrixDisplay(confusion_matrix = confusion_matrix(true_labels, predicted_labels), display_labels = ['incorrect', 'correct'])\n",
    "#     cm_display.plot()\n",
    "#     plt.show()\n",
    "#     del bleurt_scorer\n",
    "#     del predicted_labels_raw\n",
    "#     del predicted_labels\n",
    "#     return None"
   ]
  },
  {
   "cell_type": "code",
   "execution_count": null,
   "id": "cdd6ff7c-e33d-479c-9fdb-9c680b7ba24e",
   "metadata": {},
   "outputs": [],
   "source": [
    "# batch_size = 16\n",
    "# buffer_size = 100000\n",
    "\n",
    "# f1_metric = evaluate.load('f1')\n",
    "\n",
    "# with open('/home/jovyan/active-projects/textbook-question-generation/bleurt-models/bleurt/bleurt/test_data/test_sentence_true_labels.txt') as file:\n",
    "#     true_labels = [int(line.strip()) for line in file]\n",
    "\n",
    "# test_sentence_pairs_file = '/home/jovyan/active-projects/textbook-question-generation/bleurt-models/bleurt/bleurt/test_data/test_sentence_pairs.jsonl'\n",
    "# sentence_pairs = format_data(test_sentence_pairs_file)\n",
    "\n",
    "# bleurt_checkpoint_dict = {\n",
    "#     'b500': '/home/jovyan/active-projects/textbook-question-generation/bleurt-models/ft_base_500/export/bleurt_best/1689745421',\n",
    "#     'b1000': '/home/jovyan/active-projects/textbook-question-generation/bleurt-models/ft_base_1000/export/bleurt_best/1689745617',\n",
    "#     'l500': '/home/jovyan/active-projects/textbook-question-generation/bleurt-models/ft_large_500/export/bleurt_best/1689744148',\n",
    "#     'l1000': '/home/jovyan/active-projects/textbook-question-generation/bleurt-models/ft_large_1000/export/bleurt_best/1689744734'\n",
    "# }\n",
    "\n",
    "# ft_model_name = 'b500'\n",
    "# generate_predictions_and_metrics(bleurt_checkpoint_dict[ft_model_name], ft_model_name, sentence_pair_generator, batch_size, buffer_size)"
   ]
  },
  {
   "cell_type": "markdown",
   "id": "0d57cca1-3c78-4264-b749-0be2d1f01315",
   "metadata": {},
   "source": [
    "# Evaluation finetuned BLEURT - Without Generator"
   ]
  },
  {
   "cell_type": "code",
   "execution_count": null,
   "id": "c23c7007-c194-4c11-a18f-6952f7272019",
   "metadata": {},
   "outputs": [],
   "source": [
    "import time\n",
    "import json\n",
    "from bleurt import score as score_lib\n",
    "\n",
    "import numpy as np\n",
    "import pandas as pd\n",
    "import matplotlib.pyplot as plt\n",
    "from collections import Counter\n",
    "from sklearn.metrics import f1_score, cohen_kappa_score, confusion_matrix, classification_report, ConfusionMatrixDisplay\n",
    "\n",
    "def generate_predictions_and_metrics(bleurt_checkpoint, ft_model_name, reference_sentences, candidate_sentences, true_labels):\n",
    "    bleurt_scorer = score_lib.BleurtScorer(bleurt_checkpoint)\n",
    "    print('-'*23, f'Predictions for {ft_model_name}', '-'*23)\n",
    "\n",
    "    start_time = time.time()\n",
    "    predicted_labels_raw = bleurt_scorer.score(references=reference_sentences, candidates=candidate_sentences)#, batch_size=batch_size)\n",
    "    print(f\"Total Inference Time: {time.time() - start_time} seconds\")\n",
    "    \n",
    "    pd.Series(predicted_labels_raw).plot(kind='hist')\n",
    "    plt.title('BLEURT Score Distribution')\n",
    "    plt.show()\n",
    "\n",
    "    max_f1_at_th = -1.0\n",
    "    max_f1 = 0.0\n",
    "    \n",
    "    for th in np.arange(0.5, 1.0, 0.05):\n",
    "        th = round(th, 2)\n",
    "        predicted_labels = [1 if bleurt_score >= th else 0 for bleurt_score in predicted_labels_raw]\n",
    "\n",
    "        temp_f1 = f1_score(true_labels, predicted_labels)\n",
    "\n",
    "        if temp_f1 >= max_f1:\n",
    "            max_f1 = temp_f1\n",
    "            max_f1_at_th = th\n",
    "\n",
    "    # printing metrics at the threshold for which we got max F1-Score\n",
    "    predicted_labels = [1 if bleurt_score >= max_f1_at_th else 0 for bleurt_score in predicted_labels_raw]        \n",
    "\n",
    "    print(f'Optimal Thresohld: {max_f1_at_th} \\n')\n",
    "    print(f'Predicted Label Count: {Counter(predicted_labels)}\\n')\n",
    "    print('Classification Report:')\n",
    "    print(classification_report(true_labels, predicted_labels), '\\n')\n",
    "    print('F1 Score: ', f1_score(true_labels, predicted_labels), '\\n')\n",
    "    print('Cohen Kappa: ', cohen_kappa_score(true_labels, predicted_labels), '\\n')\n",
    "    cm_display = ConfusionMatrixDisplay(confusion_matrix = confusion_matrix(true_labels, predicted_labels), display_labels = ['incorrect', 'correct'])\n",
    "    cm_display.plot()\n",
    "    plt.show()"
   ]
  },
  {
   "cell_type": "code",
   "execution_count": null,
   "id": "6669f445-f119-4ecb-aacb-1092ed16743f",
   "metadata": {},
   "outputs": [],
   "source": [
    "# # chatgpt and vicuna dataset\n",
    "# with open('/home/jovyan/active-projects/textbook-question-generation/bleurt-models/bleurt/bleurt/test_data/test_sentence_true_labels.txt') as file:\n",
    "#     true_labels = [int(line.strip()) for line in file]\n",
    "\n",
    "# test_sentence_pairs_file = '/home/jovyan/active-projects/textbook-question-generation/bleurt-models/bleurt/bleurt/test_data/test_sentence_pairs.jsonl'\n",
    "# reference_sentences, candidate_sentences = format_data(test_sentence_pairs_file)\n",
    "\n",
    "# bleurt_checkpoint_dict = {\n",
    "#     # 'b500': '/home/jovyan/active-projects/textbook-question-generation/bleurt-models/ft_base_500/export/bleurt_best/1689745421',\n",
    "#     # 'b1000': '/home/jovyan/active-projects/textbook-question-generation/bleurt-models/ft_base_1000/export/bleurt_best/1689745617',\n",
    "#     'l500': '/home/jovyan/active-projects/textbook-question-generation/bleurt-models/ft_large_500/export/bleurt_best/1689744148',  --- best bleurt for ChatGPT-Vicuna\n",
    "#     # 'l1000': '/home/jovyan/active-projects/textbook-question-generation/bleurt-models/ft_large_1000/export/bleurt_best/1689744734'\n",
    "# }\n",
    "\n",
    "# for ft_model_name in bleurt_checkpoint_dict.keys():\n",
    "#     generate_predictions_and_metrics(bleurt_checkpoint_dict[ft_model_name], ft_model_name, reference_sentences, candidate_sentences, true_labels)"
   ]
  },
  {
   "cell_type": "code",
   "execution_count": null,
   "id": "1c2bf56d-ff31-42ac-9f93-8f1c9db24ddc",
   "metadata": {},
   "outputs": [],
   "source": [
    "# multirc dataset\n",
    "candidates = []\n",
    "references = []\n",
    "true_labels = []\n",
    "with open(\"/home/jovyan/active-projects/textbook-question-generation/bleurt-models/bleurtmodel/bleurt/bleurt/test_data/multirc-dataset/test_samples.jsonl\") as file:\n",
    "    for line in file:\n",
    "        line = json.load(line)\n",
    "        candidates.append(line['candidate'])\n",
    "        references.append(line['reference'])\n",
    "        true_labels.append(int(line['score']))\n",
    "\n",
    "bleurt_checkpoint_dict = {\n",
    "    # 'b500': '/home/jovyan/active-projects/textbook-question-generation/bleurt-models/ft_base_500/export/bleurt_best/1689745421',\n",
    "    # 'b1000': '/home/jovyan/active-projects/textbook-question-generation/bleurt-models/ft_base_1000/export/bleurt_best/1689745617',\n",
    "    # 'l500': '/home/jovyan/active-projects/textbook-question-generation/bleurt-models/ft_large_500/export/bleurt_best/1689744148',\n",
    "    # 'l1000': '/home/jovyan/active-projects/textbook-question-generation/bleurt-models/ft_large_1000/export/bleurt_best/1689744734'\n",
    "}\n",
    "\n",
    "for ft_model_name in bleurt_checkpoint_dict.keys():\n",
    "    generate_predictions_and_metrics(bleurt_checkpoint_dict[ft_model_name], ft_model_name, references, candidates, true_labels)"
   ]
  },
  {
   "cell_type": "code",
   "execution_count": null,
   "id": "e38b4125-e1a0-45a9-876b-ab5b8bb2d643",
   "metadata": {},
   "outputs": [],
   "source": []
  }
 ],
 "metadata": {
  "kernelspec": {
   "display_name": "Python (hanlin)",
   "language": "python",
   "name": "hanlin"
  },
  "language_info": {
   "codemirror_mode": {
    "name": "ipython",
    "version": 3
   },
   "file_extension": ".py",
   "mimetype": "text/x-python",
   "name": "python",
   "nbconvert_exporter": "python",
   "pygments_lexer": "ipython3",
   "version": "3.12.2"
  }
 },
 "nbformat": 4,
 "nbformat_minor": 5
}
