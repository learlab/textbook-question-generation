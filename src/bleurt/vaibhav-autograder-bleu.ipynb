{
 "cells": [
  {
   "cell_type": "code",
   "execution_count": 7,
   "id": "226d32d2-c8d6-43b0-b569-1cd85d5bfb35",
   "metadata": {},
   "outputs": [],
   "source": [
    "import ast\n",
    "import numpy as np\n",
    "import pandas as pd\n",
    "\n",
    "import spacy\n",
    "from nltk import ngrams as nltk_ngrams\n",
    "\n",
    "from sklearn.metrics import cohen_kappa_score, confusion_matrix, classification_report\n",
    "\n",
    "import evaluate\n",
    "from sentence_transformers import SentenceTransformer, util\n",
    "\n",
    "import seaborn as sns\n",
    "import matplotlib.pyplot as plt\n",
    "\n",
    "# precision_metric = evaluate.load('precision')\n",
    "# recall_metric = evaluate.load('recall')\n",
    "# rouge_model = evaluate.load('rouge')\n",
    "bleu_model = evaluate.load(\"bleu\")\n",
    "# bleurt_model = evaluate.load(\"bleurt\", module_type=\"metric\", checkpoint=\"bleurt-large-512\")\n",
    "# similarity_model = SentenceTransformer('stsb-roberta-large')\n",
    "\n",
    "nlp = spacy.load('en_core_web_sm')"
   ]
  },
  {
   "cell_type": "code",
   "execution_count": null,
   "id": "934b269d-7313-4a9f-badd-9efaaeb6c158",
   "metadata": {},
   "outputs": [],
   "source": [
    "df = pd.read_csv('~/active-projects/textbook-question-generation/data/aqag-chatgpt-vicuna.csv')\n",
    "# df.rename({'correct_answer_vicuna': 'gold_answer'}, axis=1, inplace=True)\n",
    "df.rename({'correct_answer': 'gold_answer'}, axis=1, inplace=True)\n",
    "df.rename({'correct_answer_vicuna': 'correct_answer'}, axis=1, inplace=True)\n",
    "# df.head()"
   ]
  },
  {
   "cell_type": "code",
   "execution_count": null,
   "id": "0588c523-931d-4716-87af-979d69c91af9",
   "metadata": {},
   "outputs": [],
   "source": [
    "# df.shape, df.dropna(subset=['clean_text', 'question', 'correct_answer', 'incorrect_answer', 'gold_answer']).shape"
   ]
  },
  {
   "cell_type": "code",
   "execution_count": null,
   "id": "abf5c883-3caa-4aa9-a311-7f070b179383",
   "metadata": {},
   "outputs": [],
   "source": [
    "df.dropna(subset=['clean_text', 'question', 'correct_answer', 'incorrect_answer', 'gold_answer'], inplace=True)\n",
    "# df.shape"
   ]
  },
  {
   "cell_type": "code",
   "execution_count": null,
   "id": "b845ea36-2187-44fc-9f78-f94011781315",
   "metadata": {},
   "outputs": [],
   "source": [
    "temp_correct_df = df[['clean_text', 'question', 'gold_answer', 'correct_answer']]\n",
    "temp_correct_df.rename({'correct_answer': 'student_response'}, axis=1, inplace=True)\n",
    "temp_correct_df['true_label'] = 1\n",
    "# temp_correct_df.head()"
   ]
  },
  {
   "cell_type": "code",
   "execution_count": null,
   "id": "b7d3a941-6899-497e-9252-a4b504f0b799",
   "metadata": {},
   "outputs": [],
   "source": [
    "temp_incorrect_df = df[['clean_text', 'question', 'gold_answer', 'incorrect_answer']]\n",
    "temp_incorrect_df.rename({'incorrect_answer': 'student_response'}, axis=1, inplace=True)\n",
    "temp_incorrect_df['true_label'] = 0\n",
    "# temp_incorrect_df.head()"
   ]
  },
  {
   "cell_type": "code",
   "execution_count": null,
   "id": "378d7efc-159d-47fc-9ea9-df8e3a918703",
   "metadata": {},
   "outputs": [],
   "source": [
    "df.shape, temp_correct_df.shape, temp_incorrect_df.shape"
   ]
  },
  {
   "cell_type": "code",
   "execution_count": null,
   "id": "6a992a4f-570e-47a1-8e6a-efe90354d4f8",
   "metadata": {},
   "outputs": [],
   "source": [
    "df = pd.concat([temp_correct_df, temp_incorrect_df]).reset_index(drop=True)\n",
    "df.head()"
   ]
  },
  {
   "cell_type": "markdown",
   "id": "096c0d35-f737-4fee-95dd-743bae8c48cf",
   "metadata": {},
   "source": [
    "#### Preprocessing"
   ]
  },
  {
   "cell_type": "code",
   "execution_count": null,
   "id": "f3465726-3645-44ef-8721-c7aa6cd6c9fd",
   "metadata": {},
   "outputs": [],
   "source": [
    "# preprocessing steps for similarity computation:\n",
    "# 1. lower case\n",
    "# 2. remove non-alphanumeric characters except those bringing in context - (['@', '#', '$', '%', '*', '<', '>', '.', ','])\n",
    "# 3. remove stopwords\n",
    "# 4. lemmatize --- experiment\n",
    "\n",
    "def func_preprocessing(text:str, lemmatize:bool=False):\n",
    "\n",
    "    return_list = list()\n",
    "    doc = nlp(text.lower().strip())\n",
    "    for token in [token for token in doc]:\n",
    "        if (token.text.isalnum() or any(i in token.text and token.text.count(i) == 1 for i in ['@', '#', '$', '%', '<', '>', '.', ',', '+', '-', '*'])) and (not token.is_stop):\n",
    "            if lemmatize:\n",
    "                return_list.append(token.lemma_)\n",
    "            else:\n",
    "                return_list.append(token.text)\n",
    "    \n",
    "    return ' '.join(return_list)\n",
    "\n",
    "df['processed_gold_answer'] = df['gold_answer'].apply(lambda x: func_preprocessing(x))\n",
    "df['processed_student_response'] = df['student_response'].apply(lambda x: func_preprocessing(x))\n",
    "\n",
    "df['processed_lemmatized_gold_answer'] = df['gold_answer'].apply(lambda x: func_preprocessing(x, lemmatize=True))\n",
    "df['processed_lemmatized_student_response'] = df['student_response'].apply(lambda x: func_preprocessing(x, lemmatize=True))\n",
    "\n",
    "df.head()"
   ]
  },
  {
   "cell_type": "markdown",
   "id": "1b9c9906-ef91-4983-9d01-0d8b6955fbf1",
   "metadata": {},
   "source": [
    "#### Computing BLUE"
   ]
  },
  {
   "cell_type": "code",
   "execution_count": null,
   "id": "e0d74f8b-d1fb-4c10-bc6c-9badc568a2b6",
   "metadata": {},
   "outputs": [],
   "source": [
    "def compute_bleu(predictions:str, references:str):\n",
    "    try:\n",
    "        score = bleu_model.compute(predictions=[predictions], references=[[references]])\n",
    "    except ZeroDivisionError:\n",
    "        score = {'bleu': -100}\n",
    "    return score\n",
    "\n",
    "df['score'] = df.apply(lambda x: compute_bleu(predictions=x['student_response'], references=x['gold_answer']), axis=1)\n",
    "df['processed_score'] = df.apply(lambda x: compute_bleu(predictions=x['processed_student_response'], references=x['processed_gold_answer']), axis=1)\n",
    "df['processed_lemmatized_score'] = df.apply(lambda x: compute_bleu(predictions=x['processed_lemmatized_student_response'], references=x['processed_lemmatized_gold_answer']), axis=1)"
   ]
  },
  {
   "cell_type": "code",
   "execution_count": null,
   "id": "5cfc76dc-13d6-4693-9067-627ee914aa86",
   "metadata": {},
   "outputs": [],
   "source": [
    "df.head()"
   ]
  },
  {
   "cell_type": "code",
   "execution_count": 2,
   "id": "74616e2b-e063-41f1-abea-6c808c75c8d9",
   "metadata": {},
   "outputs": [],
   "source": [
    "# df.to_csv('~/active-projects/textbook-question-generation/data/aqag-chatgpt-vicuna-bleu.csv', index=False)\n",
    "df = pd.read_csv('~/active-projects/textbook-question-generation/data/aqag-chatgpt-vicuna-bleu.csv')"
   ]
  },
  {
   "cell_type": "code",
   "execution_count": 4,
   "id": "33a6628c-d2a7-4bf5-9a26-c73e04c2ab16",
   "metadata": {},
   "outputs": [
    {
     "data": {
      "text/html": [
       "<div>\n",
       "<style scoped>\n",
       "    .dataframe tbody tr th:only-of-type {\n",
       "        vertical-align: middle;\n",
       "    }\n",
       "\n",
       "    .dataframe tbody tr th {\n",
       "        vertical-align: top;\n",
       "    }\n",
       "\n",
       "    .dataframe thead th {\n",
       "        text-align: right;\n",
       "    }\n",
       "</style>\n",
       "<table border=\"1\" class=\"dataframe\">\n",
       "  <thead>\n",
       "    <tr style=\"text-align: right;\">\n",
       "      <th></th>\n",
       "      <th>clean_text</th>\n",
       "      <th>question</th>\n",
       "      <th>gold_answer</th>\n",
       "      <th>student_response</th>\n",
       "      <th>true_label</th>\n",
       "      <th>processed_gold_answer</th>\n",
       "      <th>processed_student_response</th>\n",
       "      <th>processed_lemmatized_gold_answer</th>\n",
       "      <th>processed_lemmatized_student_response</th>\n",
       "      <th>score</th>\n",
       "      <th>processed_score</th>\n",
       "      <th>processed_lemmatized_score</th>\n",
       "    </tr>\n",
       "  </thead>\n",
       "  <tbody>\n",
       "    <tr>\n",
       "      <th>0</th>\n",
       "      <td>Every day we are faced with a myriad of decisi...</td>\n",
       "      <td>How can social media alter how we make decisions?</td>\n",
       "      <td>Social media outlets like Facebook and Twitter...</td>\n",
       "      <td>Social media can alter how we make decisions b...</td>\n",
       "      <td>1</td>\n",
       "      <td>social media outlets like facebook twitter pro...</td>\n",
       "      <td>social media alter decisions providing additio...</td>\n",
       "      <td>social medium outlet like facebook twitter pro...</td>\n",
       "      <td>social medium alter decision provide additiona...</td>\n",
       "      <td>{'bleu': 0.0, 'precisions': [0.307692307692307...</td>\n",
       "      <td>{'bleu': 0.0, 'precisions': [0.238095238095238...</td>\n",
       "      <td>{'bleu': 0.0, 'precisions': [0.285714285714285...</td>\n",
       "    </tr>\n",
       "    <tr>\n",
       "      <th>1</th>\n",
       "      <td>What is economics and why should you spend you...</td>\n",
       "      <td>What is economics?</td>\n",
       "      <td>Economics is both a subject area and a way of ...</td>\n",
       "      <td>Economics is a subject area that studies how p...</td>\n",
       "      <td>1</td>\n",
       "      <td>economics subject area way viewing world .</td>\n",
       "      <td>economics subject area studies people choices ...</td>\n",
       "      <td>economic subject area way view world .</td>\n",
       "      <td>economic subject area study people choice choi...</td>\n",
       "      <td>{'bleu': 0.0, 'precisions': [0.421052631578947...</td>\n",
       "      <td>{'bleu': 0.0, 'precisions': [0.4, 0.2222222222...</td>\n",
       "      <td>{'bleu': 0.0, 'precisions': [0.4, 0.2222222222...</td>\n",
       "    </tr>\n",
       "    <tr>\n",
       "      <th>2</th>\n",
       "      <td>By the end of this section, you will be able t...</td>\n",
       "      <td>What is scarcity?</td>\n",
       "      <td>Scarcity is a fact of life in which human want...</td>\n",
       "      <td>Scarcity refers to the limited availability of...</td>\n",
       "      <td>1</td>\n",
       "      <td>scarcity fact life human wants goods , service...</td>\n",
       "      <td>scarcity refers limited availability resources...</td>\n",
       "      <td>scarcity fact life human want good , service ,...</td>\n",
       "      <td>scarcity refer limited availability resource ,...</td>\n",
       "      <td>{'bleu': 0.0, 'precisions': [0.323529411764705...</td>\n",
       "      <td>{'bleu': 0.0, 'precisions': [0.291666666666666...</td>\n",
       "      <td>{'bleu': 0.0, 'precisions': [0.291666666666666...</td>\n",
       "    </tr>\n",
       "    <tr>\n",
       "      <th>3</th>\n",
       "      <td>Data is very important in economics because it...</td>\n",
       "      <td>What is the name of the database where most of...</td>\n",
       "      <td>The St. Louis Federal Reserve Bank's FRED data...</td>\n",
       "      <td>The data used for this course is obtained from...</td>\n",
       "      <td>1</td>\n",
       "      <td>st . louis federal reserve bank fred database .</td>\n",
       "      <td>data course obtained st . louis federal reserv...</td>\n",
       "      <td>st . louis federal reserve bank fred database .</td>\n",
       "      <td>datum course obtain st . louis federal reserve...</td>\n",
       "      <td>{'bleu': 0.435949382480739, 'precisions': [0.5...</td>\n",
       "      <td>{'bleu': 0.7102992180127422, 'precisions': [0....</td>\n",
       "      <td>{'bleu': 0.7102992180127422, 'precisions': [0....</td>\n",
       "    </tr>\n",
       "    <tr>\n",
       "      <th>4</th>\n",
       "      <td>Think about all the things you consume: food, ...</td>\n",
       "      <td>What economic principle does Adam Smith first ...</td>\n",
       "      <td>Division and specialization of labor.</td>\n",
       "      <td>Adam Smith first put forth the division and sp...</td>\n",
       "      <td>1</td>\n",
       "      <td>division specialization labor .</td>\n",
       "      <td>adam smith forth division specialization labor...</td>\n",
       "      <td>division specialization labor .</td>\n",
       "      <td>adam smith forth division specialization labor...</td>\n",
       "      <td>{'bleu': 0.10414419091986513, 'precisions': [0...</td>\n",
       "      <td>{'bleu': 0.0, 'precisions': [0.307692307692307...</td>\n",
       "      <td>{'bleu': 0.0, 'precisions': [0.307692307692307...</td>\n",
       "    </tr>\n",
       "    <tr>\n",
       "      <th>...</th>\n",
       "      <td>...</td>\n",
       "      <td>...</td>\n",
       "      <td>...</td>\n",
       "      <td>...</td>\n",
       "      <td>...</td>\n",
       "      <td>...</td>\n",
       "      <td>...</td>\n",
       "      <td>...</td>\n",
       "      <td>...</td>\n",
       "      <td>...</td>\n",
       "      <td>...</td>\n",
       "      <td>...</td>\n",
       "    </tr>\n",
       "    <tr>\n",
       "      <th>2923</th>\n",
       "      <td>The World Trade Organization (WTO) was officia...</td>\n",
       "      <td>What is the old joke about GATT?</td>\n",
       "      <td>GATT stands for Gentlemen's Agreement to Talk ...</td>\n",
       "      <td>GATT stands for General Agreement on Tariffs a...</td>\n",
       "      <td>0</td>\n",
       "      <td>gatt stands gentlemen agreement talk talk .</td>\n",
       "      <td>gatt stands general agreement tariffs trade .</td>\n",
       "      <td>gatt stand gentleman agreement talk talk .</td>\n",
       "      <td>gatt stand general agreement tariff trade .</td>\n",
       "      <td>{'bleu': 0.0, 'precisions': [0.6, 0.2222222222...</td>\n",
       "      <td>{'bleu': 0.0, 'precisions': [0.571428571428571...</td>\n",
       "      <td>{'bleu': 0.0, 'precisions': [0.571428571428571...</td>\n",
       "    </tr>\n",
       "    <tr>\n",
       "      <th>2924</th>\n",
       "      <td>There are different types of economic integrat...</td>\n",
       "      <td>What is the main purpose of the European Union?</td>\n",
       "      <td>The main purpose of the European Union is to e...</td>\n",
       "      <td>The main purpose of the European Union is to i...</td>\n",
       "      <td>0</td>\n",
       "      <td>main purpose european union eliminate barriers...</td>\n",
       "      <td>main purpose european union introduce common c...</td>\n",
       "      <td>main purpose european union eliminate barrier ...</td>\n",
       "      <td>main purpose european union introduce common c...</td>\n",
       "      <td>{'bleu': 0.3577946837351794, 'precisions': [0....</td>\n",
       "      <td>{'bleu': 0.20544097977075837, 'precisions': [0...</td>\n",
       "      <td>{'bleu': 0.20544097977075837, 'precisions': [0...</td>\n",
       "    </tr>\n",
       "    <tr>\n",
       "      <th>2925</th>\n",
       "      <td>Yet another dimension of trade policy, along w...</td>\n",
       "      <td>Why would a country pass laws or negotiate agr...</td>\n",
       "      <td>One plausible answer is that international tra...</td>\n",
       "      <td>The country wants to protect the interests of ...</td>\n",
       "      <td>0</td>\n",
       "      <td>plausible answer international trade agreement...</td>\n",
       "      <td>country wants protect interests domestic produ...</td>\n",
       "      <td>plausible answer international trade agreement...</td>\n",
       "      <td>country want protect interest domestic producer .</td>\n",
       "      <td>{'bleu': 0.0, 'precisions': [0.272727272727272...</td>\n",
       "      <td>{'bleu': 0.0, 'precisions': [0.285714285714285...</td>\n",
       "      <td>{'bleu': 0.0, 'precisions': [0.428571428571428...</td>\n",
       "    </tr>\n",
       "    <tr>\n",
       "      <th>2926</th>\n",
       "      <td>In newspaper headlines, trade policy appears m...</td>\n",
       "      <td>What is one major technological development th...</td>\n",
       "      <td>Advances in transportation, communication, and...</td>\n",
       "      <td>The establishment of the WTO, the European Uni...</td>\n",
       "      <td>0</td>\n",
       "      <td>advances transportation , communication , info...</td>\n",
       "      <td>establishment wto , european union , nafta .</td>\n",
       "      <td>advance transportation , communication , infor...</td>\n",
       "      <td>establishment wto , european union , nafta .</td>\n",
       "      <td>{'bleu': 0.0, 'precisions': [0.307692307692307...</td>\n",
       "      <td>{'bleu': 0.0, 'precisions': [0.375, 0.0, 0.0, ...</td>\n",
       "      <td>{'bleu': 0.0, 'precisions': [0.375, 0.0, 0.0, ...</td>\n",
       "    </tr>\n",
       "    <tr>\n",
       "      <th>2927</th>\n",
       "      <td>By the end of this section, you will be able t...</td>\n",
       "      <td>Which is a legitimate concern of public policy...</td>\n",
       "      <td>Providing temporary support and assistance for...</td>\n",
       "      <td>Preventing innovative technologies from causin...</td>\n",
       "      <td>0</td>\n",
       "      <td>providing temporary support assistance adverse...</td>\n",
       "      <td>preventing innovative technologies causing dis...</td>\n",
       "      <td>provide temporary support assistance adversely...</td>\n",
       "      <td>prevent innovative technology cause disruption...</td>\n",
       "      <td>{'bleu': 0.0, 'precisions': [0.090909090909090...</td>\n",
       "      <td>{'bleu': 0.0, 'precisions': [0.125, 0.0, 0.0, ...</td>\n",
       "      <td>{'bleu': 0.0, 'precisions': [0.125, 0.0, 0.0, ...</td>\n",
       "    </tr>\n",
       "  </tbody>\n",
       "</table>\n",
       "<p>2928 rows × 12 columns</p>\n",
       "</div>"
      ],
      "text/plain": [
       "                                             clean_text  \\\n",
       "0     Every day we are faced with a myriad of decisi...   \n",
       "1     What is economics and why should you spend you...   \n",
       "2     By the end of this section, you will be able t...   \n",
       "3     Data is very important in economics because it...   \n",
       "4     Think about all the things you consume: food, ...   \n",
       "...                                                 ...   \n",
       "2923  The World Trade Organization (WTO) was officia...   \n",
       "2924  There are different types of economic integrat...   \n",
       "2925  Yet another dimension of trade policy, along w...   \n",
       "2926  In newspaper headlines, trade policy appears m...   \n",
       "2927  By the end of this section, you will be able t...   \n",
       "\n",
       "                                               question  \\\n",
       "0     How can social media alter how we make decisions?   \n",
       "1                                    What is economics?   \n",
       "2                                     What is scarcity?   \n",
       "3     What is the name of the database where most of...   \n",
       "4     What economic principle does Adam Smith first ...   \n",
       "...                                                 ...   \n",
       "2923                   What is the old joke about GATT?   \n",
       "2924    What is the main purpose of the European Union?   \n",
       "2925  Why would a country pass laws or negotiate agr...   \n",
       "2926  What is one major technological development th...   \n",
       "2927  Which is a legitimate concern of public policy...   \n",
       "\n",
       "                                            gold_answer  \\\n",
       "0     Social media outlets like Facebook and Twitter...   \n",
       "1     Economics is both a subject area and a way of ...   \n",
       "2     Scarcity is a fact of life in which human want...   \n",
       "3     The St. Louis Federal Reserve Bank's FRED data...   \n",
       "4                 Division and specialization of labor.   \n",
       "...                                                 ...   \n",
       "2923  GATT stands for Gentlemen's Agreement to Talk ...   \n",
       "2924  The main purpose of the European Union is to e...   \n",
       "2925  One plausible answer is that international tra...   \n",
       "2926  Advances in transportation, communication, and...   \n",
       "2927  Providing temporary support and assistance for...   \n",
       "\n",
       "                                       student_response  true_label  \\\n",
       "0     Social media can alter how we make decisions b...           1   \n",
       "1     Economics is a subject area that studies how p...           1   \n",
       "2     Scarcity refers to the limited availability of...           1   \n",
       "3     The data used for this course is obtained from...           1   \n",
       "4     Adam Smith first put forth the division and sp...           1   \n",
       "...                                                 ...         ...   \n",
       "2923  GATT stands for General Agreement on Tariffs a...           0   \n",
       "2924  The main purpose of the European Union is to i...           0   \n",
       "2925  The country wants to protect the interests of ...           0   \n",
       "2926  The establishment of the WTO, the European Uni...           0   \n",
       "2927  Preventing innovative technologies from causin...           0   \n",
       "\n",
       "                                  processed_gold_answer  \\\n",
       "0     social media outlets like facebook twitter pro...   \n",
       "1            economics subject area way viewing world .   \n",
       "2     scarcity fact life human wants goods , service...   \n",
       "3       st . louis federal reserve bank fred database .   \n",
       "4                       division specialization labor .   \n",
       "...                                                 ...   \n",
       "2923        gatt stands gentlemen agreement talk talk .   \n",
       "2924  main purpose european union eliminate barriers...   \n",
       "2925  plausible answer international trade agreement...   \n",
       "2926  advances transportation , communication , info...   \n",
       "2927  providing temporary support assistance adverse...   \n",
       "\n",
       "                             processed_student_response  \\\n",
       "0     social media alter decisions providing additio...   \n",
       "1     economics subject area studies people choices ...   \n",
       "2     scarcity refers limited availability resources...   \n",
       "3     data course obtained st . louis federal reserv...   \n",
       "4     adam smith forth division specialization labor...   \n",
       "...                                                 ...   \n",
       "2923      gatt stands general agreement tariffs trade .   \n",
       "2924  main purpose european union introduce common c...   \n",
       "2925  country wants protect interests domestic produ...   \n",
       "2926       establishment wto , european union , nafta .   \n",
       "2927  preventing innovative technologies causing dis...   \n",
       "\n",
       "                       processed_lemmatized_gold_answer  \\\n",
       "0     social medium outlet like facebook twitter pro...   \n",
       "1                economic subject area way view world .   \n",
       "2     scarcity fact life human want good , service ,...   \n",
       "3       st . louis federal reserve bank fred database .   \n",
       "4                       division specialization labor .   \n",
       "...                                                 ...   \n",
       "2923         gatt stand gentleman agreement talk talk .   \n",
       "2924  main purpose european union eliminate barrier ...   \n",
       "2925  plausible answer international trade agreement...   \n",
       "2926  advance transportation , communication , infor...   \n",
       "2927  provide temporary support assistance adversely...   \n",
       "\n",
       "                  processed_lemmatized_student_response  \\\n",
       "0     social medium alter decision provide additiona...   \n",
       "1     economic subject area study people choice choi...   \n",
       "2     scarcity refer limited availability resource ,...   \n",
       "3     datum course obtain st . louis federal reserve...   \n",
       "4     adam smith forth division specialization labor...   \n",
       "...                                                 ...   \n",
       "2923        gatt stand general agreement tariff trade .   \n",
       "2924  main purpose european union introduce common c...   \n",
       "2925  country want protect interest domestic producer .   \n",
       "2926       establishment wto , european union , nafta .   \n",
       "2927  prevent innovative technology cause disruption...   \n",
       "\n",
       "                                                  score  \\\n",
       "0     {'bleu': 0.0, 'precisions': [0.307692307692307...   \n",
       "1     {'bleu': 0.0, 'precisions': [0.421052631578947...   \n",
       "2     {'bleu': 0.0, 'precisions': [0.323529411764705...   \n",
       "3     {'bleu': 0.435949382480739, 'precisions': [0.5...   \n",
       "4     {'bleu': 0.10414419091986513, 'precisions': [0...   \n",
       "...                                                 ...   \n",
       "2923  {'bleu': 0.0, 'precisions': [0.6, 0.2222222222...   \n",
       "2924  {'bleu': 0.3577946837351794, 'precisions': [0....   \n",
       "2925  {'bleu': 0.0, 'precisions': [0.272727272727272...   \n",
       "2926  {'bleu': 0.0, 'precisions': [0.307692307692307...   \n",
       "2927  {'bleu': 0.0, 'precisions': [0.090909090909090...   \n",
       "\n",
       "                                        processed_score  \\\n",
       "0     {'bleu': 0.0, 'precisions': [0.238095238095238...   \n",
       "1     {'bleu': 0.0, 'precisions': [0.4, 0.2222222222...   \n",
       "2     {'bleu': 0.0, 'precisions': [0.291666666666666...   \n",
       "3     {'bleu': 0.7102992180127422, 'precisions': [0....   \n",
       "4     {'bleu': 0.0, 'precisions': [0.307692307692307...   \n",
       "...                                                 ...   \n",
       "2923  {'bleu': 0.0, 'precisions': [0.571428571428571...   \n",
       "2924  {'bleu': 0.20544097977075837, 'precisions': [0...   \n",
       "2925  {'bleu': 0.0, 'precisions': [0.285714285714285...   \n",
       "2926  {'bleu': 0.0, 'precisions': [0.375, 0.0, 0.0, ...   \n",
       "2927  {'bleu': 0.0, 'precisions': [0.125, 0.0, 0.0, ...   \n",
       "\n",
       "                             processed_lemmatized_score  \n",
       "0     {'bleu': 0.0, 'precisions': [0.285714285714285...  \n",
       "1     {'bleu': 0.0, 'precisions': [0.4, 0.2222222222...  \n",
       "2     {'bleu': 0.0, 'precisions': [0.291666666666666...  \n",
       "3     {'bleu': 0.7102992180127422, 'precisions': [0....  \n",
       "4     {'bleu': 0.0, 'precisions': [0.307692307692307...  \n",
       "...                                                 ...  \n",
       "2923  {'bleu': 0.0, 'precisions': [0.571428571428571...  \n",
       "2924  {'bleu': 0.20544097977075837, 'precisions': [0...  \n",
       "2925  {'bleu': 0.0, 'precisions': [0.428571428571428...  \n",
       "2926  {'bleu': 0.0, 'precisions': [0.375, 0.0, 0.0, ...  \n",
       "2927  {'bleu': 0.0, 'precisions': [0.125, 0.0, 0.0, ...  \n",
       "\n",
       "[2928 rows x 12 columns]"
      ]
     },
     "execution_count": 4,
     "metadata": {},
     "output_type": "execute_result"
    }
   ],
   "source": [
    "df"
   ]
  },
  {
   "cell_type": "code",
   "execution_count": 8,
   "id": "d4cd3db7-aa66-4c6f-9442-959fca1718c0",
   "metadata": {},
   "outputs": [],
   "source": [
    "df['score'] = df['score'].apply(lambda x: ast.literal_eval(x))\n",
    "df['processed_score'] = df['processed_score'].apply(lambda x: ast.literal_eval(x))\n",
    "df['processed_lemmatized_score'] = df['processed_lemmatized_score'].apply(lambda x: ast.literal_eval(x))"
   ]
  },
  {
   "cell_type": "code",
   "execution_count": 10,
   "id": "8bbe7764-3d12-4baa-a5e8-93680b1e56e2",
   "metadata": {},
   "outputs": [
    {
     "data": {
      "text/plain": [
       "<Axes: ylabel='Frequency'>"
      ]
     },
     "execution_count": 10,
     "metadata": {},
     "output_type": "execute_result"
    },
    {
     "data": {
      "image/png": "[encoded data removed]",
      "text/plain": [
       "<Figure size 640x480 with 1 Axes>"
      ]
     },
     "metadata": {},
     "output_type": "display_data"
    }
   ],
   "source": [
    "df['score'].apply(lambda x: x['bleu']).plot(kind='hist')"
   ]
  },
  {
   "cell_type": "code",
   "execution_count": 11,
   "id": "753f1511-7c86-4114-b914-40d9b05fa35b",
   "metadata": {},
   "outputs": [
    {
     "data": {
      "text/plain": [
       "<Axes: ylabel='Frequency'>"
      ]
     },
     "execution_count": 11,
     "metadata": {},
     "output_type": "execute_result"
    },
    {
     "data": {
      "image/png": "[encoded data removed]",
      "text/plain": [
       "<Figure size 640x480 with 1 Axes>"
      ]
     },
     "metadata": {},
     "output_type": "display_data"
    }
   ],
   "source": [
    "df['processed_score'].apply(lambda x: x['bleu']).plot(kind='hist')"
   ]
  },
  {
   "cell_type": "code",
   "execution_count": 12,
   "id": "e4d0d144-b475-45b0-9a87-a215b645b530",
   "metadata": {},
   "outputs": [
    {
     "data": {
      "text/plain": [
       "<Axes: ylabel='Frequency'>"
      ]
     },
     "execution_count": 12,
     "metadata": {},
     "output_type": "execute_result"
    },
    {
     "data": {
      "image/png": "[encoded data removed]",
      "text/plain": [
       "<Figure size 640x480 with 1 Axes>"
      ]
     },
     "metadata": {},
     "output_type": "display_data"
    }
   ],
   "source": [
    "df['processed_lemmatized_score'].apply(lambda x: x['bleu']).plot(kind='hist')"
   ]
  },
  {
   "cell_type": "code",
   "execution_count": 14,
   "id": "c0c9547b-02ad-45ad-a5f2-b9abc43ec190",
   "metadata": {},
   "outputs": [],
   "source": [
    "df['label'] = df['score'].apply(lambda x: 1 if x['bleu']>0.5 else 0)\n",
    "df['processed_label'] = df['processed_score'].apply(lambda x: 1 if x['bleu']>0.5 else 0)\n",
    "df['processed_lemmatized_label'] = df['processed_lemmatized_score'].apply(lambda x: 1 if x['bleu']>0.5 else 0)"
   ]
  },
  {
   "cell_type": "code",
   "execution_count": 15,
   "id": "4d5120b7-5227-46e7-a290-af66ce046f62",
   "metadata": {},
   "outputs": [
    {
     "data": {
      "text/plain": [
       "array([[ 944,  520],\n",
       "       [1194,  270]])"
      ]
     },
     "execution_count": 15,
     "metadata": {},
     "output_type": "execute_result"
    }
   ],
   "source": [
    "confusion_matrix(df['true_label'], df['label'])"
   ]
  },
  {
   "cell_type": "code",
   "execution_count": 16,
   "id": "8244c21a-800a-434a-8c28-a7e7d20bca0d",
   "metadata": {},
   "outputs": [
    {
     "name": "stdout",
     "output_type": "stream",
     "text": [
      "              precision    recall  f1-score   support\n",
      "\n",
      "           0       0.44      0.64      0.52      1464\n",
      "           1       0.34      0.18      0.24      1464\n",
      "\n",
      "    accuracy                           0.41      2928\n",
      "   macro avg       0.39      0.41      0.38      2928\n",
      "weighted avg       0.39      0.41      0.38      2928\n",
      "\n"
     ]
    }
   ],
   "source": [
    "print(classification_report(df['true_label'], df['label']))"
   ]
  },
  {
   "cell_type": "code",
   "execution_count": 17,
   "id": "c9c0b3a0-5fd7-4ccd-86e2-5e3d8316b9b8",
   "metadata": {},
   "outputs": [
    {
     "data": {
      "text/plain": [
       "-0.1707650273224044"
      ]
     },
     "execution_count": 17,
     "metadata": {},
     "output_type": "execute_result"
    }
   ],
   "source": [
    "cohen_kappa_score(df['true_label'], df['label'])"
   ]
  },
  {
   "cell_type": "code",
   "execution_count": 18,
   "id": "b563387a-c42d-4ba0-bb3d-7c6e9024a1f2",
   "metadata": {},
   "outputs": [
    {
     "data": {
      "text/plain": [
       "array([[1100,  364],\n",
       "       [1194,  270]])"
      ]
     },
     "execution_count": 18,
     "metadata": {},
     "output_type": "execute_result"
    }
   ],
   "source": [
    "confusion_matrix(df['true_label'], df['processed_label'])"
   ]
  },
  {
   "cell_type": "code",
   "execution_count": 19,
   "id": "3281a39e-c006-43c4-be8f-87b73066ae76",
   "metadata": {},
   "outputs": [
    {
     "name": "stdout",
     "output_type": "stream",
     "text": [
      "              precision    recall  f1-score   support\n",
      "\n",
      "           0       0.48      0.75      0.59      1464\n",
      "           1       0.43      0.18      0.26      1464\n",
      "\n",
      "    accuracy                           0.47      2928\n",
      "   macro avg       0.45      0.47      0.42      2928\n",
      "weighted avg       0.45      0.47      0.42      2928\n",
      "\n"
     ]
    }
   ],
   "source": [
    "print(classification_report(df['true_label'], df['processed_label']))"
   ]
  },
  {
   "cell_type": "code",
   "execution_count": 20,
   "id": "f5765dd8-5ffb-4315-94b0-bded2f9a06eb",
   "metadata": {},
   "outputs": [
    {
     "data": {
      "text/plain": [
       "-0.06420765027322406"
      ]
     },
     "execution_count": 20,
     "metadata": {},
     "output_type": "execute_result"
    }
   ],
   "source": [
    "cohen_kappa_score(df['true_label'], df['processed_label'])"
   ]
  },
  {
   "cell_type": "code",
   "execution_count": 21,
   "id": "e455becd-0676-435f-b840-d54c9c54821f",
   "metadata": {},
   "outputs": [
    {
     "data": {
      "text/plain": [
       "array([[1096,  368],\n",
       "       [1181,  283]])"
      ]
     },
     "execution_count": 21,
     "metadata": {},
     "output_type": "execute_result"
    }
   ],
   "source": [
    "confusion_matrix(df['true_label'], df['processed_lemmatized_label'])"
   ]
  },
  {
   "cell_type": "code",
   "execution_count": 22,
   "id": "9a663498-06a2-4859-8af4-e8845c87e1b7",
   "metadata": {},
   "outputs": [
    {
     "name": "stdout",
     "output_type": "stream",
     "text": [
      "              precision    recall  f1-score   support\n",
      "\n",
      "           0       0.48      0.75      0.59      1464\n",
      "           1       0.43      0.19      0.27      1464\n",
      "\n",
      "    accuracy                           0.47      2928\n",
      "   macro avg       0.46      0.47      0.43      2928\n",
      "weighted avg       0.46      0.47      0.43      2928\n",
      "\n"
     ]
    }
   ],
   "source": [
    "print(classification_report(df['true_label'], df['processed_lemmatized_label']))"
   ]
  },
  {
   "cell_type": "code",
   "execution_count": 23,
   "id": "c6da8896-6259-4259-b6c6-682c81df2a5b",
   "metadata": {},
   "outputs": [
    {
     "data": {
      "text/plain": [
       "-0.05806010928961758"
      ]
     },
     "execution_count": 23,
     "metadata": {},
     "output_type": "execute_result"
    }
   ],
   "source": [
    "cohen_kappa_score(df['true_label'], df['processed_lemmatized_label'])"
   ]
  },
  {
   "cell_type": "code",
   "execution_count": null,
   "id": "956e88e1-d55d-441d-8f6f-f4decb9da8b9",
   "metadata": {},
   "outputs": [],
   "source": []
  }
 ],
 "metadata": {
  "kernelspec": {
   "display_name": "Python [conda env:env_vaibhav_autograder]",
   "language": "python",
   "name": "conda-env-env_vaibhav_autograder-py"
  },
  "language_info": {
   "codemirror_mode": {
    "name": "ipython",
    "version": 3
   },
   "file_extension": ".py",
   "mimetype": "text/x-python",
   "name": "python",
   "nbconvert_exporter": "python",
   "pygments_lexer": "ipython3",
   "version": "3.9.6"
  }
 },
 "nbformat": 4,
 "nbformat_minor": 5
}
