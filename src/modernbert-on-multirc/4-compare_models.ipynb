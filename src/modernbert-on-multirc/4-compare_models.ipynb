{
 "cells": [
  {
   "cell_type": "markdown",
   "id": "dd5d900a-1b16-4c7d-a2bf-358413f9cb6e",
   "metadata": {},
   "source": [
    "# Check performance\n",
    "\n",
    "Using authentic data that was labeled by humans on our team"
   ]
  },
  {
   "cell_type": "code",
   "execution_count": 1,
   "id": "28e4ee57-b0be-409a-909b-9a6c78244cb9",
   "metadata": {},
   "outputs": [],
   "source": [
    "import os\n",
    "import re\n",
    "from collections import defaultdict\n",
    "\n",
    "import torch\n",
    "import numpy as np\n",
    "import pandas as pd\n",
    "import datasets\n",
    "from transformers import pipeline\n",
    "from sklearn.metrics import accuracy_score, f1_score\n",
    "\n",
    "from models import Bleurt, Mpnet, ModernBERT\n",
    "\n",
    "torch.set_float32_matmul_precision('high')\n",
    "os.environ[\"TOKENIZERS_PARALLELISM\"] = \"true\""
   ]
  },
  {
   "cell_type": "code",
   "execution_count": 2,
   "id": "aa8576ae-573b-4c6d-8be0-0cfd805a63c1",
   "metadata": {},
   "outputs": [
    {
     "name": "stderr",
     "output_type": "stream",
     "text": [
      "Device set to use cuda\n",
      "Device set to use cuda\n",
      "Device set to use cuda\n"
     ]
    }
   ],
   "source": [
    "pipes = {\n",
    "    \"Mpnet_pipe\":    Mpnet(),\n",
    "    \"Bleurt_pipe\":   Bleurt(),\n",
    "    \"ModernBERT_pipe\": ModernBERT()\n",
    "}"
   ]
  },
  {
   "cell_type": "code",
   "execution_count": 2,
   "id": "1404852c-1e24-484b-b449-63b28a9753e8",
   "metadata": {},
   "outputs": [
    {
     "data": {
      "text/plain": [
       "Dataset({\n",
       "    features: ['question_id', 'chunk_header', 'text', 'question', 'reference', 'candidate', 'score', 'annotator', 'labels'],\n",
       "    num_rows: 370\n",
       "})"
      ]
     },
     "execution_count": 2,
     "metadata": {},
     "output_type": "execute_result"
    }
   ],
   "source": [
    "dataset_path = \"/home/jovyan/active-projects/itell-question-generation/data/cri_annotations.hf\"\n",
    "\n",
    "ds = datasets.Dataset.load_from_disk(dataset_path)\n",
    "ds"
   ]
  },
  {
   "cell_type": "code",
   "execution_count": 5,
   "id": "c2483283-8613-4c4a-9847-503cca8a0eeb",
   "metadata": {},
   "outputs": [
    {
     "name": "stderr",
     "output_type": "stream",
     "text": [
      "You seem to be using the pipelines sequentially on GPU. In order to maximize efficiency please use a dataset\n",
      "Token indices sequence length is longer than the specified maximum sequence length for this model (217 > 128). Running this sequence through the model will result in indexing errors\n"
     ]
    },
    {
     "name": "stdout",
     "output_type": "stream",
     "text": [
      "Mpnet_pipe:  acc=0.7297, f1_macro=0.6656\n",
      "Bleurt_pipe:  acc=0.6919, f1_macro=0.6232\n",
      "ModernBERT_pipe:  acc=0.7405, f1_macro=0.6690\n"
     ]
    }
   ],
   "source": [
    "def score(y_true, y_pred):\n",
    "    return {\n",
    "        \"accuracy\": accuracy_score(y_true, y_pred),\n",
    "        \"f1_macro\":  f1_score(y_true, y_pred, average=\"macro\")\n",
    "    }\n",
    "\n",
    "def evaluate_and_score(dataset, pipes, label_key=\"labels\"):\n",
    "    all_preds = defaultdict(list)\n",
    "\n",
    "    for name, pipe in pipes.items():\n",
    "        for ex in dataset:\n",
    "            pred = pipe(ex[\"candidate\"], ex[\"reference\"])  \n",
    "            all_preds[name].append(pred)\n",
    "\n",
    "    metrics = {\n",
    "        name: score(dataset[\"labels\"], all_preds[name])\n",
    "        for name in pipes\n",
    "    }\n",
    "\n",
    "    return metrics\n",
    "\n",
    "results = evaluate_and_score(ds, pipes)\n",
    "\n",
    "for model_name, m in results.items():\n",
    "    print(f\"{model_name}:  acc={m['accuracy']:.4f}, f1_macro={m['f1_macro']:.4f}\")"
   ]
  },
  {
   "cell_type": "code",
   "execution_count": null,
   "id": "8288d31a-34e4-46cd-9f1c-e47093503ab7",
   "metadata": {},
   "outputs": [],
   "source": []
  }
 ],
 "metadata": {
  "kernelspec": {
   "display_name": "Python [conda env:hf]",
   "language": "python",
   "name": "conda-env-hf-py"
  },
  "language_info": {
   "codemirror_mode": {
    "name": "ipython",
    "version": 3
   },
   "file_extension": ".py",
   "mimetype": "text/x-python",
   "name": "python",
   "nbconvert_exporter": "python",
   "pygments_lexer": "ipython3",
   "version": "3.11.6"
  }
 },
 "nbformat": 4,
 "nbformat_minor": 5
}
